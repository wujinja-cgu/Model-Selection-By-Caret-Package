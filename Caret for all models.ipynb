{
 "cells": [
  {
   "cell_type": "code",
   "execution_count": 1,
   "id": "469aa68f",
   "metadata": {},
   "outputs": [
    {
     "name": "stderr",
     "output_type": "stream",
     "text": [
      "Loading required package: ggplot2\n",
      "\n",
      "Loading required package: lattice\n",
      "\n",
      "\n",
      "Attaching package: 'kernlab'\n",
      "\n",
      "\n",
      "The following object is masked from 'package:ggplot2':\n",
      "\n",
      "    alpha\n",
      "\n",
      "\n",
      "randomForest 4.7-1.1\n",
      "\n",
      "Type rfNews() to see new features/changes/bug fixes.\n",
      "\n",
      "\n",
      "Attaching package: 'randomForest'\n",
      "\n",
      "\n",
      "The following object is masked from 'package:ggplot2':\n",
      "\n",
      "    margin\n",
      "\n",
      "\n",
      "Loaded gbm 2.1.8.1\n",
      "\n",
      "Type 'citation(\"pROC\")' for a citation.\n",
      "\n",
      "\n",
      "Attaching package: 'pROC'\n",
      "\n",
      "\n",
      "The following objects are masked from 'package:stats':\n",
      "\n",
      "    cov, smooth, var\n",
      "\n",
      "\n",
      "Loaded ROSE 0.0-4\n",
      "\n",
      "\n",
      "Loading required package: foreach\n",
      "\n",
      "Loading required package: iterators\n",
      "\n",
      "Loading required package: parallel\n",
      "\n"
     ]
    },
    {
     "data": {
      "text/html": [
       "6"
      ],
      "text/latex": [
       "6"
      ],
      "text/markdown": [
       "6"
      ],
      "text/plain": [
       "[1] 6"
      ]
     },
     "metadata": {},
     "output_type": "display_data"
    }
   ],
   "source": [
    "library(caret)\n",
    "library(kernlab)\n",
    "library(foreign)\n",
    "library(mlbench)\n",
    "library(rpart)\n",
    "library(rpart.plot)\n",
    "library(ipred)\n",
    "library(randomForest)\n",
    "library(gbm)\n",
    "library(nnet)\n",
    "library(pROC)\n",
    "library(ggplot2)\n",
    "library(ROSE)\n",
    "library(doParallel)\n",
    "registerDoParallel(6)\n",
    "getDoParWorkers()"
   ]
  },
  {
   "cell_type": "code",
   "execution_count": 2,
   "id": "639149fd",
   "metadata": {},
   "outputs": [
    {
     "data": {
      "text/html": [
       "<style>\n",
       ".list-inline {list-style: none; margin:0; padding: 0}\n",
       ".list-inline>li {display: inline-block}\n",
       ".list-inline>li:not(:last-child)::after {content: \"\\00b7\"; padding: 0 .5ex}\n",
       "</style>\n",
       "<ol class=list-inline><li>555</li><li>7</li></ol>\n"
      ],
      "text/latex": [
       "\\begin{enumerate*}\n",
       "\\item 555\n",
       "\\item 7\n",
       "\\end{enumerate*}\n"
      ],
      "text/markdown": [
       "1. 555\n",
       "2. 7\n",
       "\n",
       "\n"
      ],
      "text/plain": [
       "[1] 555   7"
      ]
     },
     "metadata": {},
     "output_type": "display_data"
    }
   ],
   "source": [
    "mydata=read.csv(\"sepsis data.csv\",header=TRUE,sep=\",\")\n",
    "dim(mydata)"
   ]
  },
  {
   "cell_type": "code",
   "execution_count": 3,
   "id": "2d8ebc23",
   "metadata": {},
   "outputs": [],
   "source": [
    "mydata$death=as.factor(mydata$death)\n",
    "mydata1=mydata[which(mydata$death==\"Survival\"),]\n",
    "mydata2=mydata[which(mydata$death==\"Death\"),]\n",
    "index1=sample(dim(mydata1)[1],nrow(mydata1)*0.25)\n",
    "index2=sample(dim(mydata2)[1],nrow(mydata2)*0.25)\n",
    "testing=rbind(mydata1[index1,],mydata2[index2,])\n",
    "training=rbind(mydata1[-index1,],mydata2[-index2,])"
   ]
  },
  {
   "cell_type": "code",
   "execution_count": 4,
   "id": "9a3cd3b6",
   "metadata": {},
   "outputs": [],
   "source": [
    "fitControl=trainControl(method=\"repeatedcv\",\n",
    "                        number=3,\n",
    "                        repeats=2,\n",
    "                        classProbs=TRUE,   \n",
    "                        summaryFunction=twoClassSummary,\n",
    "                        search=\"random\")"
   ]
  },
  {
   "cell_type": "code",
   "execution_count": 5,
   "id": "d825bd1a",
   "metadata": {},
   "outputs": [
    {
     "data": {
      "text/html": [
       "<table class=\"dataframe\">\n",
       "<caption>A data.frame: 6 × 6</caption>\n",
       "<thead>\n",
       "\t<tr><th></th><th scope=col>model</th><th scope=col>parameter</th><th scope=col>label</th><th scope=col>forReg</th><th scope=col>forClass</th><th scope=col>probModel</th></tr>\n",
       "\t<tr><th></th><th scope=col>&lt;chr&gt;</th><th scope=col>&lt;chr&gt;</th><th scope=col>&lt;chr&gt;</th><th scope=col>&lt;lgl&gt;</th><th scope=col>&lt;lgl&gt;</th><th scope=col>&lt;lgl&gt;</th></tr>\n",
       "</thead>\n",
       "<tbody>\n",
       "\t<tr><th scope=row>1</th><td>ada     </td><td>iter    </td><td>#Trees        </td><td>FALSE</td><td>TRUE</td><td>TRUE</td></tr>\n",
       "\t<tr><th scope=row>2</th><td>ada     </td><td>maxdepth</td><td>Max Tree Depth</td><td>FALSE</td><td>TRUE</td><td>TRUE</td></tr>\n",
       "\t<tr><th scope=row>3</th><td>ada     </td><td>nu      </td><td>Learning Rate </td><td>FALSE</td><td>TRUE</td><td>TRUE</td></tr>\n",
       "\t<tr><th scope=row>4</th><td>AdaBag  </td><td>mfinal  </td><td>#Trees        </td><td>FALSE</td><td>TRUE</td><td>TRUE</td></tr>\n",
       "\t<tr><th scope=row>5</th><td>AdaBag  </td><td>maxdepth</td><td>Max Tree Depth</td><td>FALSE</td><td>TRUE</td><td>TRUE</td></tr>\n",
       "\t<tr><th scope=row>9</th><td>adaboost</td><td>nIter   </td><td>#Trees        </td><td>FALSE</td><td>TRUE</td><td>TRUE</td></tr>\n",
       "</tbody>\n",
       "</table>\n"
      ],
      "text/latex": [
       "A data.frame: 6 × 6\n",
       "\\begin{tabular}{r|llllll}\n",
       "  & model & parameter & label & forReg & forClass & probModel\\\\\n",
       "  & <chr> & <chr> & <chr> & <lgl> & <lgl> & <lgl>\\\\\n",
       "\\hline\n",
       "\t1 & ada      & iter     & \\#Trees         & FALSE & TRUE & TRUE\\\\\n",
       "\t2 & ada      & maxdepth & Max Tree Depth & FALSE & TRUE & TRUE\\\\\n",
       "\t3 & ada      & nu       & Learning Rate  & FALSE & TRUE & TRUE\\\\\n",
       "\t4 & AdaBag   & mfinal   & \\#Trees         & FALSE & TRUE & TRUE\\\\\n",
       "\t5 & AdaBag   & maxdepth & Max Tree Depth & FALSE & TRUE & TRUE\\\\\n",
       "\t9 & adaboost & nIter    & \\#Trees         & FALSE & TRUE & TRUE\\\\\n",
       "\\end{tabular}\n"
      ],
      "text/markdown": [
       "\n",
       "A data.frame: 6 × 6\n",
       "\n",
       "| <!--/--> | model &lt;chr&gt; | parameter &lt;chr&gt; | label &lt;chr&gt; | forReg &lt;lgl&gt; | forClass &lt;lgl&gt; | probModel &lt;lgl&gt; |\n",
       "|---|---|---|---|---|---|---|\n",
       "| 1 | ada      | iter     | #Trees         | FALSE | TRUE | TRUE |\n",
       "| 2 | ada      | maxdepth | Max Tree Depth | FALSE | TRUE | TRUE |\n",
       "| 3 | ada      | nu       | Learning Rate  | FALSE | TRUE | TRUE |\n",
       "| 4 | AdaBag   | mfinal   | #Trees         | FALSE | TRUE | TRUE |\n",
       "| 5 | AdaBag   | maxdepth | Max Tree Depth | FALSE | TRUE | TRUE |\n",
       "| 9 | adaboost | nIter    | #Trees         | FALSE | TRUE | TRUE |\n",
       "\n"
      ],
      "text/plain": [
       "  model    parameter label          forReg forClass probModel\n",
       "1 ada      iter      #Trees         FALSE  TRUE     TRUE     \n",
       "2 ada      maxdepth  Max Tree Depth FALSE  TRUE     TRUE     \n",
       "3 ada      nu        Learning Rate  FALSE  TRUE     TRUE     \n",
       "4 AdaBag   mfinal    #Trees         FALSE  TRUE     TRUE     \n",
       "5 AdaBag   maxdepth  Max Tree Depth FALSE  TRUE     TRUE     \n",
       "9 adaboost nIter     #Trees         FALSE  TRUE     TRUE     "
      ]
     },
     "metadata": {},
     "output_type": "display_data"
    },
    {
     "data": {
      "text/html": [
       "<style>\n",
       ".list-inline {list-style: none; margin:0; padding: 0}\n",
       ".list-inline>li {display: inline-block}\n",
       ".list-inline>li:not(:last-child)::after {content: \"\\00b7\"; padding: 0 .5ex}\n",
       "</style>\n",
       "<ol class=list-inline><li>511</li><li>6</li></ol>\n"
      ],
      "text/latex": [
       "\\begin{enumerate*}\n",
       "\\item 511\n",
       "\\item 6\n",
       "\\end{enumerate*}\n"
      ],
      "text/markdown": [
       "1. 511\n",
       "2. 6\n",
       "\n",
       "\n"
      ],
      "text/plain": [
       "[1] 511   6"
      ]
     },
     "metadata": {},
     "output_type": "display_data"
    }
   ],
   "source": [
    "model_caret=caret::modelLookup()\n",
    "head(model_caret)\n",
    "dim(model_caret)"
   ]
  },
  {
   "cell_type": "code",
   "execution_count": 6,
   "id": "b991bf94",
   "metadata": {},
   "outputs": [
    {
     "data": {
      "text/html": [
       "<table class=\"dataframe\">\n",
       "<caption>A data.frame: 6 × 6</caption>\n",
       "<thead>\n",
       "\t<tr><th></th><th scope=col>model</th><th scope=col>parameter</th><th scope=col>label</th><th scope=col>forReg</th><th scope=col>forClass</th><th scope=col>probModel</th></tr>\n",
       "\t<tr><th></th><th scope=col>&lt;chr&gt;</th><th scope=col>&lt;chr&gt;</th><th scope=col>&lt;chr&gt;</th><th scope=col>&lt;lgl&gt;</th><th scope=col>&lt;lgl&gt;</th><th scope=col>&lt;lgl&gt;</th></tr>\n",
       "</thead>\n",
       "<tbody>\n",
       "\t<tr><th scope=row>1</th><td>ada     </td><td>iter    </td><td>#Trees        </td><td>FALSE</td><td>TRUE</td><td>TRUE</td></tr>\n",
       "\t<tr><th scope=row>2</th><td>ada     </td><td>maxdepth</td><td>Max Tree Depth</td><td>FALSE</td><td>TRUE</td><td>TRUE</td></tr>\n",
       "\t<tr><th scope=row>3</th><td>ada     </td><td>nu      </td><td>Learning Rate </td><td>FALSE</td><td>TRUE</td><td>TRUE</td></tr>\n",
       "\t<tr><th scope=row>4</th><td>AdaBag  </td><td>mfinal  </td><td>#Trees        </td><td>FALSE</td><td>TRUE</td><td>TRUE</td></tr>\n",
       "\t<tr><th scope=row>5</th><td>AdaBag  </td><td>maxdepth</td><td>Max Tree Depth</td><td>FALSE</td><td>TRUE</td><td>TRUE</td></tr>\n",
       "\t<tr><th scope=row>9</th><td>adaboost</td><td>nIter   </td><td>#Trees        </td><td>FALSE</td><td>TRUE</td><td>TRUE</td></tr>\n",
       "</tbody>\n",
       "</table>\n"
      ],
      "text/latex": [
       "A data.frame: 6 × 6\n",
       "\\begin{tabular}{r|llllll}\n",
       "  & model & parameter & label & forReg & forClass & probModel\\\\\n",
       "  & <chr> & <chr> & <chr> & <lgl> & <lgl> & <lgl>\\\\\n",
       "\\hline\n",
       "\t1 & ada      & iter     & \\#Trees         & FALSE & TRUE & TRUE\\\\\n",
       "\t2 & ada      & maxdepth & Max Tree Depth & FALSE & TRUE & TRUE\\\\\n",
       "\t3 & ada      & nu       & Learning Rate  & FALSE & TRUE & TRUE\\\\\n",
       "\t4 & AdaBag   & mfinal   & \\#Trees         & FALSE & TRUE & TRUE\\\\\n",
       "\t5 & AdaBag   & maxdepth & Max Tree Depth & FALSE & TRUE & TRUE\\\\\n",
       "\t9 & adaboost & nIter    & \\#Trees         & FALSE & TRUE & TRUE\\\\\n",
       "\\end{tabular}\n"
      ],
      "text/markdown": [
       "\n",
       "A data.frame: 6 × 6\n",
       "\n",
       "| <!--/--> | model &lt;chr&gt; | parameter &lt;chr&gt; | label &lt;chr&gt; | forReg &lt;lgl&gt; | forClass &lt;lgl&gt; | probModel &lt;lgl&gt; |\n",
       "|---|---|---|---|---|---|---|\n",
       "| 1 | ada      | iter     | #Trees         | FALSE | TRUE | TRUE |\n",
       "| 2 | ada      | maxdepth | Max Tree Depth | FALSE | TRUE | TRUE |\n",
       "| 3 | ada      | nu       | Learning Rate  | FALSE | TRUE | TRUE |\n",
       "| 4 | AdaBag   | mfinal   | #Trees         | FALSE | TRUE | TRUE |\n",
       "| 5 | AdaBag   | maxdepth | Max Tree Depth | FALSE | TRUE | TRUE |\n",
       "| 9 | adaboost | nIter    | #Trees         | FALSE | TRUE | TRUE |\n",
       "\n"
      ],
      "text/plain": [
       "  model    parameter label          forReg forClass probModel\n",
       "1 ada      iter      #Trees         FALSE  TRUE     TRUE     \n",
       "2 ada      maxdepth  Max Tree Depth FALSE  TRUE     TRUE     \n",
       "3 ada      nu        Learning Rate  FALSE  TRUE     TRUE     \n",
       "4 AdaBag   mfinal    #Trees         FALSE  TRUE     TRUE     \n",
       "5 AdaBag   maxdepth  Max Tree Depth FALSE  TRUE     TRUE     \n",
       "9 adaboost nIter     #Trees         FALSE  TRUE     TRUE     "
      ]
     },
     "metadata": {},
     "output_type": "display_data"
    },
    {
     "data": {
      "text/html": [
       "431"
      ],
      "text/latex": [
       "431"
      ],
      "text/markdown": [
       "431"
      ],
      "text/plain": [
       "[1] 431"
      ]
     },
     "metadata": {},
     "output_type": "display_data"
    }
   ],
   "source": [
    "model_caret_forclass=model_caret[which(model_caret$forClass==\"TRUE\"),]\n",
    "head(model_caret_forclass)\n",
    "nrow(model_caret_forclass)"
   ]
  },
  {
   "cell_type": "code",
   "execution_count": 7,
   "id": "a8475b3f",
   "metadata": {},
   "outputs": [
    {
     "data": {
      "text/html": [
       "<table class=\"dataframe\">\n",
       "<caption>A data.frame: 6 × 6</caption>\n",
       "<thead>\n",
       "\t<tr><th></th><th scope=col>model</th><th scope=col>parameter</th><th scope=col>label</th><th scope=col>forReg</th><th scope=col>forClass</th><th scope=col>probModel</th></tr>\n",
       "\t<tr><th></th><th scope=col>&lt;chr&gt;</th><th scope=col>&lt;chr&gt;</th><th scope=col>&lt;chr&gt;</th><th scope=col>&lt;lgl&gt;</th><th scope=col>&lt;lgl&gt;</th><th scope=col>&lt;lgl&gt;</th></tr>\n",
       "</thead>\n",
       "<tbody>\n",
       "\t<tr><th scope=row>12</th><td>ANFIS </td><td>num.labels</td><td>#Fuzzy Terms                 </td><td>TRUE</td><td>FALSE</td><td>FALSE</td></tr>\n",
       "\t<tr><th scope=row>13</th><td>ANFIS </td><td>max.iter  </td><td>Max. Iterations              </td><td>TRUE</td><td>FALSE</td><td>FALSE</td></tr>\n",
       "\t<tr><th scope=row>14</th><td>avNNet</td><td>size      </td><td>#Hidden Units                </td><td>TRUE</td><td> TRUE</td><td> TRUE</td></tr>\n",
       "\t<tr><th scope=row>15</th><td>avNNet</td><td>decay     </td><td>Weight Decay                 </td><td>TRUE</td><td> TRUE</td><td> TRUE</td></tr>\n",
       "\t<tr><th scope=row>16</th><td>avNNet</td><td>bag       </td><td>Bagging                      </td><td>TRUE</td><td> TRUE</td><td> TRUE</td></tr>\n",
       "\t<tr><th scope=row>20</th><td>bag   </td><td>vars      </td><td>#Randomly Selected Predictors</td><td>TRUE</td><td> TRUE</td><td> TRUE</td></tr>\n",
       "</tbody>\n",
       "</table>\n"
      ],
      "text/latex": [
       "A data.frame: 6 × 6\n",
       "\\begin{tabular}{r|llllll}\n",
       "  & model & parameter & label & forReg & forClass & probModel\\\\\n",
       "  & <chr> & <chr> & <chr> & <lgl> & <lgl> & <lgl>\\\\\n",
       "\\hline\n",
       "\t12 & ANFIS  & num.labels & \\#Fuzzy Terms                  & TRUE & FALSE & FALSE\\\\\n",
       "\t13 & ANFIS  & max.iter   & Max. Iterations               & TRUE & FALSE & FALSE\\\\\n",
       "\t14 & avNNet & size       & \\#Hidden Units                 & TRUE &  TRUE &  TRUE\\\\\n",
       "\t15 & avNNet & decay      & Weight Decay                  & TRUE &  TRUE &  TRUE\\\\\n",
       "\t16 & avNNet & bag        & Bagging                       & TRUE &  TRUE &  TRUE\\\\\n",
       "\t20 & bag    & vars       & \\#Randomly Selected Predictors & TRUE &  TRUE &  TRUE\\\\\n",
       "\\end{tabular}\n"
      ],
      "text/markdown": [
       "\n",
       "A data.frame: 6 × 6\n",
       "\n",
       "| <!--/--> | model &lt;chr&gt; | parameter &lt;chr&gt; | label &lt;chr&gt; | forReg &lt;lgl&gt; | forClass &lt;lgl&gt; | probModel &lt;lgl&gt; |\n",
       "|---|---|---|---|---|---|---|\n",
       "| 12 | ANFIS  | num.labels | #Fuzzy Terms                  | TRUE | FALSE | FALSE |\n",
       "| 13 | ANFIS  | max.iter   | Max. Iterations               | TRUE | FALSE | FALSE |\n",
       "| 14 | avNNet | size       | #Hidden Units                 | TRUE |  TRUE |  TRUE |\n",
       "| 15 | avNNet | decay      | Weight Decay                  | TRUE |  TRUE |  TRUE |\n",
       "| 16 | avNNet | bag        | Bagging                       | TRUE |  TRUE |  TRUE |\n",
       "| 20 | bag    | vars       | #Randomly Selected Predictors | TRUE |  TRUE |  TRUE |\n",
       "\n"
      ],
      "text/plain": [
       "   model  parameter  label                         forReg forClass probModel\n",
       "12 ANFIS  num.labels #Fuzzy Terms                  TRUE   FALSE    FALSE    \n",
       "13 ANFIS  max.iter   Max. Iterations               TRUE   FALSE    FALSE    \n",
       "14 avNNet size       #Hidden Units                 TRUE    TRUE     TRUE    \n",
       "15 avNNet decay      Weight Decay                  TRUE    TRUE     TRUE    \n",
       "16 avNNet bag        Bagging                       TRUE    TRUE     TRUE    \n",
       "20 bag    vars       #Randomly Selected Predictors TRUE    TRUE     TRUE    "
      ]
     },
     "metadata": {},
     "output_type": "display_data"
    },
    {
     "data": {
      "text/html": [
       "296"
      ],
      "text/latex": [
       "296"
      ],
      "text/markdown": [
       "296"
      ],
      "text/plain": [
       "[1] 296"
      ]
     },
     "metadata": {},
     "output_type": "display_data"
    }
   ],
   "source": [
    "model_caret_forreg=model_caret[which(model_caret$forReg==\"TRUE\"),]\n",
    "head(model_caret_forreg)\n",
    "nrow(model_caret_forreg)"
   ]
  },
  {
   "cell_type": "code",
   "execution_count": 8,
   "id": "f12ca432",
   "metadata": {},
   "outputs": [],
   "source": [
    "modellist=model_caret_forclass$model[1:100]"
   ]
  },
  {
   "cell_type": "code",
   "execution_count": 9,
   "id": "eac52884",
   "metadata": {},
   "outputs": [
    {
     "data": {
      "text/html": [
       "100"
      ],
      "text/latex": [
       "100"
      ],
      "text/markdown": [
       "100"
      ],
      "text/plain": [
       "[1] 100"
      ]
     },
     "metadata": {},
     "output_type": "display_data"
    }
   ],
   "source": [
    "M=length(modellist)\n",
    "M\n",
    "AUC_train=array(0,M)\n",
    "AUC_test=array(0,M)"
   ]
  },
  {
   "cell_type": "code",
   "execution_count": null,
   "id": "930770ef",
   "metadata": {},
   "outputs": [
    {
     "name": "stderr",
     "output_type": "stream",
     "text": [
      "Setting direction: controls < cases\n",
      "\n",
      "Setting direction: controls < cases\n",
      "\n"
     ]
    },
    {
     "name": "stdout",
     "output_type": "stream",
     "text": [
      "Completed running Model 1 ( ada ) of 100 \n"
     ]
    },
    {
     "name": "stderr",
     "output_type": "stream",
     "text": [
      "Setting direction: controls < cases\n",
      "\n",
      "Setting direction: controls < cases\n",
      "\n"
     ]
    },
    {
     "name": "stdout",
     "output_type": "stream",
     "text": [
      "Completed running Model 2 ( ada ) of 100 \n"
     ]
    }
   ],
   "source": [
    "for (i in 1:length(modellist)){\n",
    "    skip_to_next <- FALSE\n",
    "    tryCatch(modelfit<-train(death~.,\n",
    "                             data=training,\n",
    "                             method=modellist[i],\n",
    "                             preProc=c(\"center\",\"scale\"),\n",
    "                             metric=\"ROC\",\n",
    "                             tuneLength=10,\n",
    "                             trControl=fitControl),error=function(e){skip_to_next <<- TRUE})\n",
    "    if(skip_to_next) { next }      \n",
    "    predictions_train=predict(modelfit,newdata=training)\n",
    "    predictions_test=predict(modelfit,newdata=testing)\n",
    "    predictions_train\n",
    "    predictions_test\n",
    "    confusionMatrix(predict(modelfit,training),training$death)\n",
    "    confusionMatrix(predict(modelfit,testing),testing$death)\n",
    "    train_results=predict(modelfit,training,type=\"prob\")\n",
    "    test_results=predict(modelfit,testing,type=\"prob\")\n",
    "    train_results$obs=training$death\n",
    "    train_results$pred=predictions_train\n",
    "    test_results$obs=testing$death\n",
    "    test_results$pred=predictions_test\n",
    "    ROC_train<-roc(training$death,train_results[,\"Death\"],levels=c(\"Survival\",\"Death\"))\n",
    "    ROC_test<-roc(testing$death,test_results[,\"Death\"],levels=c(\"Survival\",\"Death\"))\n",
    "    AUC_train[i]=ROC_train[9]$auc\n",
    "    AUC_test[i]=ROC_test[9]$auc\n",
    "    cat('Completed running Model', i, '(',modellist[i],')','of', M,'\\n')\n",
    "  }"
   ]
  },
  {
   "cell_type": "code",
   "execution_count": 12,
   "id": "31cba991",
   "metadata": {},
   "outputs": [
    {
     "name": "stdout",
     "output_type": "stream",
     "text": [
      "[1] \"Error\"\n",
      "[1] \"Error\"\n",
      "[1] \"Error\"\n"
     ]
    },
    {
     "name": "stderr",
     "output_type": "stream",
     "text": [
      "Warning message in nominalTrainWorkflow(x = x, y = y, wts = weights, info = trainInfo, :\n",
      "\"There were missing values in resampled performance measures.\"\n"
     ]
    },
    {
     "name": "stdout",
     "output_type": "stream",
     "text": [
      "Something is wrong; all the ROC metric values are missing:\n",
      "      ROC           Sens          Spec    \n",
      " Min.   : NA   Min.   : NA   Min.   : NA  \n",
      " 1st Qu.: NA   1st Qu.: NA   1st Qu.: NA  \n",
      " Median : NA   Median : NA   Median : NA  \n",
      " Mean   :NaN   Mean   :NaN   Mean   :NaN  \n",
      " 3rd Qu.: NA   3rd Qu.: NA   3rd Qu.: NA  \n",
      " Max.   : NA   Max.   : NA   Max.   : NA  \n",
      " NA's   :10    NA's   :10    NA's   :10   \n",
      "[1] \"Error\"\n"
     ]
    },
    {
     "name": "stderr",
     "output_type": "stream",
     "text": [
      "Loading required namespace: kohonen\n",
      "\n",
      "Warning message in nominalTrainWorkflow(x = x, y = y, wts = weights, info = trainInfo, :\n",
      "\"There were missing values in resampled performance measures.\"\n"
     ]
    },
    {
     "name": "stdout",
     "output_type": "stream",
     "text": [
      "Something is wrong; all the ROC metric values are missing:\n",
      "      ROC           Sens          Spec    \n",
      " Min.   : NA   Min.   : NA   Min.   : NA  \n",
      " 1st Qu.: NA   1st Qu.: NA   1st Qu.: NA  \n",
      " Median : NA   Median : NA   Median : NA  \n",
      " Mean   :NaN   Mean   :NaN   Mean   :NaN  \n",
      " 3rd Qu.: NA   3rd Qu.: NA   3rd Qu.: NA  \n",
      " Max.   : NA   Max.   : NA   Max.   : NA  \n",
      " NA's   :6     NA's   :6     NA's   :6    \n",
      "[1] \"Error\"\n"
     ]
    },
    {
     "name": "stderr",
     "output_type": "stream",
     "text": [
      "Loading required namespace: kohonen\n",
      "\n",
      "Warning message in nominalTrainWorkflow(x = x, y = y, wts = weights, info = trainInfo, :\n",
      "\"There were missing values in resampled performance measures.\"\n"
     ]
    },
    {
     "name": "stdout",
     "output_type": "stream",
     "text": [
      "Something is wrong; all the ROC metric values are missing:\n",
      "      ROC           Sens          Spec    \n",
      " Min.   : NA   Min.   : NA   Min.   : NA  \n",
      " 1st Qu.: NA   1st Qu.: NA   1st Qu.: NA  \n",
      " Median : NA   Median : NA   Median : NA  \n",
      " Mean   :NaN   Mean   :NaN   Mean   :NaN  \n",
      " 3rd Qu.: NA   3rd Qu.: NA   3rd Qu.: NA  \n",
      " Max.   : NA   Max.   : NA   Max.   : NA  \n",
      " NA's   :6     NA's   :6     NA's   :6    \n",
      "[1] \"Error\"\n"
     ]
    },
    {
     "name": "stderr",
     "output_type": "stream",
     "text": [
      "Warning message in nominalTrainWorkflow(x = x, y = y, wts = weights, info = trainInfo, :\n",
      "\"There were missing values in resampled performance measures.\"\n"
     ]
    },
    {
     "name": "stdout",
     "output_type": "stream",
     "text": [
      "Something is wrong; all the ROC metric values are missing:\n",
      "      ROC           Sens          Spec    \n",
      " Min.   : NA   Min.   : NA   Min.   : NA  \n",
      " 1st Qu.: NA   1st Qu.: NA   1st Qu.: NA  \n",
      " Median : NA   Median : NA   Median : NA  \n",
      " Mean   :NaN   Mean   :NaN   Mean   :NaN  \n",
      " 3rd Qu.: NA   3rd Qu.: NA   3rd Qu.: NA  \n",
      " Max.   : NA   Max.   : NA   Max.   : NA  \n",
      " NA's   :1     NA's   :1     NA's   :1    \n",
      "[1] \"Error\"\n"
     ]
    },
    {
     "name": "stderr",
     "output_type": "stream",
     "text": [
      "Loading required package: earth\n",
      "\n",
      "Loading required package: Formula\n",
      "\n",
      "Loading required package: plotmo\n",
      "\n",
      "Loading required package: plotrix\n",
      "\n",
      "Loading required package: TeachingDemos\n",
      "\n",
      "Warning message:\n",
      "\"glm.fit: fitted probabilities numerically 0 or 1 occurred\"\n",
      "Warning message:\n",
      "\"glm.fit: fitted probabilities numerically 0 or 1 occurred\"\n",
      "Warning message:\n",
      "\"glm.fit: fitted probabilities numerically 0 or 1 occurred\"\n",
      "Warning message:\n",
      "\"glm.fit: fitted probabilities numerically 0 or 1 occurred\"\n",
      "Warning message:\n",
      "\"glm.fit: fitted probabilities numerically 0 or 1 occurred\"\n",
      "Warning message:\n",
      "\"glm.fit: fitted probabilities numerically 0 or 1 occurred\"\n",
      "Warning message:\n",
      "\"glm.fit: fitted probabilities numerically 0 or 1 occurred\"\n",
      "Warning message:\n",
      "\"glm.fit: fitted probabilities numerically 0 or 1 occurred\"\n",
      "Warning message:\n",
      "\"glm.fit: fitted probabilities numerically 0 or 1 occurred\"\n",
      "Warning message:\n",
      "\"glm.fit: fitted probabilities numerically 0 or 1 occurred\"\n",
      "Warning message:\n",
      "\"glm.fit: fitted probabilities numerically 0 or 1 occurred\"\n",
      "Warning message:\n",
      "\"glm.fit: fitted probabilities numerically 0 or 1 occurred\"\n",
      "Warning message:\n",
      "\"glm.fit: fitted probabilities numerically 0 or 1 occurred\"\n",
      "Warning message:\n",
      "\"glm.fit: fitted probabilities numerically 0 or 1 occurred\"\n",
      "Warning message:\n",
      "\"glm.fit: fitted probabilities numerically 0 or 1 occurred\"\n",
      "Warning message:\n",
      "\"glm.fit: fitted probabilities numerically 0 or 1 occurred\"\n",
      "Warning message:\n",
      "\"glm.fit: fitted probabilities numerically 0 or 1 occurred\"\n",
      "Warning message:\n",
      "\"glm.fit: fitted probabilities numerically 0 or 1 occurred\"\n",
      "Warning message:\n",
      "\"glm.fit: fitted probabilities numerically 0 or 1 occurred\"\n",
      "Warning message:\n",
      "\"glm.fit: fitted probabilities numerically 0 or 1 occurred\"\n",
      "Warning message:\n",
      "\"glm.fit: fitted probabilities numerically 0 or 1 occurred\"\n",
      "Warning message:\n",
      "\"glm.fit: fitted probabilities numerically 0 or 1 occurred\"\n",
      "Warning message:\n",
      "\"glm.fit: fitted probabilities numerically 0 or 1 occurred\"\n",
      "Warning message:\n",
      "\"glm.fit: fitted probabilities numerically 0 or 1 occurred\"\n",
      "Warning message:\n",
      "\"glm.fit: fitted probabilities numerically 0 or 1 occurred\"\n",
      "Warning message:\n",
      "\"glm.fit: fitted probabilities numerically 0 or 1 occurred\"\n",
      "Warning message:\n",
      "\"glm.fit: fitted probabilities numerically 0 or 1 occurred\"\n",
      "Warning message:\n",
      "\"glm.fit: fitted probabilities numerically 0 or 1 occurred\"\n",
      "Warning message:\n",
      "\"glm.fit: fitted probabilities numerically 0 or 1 occurred\"\n",
      "Warning message:\n",
      "\"glm.fit: fitted probabilities numerically 0 or 1 occurred\"\n",
      "Warning message:\n",
      "\"glm.fit: fitted probabilities numerically 0 or 1 occurred\"\n",
      "Warning message:\n",
      "\"glm.fit: fitted probabilities numerically 0 or 1 occurred\"\n",
      "Warning message:\n",
      "\"glm.fit: fitted probabilities numerically 0 or 1 occurred\"\n",
      "Warning message:\n",
      "\"glm.fit: fitted probabilities numerically 0 or 1 occurred\"\n",
      "Warning message:\n",
      "\"glm.fit: fitted probabilities numerically 0 or 1 occurred\"\n",
      "Warning message:\n",
      "\"glm.fit: fitted probabilities numerically 0 or 1 occurred\"\n",
      "Warning message:\n",
      "\"glm.fit: fitted probabilities numerically 0 or 1 occurred\"\n",
      "Warning message:\n",
      "\"glm.fit: fitted probabilities numerically 0 or 1 occurred\"\n",
      "Warning message:\n",
      "\"glm.fit: fitted probabilities numerically 0 or 1 occurred\"\n",
      "Warning message:\n",
      "\"glm.fit: fitted probabilities numerically 0 or 1 occurred\"\n",
      "Warning message in nominalTrainWorkflow(x = x, y = y, wts = weights, info = trainInfo, :\n",
      "\"There were missing values in resampled performance measures.\"\n",
      "Loading required package: mgcv\n",
      "\n",
      "Loading required package: nlme\n",
      "\n",
      "This is mgcv 1.8-42. For overview type 'help(\"mgcv-package\")'.\n",
      "\n",
      "\n",
      "Attaching package: 'mgcv'\n",
      "\n",
      "\n",
      "The following object is masked from 'package:nnet':\n",
      "\n",
      "    multinom\n",
      "\n",
      "\n"
     ]
    },
    {
     "name": "stdout",
     "output_type": "stream",
     "text": [
      "[1] \"Error\"\n",
      "[1] \"Error\"\n",
      "[1] \"Error\"\n",
      "[1] \"Error\"\n",
      "[1] \"Error\"\n",
      "[1] \"Error\"\n",
      "[1] \"Error\"\n",
      "[1] \"Error\"\n",
      "[1] \"Error\"\n",
      "[1] \"Error\"\n",
      "[1] \"Error\"\n",
      "[1] \"Error\"\n",
      "[1] \"Error\"\n",
      "[1] \"Error\"\n",
      "[1] \"Error\"\n",
      "[1] \"Error\"\n",
      "[1] \"Error\"\n",
      "[1] \"Error\"\n",
      "[1] \"Error\"\n",
      "[1] \"Error\"\n",
      "[1] \"Error\"\n",
      "[1] \"Error\"\n",
      "[1] \"Error\"\n",
      "[1] \"Error\"\n",
      "[1] \"Error\"\n",
      "[1] \"Error\"\n",
      "[1] \"Error\"\n",
      "[1] \"Error\"\n",
      "[1] \"Error\"\n",
      "[1] \"Error\"\n",
      "[1] \"Error\"\n",
      "[1] \"Error\"\n",
      "[1] \"Error\"\n",
      "[1] \"Error\"\n",
      "[1] \"Error\"\n",
      "[1] \"Error\"\n"
     ]
    },
    {
     "name": "stderr",
     "output_type": "stream",
     "text": [
      "begin to train sae ......\n",
      "\n",
      "training layer 1 autoencoder ...\n",
      "\n",
      "training layer 2 autoencoder ...\n",
      "\n",
      "Warning message in sae$encoder[[i - 1]]$W[[1]] %*% t(train_x) + sae$encoder[[i - :\n",
      "\"longer object length is not a multiple of shorter object length\"\n",
      "training layer 3 autoencoder ...\n",
      "\n",
      "sae has been trained.\n",
      "\n",
      "begin to train deep nn ......\n",
      "\n",
      "deep nn has been trained.\n",
      "\n",
      "begin to train sae ......\n",
      "\n",
      "training layer 1 autoencoder ...\n",
      "\n",
      "training layer 2 autoencoder ...\n",
      "\n",
      "training layer 3 autoencoder ...\n",
      "\n",
      "sae has been trained.\n",
      "\n",
      "begin to train deep nn ......\n",
      "\n",
      "deep nn has been trained.\n",
      "\n",
      "begin to train sae ......\n",
      "\n",
      "training layer 1 autoencoder ...\n",
      "\n",
      "training layer 2 autoencoder ...\n",
      "\n",
      "Warning message in sae$encoder[[i - 1]]$W[[1]] %*% t(train_x) + sae$encoder[[i - :\n",
      "\"longer object length is not a multiple of shorter object length\"\n",
      "training layer 3 autoencoder ...\n",
      "\n",
      "sae has been trained.\n",
      "\n",
      "begin to train deep nn ......\n",
      "\n",
      "deep nn has been trained.\n",
      "\n",
      "begin to train sae ......\n",
      "\n",
      "training layer 1 autoencoder ...\n",
      "\n",
      "training layer 2 autoencoder ...\n",
      "\n",
      "Warning message in sae$encoder[[i - 1]]$W[[1]] %*% t(train_x) + sae$encoder[[i - :\n",
      "\"longer object length is not a multiple of shorter object length\"\n",
      "training layer 3 autoencoder ...\n",
      "\n",
      "sae has been trained.\n",
      "\n",
      "begin to train deep nn ......\n",
      "\n",
      "deep nn has been trained.\n",
      "\n",
      "begin to train sae ......\n",
      "\n",
      "training layer 1 autoencoder ...\n",
      "\n",
      "training layer 2 autoencoder ...\n",
      "\n",
      "Warning message in sae$encoder[[i - 1]]$W[[1]] %*% t(train_x) + sae$encoder[[i - :\n",
      "\"longer object length is not a multiple of shorter object length\"\n",
      "training layer 3 autoencoder ...\n",
      "\n",
      "sae has been trained.\n",
      "\n",
      "begin to train deep nn ......\n",
      "\n",
      "deep nn has been trained.\n",
      "\n"
     ]
    },
    {
     "name": "stdout",
     "output_type": "stream",
     "text": [
      "[1] \"Error\"\n",
      "[1] \"Error\"\n",
      "[1] \"Error\"\n",
      "[1] \"Error\"\n",
      "[1] \"Error\"\n",
      "[1] \"Error\"\n",
      "[1] \"Error\"\n",
      "[1] \"Error\"\n",
      "[1] \"Error\"\n",
      "[1] \"Error\"\n",
      "[1] \"Error\"\n",
      "[1] \"Error\"\n",
      "[1] \"Error\"\n",
      "[1] \"Error\"\n",
      "[1] \"Error\"\n",
      "[1] \"Error\"\n",
      "[1] \"Error\"\n",
      "[1] \"Error\"\n",
      "[1] \"Error\"\n",
      "[1] \"Error\"\n",
      "[1] \"Error\"\n",
      "[1] \"Error\"\n",
      "[1] \"Error\"\n",
      "[1] \"Error\"\n",
      "[1] \"Error\"\n",
      "[1] \"Error\"\n",
      "[1] \"Error\"\n",
      "[1] \"Error\"\n",
      "[1] \"Error\"\n",
      "[1] \"Error\"\n",
      "[1] \"Error\"\n",
      "[1] \"Error\"\n",
      "[1] \"Error\"\n",
      "[1] \"Error\"\n",
      "[1] \"Error\"\n",
      "[1] \"Error\"\n",
      "[1] \"Error\"\n",
      "[1] \"Error\"\n",
      "[1] \"Error\"\n",
      "[1] \"Error\"\n",
      "[1] \"Error\"\n",
      "[1] \"Error\"\n",
      "[1] \"Error\"\n",
      "[1] \"Error\"\n",
      "[1] \"Error\"\n",
      "[1] \"Error\"\n",
      "[1] \"Error\"\n",
      "[1] \"Error\"\n",
      "[1] \"Error\"\n",
      "[1] \"Error\"\n",
      "[1] \"Error\"\n",
      "[1] \"Error\"\n",
      "[1] \"Error\"\n",
      "[1] \"Error\"\n",
      "[1] \"Error\"\n",
      "[1] \"Error\"\n",
      "[1] \"Error\"\n",
      "[1] \"Error\"\n",
      "[1] \"Error\"\n",
      "[1] \"Error\"\n",
      "[1] \"Error\"\n",
      "[1] \"Error\"\n",
      "[1] \"Error\"\n",
      "[1] \"Error\"\n",
      "[1] \"Error\"\n",
      "[1] \"Error\"\n",
      "[1] \"Error\"\n",
      "[1] \"Error\"\n",
      "[1] \"Error\"\n",
      "[1] \"Error\"\n",
      "[1] \"Error\"\n",
      "[1] \"Error\"\n",
      "[1] \"Error\"\n",
      "[1] \"Error\"\n",
      "[1] \"Error\"\n",
      "[1] \"Error\"\n",
      "[1] \"Error\"\n"
     ]
    },
    {
     "name": "stderr",
     "output_type": "stream",
     "text": [
      "Warning message in train.default(x, y, weights = w, ...):\n",
      "\"Class probabilities were requested for a model that does not implement them\"\n"
     ]
    },
    {
     "name": "stdout",
     "output_type": "stream",
     "text": [
      "[1] \"Error\"\n"
     ]
    },
    {
     "name": "stderr",
     "output_type": "stream",
     "text": [
      "Warning message in train.default(x, y, weights = w, ...):\n",
      "\"Class probabilities were requested for a model that does not implement them\"\n"
     ]
    },
    {
     "name": "stdout",
     "output_type": "stream",
     "text": [
      "[1] \"Error\"\n"
     ]
    },
    {
     "name": "stderr",
     "output_type": "stream",
     "text": [
      "Warning message in train.default(x, y, weights = w, ...):\n",
      "\"Class probabilities were requested for a model that does not implement them\"\n"
     ]
    },
    {
     "name": "stdout",
     "output_type": "stream",
     "text": [
      "[1] \"Error\"\n"
     ]
    },
    {
     "name": "stderr",
     "output_type": "stream",
     "text": [
      "Warning message in train.default(x, y, weights = w, ...):\n",
      "\"Class probabilities were requested for a model that does not implement them\"\n"
     ]
    },
    {
     "name": "stdout",
     "output_type": "stream",
     "text": [
      "[1] \"Error\"\n"
     ]
    },
    {
     "name": "stderr",
     "output_type": "stream",
     "text": [
      "Warning message in train.default(x, y, weights = w, ...):\n",
      "\"Class probabilities were requested for a model that does not implement them\"\n"
     ]
    },
    {
     "name": "stdout",
     "output_type": "stream",
     "text": [
      "[1] \"Error\"\n"
     ]
    },
    {
     "name": "stderr",
     "output_type": "stream",
     "text": [
      "Warning message in train.default(x, y, weights = w, ...):\n",
      "\"Class probabilities were requested for a model that does not implement them\"\n"
     ]
    },
    {
     "name": "stdout",
     "output_type": "stream",
     "text": [
      "[1] \"Error\"\n"
     ]
    },
    {
     "name": "stderr",
     "output_type": "stream",
     "text": [
      "Warning message in train.default(x, y, weights = w, ...):\n",
      "\"Class probabilities were requested for a model that does not implement them\"\n"
     ]
    },
    {
     "name": "stdout",
     "output_type": "stream",
     "text": [
      "[1] \"Error\"\n"
     ]
    },
    {
     "name": "stderr",
     "output_type": "stream",
     "text": [
      "Warning message in train.default(x, y, weights = w, ...):\n",
      "\"Class probabilities were requested for a model that does not implement them\"\n"
     ]
    },
    {
     "name": "stdout",
     "output_type": "stream",
     "text": [
      "[1] \"Error\"\n",
      "[1] \"Error\"\n",
      "[1] \"Error\"\n",
      "[1] \"Error\"\n",
      "[1] \"Error\"\n",
      "[1] \"Error\"\n",
      "[1] \"Error\"\n",
      "[1] \"Error\"\n",
      "[1] \"Error\"\n",
      "[1] \"Error\"\n",
      "[1] \"Error\"\n",
      "[1] \"Error\"\n",
      "[1] \"Error\"\n",
      "[1] \"Error\"\n",
      "[1] \"Error\"\n",
      "[1] \"Error\"\n",
      "[1] \"Error\"\n",
      "[1] \"Error\"\n",
      "[1] \"Error\"\n",
      "[1] \"Error\"\n",
      "[1] \"Error\"\n",
      "[1] \"Error\"\n",
      "[1] \"Error\"\n",
      "[1] \"Error\"\n",
      "[1] \"Error\"\n",
      "[1] \"Error\"\n",
      "[1] \"Error\"\n",
      "[1] \"Error\"\n",
      "[1] \"Error\"\n",
      "[1] \"Error\"\n",
      "[1] \"Error\"\n",
      "[1] \"Error\"\n",
      "[1] \"Error\"\n",
      "[1] \"Error\"\n",
      "[1] \"Error\"\n",
      "[1] \"Error\"\n",
      "[1] \"Error\"\n",
      "[1] \"Error\"\n",
      "[1] \"Error\"\n",
      "[1] \"Error\"\n",
      "[1] \"Error\"\n",
      "[1] \"Error\"\n",
      "[1] \"Error\"\n",
      "[1] \"Error\"\n",
      "[1] \"Error\"\n",
      "[1] \"Error\"\n",
      "[1] \"Error\"\n",
      "[1] \"Error\"\n",
      "[1] \"Error\"\n",
      "[1] \"Error\"\n",
      "[1] \"Error\"\n",
      "[1] \"Error\"\n",
      "[1] \"Error\"\n",
      "[1] \"Error\"\n",
      "[1] \"Error\"\n",
      "[1] \"Error\"\n",
      "[1] \"Error\"\n",
      "[1] \"Error\"\n",
      "[1] \"Error\"\n",
      "[1] \"Error\"\n",
      "[1] \"Error\"\n",
      "[1] \"Error\"\n",
      "[1] \"Error\"\n",
      "[1] \"Error\"\n",
      "[1] \"Error\"\n",
      "[1] \"Error\"\n",
      "[1] \"Error\"\n",
      "[1] \"Error\"\n",
      "[1] \"Error\"\n",
      "[1] \"Error\"\n",
      "[1] \"Error\"\n",
      "[1] \"Error\"\n",
      "[1] \"Error\"\n",
      "[1] \"Error\"\n",
      "[1] \"Error\"\n",
      "[1] \"Error\"\n",
      "[1] \"Error\"\n",
      "[1] \"Error\"\n",
      "[1] \"Error\"\n",
      "[1] \"Error\"\n",
      "[1] \"Error\"\n",
      "[1] \"Error\"\n",
      "[1] \"Error\"\n",
      "[1] \"Error\"\n",
      "[1] \"Error\"\n",
      "[1] \"Error\"\n",
      "[1] \"Error\"\n",
      "[1] \"Error\"\n",
      "[1] \"Error\"\n",
      "[1] \"Error\"\n",
      "[1] \"Error\"\n",
      "[1] \"Error\"\n",
      "[1] \"Error\"\n",
      "[1] \"Error\"\n",
      "[1] \"Error\"\n",
      "[1] \"Error\"\n",
      "[1] \"Error\"\n",
      "[1] \"Error\"\n",
      "[1] \"Error\"\n",
      "[1] \"Error\"\n",
      "[1] \"Error\"\n",
      "[1] \"Error\"\n",
      "[1] \"Error\"\n",
      "[1] \"Error\"\n",
      "[1] \"Error\"\n",
      "[1] \"Error\"\n",
      "[1] \"Error\"\n",
      "[1] \"Error\"\n",
      "[1] \"Error\"\n",
      "[1] \"Error\"\n",
      "[1] \"Error\"\n",
      "[1] \"Error\"\n",
      "[1] \"Error\"\n",
      "[1] \"Error\"\n",
      "[1] \"Error\"\n",
      "[1] \"Error\"\n",
      "[1] \"Error\"\n",
      "[1] \"Error\"\n",
      "[1] \"Error\"\n",
      "[1] \"Error\"\n",
      "[1] \"Error\"\n",
      "[1] \"Error\"\n",
      "[1] \"Error\"\n",
      "[1] \"Error\"\n",
      "[1] \"Error\"\n",
      "[1] \"Error\"\n",
      "[1] \"Error\"\n",
      "[1] \"Error\"\n",
      "[1] \"Error\"\n",
      "[1] \"Error\"\n",
      "[1] \"Error\"\n",
      "[1] \"Error\"\n",
      "[1] \"Error\"\n",
      "[1] \"Error\"\n",
      "[1] \"Error\"\n",
      "[1] \"Error\"\n",
      "[1] \"Error\"\n",
      "[1] \"Error\"\n",
      "[1] \"Error\"\n",
      "[1] \"Error\"\n",
      "[1] \"Error\"\n",
      "[1] \"Error\"\n",
      "[1] \"Error\"\n",
      "[1] \"Error\"\n",
      "[1] \"Error\"\n",
      "[1] \"Error\"\n",
      "[1] \"Error\"\n",
      "[1] \"Error\"\n",
      "[1] \"Error\"\n",
      "[1] \"Error\"\n",
      "[1] \"Error\"\n",
      "[1] \"Error\"\n",
      "[1] \"Error\"\n",
      "[1] \"Error\"\n",
      "[1] \"Error\"\n",
      "[1] \"Error\"\n",
      "[1] \"Error\"\n",
      "[1] \"Error\"\n",
      "[1] \"Error\"\n",
      "[1] \"Error\"\n",
      "[1] \"Error\"\n",
      "[1] \"Error\"\n",
      "[1] \"Error\"\n",
      "[1] \"Error\"\n",
      "[1] \"Error\"\n",
      "[1] \"Error\"\n",
      "[1] \"Error\"\n"
     ]
    },
    {
     "name": "stderr",
     "output_type": "stream",
     "text": [
      "Warning message in train.default(x, y, weights = w, ...):\n",
      "\"Class probabilities were requested for a model that does not implement them\"\n"
     ]
    },
    {
     "name": "stdout",
     "output_type": "stream",
     "text": [
      "[1] \"Error\"\n"
     ]
    },
    {
     "name": "stderr",
     "output_type": "stream",
     "text": [
      "Warning message in train.default(x, y, weights = w, ...):\n",
      "\"Class probabilities were requested for a model that does not implement them\"\n"
     ]
    },
    {
     "name": "stdout",
     "output_type": "stream",
     "text": [
      "[1] \"Error\"\n",
      "[1] \"Error\"\n",
      "[1] \"Error\"\n",
      "[1] \"Error\"\n",
      "[1] \"Error\"\n",
      "[1] \"Error\"\n",
      "[1] \"Error\"\n",
      "[1] \"Error\"\n",
      "[1] \"Error\"\n",
      "[1] \"Error\"\n",
      "[1] \"Error\"\n",
      "[1] \"Error\"\n",
      "[1] \"Error\"\n",
      "[1] \"Error\"\n",
      "[1] \"Error\"\n",
      "[1] \"Error\"\n",
      "[1] \"Error\"\n",
      "[1] \"Error\"\n",
      "[1] \"Error\"\n",
      "[1] \"Error\"\n",
      "[1] \"Error\"\n",
      "[1] \"Error\"\n",
      "[1] \"Error\"\n",
      "[1] \"Error\"\n",
      "[1] \"Error\"\n",
      "[1] \"Error\"\n",
      "[1] \"Error\"\n",
      "[1] \"Error\"\n",
      "[1] \"Error\"\n",
      "[1] \"Error\"\n",
      "[1] \"Error\"\n",
      "[1] \"Error\"\n",
      "[1] \"Error\"\n",
      "[1] \"Error\"\n",
      "[1] \"Error\"\n",
      "[1] \"Error\"\n",
      "[1] \"Error\"\n",
      "[1] \"Error\"\n",
      "[1] \"Error\"\n",
      "[1] \"Error\"\n",
      "[1] \"Error\"\n",
      "[1] \"Error\"\n",
      "[1] \"Error\"\n",
      "[1] \"Error\"\n",
      "[1] \"Error\"\n",
      "[1] \"Error\"\n",
      "[1] \"Error\"\n",
      "[1] \"Error\"\n",
      "[1] \"Error\"\n",
      "[1] \"Error\"\n",
      "[1] \"Error\"\n",
      "[1] \"Error\"\n",
      "[1] \"Error\"\n",
      "[1] \"Error\"\n",
      "[1] \"Error\"\n",
      "[1] \"Error\"\n",
      "[1] \"Error\"\n",
      "[1] \"Error\"\n",
      "[1] \"Error\"\n",
      "[1] \"Error\"\n",
      "[1] \"Error\"\n",
      "[1] \"Error\"\n",
      "[1] \"Error\"\n",
      "[1] \"Error\"\n",
      "[1] \"Error\"\n",
      "[1] \"Error\"\n",
      "[1] \"Error\"\n",
      "[1] \"Error\"\n",
      "[1] \"Error\"\n",
      "[1] \"Error\"\n",
      "[1] \"Error\"\n",
      "[1] \"Error\"\n",
      "[1] \"Error\"\n",
      "[1] \"Error\"\n",
      "[1] \"Error\"\n",
      "[1] \"Error\"\n",
      "[1] \"Error\"\n",
      "[1] \"Error\"\n",
      "[1] \"Error\"\n",
      "[1] \"Error\"\n",
      "[1] \"Error\"\n",
      "[1] \"Error\"\n",
      "[1] \"Error\"\n",
      "[1] \"Error\"\n",
      "[1] \"Error\"\n",
      "[1] \"Error\"\n",
      "[1] \"Error\"\n",
      "[1] \"Error\"\n",
      "[1] \"Error\"\n",
      "[1] \"Error\"\n",
      "[1] \"Error\"\n",
      "[1] \"Error\"\n",
      "[1] \"Error\"\n",
      "[1] \"Error\"\n",
      "[1] \"Error\"\n",
      "[1] \"Error\"\n",
      "[1] \"Error\"\n",
      "[1] \"Error\"\n",
      "[1] \"Error\"\n",
      "[1] \"Error\"\n",
      "[1] \"Error\"\n",
      "[1] \"Error\"\n"
     ]
    }
   ],
   "source": [
    "for (i in 1:length(modellist)){\n",
    "    tryCatch(modelfit<-train(death~.,\n",
    "                             data=training,\n",
    "                             method=modellist[i],\n",
    "                             preProc=c(\"center\",\"scale\"),\n",
    "                             metric=\"ROC\",\n",
    "                             tuneLength=10,\n",
    "                             trControl=fitControl),error=function(e){print('Error')})\n",
    "    }"
   ]
  },
  {
   "cell_type": "code",
   "execution_count": 10,
   "id": "4253da8f",
   "metadata": {},
   "outputs": [
    {
     "name": "stdout",
     "output_type": "stream",
     "text": [
      "[1] \"Error\"\n"
     ]
    },
    {
     "ename": "ERROR",
     "evalue": "Error in h(simpleError(msg, call)): error in evaluating the argument 'object' in selecting a method for function 'predict': object 'modelfit' not found\n",
     "output_type": "error",
     "traceback": [
      "Error in h(simpleError(msg, call)): error in evaluating the argument 'object' in selecting a method for function 'predict': object 'modelfit' not found\nTraceback:\n",
      "1. predict(modelfit, newdata = training)",
      "2. .handleSimpleError(function (cond) \n . .Internal(C_tryCatchHelper(addr, 1L, cond)), \"object 'modelfit' not found\", \n .     base::quote(eval(expr, envir, enclos)))",
      "3. h(simpleError(msg, call))"
     ]
    }
   ],
   "source": [
    "for (i in 1:length(modellist)){\n",
    "    tryCatch(modelfit<-train(death~.,\n",
    "                             data=training,\n",
    "                             method=modellist[i],\n",
    "                             preProc=c(\"center\",\"scale\"),\n",
    "                             metric=\"ROC\",\n",
    "                             tuneLength=10,\n",
    "                             trControl=fitControl),error=function(e){print('Error')})\n",
    "    predictions_train=predict(modelfit,newdata=training)\n",
    "    predictions_test=predict(modelfit,newdata=testing)\n",
    "    predictions_train\n",
    "    predictions_test\n",
    "    confusionMatrix(predict(modelfit,training),training$death)\n",
    "    confusionMatrix(predict(modelfit,testing),testing$death)\n",
    "    train_results=predict(modelfit,training,type=\"prob\")\n",
    "    test_results=predict(modelfit,testing,type=\"prob\")\n",
    "    train_results$obs=training$death\n",
    "    train_results$pred=predictions_train\n",
    "    test_results$obs=testing$death\n",
    "    test_results$pred=predictions_test\n",
    "    ROC_train<-roc(training$death,train_results[,\"Death\"],levels=c(\"Survival\",\"Death\"))\n",
    "    ROC_test<-roc(testing$death,test_results[,\"Death\"],levels=c(\"Survival\",\"Death\"))\n",
    "    AUC_train[i]=ROC_train[9]$auc\n",
    "    AUC_test[i]=ROC_test[9]$auc\n",
    "    cat('Completed running Model', i, '(',modellist[i],')','of', M,'\\n')\n",
    "  }"
   ]
  },
  {
   "cell_type": "code",
   "execution_count": null,
   "id": "2c4dd3b7",
   "metadata": {},
   "outputs": [],
   "source": [
    "AUC=cbind(AUC_train,AUC_test)\n",
    "AUC=as.data.frame(AUC)\n",
    "AUC$rowname<-modellist\n",
    "print(AUC)"
   ]
  }
 ],
 "metadata": {
  "kernelspec": {
   "display_name": "R",
   "language": "R",
   "name": "ir"
  },
  "language_info": {
   "codemirror_mode": "r",
   "file_extension": ".r",
   "mimetype": "text/x-r-source",
   "name": "R",
   "pygments_lexer": "r",
   "version": "4.3.1"
  }
 },
 "nbformat": 4,
 "nbformat_minor": 5
}
