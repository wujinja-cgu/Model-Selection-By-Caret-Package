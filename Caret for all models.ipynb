{
 "cells": [
  {
   "cell_type": "code",
   "execution_count": 1,
   "id": "469aa68f",
   "metadata": {},
   "outputs": [
    {
     "name": "stderr",
     "output_type": "stream",
     "text": [
      "載入需要的套件：ggplot2\n",
      "\n",
      "載入需要的套件：lattice\n",
      "\n",
      "\n",
      "載入套件：'kernlab'\n",
      "\n",
      "\n",
      "下列物件被遮斷自 'package:ggplot2':\n",
      "\n",
      "    alpha\n",
      "\n",
      "\n",
      "randomForest 4.7-1.1\n",
      "\n",
      "Type rfNews() to see new features/changes/bug fixes.\n",
      "\n",
      "\n",
      "載入套件：'randomForest'\n",
      "\n",
      "\n",
      "下列物件被遮斷自 'package:ggplot2':\n",
      "\n",
      "    margin\n",
      "\n",
      "\n",
      "Loaded gbm 2.1.8.1\n",
      "\n",
      "Type 'citation(\"pROC\")' for a citation.\n",
      "\n",
      "\n",
      "載入套件：'pROC'\n",
      "\n",
      "\n",
      "下列物件被遮斷自 'package:stats':\n",
      "\n",
      "    cov, smooth, var\n",
      "\n",
      "\n",
      "Loaded ROSE 0.0-4\n",
      "\n",
      "\n",
      "載入需要的套件：foreach\n",
      "\n",
      "載入需要的套件：iterators\n",
      "\n",
      "載入需要的套件：parallel\n",
      "\n"
     ]
    },
    {
     "data": {
      "text/html": [
       "4"
      ],
      "text/latex": [
       "4"
      ],
      "text/markdown": [
       "4"
      ],
      "text/plain": [
       "[1] 4"
      ]
     },
     "metadata": {},
     "output_type": "display_data"
    }
   ],
   "source": [
    "library(caret)\n",
    "library(kernlab)\n",
    "library(foreign)\n",
    "library(mlbench)\n",
    "library(rpart)\n",
    "library(rpart.plot)\n",
    "library(ipred)\n",
    "library(randomForest)\n",
    "library(gbm)\n",
    "library(nnet)\n",
    "library(pROC)\n",
    "library(ggplot2)\n",
    "library(ROSE)\n",
    "library(doParallel)\n",
    "registerDoParallel(4)\n",
    "getDoParWorkers()"
   ]
  },
  {
   "cell_type": "code",
   "execution_count": 2,
   "id": "639149fd",
   "metadata": {},
   "outputs": [
    {
     "data": {
      "text/html": [
       "<style>\n",
       ".list-inline {list-style: none; margin:0; padding: 0}\n",
       ".list-inline>li {display: inline-block}\n",
       ".list-inline>li:not(:last-child)::after {content: \"\\00b7\"; padding: 0 .5ex}\n",
       "</style>\n",
       "<ol class=list-inline><li>555</li><li>7</li></ol>\n"
      ],
      "text/latex": [
       "\\begin{enumerate*}\n",
       "\\item 555\n",
       "\\item 7\n",
       "\\end{enumerate*}\n"
      ],
      "text/markdown": [
       "1. 555\n",
       "2. 7\n",
       "\n",
       "\n"
      ],
      "text/plain": [
       "[1] 555   7"
      ]
     },
     "metadata": {},
     "output_type": "display_data"
    }
   ],
   "source": [
    "mydata=read.csv(\"sepsis data.csv\",header=TRUE,sep=\",\")\n",
    "dim(mydata)"
   ]
  },
  {
   "cell_type": "code",
   "execution_count": 3,
   "id": "2d8ebc23",
   "metadata": {},
   "outputs": [
    {
     "data": {
      "text/html": [
       "<style>\n",
       ".list-inline {list-style: none; margin:0; padding: 0}\n",
       ".list-inline>li {display: inline-block}\n",
       ".list-inline>li:not(:last-child)::after {content: \"\\00b7\"; padding: 0 .5ex}\n",
       "</style>\n",
       "<ol class=list-inline><li>417</li><li>7</li></ol>\n"
      ],
      "text/latex": [
       "\\begin{enumerate*}\n",
       "\\item 417\n",
       "\\item 7\n",
       "\\end{enumerate*}\n"
      ],
      "text/markdown": [
       "1. 417\n",
       "2. 7\n",
       "\n",
       "\n"
      ],
      "text/plain": [
       "[1] 417   7"
      ]
     },
     "metadata": {},
     "output_type": "display_data"
    },
    {
     "data": {
      "text/html": [
       "<style>\n",
       ".list-inline {list-style: none; margin:0; padding: 0}\n",
       ".list-inline>li {display: inline-block}\n",
       ".list-inline>li:not(:last-child)::after {content: \"\\00b7\"; padding: 0 .5ex}\n",
       "</style>\n",
       "<ol class=list-inline><li>138</li><li>7</li></ol>\n"
      ],
      "text/latex": [
       "\\begin{enumerate*}\n",
       "\\item 138\n",
       "\\item 7\n",
       "\\end{enumerate*}\n"
      ],
      "text/markdown": [
       "1. 138\n",
       "2. 7\n",
       "\n",
       "\n"
      ],
      "text/plain": [
       "[1] 138   7"
      ]
     },
     "metadata": {},
     "output_type": "display_data"
    }
   ],
   "source": [
    "mydata$death=as.factor(mydata$death)\n",
    "mydata1=mydata[which(mydata$death==\"Survival\"),]\n",
    "mydata2=mydata[which(mydata$death==\"Death\"),]\n",
    "index1=sample(dim(mydata1)[1],nrow(mydata1)*0.25)\n",
    "index2=sample(dim(mydata2)[1],nrow(mydata2)*0.25)\n",
    "testing=rbind(mydata1[index1,],mydata2[index2,])\n",
    "training=rbind(mydata1[-index1,],mydata2[-index2,])\n",
    "dim(training)\n",
    "dim(testing)"
   ]
  },
  {
   "cell_type": "code",
   "execution_count": 4,
   "id": "9a3cd3b6",
   "metadata": {},
   "outputs": [],
   "source": [
    "fitControl=trainControl(method=\"repeatedcv\",\n",
    "                        number=3,\n",
    "                        repeats=2,\n",
    "                        classProbs=TRUE,\n",
    "                        savePredictions = TRUE,\n",
    "                        verboseIter = TRUE,\n",
    "                        summaryFunction=twoClassSummary,\n",
    "                        search=\"random\")"
   ]
  },
  {
   "cell_type": "code",
   "execution_count": 5,
   "id": "d825bd1a",
   "metadata": {},
   "outputs": [
    {
     "data": {
      "text/html": [
       "<table class=\"dataframe\">\n",
       "<caption>A data.frame: 6 × 6</caption>\n",
       "<thead>\n",
       "\t<tr><th></th><th scope=col>model</th><th scope=col>parameter</th><th scope=col>label</th><th scope=col>forReg</th><th scope=col>forClass</th><th scope=col>probModel</th></tr>\n",
       "\t<tr><th></th><th scope=col>&lt;chr&gt;</th><th scope=col>&lt;chr&gt;</th><th scope=col>&lt;chr&gt;</th><th scope=col>&lt;lgl&gt;</th><th scope=col>&lt;lgl&gt;</th><th scope=col>&lt;lgl&gt;</th></tr>\n",
       "</thead>\n",
       "<tbody>\n",
       "\t<tr><th scope=row>1</th><td>ada     </td><td>iter    </td><td>#Trees        </td><td>FALSE</td><td>TRUE</td><td>TRUE</td></tr>\n",
       "\t<tr><th scope=row>2</th><td>ada     </td><td>maxdepth</td><td>Max Tree Depth</td><td>FALSE</td><td>TRUE</td><td>TRUE</td></tr>\n",
       "\t<tr><th scope=row>3</th><td>ada     </td><td>nu      </td><td>Learning Rate </td><td>FALSE</td><td>TRUE</td><td>TRUE</td></tr>\n",
       "\t<tr><th scope=row>4</th><td>AdaBag  </td><td>mfinal  </td><td>#Trees        </td><td>FALSE</td><td>TRUE</td><td>TRUE</td></tr>\n",
       "\t<tr><th scope=row>5</th><td>AdaBag  </td><td>maxdepth</td><td>Max Tree Depth</td><td>FALSE</td><td>TRUE</td><td>TRUE</td></tr>\n",
       "\t<tr><th scope=row>9</th><td>adaboost</td><td>nIter   </td><td>#Trees        </td><td>FALSE</td><td>TRUE</td><td>TRUE</td></tr>\n",
       "</tbody>\n",
       "</table>\n"
      ],
      "text/latex": [
       "A data.frame: 6 × 6\n",
       "\\begin{tabular}{r|llllll}\n",
       "  & model & parameter & label & forReg & forClass & probModel\\\\\n",
       "  & <chr> & <chr> & <chr> & <lgl> & <lgl> & <lgl>\\\\\n",
       "\\hline\n",
       "\t1 & ada      & iter     & \\#Trees         & FALSE & TRUE & TRUE\\\\\n",
       "\t2 & ada      & maxdepth & Max Tree Depth & FALSE & TRUE & TRUE\\\\\n",
       "\t3 & ada      & nu       & Learning Rate  & FALSE & TRUE & TRUE\\\\\n",
       "\t4 & AdaBag   & mfinal   & \\#Trees         & FALSE & TRUE & TRUE\\\\\n",
       "\t5 & AdaBag   & maxdepth & Max Tree Depth & FALSE & TRUE & TRUE\\\\\n",
       "\t9 & adaboost & nIter    & \\#Trees         & FALSE & TRUE & TRUE\\\\\n",
       "\\end{tabular}\n"
      ],
      "text/markdown": [
       "\n",
       "A data.frame: 6 × 6\n",
       "\n",
       "| <!--/--> | model &lt;chr&gt; | parameter &lt;chr&gt; | label &lt;chr&gt; | forReg &lt;lgl&gt; | forClass &lt;lgl&gt; | probModel &lt;lgl&gt; |\n",
       "|---|---|---|---|---|---|---|\n",
       "| 1 | ada      | iter     | #Trees         | FALSE | TRUE | TRUE |\n",
       "| 2 | ada      | maxdepth | Max Tree Depth | FALSE | TRUE | TRUE |\n",
       "| 3 | ada      | nu       | Learning Rate  | FALSE | TRUE | TRUE |\n",
       "| 4 | AdaBag   | mfinal   | #Trees         | FALSE | TRUE | TRUE |\n",
       "| 5 | AdaBag   | maxdepth | Max Tree Depth | FALSE | TRUE | TRUE |\n",
       "| 9 | adaboost | nIter    | #Trees         | FALSE | TRUE | TRUE |\n",
       "\n"
      ],
      "text/plain": [
       "  model    parameter label          forReg forClass probModel\n",
       "1 ada      iter      #Trees         FALSE  TRUE     TRUE     \n",
       "2 ada      maxdepth  Max Tree Depth FALSE  TRUE     TRUE     \n",
       "3 ada      nu        Learning Rate  FALSE  TRUE     TRUE     \n",
       "4 AdaBag   mfinal    #Trees         FALSE  TRUE     TRUE     \n",
       "5 AdaBag   maxdepth  Max Tree Depth FALSE  TRUE     TRUE     \n",
       "9 adaboost nIter     #Trees         FALSE  TRUE     TRUE     "
      ]
     },
     "metadata": {},
     "output_type": "display_data"
    },
    {
     "data": {
      "text/html": [
       "<style>\n",
       ".list-inline {list-style: none; margin:0; padding: 0}\n",
       ".list-inline>li {display: inline-block}\n",
       ".list-inline>li:not(:last-child)::after {content: \"\\00b7\"; padding: 0 .5ex}\n",
       "</style>\n",
       "<ol class=list-inline><li>511</li><li>6</li></ol>\n"
      ],
      "text/latex": [
       "\\begin{enumerate*}\n",
       "\\item 511\n",
       "\\item 6\n",
       "\\end{enumerate*}\n"
      ],
      "text/markdown": [
       "1. 511\n",
       "2. 6\n",
       "\n",
       "\n"
      ],
      "text/plain": [
       "[1] 511   6"
      ]
     },
     "metadata": {},
     "output_type": "display_data"
    }
   ],
   "source": [
    "model_caret=caret::modelLookup()\n",
    "head(model_caret)\n",
    "dim(model_caret)"
   ]
  },
  {
   "cell_type": "code",
   "execution_count": 6,
   "id": "b991bf94",
   "metadata": {},
   "outputs": [
    {
     "data": {
      "text/html": [
       "<table class=\"dataframe\">\n",
       "<caption>A data.frame: 6 × 6</caption>\n",
       "<thead>\n",
       "\t<tr><th></th><th scope=col>model</th><th scope=col>parameter</th><th scope=col>label</th><th scope=col>forReg</th><th scope=col>forClass</th><th scope=col>probModel</th></tr>\n",
       "\t<tr><th></th><th scope=col>&lt;chr&gt;</th><th scope=col>&lt;chr&gt;</th><th scope=col>&lt;chr&gt;</th><th scope=col>&lt;lgl&gt;</th><th scope=col>&lt;lgl&gt;</th><th scope=col>&lt;lgl&gt;</th></tr>\n",
       "</thead>\n",
       "<tbody>\n",
       "\t<tr><th scope=row>1</th><td>ada     </td><td>iter    </td><td>#Trees        </td><td>FALSE</td><td>TRUE</td><td>TRUE</td></tr>\n",
       "\t<tr><th scope=row>2</th><td>ada     </td><td>maxdepth</td><td>Max Tree Depth</td><td>FALSE</td><td>TRUE</td><td>TRUE</td></tr>\n",
       "\t<tr><th scope=row>3</th><td>ada     </td><td>nu      </td><td>Learning Rate </td><td>FALSE</td><td>TRUE</td><td>TRUE</td></tr>\n",
       "\t<tr><th scope=row>4</th><td>AdaBag  </td><td>mfinal  </td><td>#Trees        </td><td>FALSE</td><td>TRUE</td><td>TRUE</td></tr>\n",
       "\t<tr><th scope=row>5</th><td>AdaBag  </td><td>maxdepth</td><td>Max Tree Depth</td><td>FALSE</td><td>TRUE</td><td>TRUE</td></tr>\n",
       "\t<tr><th scope=row>9</th><td>adaboost</td><td>nIter   </td><td>#Trees        </td><td>FALSE</td><td>TRUE</td><td>TRUE</td></tr>\n",
       "</tbody>\n",
       "</table>\n"
      ],
      "text/latex": [
       "A data.frame: 6 × 6\n",
       "\\begin{tabular}{r|llllll}\n",
       "  & model & parameter & label & forReg & forClass & probModel\\\\\n",
       "  & <chr> & <chr> & <chr> & <lgl> & <lgl> & <lgl>\\\\\n",
       "\\hline\n",
       "\t1 & ada      & iter     & \\#Trees         & FALSE & TRUE & TRUE\\\\\n",
       "\t2 & ada      & maxdepth & Max Tree Depth & FALSE & TRUE & TRUE\\\\\n",
       "\t3 & ada      & nu       & Learning Rate  & FALSE & TRUE & TRUE\\\\\n",
       "\t4 & AdaBag   & mfinal   & \\#Trees         & FALSE & TRUE & TRUE\\\\\n",
       "\t5 & AdaBag   & maxdepth & Max Tree Depth & FALSE & TRUE & TRUE\\\\\n",
       "\t9 & adaboost & nIter    & \\#Trees         & FALSE & TRUE & TRUE\\\\\n",
       "\\end{tabular}\n"
      ],
      "text/markdown": [
       "\n",
       "A data.frame: 6 × 6\n",
       "\n",
       "| <!--/--> | model &lt;chr&gt; | parameter &lt;chr&gt; | label &lt;chr&gt; | forReg &lt;lgl&gt; | forClass &lt;lgl&gt; | probModel &lt;lgl&gt; |\n",
       "|---|---|---|---|---|---|---|\n",
       "| 1 | ada      | iter     | #Trees         | FALSE | TRUE | TRUE |\n",
       "| 2 | ada      | maxdepth | Max Tree Depth | FALSE | TRUE | TRUE |\n",
       "| 3 | ada      | nu       | Learning Rate  | FALSE | TRUE | TRUE |\n",
       "| 4 | AdaBag   | mfinal   | #Trees         | FALSE | TRUE | TRUE |\n",
       "| 5 | AdaBag   | maxdepth | Max Tree Depth | FALSE | TRUE | TRUE |\n",
       "| 9 | adaboost | nIter    | #Trees         | FALSE | TRUE | TRUE |\n",
       "\n"
      ],
      "text/plain": [
       "  model    parameter label          forReg forClass probModel\n",
       "1 ada      iter      #Trees         FALSE  TRUE     TRUE     \n",
       "2 ada      maxdepth  Max Tree Depth FALSE  TRUE     TRUE     \n",
       "3 ada      nu        Learning Rate  FALSE  TRUE     TRUE     \n",
       "4 AdaBag   mfinal    #Trees         FALSE  TRUE     TRUE     \n",
       "5 AdaBag   maxdepth  Max Tree Depth FALSE  TRUE     TRUE     \n",
       "9 adaboost nIter     #Trees         FALSE  TRUE     TRUE     "
      ]
     },
     "metadata": {},
     "output_type": "display_data"
    },
    {
     "data": {
      "text/html": [
       "431"
      ],
      "text/latex": [
       "431"
      ],
      "text/markdown": [
       "431"
      ],
      "text/plain": [
       "[1] 431"
      ]
     },
     "metadata": {},
     "output_type": "display_data"
    }
   ],
   "source": [
    "model_caret_forclass=model_caret[which(model_caret$forClass==\"TRUE\"),]\n",
    "head(model_caret_forclass)\n",
    "nrow(model_caret_forclass)"
   ]
  },
  {
   "cell_type": "code",
   "execution_count": 7,
   "id": "a8475b3f",
   "metadata": {},
   "outputs": [
    {
     "data": {
      "text/html": [
       "<table class=\"dataframe\">\n",
       "<caption>A data.frame: 6 × 6</caption>\n",
       "<thead>\n",
       "\t<tr><th></th><th scope=col>model</th><th scope=col>parameter</th><th scope=col>label</th><th scope=col>forReg</th><th scope=col>forClass</th><th scope=col>probModel</th></tr>\n",
       "\t<tr><th></th><th scope=col>&lt;chr&gt;</th><th scope=col>&lt;chr&gt;</th><th scope=col>&lt;chr&gt;</th><th scope=col>&lt;lgl&gt;</th><th scope=col>&lt;lgl&gt;</th><th scope=col>&lt;lgl&gt;</th></tr>\n",
       "</thead>\n",
       "<tbody>\n",
       "\t<tr><th scope=row>12</th><td>ANFIS </td><td>num.labels</td><td>#Fuzzy Terms                 </td><td>TRUE</td><td>FALSE</td><td>FALSE</td></tr>\n",
       "\t<tr><th scope=row>13</th><td>ANFIS </td><td>max.iter  </td><td>Max. Iterations              </td><td>TRUE</td><td>FALSE</td><td>FALSE</td></tr>\n",
       "\t<tr><th scope=row>14</th><td>avNNet</td><td>size      </td><td>#Hidden Units                </td><td>TRUE</td><td> TRUE</td><td> TRUE</td></tr>\n",
       "\t<tr><th scope=row>15</th><td>avNNet</td><td>decay     </td><td>Weight Decay                 </td><td>TRUE</td><td> TRUE</td><td> TRUE</td></tr>\n",
       "\t<tr><th scope=row>16</th><td>avNNet</td><td>bag       </td><td>Bagging                      </td><td>TRUE</td><td> TRUE</td><td> TRUE</td></tr>\n",
       "\t<tr><th scope=row>20</th><td>bag   </td><td>vars      </td><td>#Randomly Selected Predictors</td><td>TRUE</td><td> TRUE</td><td> TRUE</td></tr>\n",
       "</tbody>\n",
       "</table>\n"
      ],
      "text/latex": [
       "A data.frame: 6 × 6\n",
       "\\begin{tabular}{r|llllll}\n",
       "  & model & parameter & label & forReg & forClass & probModel\\\\\n",
       "  & <chr> & <chr> & <chr> & <lgl> & <lgl> & <lgl>\\\\\n",
       "\\hline\n",
       "\t12 & ANFIS  & num.labels & \\#Fuzzy Terms                  & TRUE & FALSE & FALSE\\\\\n",
       "\t13 & ANFIS  & max.iter   & Max. Iterations               & TRUE & FALSE & FALSE\\\\\n",
       "\t14 & avNNet & size       & \\#Hidden Units                 & TRUE &  TRUE &  TRUE\\\\\n",
       "\t15 & avNNet & decay      & Weight Decay                  & TRUE &  TRUE &  TRUE\\\\\n",
       "\t16 & avNNet & bag        & Bagging                       & TRUE &  TRUE &  TRUE\\\\\n",
       "\t20 & bag    & vars       & \\#Randomly Selected Predictors & TRUE &  TRUE &  TRUE\\\\\n",
       "\\end{tabular}\n"
      ],
      "text/markdown": [
       "\n",
       "A data.frame: 6 × 6\n",
       "\n",
       "| <!--/--> | model &lt;chr&gt; | parameter &lt;chr&gt; | label &lt;chr&gt; | forReg &lt;lgl&gt; | forClass &lt;lgl&gt; | probModel &lt;lgl&gt; |\n",
       "|---|---|---|---|---|---|---|\n",
       "| 12 | ANFIS  | num.labels | #Fuzzy Terms                  | TRUE | FALSE | FALSE |\n",
       "| 13 | ANFIS  | max.iter   | Max. Iterations               | TRUE | FALSE | FALSE |\n",
       "| 14 | avNNet | size       | #Hidden Units                 | TRUE |  TRUE |  TRUE |\n",
       "| 15 | avNNet | decay      | Weight Decay                  | TRUE |  TRUE |  TRUE |\n",
       "| 16 | avNNet | bag        | Bagging                       | TRUE |  TRUE |  TRUE |\n",
       "| 20 | bag    | vars       | #Randomly Selected Predictors | TRUE |  TRUE |  TRUE |\n",
       "\n"
      ],
      "text/plain": [
       "   model  parameter  label                         forReg forClass probModel\n",
       "12 ANFIS  num.labels #Fuzzy Terms                  TRUE   FALSE    FALSE    \n",
       "13 ANFIS  max.iter   Max. Iterations               TRUE   FALSE    FALSE    \n",
       "14 avNNet size       #Hidden Units                 TRUE    TRUE     TRUE    \n",
       "15 avNNet decay      Weight Decay                  TRUE    TRUE     TRUE    \n",
       "16 avNNet bag        Bagging                       TRUE    TRUE     TRUE    \n",
       "20 bag    vars       #Randomly Selected Predictors TRUE    TRUE     TRUE    "
      ]
     },
     "metadata": {},
     "output_type": "display_data"
    },
    {
     "data": {
      "text/html": [
       "296"
      ],
      "text/latex": [
       "296"
      ],
      "text/markdown": [
       "296"
      ],
      "text/plain": [
       "[1] 296"
      ]
     },
     "metadata": {},
     "output_type": "display_data"
    }
   ],
   "source": [
    "model_caret_forreg=model_caret[which(model_caret$forReg==\"TRUE\"),]\n",
    "head(model_caret_forreg)\n",
    "nrow(model_caret_forreg)"
   ]
  },
  {
   "cell_type": "code",
   "execution_count": 8,
   "id": "f12ca432",
   "metadata": {},
   "outputs": [
    {
     "data": {
      "text/html": [
       "<style>\n",
       ".list-inline {list-style: none; margin:0; padding: 0}\n",
       ".list-inline>li {display: inline-block}\n",
       ".list-inline>li:not(:last-child)::after {content: \"\\00b7\"; padding: 0 .5ex}\n",
       "</style>\n",
       "<ol class=list-inline><li>'ada'</li><li>'AdaBag'</li><li>'adaboost'</li><li>'AdaBoost.M1'</li><li>'amdai'</li><li>'avNNet'</li><li>'awnb'</li><li>'awtan'</li><li>'bag'</li><li>'bagEarth'</li><li>'bagEarthGCV'</li><li>'bagFDA'</li><li>'bagFDAGCV'</li><li>'bam'</li><li>'bartMachine'</li><li>'bayesglm'</li><li>'binda'</li><li>'blackboost'</li><li>'BstLm'</li><li>'bstSm'</li><li>'bstTree'</li><li>'C5.0'</li><li>'C5.0Cost'</li><li>'C5.0Rules'</li><li>'C5.0Tree'</li><li>'cforest'</li><li>'chaid'</li><li>'CSimca'</li><li>'ctree'</li><li>'ctree2'</li><li>'dda'</li><li>'deepboost'</li><li>'dnn'</li><li>'dwdLinear'</li><li>'dwdPoly'</li><li>'dwdRadial'</li><li>'earth'</li><li>'elm'</li><li>'evtree'</li><li>'extraTrees'</li><li>'fda'</li><li>'FH.GBML'</li><li>'FRBCS.CHI'</li><li>'FRBCS.W'</li><li>'gam'</li><li>'gamboost'</li><li>'gamLoess'</li><li>'gamSpline'</li><li>'gaussprLinear'</li><li>'gaussprPoly'</li><li>'gaussprRadial'</li><li>'gbm'</li><li>'gbm_h2o'</li><li>'gcvEarth'</li><li>'glm'</li><li>'glmboost'</li><li>'glmnet'</li><li>'glmnet_h2o'</li><li>'glmStepAIC'</li><li>'gpls'</li><li>'hda'</li><li>'hdda'</li><li>'hdrda'</li><li>'J48'</li><li>'JRip'</li><li>'kernelpls'</li><li>'kknn'</li><li>'knn'</li><li>'lda'</li><li>'lda2'</li><li>'Linda'</li><li>'LMT'</li><li>'loclda'</li><li>'logicBag'</li><li>'LogitBoost'</li><li>'logreg'</li><li>'lssvmLinear'</li><li>'lssvmPoly'</li><li>'lssvmRadial'</li><li>'lvq'</li><li>'manb'</li><li>'mda'</li><li>'Mlda'</li><li>'mlp'</li><li>'mlpKerasDecay'</li><li>'mlpKerasDecayCost'</li><li>'mlpKerasDropout'</li><li>'mlpKerasDropoutCost'</li><li>'mlpML'</li><li>'mlpSGD'</li><li>'mlpWeightDecay'</li><li>'mlpWeightDecayML'</li><li>'monmlp'</li><li>'msaenet'</li><li>'multinom'</li><li>'mxnet'</li><li>'mxnetAdam'</li><li>'naive_bayes'</li><li>'nb'</li><li>'nbDiscrete'</li><li>'nbSearch'</li><li>'nnet'</li><li>'nodeHarvest'</li><li>'null'</li><li>'OneR'</li><li>'ordinalNet'</li><li>'ordinalRF'</li><li>'ORFlog'</li><li>'ORFpls'</li><li>'ORFridge'</li><li>'ORFsvm'</li><li>'ownn'</li><li>'pam'</li><li>'parRF'</li><li>'PART'</li><li>'partDSA'</li><li>'pcaNNet'</li><li>'pda'</li><li>'pda2'</li><li>'PenalizedLDA'</li><li>'plr'</li><li>'pls'</li><li>'plsRglm'</li><li>'polr'</li><li>'pre'</li><li>'PRIM'</li><li>'protoclass'</li><li>'qda'</li><li>'QdaCov'</li><li>'randomGLM'</li><li>'ranger'</li><li>'rbf'</li><li>'rbfDDA'</li><li>'Rborist'</li><li>'rda'</li><li>'regLogistic'</li><li>'rf'</li><li>'rFerns'</li><li>'RFlda'</li><li>'rfRules'</li><li>'rlda'</li><li>'rmda'</li><li>'rocc'</li><li>'rotationForest'</li><li>'rotationForestCp'</li><li>'rpart'</li><li>'rpart1SE'</li><li>'rpart2'</li><li>'rpartCost'</li><li>'rpartScore'</li><li>'RRF'</li><li>'RRFglobal'</li><li>'rrlda'</li><li>'RSimca'</li><li>'sda'</li><li>'sdwd'</li><li>'simpls'</li><li>'SLAVE'</li><li>'slda'</li><li>'smda'</li><li>'snn'</li><li>'sparseLDA'</li><li>'spls'</li><li>'stepLDA'</li><li>'stepQDA'</li><li>'svmBoundrangeString'</li><li>'svmExpoString'</li><li>'svmLinear'</li><li>'svmLinear2'</li><li>'svmLinear3'</li><li>'svmLinearWeights'</li><li>'svmLinearWeights2'</li><li>'svmPoly'</li><li>'svmRadial'</li><li>'svmRadialCost'</li><li>'svmRadialSigma'</li><li>'svmRadialWeights'</li><li>'svmSpectrumString'</li><li>'tan'</li><li>'tanSearch'</li><li>'treebag'</li><li>'vbmpRadial'</li><li>'vglmAdjCat'</li><li>'vglmContRatio'</li><li>'vglmCumulative'</li><li>'widekernelpls'</li><li>'wsrf'</li><li>'xgbDART'</li><li>'xgbLinear'</li><li>'xgbTree'</li><li>'xyf'</li></ol>\n"
      ],
      "text/latex": [
       "\\begin{enumerate*}\n",
       "\\item 'ada'\n",
       "\\item 'AdaBag'\n",
       "\\item 'adaboost'\n",
       "\\item 'AdaBoost.M1'\n",
       "\\item 'amdai'\n",
       "\\item 'avNNet'\n",
       "\\item 'awnb'\n",
       "\\item 'awtan'\n",
       "\\item 'bag'\n",
       "\\item 'bagEarth'\n",
       "\\item 'bagEarthGCV'\n",
       "\\item 'bagFDA'\n",
       "\\item 'bagFDAGCV'\n",
       "\\item 'bam'\n",
       "\\item 'bartMachine'\n",
       "\\item 'bayesglm'\n",
       "\\item 'binda'\n",
       "\\item 'blackboost'\n",
       "\\item 'BstLm'\n",
       "\\item 'bstSm'\n",
       "\\item 'bstTree'\n",
       "\\item 'C5.0'\n",
       "\\item 'C5.0Cost'\n",
       "\\item 'C5.0Rules'\n",
       "\\item 'C5.0Tree'\n",
       "\\item 'cforest'\n",
       "\\item 'chaid'\n",
       "\\item 'CSimca'\n",
       "\\item 'ctree'\n",
       "\\item 'ctree2'\n",
       "\\item 'dda'\n",
       "\\item 'deepboost'\n",
       "\\item 'dnn'\n",
       "\\item 'dwdLinear'\n",
       "\\item 'dwdPoly'\n",
       "\\item 'dwdRadial'\n",
       "\\item 'earth'\n",
       "\\item 'elm'\n",
       "\\item 'evtree'\n",
       "\\item 'extraTrees'\n",
       "\\item 'fda'\n",
       "\\item 'FH.GBML'\n",
       "\\item 'FRBCS.CHI'\n",
       "\\item 'FRBCS.W'\n",
       "\\item 'gam'\n",
       "\\item 'gamboost'\n",
       "\\item 'gamLoess'\n",
       "\\item 'gamSpline'\n",
       "\\item 'gaussprLinear'\n",
       "\\item 'gaussprPoly'\n",
       "\\item 'gaussprRadial'\n",
       "\\item 'gbm'\n",
       "\\item 'gbm\\_h2o'\n",
       "\\item 'gcvEarth'\n",
       "\\item 'glm'\n",
       "\\item 'glmboost'\n",
       "\\item 'glmnet'\n",
       "\\item 'glmnet\\_h2o'\n",
       "\\item 'glmStepAIC'\n",
       "\\item 'gpls'\n",
       "\\item 'hda'\n",
       "\\item 'hdda'\n",
       "\\item 'hdrda'\n",
       "\\item 'J48'\n",
       "\\item 'JRip'\n",
       "\\item 'kernelpls'\n",
       "\\item 'kknn'\n",
       "\\item 'knn'\n",
       "\\item 'lda'\n",
       "\\item 'lda2'\n",
       "\\item 'Linda'\n",
       "\\item 'LMT'\n",
       "\\item 'loclda'\n",
       "\\item 'logicBag'\n",
       "\\item 'LogitBoost'\n",
       "\\item 'logreg'\n",
       "\\item 'lssvmLinear'\n",
       "\\item 'lssvmPoly'\n",
       "\\item 'lssvmRadial'\n",
       "\\item 'lvq'\n",
       "\\item 'manb'\n",
       "\\item 'mda'\n",
       "\\item 'Mlda'\n",
       "\\item 'mlp'\n",
       "\\item 'mlpKerasDecay'\n",
       "\\item 'mlpKerasDecayCost'\n",
       "\\item 'mlpKerasDropout'\n",
       "\\item 'mlpKerasDropoutCost'\n",
       "\\item 'mlpML'\n",
       "\\item 'mlpSGD'\n",
       "\\item 'mlpWeightDecay'\n",
       "\\item 'mlpWeightDecayML'\n",
       "\\item 'monmlp'\n",
       "\\item 'msaenet'\n",
       "\\item 'multinom'\n",
       "\\item 'mxnet'\n",
       "\\item 'mxnetAdam'\n",
       "\\item 'naive\\_bayes'\n",
       "\\item 'nb'\n",
       "\\item 'nbDiscrete'\n",
       "\\item 'nbSearch'\n",
       "\\item 'nnet'\n",
       "\\item 'nodeHarvest'\n",
       "\\item 'null'\n",
       "\\item 'OneR'\n",
       "\\item 'ordinalNet'\n",
       "\\item 'ordinalRF'\n",
       "\\item 'ORFlog'\n",
       "\\item 'ORFpls'\n",
       "\\item 'ORFridge'\n",
       "\\item 'ORFsvm'\n",
       "\\item 'ownn'\n",
       "\\item 'pam'\n",
       "\\item 'parRF'\n",
       "\\item 'PART'\n",
       "\\item 'partDSA'\n",
       "\\item 'pcaNNet'\n",
       "\\item 'pda'\n",
       "\\item 'pda2'\n",
       "\\item 'PenalizedLDA'\n",
       "\\item 'plr'\n",
       "\\item 'pls'\n",
       "\\item 'plsRglm'\n",
       "\\item 'polr'\n",
       "\\item 'pre'\n",
       "\\item 'PRIM'\n",
       "\\item 'protoclass'\n",
       "\\item 'qda'\n",
       "\\item 'QdaCov'\n",
       "\\item 'randomGLM'\n",
       "\\item 'ranger'\n",
       "\\item 'rbf'\n",
       "\\item 'rbfDDA'\n",
       "\\item 'Rborist'\n",
       "\\item 'rda'\n",
       "\\item 'regLogistic'\n",
       "\\item 'rf'\n",
       "\\item 'rFerns'\n",
       "\\item 'RFlda'\n",
       "\\item 'rfRules'\n",
       "\\item 'rlda'\n",
       "\\item 'rmda'\n",
       "\\item 'rocc'\n",
       "\\item 'rotationForest'\n",
       "\\item 'rotationForestCp'\n",
       "\\item 'rpart'\n",
       "\\item 'rpart1SE'\n",
       "\\item 'rpart2'\n",
       "\\item 'rpartCost'\n",
       "\\item 'rpartScore'\n",
       "\\item 'RRF'\n",
       "\\item 'RRFglobal'\n",
       "\\item 'rrlda'\n",
       "\\item 'RSimca'\n",
       "\\item 'sda'\n",
       "\\item 'sdwd'\n",
       "\\item 'simpls'\n",
       "\\item 'SLAVE'\n",
       "\\item 'slda'\n",
       "\\item 'smda'\n",
       "\\item 'snn'\n",
       "\\item 'sparseLDA'\n",
       "\\item 'spls'\n",
       "\\item 'stepLDA'\n",
       "\\item 'stepQDA'\n",
       "\\item 'svmBoundrangeString'\n",
       "\\item 'svmExpoString'\n",
       "\\item 'svmLinear'\n",
       "\\item 'svmLinear2'\n",
       "\\item 'svmLinear3'\n",
       "\\item 'svmLinearWeights'\n",
       "\\item 'svmLinearWeights2'\n",
       "\\item 'svmPoly'\n",
       "\\item 'svmRadial'\n",
       "\\item 'svmRadialCost'\n",
       "\\item 'svmRadialSigma'\n",
       "\\item 'svmRadialWeights'\n",
       "\\item 'svmSpectrumString'\n",
       "\\item 'tan'\n",
       "\\item 'tanSearch'\n",
       "\\item 'treebag'\n",
       "\\item 'vbmpRadial'\n",
       "\\item 'vglmAdjCat'\n",
       "\\item 'vglmContRatio'\n",
       "\\item 'vglmCumulative'\n",
       "\\item 'widekernelpls'\n",
       "\\item 'wsrf'\n",
       "\\item 'xgbDART'\n",
       "\\item 'xgbLinear'\n",
       "\\item 'xgbTree'\n",
       "\\item 'xyf'\n",
       "\\end{enumerate*}\n"
      ],
      "text/markdown": [
       "1. 'ada'\n",
       "2. 'AdaBag'\n",
       "3. 'adaboost'\n",
       "4. 'AdaBoost.M1'\n",
       "5. 'amdai'\n",
       "6. 'avNNet'\n",
       "7. 'awnb'\n",
       "8. 'awtan'\n",
       "9. 'bag'\n",
       "10. 'bagEarth'\n",
       "11. 'bagEarthGCV'\n",
       "12. 'bagFDA'\n",
       "13. 'bagFDAGCV'\n",
       "14. 'bam'\n",
       "15. 'bartMachine'\n",
       "16. 'bayesglm'\n",
       "17. 'binda'\n",
       "18. 'blackboost'\n",
       "19. 'BstLm'\n",
       "20. 'bstSm'\n",
       "21. 'bstTree'\n",
       "22. 'C5.0'\n",
       "23. 'C5.0Cost'\n",
       "24. 'C5.0Rules'\n",
       "25. 'C5.0Tree'\n",
       "26. 'cforest'\n",
       "27. 'chaid'\n",
       "28. 'CSimca'\n",
       "29. 'ctree'\n",
       "30. 'ctree2'\n",
       "31. 'dda'\n",
       "32. 'deepboost'\n",
       "33. 'dnn'\n",
       "34. 'dwdLinear'\n",
       "35. 'dwdPoly'\n",
       "36. 'dwdRadial'\n",
       "37. 'earth'\n",
       "38. 'elm'\n",
       "39. 'evtree'\n",
       "40. 'extraTrees'\n",
       "41. 'fda'\n",
       "42. 'FH.GBML'\n",
       "43. 'FRBCS.CHI'\n",
       "44. 'FRBCS.W'\n",
       "45. 'gam'\n",
       "46. 'gamboost'\n",
       "47. 'gamLoess'\n",
       "48. 'gamSpline'\n",
       "49. 'gaussprLinear'\n",
       "50. 'gaussprPoly'\n",
       "51. 'gaussprRadial'\n",
       "52. 'gbm'\n",
       "53. 'gbm_h2o'\n",
       "54. 'gcvEarth'\n",
       "55. 'glm'\n",
       "56. 'glmboost'\n",
       "57. 'glmnet'\n",
       "58. 'glmnet_h2o'\n",
       "59. 'glmStepAIC'\n",
       "60. 'gpls'\n",
       "61. 'hda'\n",
       "62. 'hdda'\n",
       "63. 'hdrda'\n",
       "64. 'J48'\n",
       "65. 'JRip'\n",
       "66. 'kernelpls'\n",
       "67. 'kknn'\n",
       "68. 'knn'\n",
       "69. 'lda'\n",
       "70. 'lda2'\n",
       "71. 'Linda'\n",
       "72. 'LMT'\n",
       "73. 'loclda'\n",
       "74. 'logicBag'\n",
       "75. 'LogitBoost'\n",
       "76. 'logreg'\n",
       "77. 'lssvmLinear'\n",
       "78. 'lssvmPoly'\n",
       "79. 'lssvmRadial'\n",
       "80. 'lvq'\n",
       "81. 'manb'\n",
       "82. 'mda'\n",
       "83. 'Mlda'\n",
       "84. 'mlp'\n",
       "85. 'mlpKerasDecay'\n",
       "86. 'mlpKerasDecayCost'\n",
       "87. 'mlpKerasDropout'\n",
       "88. 'mlpKerasDropoutCost'\n",
       "89. 'mlpML'\n",
       "90. 'mlpSGD'\n",
       "91. 'mlpWeightDecay'\n",
       "92. 'mlpWeightDecayML'\n",
       "93. 'monmlp'\n",
       "94. 'msaenet'\n",
       "95. 'multinom'\n",
       "96. 'mxnet'\n",
       "97. 'mxnetAdam'\n",
       "98. 'naive_bayes'\n",
       "99. 'nb'\n",
       "100. 'nbDiscrete'\n",
       "101. 'nbSearch'\n",
       "102. 'nnet'\n",
       "103. 'nodeHarvest'\n",
       "104. 'null'\n",
       "105. 'OneR'\n",
       "106. 'ordinalNet'\n",
       "107. 'ordinalRF'\n",
       "108. 'ORFlog'\n",
       "109. 'ORFpls'\n",
       "110. 'ORFridge'\n",
       "111. 'ORFsvm'\n",
       "112. 'ownn'\n",
       "113. 'pam'\n",
       "114. 'parRF'\n",
       "115. 'PART'\n",
       "116. 'partDSA'\n",
       "117. 'pcaNNet'\n",
       "118. 'pda'\n",
       "119. 'pda2'\n",
       "120. 'PenalizedLDA'\n",
       "121. 'plr'\n",
       "122. 'pls'\n",
       "123. 'plsRglm'\n",
       "124. 'polr'\n",
       "125. 'pre'\n",
       "126. 'PRIM'\n",
       "127. 'protoclass'\n",
       "128. 'qda'\n",
       "129. 'QdaCov'\n",
       "130. 'randomGLM'\n",
       "131. 'ranger'\n",
       "132. 'rbf'\n",
       "133. 'rbfDDA'\n",
       "134. 'Rborist'\n",
       "135. 'rda'\n",
       "136. 'regLogistic'\n",
       "137. 'rf'\n",
       "138. 'rFerns'\n",
       "139. 'RFlda'\n",
       "140. 'rfRules'\n",
       "141. 'rlda'\n",
       "142. 'rmda'\n",
       "143. 'rocc'\n",
       "144. 'rotationForest'\n",
       "145. 'rotationForestCp'\n",
       "146. 'rpart'\n",
       "147. 'rpart1SE'\n",
       "148. 'rpart2'\n",
       "149. 'rpartCost'\n",
       "150. 'rpartScore'\n",
       "151. 'RRF'\n",
       "152. 'RRFglobal'\n",
       "153. 'rrlda'\n",
       "154. 'RSimca'\n",
       "155. 'sda'\n",
       "156. 'sdwd'\n",
       "157. 'simpls'\n",
       "158. 'SLAVE'\n",
       "159. 'slda'\n",
       "160. 'smda'\n",
       "161. 'snn'\n",
       "162. 'sparseLDA'\n",
       "163. 'spls'\n",
       "164. 'stepLDA'\n",
       "165. 'stepQDA'\n",
       "166. 'svmBoundrangeString'\n",
       "167. 'svmExpoString'\n",
       "168. 'svmLinear'\n",
       "169. 'svmLinear2'\n",
       "170. 'svmLinear3'\n",
       "171. 'svmLinearWeights'\n",
       "172. 'svmLinearWeights2'\n",
       "173. 'svmPoly'\n",
       "174. 'svmRadial'\n",
       "175. 'svmRadialCost'\n",
       "176. 'svmRadialSigma'\n",
       "177. 'svmRadialWeights'\n",
       "178. 'svmSpectrumString'\n",
       "179. 'tan'\n",
       "180. 'tanSearch'\n",
       "181. 'treebag'\n",
       "182. 'vbmpRadial'\n",
       "183. 'vglmAdjCat'\n",
       "184. 'vglmContRatio'\n",
       "185. 'vglmCumulative'\n",
       "186. 'widekernelpls'\n",
       "187. 'wsrf'\n",
       "188. 'xgbDART'\n",
       "189. 'xgbLinear'\n",
       "190. 'xgbTree'\n",
       "191. 'xyf'\n",
       "\n",
       "\n"
      ],
      "text/plain": [
       "  [1] \"ada\"                 \"AdaBag\"              \"adaboost\"           \n",
       "  [4] \"AdaBoost.M1\"         \"amdai\"               \"avNNet\"             \n",
       "  [7] \"awnb\"                \"awtan\"               \"bag\"                \n",
       " [10] \"bagEarth\"            \"bagEarthGCV\"         \"bagFDA\"             \n",
       " [13] \"bagFDAGCV\"           \"bam\"                 \"bartMachine\"        \n",
       " [16] \"bayesglm\"            \"binda\"               \"blackboost\"         \n",
       " [19] \"BstLm\"               \"bstSm\"               \"bstTree\"            \n",
       " [22] \"C5.0\"                \"C5.0Cost\"            \"C5.0Rules\"          \n",
       " [25] \"C5.0Tree\"            \"cforest\"             \"chaid\"              \n",
       " [28] \"CSimca\"              \"ctree\"               \"ctree2\"             \n",
       " [31] \"dda\"                 \"deepboost\"           \"dnn\"                \n",
       " [34] \"dwdLinear\"           \"dwdPoly\"             \"dwdRadial\"          \n",
       " [37] \"earth\"               \"elm\"                 \"evtree\"             \n",
       " [40] \"extraTrees\"          \"fda\"                 \"FH.GBML\"            \n",
       " [43] \"FRBCS.CHI\"           \"FRBCS.W\"             \"gam\"                \n",
       " [46] \"gamboost\"            \"gamLoess\"            \"gamSpline\"          \n",
       " [49] \"gaussprLinear\"       \"gaussprPoly\"         \"gaussprRadial\"      \n",
       " [52] \"gbm\"                 \"gbm_h2o\"             \"gcvEarth\"           \n",
       " [55] \"glm\"                 \"glmboost\"            \"glmnet\"             \n",
       " [58] \"glmnet_h2o\"          \"glmStepAIC\"          \"gpls\"               \n",
       " [61] \"hda\"                 \"hdda\"                \"hdrda\"              \n",
       " [64] \"J48\"                 \"JRip\"                \"kernelpls\"          \n",
       " [67] \"kknn\"                \"knn\"                 \"lda\"                \n",
       " [70] \"lda2\"                \"Linda\"               \"LMT\"                \n",
       " [73] \"loclda\"              \"logicBag\"            \"LogitBoost\"         \n",
       " [76] \"logreg\"              \"lssvmLinear\"         \"lssvmPoly\"          \n",
       " [79] \"lssvmRadial\"         \"lvq\"                 \"manb\"               \n",
       " [82] \"mda\"                 \"Mlda\"                \"mlp\"                \n",
       " [85] \"mlpKerasDecay\"       \"mlpKerasDecayCost\"   \"mlpKerasDropout\"    \n",
       " [88] \"mlpKerasDropoutCost\" \"mlpML\"               \"mlpSGD\"             \n",
       " [91] \"mlpWeightDecay\"      \"mlpWeightDecayML\"    \"monmlp\"             \n",
       " [94] \"msaenet\"             \"multinom\"            \"mxnet\"              \n",
       " [97] \"mxnetAdam\"           \"naive_bayes\"         \"nb\"                 \n",
       "[100] \"nbDiscrete\"          \"nbSearch\"            \"nnet\"               \n",
       "[103] \"nodeHarvest\"         \"null\"                \"OneR\"               \n",
       "[106] \"ordinalNet\"          \"ordinalRF\"           \"ORFlog\"             \n",
       "[109] \"ORFpls\"              \"ORFridge\"            \"ORFsvm\"             \n",
       "[112] \"ownn\"                \"pam\"                 \"parRF\"              \n",
       "[115] \"PART\"                \"partDSA\"             \"pcaNNet\"            \n",
       "[118] \"pda\"                 \"pda2\"                \"PenalizedLDA\"       \n",
       "[121] \"plr\"                 \"pls\"                 \"plsRglm\"            \n",
       "[124] \"polr\"                \"pre\"                 \"PRIM\"               \n",
       "[127] \"protoclass\"          \"qda\"                 \"QdaCov\"             \n",
       "[130] \"randomGLM\"           \"ranger\"              \"rbf\"                \n",
       "[133] \"rbfDDA\"              \"Rborist\"             \"rda\"                \n",
       "[136] \"regLogistic\"         \"rf\"                  \"rFerns\"             \n",
       "[139] \"RFlda\"               \"rfRules\"             \"rlda\"               \n",
       "[142] \"rmda\"                \"rocc\"                \"rotationForest\"     \n",
       "[145] \"rotationForestCp\"    \"rpart\"               \"rpart1SE\"           \n",
       "[148] \"rpart2\"              \"rpartCost\"           \"rpartScore\"         \n",
       "[151] \"RRF\"                 \"RRFglobal\"           \"rrlda\"              \n",
       "[154] \"RSimca\"              \"sda\"                 \"sdwd\"               \n",
       "[157] \"simpls\"              \"SLAVE\"               \"slda\"               \n",
       "[160] \"smda\"                \"snn\"                 \"sparseLDA\"          \n",
       "[163] \"spls\"                \"stepLDA\"             \"stepQDA\"            \n",
       "[166] \"svmBoundrangeString\" \"svmExpoString\"       \"svmLinear\"          \n",
       "[169] \"svmLinear2\"          \"svmLinear3\"          \"svmLinearWeights\"   \n",
       "[172] \"svmLinearWeights2\"   \"svmPoly\"             \"svmRadial\"          \n",
       "[175] \"svmRadialCost\"       \"svmRadialSigma\"      \"svmRadialWeights\"   \n",
       "[178] \"svmSpectrumString\"   \"tan\"                 \"tanSearch\"          \n",
       "[181] \"treebag\"             \"vbmpRadial\"          \"vglmAdjCat\"         \n",
       "[184] \"vglmContRatio\"       \"vglmCumulative\"      \"widekernelpls\"      \n",
       "[187] \"wsrf\"                \"xgbDART\"             \"xgbLinear\"          \n",
       "[190] \"xgbTree\"             \"xyf\"                "
      ]
     },
     "metadata": {},
     "output_type": "display_data"
    },
    {
     "data": {
      "text/html": [
       "187"
      ],
      "text/latex": [
       "187"
      ],
      "text/markdown": [
       "187"
      ],
      "text/plain": [
       "[1] 187"
      ]
     },
     "metadata": {},
     "output_type": "display_data"
    },
    {
     "data": {
      "text/html": [
       "<style>\n",
       ".list-inline {list-style: none; margin:0; padding: 0}\n",
       ".list-inline>li {display: inline-block}\n",
       ".list-inline>li:not(:last-child)::after {content: \"\\00b7\"; padding: 0 .5ex}\n",
       "</style>\n",
       "<ol class=list-inline><li>'ada'</li><li>'AdaBag'</li><li>'adaboost'</li><li>'AdaBoost.M1'</li><li>'amdai'</li><li>'avNNet'</li><li>'awnb'</li><li>'awtan'</li><li>'bag'</li><li>'bagEarth'</li><li>'bagEarthGCV'</li><li>'bagFDA'</li><li>'bagFDAGCV'</li><li>'bam'</li><li>'bartMachine'</li><li>'bayesglm'</li><li>'binda'</li><li>'blackboost'</li><li>'BstLm'</li><li>'bstSm'</li><li>'bstTree'</li><li>'C5.0'</li><li>'C5.0Cost'</li><li>'C5.0Rules'</li><li>'C5.0Tree'</li><li>'cforest'</li><li>'chaid'</li><li>'CSimca'</li><li>'ctree'</li><li>'ctree2'</li><li>'dda'</li><li>'deepboost'</li><li>'dnn'</li><li>'dwdLinear'</li><li>'dwdPoly'</li><li>'dwdRadial'</li><li>'earth'</li><li>'elm'</li><li>'evtree'</li><li>'extraTrees'</li><li>'fda'</li><li>'FH.GBML'</li><li>'FRBCS.CHI'</li><li>'FRBCS.W'</li><li>'gam'</li><li>'gaussprPoly'</li><li>'gaussprRadial'</li><li>'gbm'</li><li>'gbm_h2o'</li><li>'gcvEarth'</li><li>'glm'</li><li>'glmboost'</li><li>'glmnet'</li><li>'glmnet_h2o'</li><li>'glmStepAIC'</li><li>'gpls'</li><li>'hda'</li><li>'hdda'</li><li>'hdrda'</li><li>'J48'</li><li>'JRip'</li><li>'kernelpls'</li><li>'kknn'</li><li>'knn'</li><li>'lda'</li><li>'lda2'</li><li>'Linda'</li><li>'LMT'</li><li>'loclda'</li><li>'logicBag'</li><li>'LogitBoost'</li><li>'logreg'</li><li>'lssvmLinear'</li><li>'lssvmPoly'</li><li>'lssvmRadial'</li><li>'lvq'</li><li>'manb'</li><li>'mda'</li><li>'Mlda'</li><li>'mlp'</li><li>'mlpKerasDecay'</li><li>'mlpKerasDecayCost'</li><li>'mlpKerasDropout'</li><li>'mlpKerasDropoutCost'</li><li>'mlpML'</li><li>'mlpSGD'</li><li>'mlpWeightDecay'</li><li>'mlpWeightDecayML'</li><li>'monmlp'</li><li>'msaenet'</li><li>'multinom'</li><li>'mxnet'</li><li>'mxnetAdam'</li><li>'naive_bayes'</li><li>'nb'</li><li>'nbDiscrete'</li><li>'nbSearch'</li><li>'nnet'</li><li>'nodeHarvest'</li><li>'null'</li><li>'OneR'</li><li>'ordinalNet'</li><li>'ordinalRF'</li><li>'ORFlog'</li><li>'ORFpls'</li><li>'ORFridge'</li><li>'ORFsvm'</li><li>'ownn'</li><li>'pam'</li><li>'parRF'</li><li>'PART'</li><li>'partDSA'</li><li>'pcaNNet'</li><li>'pda'</li><li>'pda2'</li><li>'PenalizedLDA'</li><li>'plr'</li><li>'pls'</li><li>'plsRglm'</li><li>'polr'</li><li>'pre'</li><li>'PRIM'</li><li>'protoclass'</li><li>'qda'</li><li>'QdaCov'</li><li>'randomGLM'</li><li>'ranger'</li><li>'rbf'</li><li>'rbfDDA'</li><li>'Rborist'</li><li>'rda'</li><li>'regLogistic'</li><li>'rf'</li><li>'rFerns'</li><li>'RFlda'</li><li>'rfRules'</li><li>'rlda'</li><li>'rmda'</li><li>'rocc'</li><li>'rotationForest'</li><li>'rotationForestCp'</li><li>'rpart'</li><li>'rpart1SE'</li><li>'rpart2'</li><li>'rpartCost'</li><li>'rpartScore'</li><li>'RRF'</li><li>'RRFglobal'</li><li>'rrlda'</li><li>'RSimca'</li><li>'sda'</li><li>'sdwd'</li><li>'simpls'</li><li>'SLAVE'</li><li>'slda'</li><li>'smda'</li><li>'snn'</li><li>'sparseLDA'</li><li>'spls'</li><li>'stepLDA'</li><li>'stepQDA'</li><li>'svmBoundrangeString'</li><li>'svmExpoString'</li><li>'svmLinear'</li><li>'svmLinear2'</li><li>'svmLinear3'</li><li>'svmLinearWeights'</li><li>'svmLinearWeights2'</li><li>'svmPoly'</li><li>'svmRadial'</li><li>'svmRadialCost'</li><li>'svmRadialSigma'</li><li>'svmRadialWeights'</li><li>'svmSpectrumString'</li><li>'tan'</li><li>'tanSearch'</li><li>'treebag'</li><li>'vbmpRadial'</li><li>'vglmAdjCat'</li><li>'vglmContRatio'</li><li>'vglmCumulative'</li><li>'widekernelpls'</li><li>'wsrf'</li><li>'xgbDART'</li><li>'xgbLinear'</li><li>'xgbTree'</li><li>'xyf'</li></ol>\n"
      ],
      "text/latex": [
       "\\begin{enumerate*}\n",
       "\\item 'ada'\n",
       "\\item 'AdaBag'\n",
       "\\item 'adaboost'\n",
       "\\item 'AdaBoost.M1'\n",
       "\\item 'amdai'\n",
       "\\item 'avNNet'\n",
       "\\item 'awnb'\n",
       "\\item 'awtan'\n",
       "\\item 'bag'\n",
       "\\item 'bagEarth'\n",
       "\\item 'bagEarthGCV'\n",
       "\\item 'bagFDA'\n",
       "\\item 'bagFDAGCV'\n",
       "\\item 'bam'\n",
       "\\item 'bartMachine'\n",
       "\\item 'bayesglm'\n",
       "\\item 'binda'\n",
       "\\item 'blackboost'\n",
       "\\item 'BstLm'\n",
       "\\item 'bstSm'\n",
       "\\item 'bstTree'\n",
       "\\item 'C5.0'\n",
       "\\item 'C5.0Cost'\n",
       "\\item 'C5.0Rules'\n",
       "\\item 'C5.0Tree'\n",
       "\\item 'cforest'\n",
       "\\item 'chaid'\n",
       "\\item 'CSimca'\n",
       "\\item 'ctree'\n",
       "\\item 'ctree2'\n",
       "\\item 'dda'\n",
       "\\item 'deepboost'\n",
       "\\item 'dnn'\n",
       "\\item 'dwdLinear'\n",
       "\\item 'dwdPoly'\n",
       "\\item 'dwdRadial'\n",
       "\\item 'earth'\n",
       "\\item 'elm'\n",
       "\\item 'evtree'\n",
       "\\item 'extraTrees'\n",
       "\\item 'fda'\n",
       "\\item 'FH.GBML'\n",
       "\\item 'FRBCS.CHI'\n",
       "\\item 'FRBCS.W'\n",
       "\\item 'gam'\n",
       "\\item 'gaussprPoly'\n",
       "\\item 'gaussprRadial'\n",
       "\\item 'gbm'\n",
       "\\item 'gbm\\_h2o'\n",
       "\\item 'gcvEarth'\n",
       "\\item 'glm'\n",
       "\\item 'glmboost'\n",
       "\\item 'glmnet'\n",
       "\\item 'glmnet\\_h2o'\n",
       "\\item 'glmStepAIC'\n",
       "\\item 'gpls'\n",
       "\\item 'hda'\n",
       "\\item 'hdda'\n",
       "\\item 'hdrda'\n",
       "\\item 'J48'\n",
       "\\item 'JRip'\n",
       "\\item 'kernelpls'\n",
       "\\item 'kknn'\n",
       "\\item 'knn'\n",
       "\\item 'lda'\n",
       "\\item 'lda2'\n",
       "\\item 'Linda'\n",
       "\\item 'LMT'\n",
       "\\item 'loclda'\n",
       "\\item 'logicBag'\n",
       "\\item 'LogitBoost'\n",
       "\\item 'logreg'\n",
       "\\item 'lssvmLinear'\n",
       "\\item 'lssvmPoly'\n",
       "\\item 'lssvmRadial'\n",
       "\\item 'lvq'\n",
       "\\item 'manb'\n",
       "\\item 'mda'\n",
       "\\item 'Mlda'\n",
       "\\item 'mlp'\n",
       "\\item 'mlpKerasDecay'\n",
       "\\item 'mlpKerasDecayCost'\n",
       "\\item 'mlpKerasDropout'\n",
       "\\item 'mlpKerasDropoutCost'\n",
       "\\item 'mlpML'\n",
       "\\item 'mlpSGD'\n",
       "\\item 'mlpWeightDecay'\n",
       "\\item 'mlpWeightDecayML'\n",
       "\\item 'monmlp'\n",
       "\\item 'msaenet'\n",
       "\\item 'multinom'\n",
       "\\item 'mxnet'\n",
       "\\item 'mxnetAdam'\n",
       "\\item 'naive\\_bayes'\n",
       "\\item 'nb'\n",
       "\\item 'nbDiscrete'\n",
       "\\item 'nbSearch'\n",
       "\\item 'nnet'\n",
       "\\item 'nodeHarvest'\n",
       "\\item 'null'\n",
       "\\item 'OneR'\n",
       "\\item 'ordinalNet'\n",
       "\\item 'ordinalRF'\n",
       "\\item 'ORFlog'\n",
       "\\item 'ORFpls'\n",
       "\\item 'ORFridge'\n",
       "\\item 'ORFsvm'\n",
       "\\item 'ownn'\n",
       "\\item 'pam'\n",
       "\\item 'parRF'\n",
       "\\item 'PART'\n",
       "\\item 'partDSA'\n",
       "\\item 'pcaNNet'\n",
       "\\item 'pda'\n",
       "\\item 'pda2'\n",
       "\\item 'PenalizedLDA'\n",
       "\\item 'plr'\n",
       "\\item 'pls'\n",
       "\\item 'plsRglm'\n",
       "\\item 'polr'\n",
       "\\item 'pre'\n",
       "\\item 'PRIM'\n",
       "\\item 'protoclass'\n",
       "\\item 'qda'\n",
       "\\item 'QdaCov'\n",
       "\\item 'randomGLM'\n",
       "\\item 'ranger'\n",
       "\\item 'rbf'\n",
       "\\item 'rbfDDA'\n",
       "\\item 'Rborist'\n",
       "\\item 'rda'\n",
       "\\item 'regLogistic'\n",
       "\\item 'rf'\n",
       "\\item 'rFerns'\n",
       "\\item 'RFlda'\n",
       "\\item 'rfRules'\n",
       "\\item 'rlda'\n",
       "\\item 'rmda'\n",
       "\\item 'rocc'\n",
       "\\item 'rotationForest'\n",
       "\\item 'rotationForestCp'\n",
       "\\item 'rpart'\n",
       "\\item 'rpart1SE'\n",
       "\\item 'rpart2'\n",
       "\\item 'rpartCost'\n",
       "\\item 'rpartScore'\n",
       "\\item 'RRF'\n",
       "\\item 'RRFglobal'\n",
       "\\item 'rrlda'\n",
       "\\item 'RSimca'\n",
       "\\item 'sda'\n",
       "\\item 'sdwd'\n",
       "\\item 'simpls'\n",
       "\\item 'SLAVE'\n",
       "\\item 'slda'\n",
       "\\item 'smda'\n",
       "\\item 'snn'\n",
       "\\item 'sparseLDA'\n",
       "\\item 'spls'\n",
       "\\item 'stepLDA'\n",
       "\\item 'stepQDA'\n",
       "\\item 'svmBoundrangeString'\n",
       "\\item 'svmExpoString'\n",
       "\\item 'svmLinear'\n",
       "\\item 'svmLinear2'\n",
       "\\item 'svmLinear3'\n",
       "\\item 'svmLinearWeights'\n",
       "\\item 'svmLinearWeights2'\n",
       "\\item 'svmPoly'\n",
       "\\item 'svmRadial'\n",
       "\\item 'svmRadialCost'\n",
       "\\item 'svmRadialSigma'\n",
       "\\item 'svmRadialWeights'\n",
       "\\item 'svmSpectrumString'\n",
       "\\item 'tan'\n",
       "\\item 'tanSearch'\n",
       "\\item 'treebag'\n",
       "\\item 'vbmpRadial'\n",
       "\\item 'vglmAdjCat'\n",
       "\\item 'vglmContRatio'\n",
       "\\item 'vglmCumulative'\n",
       "\\item 'widekernelpls'\n",
       "\\item 'wsrf'\n",
       "\\item 'xgbDART'\n",
       "\\item 'xgbLinear'\n",
       "\\item 'xgbTree'\n",
       "\\item 'xyf'\n",
       "\\end{enumerate*}\n"
      ],
      "text/markdown": [
       "1. 'ada'\n",
       "2. 'AdaBag'\n",
       "3. 'adaboost'\n",
       "4. 'AdaBoost.M1'\n",
       "5. 'amdai'\n",
       "6. 'avNNet'\n",
       "7. 'awnb'\n",
       "8. 'awtan'\n",
       "9. 'bag'\n",
       "10. 'bagEarth'\n",
       "11. 'bagEarthGCV'\n",
       "12. 'bagFDA'\n",
       "13. 'bagFDAGCV'\n",
       "14. 'bam'\n",
       "15. 'bartMachine'\n",
       "16. 'bayesglm'\n",
       "17. 'binda'\n",
       "18. 'blackboost'\n",
       "19. 'BstLm'\n",
       "20. 'bstSm'\n",
       "21. 'bstTree'\n",
       "22. 'C5.0'\n",
       "23. 'C5.0Cost'\n",
       "24. 'C5.0Rules'\n",
       "25. 'C5.0Tree'\n",
       "26. 'cforest'\n",
       "27. 'chaid'\n",
       "28. 'CSimca'\n",
       "29. 'ctree'\n",
       "30. 'ctree2'\n",
       "31. 'dda'\n",
       "32. 'deepboost'\n",
       "33. 'dnn'\n",
       "34. 'dwdLinear'\n",
       "35. 'dwdPoly'\n",
       "36. 'dwdRadial'\n",
       "37. 'earth'\n",
       "38. 'elm'\n",
       "39. 'evtree'\n",
       "40. 'extraTrees'\n",
       "41. 'fda'\n",
       "42. 'FH.GBML'\n",
       "43. 'FRBCS.CHI'\n",
       "44. 'FRBCS.W'\n",
       "45. 'gam'\n",
       "46. 'gaussprPoly'\n",
       "47. 'gaussprRadial'\n",
       "48. 'gbm'\n",
       "49. 'gbm_h2o'\n",
       "50. 'gcvEarth'\n",
       "51. 'glm'\n",
       "52. 'glmboost'\n",
       "53. 'glmnet'\n",
       "54. 'glmnet_h2o'\n",
       "55. 'glmStepAIC'\n",
       "56. 'gpls'\n",
       "57. 'hda'\n",
       "58. 'hdda'\n",
       "59. 'hdrda'\n",
       "60. 'J48'\n",
       "61. 'JRip'\n",
       "62. 'kernelpls'\n",
       "63. 'kknn'\n",
       "64. 'knn'\n",
       "65. 'lda'\n",
       "66. 'lda2'\n",
       "67. 'Linda'\n",
       "68. 'LMT'\n",
       "69. 'loclda'\n",
       "70. 'logicBag'\n",
       "71. 'LogitBoost'\n",
       "72. 'logreg'\n",
       "73. 'lssvmLinear'\n",
       "74. 'lssvmPoly'\n",
       "75. 'lssvmRadial'\n",
       "76. 'lvq'\n",
       "77. 'manb'\n",
       "78. 'mda'\n",
       "79. 'Mlda'\n",
       "80. 'mlp'\n",
       "81. 'mlpKerasDecay'\n",
       "82. 'mlpKerasDecayCost'\n",
       "83. 'mlpKerasDropout'\n",
       "84. 'mlpKerasDropoutCost'\n",
       "85. 'mlpML'\n",
       "86. 'mlpSGD'\n",
       "87. 'mlpWeightDecay'\n",
       "88. 'mlpWeightDecayML'\n",
       "89. 'monmlp'\n",
       "90. 'msaenet'\n",
       "91. 'multinom'\n",
       "92. 'mxnet'\n",
       "93. 'mxnetAdam'\n",
       "94. 'naive_bayes'\n",
       "95. 'nb'\n",
       "96. 'nbDiscrete'\n",
       "97. 'nbSearch'\n",
       "98. 'nnet'\n",
       "99. 'nodeHarvest'\n",
       "100. 'null'\n",
       "101. 'OneR'\n",
       "102. 'ordinalNet'\n",
       "103. 'ordinalRF'\n",
       "104. 'ORFlog'\n",
       "105. 'ORFpls'\n",
       "106. 'ORFridge'\n",
       "107. 'ORFsvm'\n",
       "108. 'ownn'\n",
       "109. 'pam'\n",
       "110. 'parRF'\n",
       "111. 'PART'\n",
       "112. 'partDSA'\n",
       "113. 'pcaNNet'\n",
       "114. 'pda'\n",
       "115. 'pda2'\n",
       "116. 'PenalizedLDA'\n",
       "117. 'plr'\n",
       "118. 'pls'\n",
       "119. 'plsRglm'\n",
       "120. 'polr'\n",
       "121. 'pre'\n",
       "122. 'PRIM'\n",
       "123. 'protoclass'\n",
       "124. 'qda'\n",
       "125. 'QdaCov'\n",
       "126. 'randomGLM'\n",
       "127. 'ranger'\n",
       "128. 'rbf'\n",
       "129. 'rbfDDA'\n",
       "130. 'Rborist'\n",
       "131. 'rda'\n",
       "132. 'regLogistic'\n",
       "133. 'rf'\n",
       "134. 'rFerns'\n",
       "135. 'RFlda'\n",
       "136. 'rfRules'\n",
       "137. 'rlda'\n",
       "138. 'rmda'\n",
       "139. 'rocc'\n",
       "140. 'rotationForest'\n",
       "141. 'rotationForestCp'\n",
       "142. 'rpart'\n",
       "143. 'rpart1SE'\n",
       "144. 'rpart2'\n",
       "145. 'rpartCost'\n",
       "146. 'rpartScore'\n",
       "147. 'RRF'\n",
       "148. 'RRFglobal'\n",
       "149. 'rrlda'\n",
       "150. 'RSimca'\n",
       "151. 'sda'\n",
       "152. 'sdwd'\n",
       "153. 'simpls'\n",
       "154. 'SLAVE'\n",
       "155. 'slda'\n",
       "156. 'smda'\n",
       "157. 'snn'\n",
       "158. 'sparseLDA'\n",
       "159. 'spls'\n",
       "160. 'stepLDA'\n",
       "161. 'stepQDA'\n",
       "162. 'svmBoundrangeString'\n",
       "163. 'svmExpoString'\n",
       "164. 'svmLinear'\n",
       "165. 'svmLinear2'\n",
       "166. 'svmLinear3'\n",
       "167. 'svmLinearWeights'\n",
       "168. 'svmLinearWeights2'\n",
       "169. 'svmPoly'\n",
       "170. 'svmRadial'\n",
       "171. 'svmRadialCost'\n",
       "172. 'svmRadialSigma'\n",
       "173. 'svmRadialWeights'\n",
       "174. 'svmSpectrumString'\n",
       "175. 'tan'\n",
       "176. 'tanSearch'\n",
       "177. 'treebag'\n",
       "178. 'vbmpRadial'\n",
       "179. 'vglmAdjCat'\n",
       "180. 'vglmContRatio'\n",
       "181. 'vglmCumulative'\n",
       "182. 'widekernelpls'\n",
       "183. 'wsrf'\n",
       "184. 'xgbDART'\n",
       "185. 'xgbLinear'\n",
       "186. 'xgbTree'\n",
       "187. 'xyf'\n",
       "\n",
       "\n"
      ],
      "text/plain": [
       "  [1] \"ada\"                 \"AdaBag\"              \"adaboost\"           \n",
       "  [4] \"AdaBoost.M1\"         \"amdai\"               \"avNNet\"             \n",
       "  [7] \"awnb\"                \"awtan\"               \"bag\"                \n",
       " [10] \"bagEarth\"            \"bagEarthGCV\"         \"bagFDA\"             \n",
       " [13] \"bagFDAGCV\"           \"bam\"                 \"bartMachine\"        \n",
       " [16] \"bayesglm\"            \"binda\"               \"blackboost\"         \n",
       " [19] \"BstLm\"               \"bstSm\"               \"bstTree\"            \n",
       " [22] \"C5.0\"                \"C5.0Cost\"            \"C5.0Rules\"          \n",
       " [25] \"C5.0Tree\"            \"cforest\"             \"chaid\"              \n",
       " [28] \"CSimca\"              \"ctree\"               \"ctree2\"             \n",
       " [31] \"dda\"                 \"deepboost\"           \"dnn\"                \n",
       " [34] \"dwdLinear\"           \"dwdPoly\"             \"dwdRadial\"          \n",
       " [37] \"earth\"               \"elm\"                 \"evtree\"             \n",
       " [40] \"extraTrees\"          \"fda\"                 \"FH.GBML\"            \n",
       " [43] \"FRBCS.CHI\"           \"FRBCS.W\"             \"gam\"                \n",
       " [46] \"gaussprPoly\"         \"gaussprRadial\"       \"gbm\"                \n",
       " [49] \"gbm_h2o\"             \"gcvEarth\"            \"glm\"                \n",
       " [52] \"glmboost\"            \"glmnet\"              \"glmnet_h2o\"         \n",
       " [55] \"glmStepAIC\"          \"gpls\"                \"hda\"                \n",
       " [58] \"hdda\"                \"hdrda\"               \"J48\"                \n",
       " [61] \"JRip\"                \"kernelpls\"           \"kknn\"               \n",
       " [64] \"knn\"                 \"lda\"                 \"lda2\"               \n",
       " [67] \"Linda\"               \"LMT\"                 \"loclda\"             \n",
       " [70] \"logicBag\"            \"LogitBoost\"          \"logreg\"             \n",
       " [73] \"lssvmLinear\"         \"lssvmPoly\"           \"lssvmRadial\"        \n",
       " [76] \"lvq\"                 \"manb\"                \"mda\"                \n",
       " [79] \"Mlda\"                \"mlp\"                 \"mlpKerasDecay\"      \n",
       " [82] \"mlpKerasDecayCost\"   \"mlpKerasDropout\"     \"mlpKerasDropoutCost\"\n",
       " [85] \"mlpML\"               \"mlpSGD\"              \"mlpWeightDecay\"     \n",
       " [88] \"mlpWeightDecayML\"    \"monmlp\"              \"msaenet\"            \n",
       " [91] \"multinom\"            \"mxnet\"               \"mxnetAdam\"          \n",
       " [94] \"naive_bayes\"         \"nb\"                  \"nbDiscrete\"         \n",
       " [97] \"nbSearch\"            \"nnet\"                \"nodeHarvest\"        \n",
       "[100] \"null\"                \"OneR\"                \"ordinalNet\"         \n",
       "[103] \"ordinalRF\"           \"ORFlog\"              \"ORFpls\"             \n",
       "[106] \"ORFridge\"            \"ORFsvm\"              \"ownn\"               \n",
       "[109] \"pam\"                 \"parRF\"               \"PART\"               \n",
       "[112] \"partDSA\"             \"pcaNNet\"             \"pda\"                \n",
       "[115] \"pda2\"                \"PenalizedLDA\"        \"plr\"                \n",
       "[118] \"pls\"                 \"plsRglm\"             \"polr\"               \n",
       "[121] \"pre\"                 \"PRIM\"                \"protoclass\"         \n",
       "[124] \"qda\"                 \"QdaCov\"              \"randomGLM\"          \n",
       "[127] \"ranger\"              \"rbf\"                 \"rbfDDA\"             \n",
       "[130] \"Rborist\"             \"rda\"                 \"regLogistic\"        \n",
       "[133] \"rf\"                  \"rFerns\"              \"RFlda\"              \n",
       "[136] \"rfRules\"             \"rlda\"                \"rmda\"               \n",
       "[139] \"rocc\"                \"rotationForest\"      \"rotationForestCp\"   \n",
       "[142] \"rpart\"               \"rpart1SE\"            \"rpart2\"             \n",
       "[145] \"rpartCost\"           \"rpartScore\"          \"RRF\"                \n",
       "[148] \"RRFglobal\"           \"rrlda\"               \"RSimca\"             \n",
       "[151] \"sda\"                 \"sdwd\"                \"simpls\"             \n",
       "[154] \"SLAVE\"               \"slda\"                \"smda\"               \n",
       "[157] \"snn\"                 \"sparseLDA\"           \"spls\"               \n",
       "[160] \"stepLDA\"             \"stepQDA\"             \"svmBoundrangeString\"\n",
       "[163] \"svmExpoString\"       \"svmLinear\"           \"svmLinear2\"         \n",
       "[166] \"svmLinear3\"          \"svmLinearWeights\"    \"svmLinearWeights2\"  \n",
       "[169] \"svmPoly\"             \"svmRadial\"           \"svmRadialCost\"      \n",
       "[172] \"svmRadialSigma\"      \"svmRadialWeights\"    \"svmSpectrumString\"  \n",
       "[175] \"tan\"                 \"tanSearch\"           \"treebag\"            \n",
       "[178] \"vbmpRadial\"          \"vglmAdjCat\"          \"vglmContRatio\"      \n",
       "[181] \"vglmCumulative\"      \"widekernelpls\"       \"wsrf\"               \n",
       "[184] \"xgbDART\"             \"xgbLinear\"           \"xgbTree\"            \n",
       "[187] \"xyf\"                "
      ]
     },
     "metadata": {},
     "output_type": "display_data"
    }
   ],
   "source": [
    "modellist2=unique(unlist(model_caret_forclass$model))\n",
    "#modellist2=as.data.frame(modellist2)\n",
    "modellist2\n",
    "modellist1=modellist2[-c(46:49)]\n",
    "AUC_train1=array(0,length(modellist1))\n",
    "AUC_test1=array(0,length(modellist1))\n",
    "length(modellist1)\n",
    "modellist1"
   ]
  },
  {
   "cell_type": "code",
   "execution_count": null,
   "id": "f39b6b8a",
   "metadata": {
    "scrolled": true
   },
   "outputs": [
    {
     "name": "stdout",
     "output_type": "stream",
     "text": [
      "Running method: ada \n",
      "Aggregating results\n",
      "Selecting tuning parameters\n",
      "Fitting iter = 403, maxdepth = 10, nu = 0.205 on full training set\n"
     ]
    },
    {
     "name": "stderr",
     "output_type": "stream",
     "text": [
      "Setting direction: controls < cases\n",
      "\n",
      "Setting direction: controls < cases\n",
      "\n"
     ]
    },
    {
     "name": "stdout",
     "output_type": "stream",
     "text": [
      "Completed running Model 1 ( ada ) of 187 \n",
      "Completed Running method: ada ---AUC_Train: 1 ---AUC_Test: 0.8274875 \n",
      "Running method: AdaBag \n",
      "Aggregating results\n",
      "Selecting tuning parameters\n",
      "Fitting mfinal = 55, maxdepth = 2 on full training set\n"
     ]
    },
    {
     "name": "stderr",
     "output_type": "stream",
     "text": [
      "Setting direction: controls < cases\n",
      "\n",
      "Setting direction: controls < cases\n",
      "\n"
     ]
    },
    {
     "name": "stdout",
     "output_type": "stream",
     "text": [
      "Completed running Model 2 ( AdaBag ) of 187 \n",
      "Completed Running method: AdaBag ---AUC_Train: 0.841115 ---AUC_Test: 0.8171081 \n",
      "Running method: adaboost \n",
      "Running method: AdaBoost.M1 \n",
      "Aggregating results\n",
      "Selecting tuning parameters\n",
      "Fitting mfinal = 57, maxdepth = 8, coeflearn = Breiman on full training set\n"
     ]
    },
    {
     "name": "stderr",
     "output_type": "stream",
     "text": [
      "Setting direction: controls < cases\n",
      "\n",
      "Setting direction: controls < cases\n",
      "\n"
     ]
    },
    {
     "name": "stdout",
     "output_type": "stream",
     "text": [
      "Completed running Model 4 ( AdaBoost.M1 ) of 187 \n",
      "Completed Running method: AdaBoost.M1 ---AUC_Train: 1 ---AUC_Test: 0.8661417 \n",
      "Running method: amdai \n",
      "Running method: avNNet \n",
      "Aggregating results\n",
      "Selecting tuning parameters\n",
      "Fitting size = 19, decay = 0.535, bag = TRUE on full training set\n"
     ]
    },
    {
     "name": "stderr",
     "output_type": "stream",
     "text": [
      "Setting direction: controls < cases\n",
      "\n",
      "Setting direction: controls < cases\n",
      "\n"
     ]
    },
    {
     "name": "stdout",
     "output_type": "stream",
     "text": [
      "Completed running Model 6 ( avNNet ) of 187 \n",
      "Completed Running method: avNNet ---AUC_Train: 0.8270619 ---AUC_Test: 0.9026485 \n",
      "Running method: awnb \n"
     ]
    },
    {
     "name": "stderr",
     "output_type": "stream",
     "text": [
      "Warning message in nominalTrainWorkflow(x = x, y = y, wts = weights, info = trainInfo, :\n",
      "\"There were missing values in resampled performance measures.\"\n"
     ]
    },
    {
     "name": "stdout",
     "output_type": "stream",
     "text": [
      "Aggregating results\n",
      "Something is wrong; all the ROC metric values are missing:\n",
      "      ROC           Sens          Spec    \n",
      " Min.   : NA   Min.   : NA   Min.   : NA  \n",
      " 1st Qu.: NA   1st Qu.: NA   1st Qu.: NA  \n",
      " Median : NA   Median : NA   Median : NA  \n",
      " Mean   :NaN   Mean   :NaN   Mean   :NaN  \n",
      " 3rd Qu.: NA   3rd Qu.: NA   3rd Qu.: NA  \n",
      " Max.   : NA   Max.   : NA   Max.   : NA  \n",
      " NA's   :3     NA's   :3     NA's   :3    \n",
      "Running method: awtan \n"
     ]
    },
    {
     "name": "stderr",
     "output_type": "stream",
     "text": [
      "載入需要的命名空間：kohonen\n",
      "\n",
      "Warning message in nominalTrainWorkflow(x = x, y = y, wts = weights, info = trainInfo, :\n",
      "\"There were missing values in resampled performance measures.\"\n"
     ]
    },
    {
     "name": "stdout",
     "output_type": "stream",
     "text": [
      "Aggregating results\n",
      "Something is wrong; all the ROC metric values are missing:\n",
      "      ROC           Sens          Spec    \n",
      " Min.   : NA   Min.   : NA   Min.   : NA  \n",
      " 1st Qu.: NA   1st Qu.: NA   1st Qu.: NA  \n",
      " Median : NA   Median : NA   Median : NA  \n",
      " Mean   :NaN   Mean   :NaN   Mean   :NaN  \n",
      " 3rd Qu.: NA   3rd Qu.: NA   3rd Qu.: NA  \n",
      " Max.   : NA   Max.   : NA   Max.   : NA  \n",
      " NA's   :6     NA's   :6     NA's   :6    \n",
      "Running method: bag \n"
     ]
    },
    {
     "name": "stderr",
     "output_type": "stream",
     "text": [
      "Warning message in nominalTrainWorkflow(x = x, y = y, wts = weights, info = trainInfo, :\n",
      "\"There were missing values in resampled performance measures.\"\n"
     ]
    },
    {
     "name": "stdout",
     "output_type": "stream",
     "text": [
      "Aggregating results\n",
      "Something is wrong; all the ROC metric values are missing:\n",
      "      ROC           Sens          Spec    \n",
      " Min.   : NA   Min.   : NA   Min.   : NA  \n",
      " 1st Qu.: NA   1st Qu.: NA   1st Qu.: NA  \n",
      " Median : NA   Median : NA   Median : NA  \n",
      " Mean   :NaN   Mean   :NaN   Mean   :NaN  \n",
      " 3rd Qu.: NA   3rd Qu.: NA   3rd Qu.: NA  \n",
      " Max.   : NA   Max.   : NA   Max.   : NA  \n",
      " NA's   :1     NA's   :1     NA's   :1    \n",
      "Running method: bagEarth \n",
      "Aggregating results\n",
      "Selecting tuning parameters\n",
      "Fitting nprune = 14, degree = 1 on full training set\n"
     ]
    },
    {
     "name": "stderr",
     "output_type": "stream",
     "text": [
      "載入需要的套件：earth\n",
      "\n",
      "載入需要的套件：Formula\n",
      "\n",
      "載入需要的套件：plotmo\n",
      "\n",
      "載入需要的套件：plotrix\n",
      "\n",
      "載入需要的套件：TeachingDemos\n",
      "\n",
      "Warning message:\n",
      "\"glm.fit: fitted probabilities numerically 0 or 1 occurred\"\n",
      "Warning message:\n",
      "\"glm.fit: fitted probabilities numerically 0 or 1 occurred\"\n",
      "Warning message:\n",
      "\"glm.fit: fitted probabilities numerically 0 or 1 occurred\"\n",
      "Warning message:\n",
      "\"glm.fit: fitted probabilities numerically 0 or 1 occurred\"\n",
      "Warning message:\n",
      "\"glm.fit: fitted probabilities numerically 0 or 1 occurred\"\n",
      "Warning message:\n",
      "\"glm.fit: fitted probabilities numerically 0 or 1 occurred\"\n",
      "Warning message:\n",
      "\"glm.fit: fitted probabilities numerically 0 or 1 occurred\"\n",
      "Warning message:\n",
      "\"glm.fit: fitted probabilities numerically 0 or 1 occurred\"\n",
      "Warning message:\n",
      "\"glm.fit: fitted probabilities numerically 0 or 1 occurred\"\n",
      "Warning message:\n",
      "\"glm.fit: fitted probabilities numerically 0 or 1 occurred\"\n",
      "Warning message:\n",
      "\"glm.fit: fitted probabilities numerically 0 or 1 occurred\"\n",
      "Warning message:\n",
      "\"glm.fit: fitted probabilities numerically 0 or 1 occurred\"\n",
      "Warning message:\n",
      "\"glm.fit: fitted probabilities numerically 0 or 1 occurred\"\n",
      "Setting direction: controls > cases\n",
      "\n",
      "Setting direction: controls > cases\n",
      "\n"
     ]
    },
    {
     "name": "stdout",
     "output_type": "stream",
     "text": [
      "Completed running Model 10 ( bagEarth ) of 187 \n",
      "Completed Running method: bagEarth ---AUC_Train: 0.9117647 ---AUC_Test: 0.9183966 \n",
      "Running method: bagEarthGCV \n",
      "Aggregating results\n",
      "Fitting final model on full training set\n"
     ]
    },
    {
     "name": "stderr",
     "output_type": "stream",
     "text": [
      "Warning message:\n",
      "\"glm.fit: fitted probabilities numerically 0 or 1 occurred\"\n",
      "Warning message:\n",
      "\"glm.fit: fitted probabilities numerically 0 or 1 occurred\"\n",
      "Warning message:\n",
      "\"glm.fit: fitted probabilities numerically 0 or 1 occurred\"\n",
      "Warning message:\n",
      "\"glm.fit: fitted probabilities numerically 0 or 1 occurred\"\n",
      "Warning message:\n",
      "\"glm.fit: fitted probabilities numerically 0 or 1 occurred\"\n",
      "Warning message:\n",
      "\"glm.fit: fitted probabilities numerically 0 or 1 occurred\"\n",
      "Warning message:\n",
      "\"glm.fit: fitted probabilities numerically 0 or 1 occurred\"\n",
      "Warning message:\n",
      "\"glm.fit: fitted probabilities numerically 0 or 1 occurred\"\n",
      "Warning message:\n",
      "\"glm.fit: fitted probabilities numerically 0 or 1 occurred\"\n",
      "Warning message:\n",
      "\"glm.fit: fitted probabilities numerically 0 or 1 occurred\"\n",
      "Warning message:\n",
      "\"glm.fit: fitted probabilities numerically 0 or 1 occurred\"\n",
      "Warning message:\n",
      "\"glm.fit: fitted probabilities numerically 0 or 1 occurred\"\n",
      "Warning message:\n",
      "\"glm.fit: fitted probabilities numerically 0 or 1 occurred\"\n",
      "Warning message:\n",
      "\"glm.fit: fitted probabilities numerically 0 or 1 occurred\"\n",
      "Setting direction: controls > cases\n",
      "\n",
      "Setting direction: controls > cases\n",
      "\n"
     ]
    },
    {
     "name": "stdout",
     "output_type": "stream",
     "text": [
      "Completed running Model 11 ( bagEarthGCV ) of 187 \n",
      "Completed Running method: bagEarthGCV ---AUC_Train: 0.9175242 ---AUC_Test: 0.8983536 \n",
      "Running method: bagFDA \n",
      "Aggregating results\n",
      "Selecting tuning parameters\n",
      "Fitting degree = 2, nprune = 6 on full training set\n"
     ]
    },
    {
     "name": "stderr",
     "output_type": "stream",
     "text": [
      "Setting direction: controls < cases\n",
      "\n",
      "Setting direction: controls < cases\n",
      "\n"
     ]
    },
    {
     "name": "stdout",
     "output_type": "stream",
     "text": [
      "Completed running Model 12 ( bagFDA ) of 187 \n",
      "Completed Running method: bagFDA ---AUC_Train: 0.8995546 ---AUC_Test: 0.8697208 \n",
      "Running method: bagFDAGCV \n",
      "Aggregating results\n",
      "Fitting final model on full training set\n"
     ]
    },
    {
     "name": "stderr",
     "output_type": "stream",
     "text": [
      "Setting direction: controls < cases\n",
      "\n",
      "Setting direction: controls < cases\n",
      "\n"
     ]
    },
    {
     "name": "stdout",
     "output_type": "stream",
     "text": [
      "Completed running Model 13 ( bagFDAGCV ) of 187 \n",
      "Completed Running method: bagFDAGCV ---AUC_Train: 0.9063892 ---AUC_Test: 0.889048 \n",
      "Running method: bam \n",
      "Aggregating results\n",
      "Selecting tuning parameters\n",
      "Fitting select = FALSE, method = ML on full training set\n"
     ]
    },
    {
     "name": "stderr",
     "output_type": "stream",
     "text": [
      "載入需要的套件：mgcv\n",
      "\n",
      "載入需要的套件：nlme\n",
      "\n",
      "This is mgcv 1.8-39. For overview type 'help(\"mgcv-package\")'.\n",
      "\n",
      "\n",
      "載入套件：'mgcv'\n",
      "\n",
      "\n",
      "下列物件被遮斷自 'package:nnet':\n",
      "\n",
      "    multinom\n",
      "\n",
      "\n",
      "Setting direction: controls < cases\n",
      "\n",
      "Setting direction: controls < cases\n",
      "\n"
     ]
    },
    {
     "name": "stdout",
     "output_type": "stream",
     "text": [
      "Completed running Model 14 ( bam ) of 187 \n",
      "Completed Running method: bam ---AUC_Train: 0.8183075 ---AUC_Test: 0.8840372 \n",
      "Running method: bartMachine \n",
      "Running method: bayesglm \n",
      "Aggregating results\n",
      "Fitting final model on full training set\n"
     ]
    },
    {
     "name": "stderr",
     "output_type": "stream",
     "text": [
      "Setting direction: controls < cases\n",
      "\n",
      "Setting direction: controls < cases\n",
      "\n"
     ]
    },
    {
     "name": "stdout",
     "output_type": "stream",
     "text": [
      "Completed running Model 16 ( bayesglm ) of 187 \n",
      "Completed Running method: bayesglm ---AUC_Train: 0.8160037 ---AUC_Test: 0.8947745 \n",
      "Running method: binda \n"
     ]
    },
    {
     "name": "stderr",
     "output_type": "stream",
     "text": [
      "Warning message in nominalTrainWorkflow(x = x, y = y, wts = weights, info = trainInfo, :\n",
      "\"There were missing values in resampled performance measures.\"\n"
     ]
    },
    {
     "name": "stdout",
     "output_type": "stream",
     "text": [
      "Aggregating results\n",
      "Something is wrong; all the ROC metric values are missing:\n",
      "      ROC           Sens          Spec    \n",
      " Min.   : NA   Min.   : NA   Min.   : NA  \n",
      " 1st Qu.: NA   1st Qu.: NA   1st Qu.: NA  \n",
      " Median : NA   Median : NA   Median : NA  \n",
      " Mean   :NaN   Mean   :NaN   Mean   :NaN  \n",
      " 3rd Qu.: NA   3rd Qu.: NA   3rd Qu.: NA  \n",
      " Max.   : NA   Max.   : NA   Max.   : NA  \n",
      " NA's   :3     NA's   :3     NA's   :3    \n",
      "Running method: blackboost \n",
      "Aggregating results\n",
      "Selecting tuning parameters\n",
      "Fitting mstop = 824, maxdepth = 1 on full training set\n"
     ]
    },
    {
     "name": "stderr",
     "output_type": "stream",
     "text": [
      "Setting direction: controls < cases\n",
      "\n",
      "Setting direction: controls < cases\n",
      "\n"
     ]
    },
    {
     "name": "stdout",
     "output_type": "stream",
     "text": [
      "Completed running Model 18 ( blackboost ) of 187 \n",
      "Completed Running method: blackboost ---AUC_Train: 0.8527876 ---AUC_Test: 0.7884753 \n",
      "Running method: BstLm \n"
     ]
    },
    {
     "name": "stderr",
     "output_type": "stream",
     "text": [
      "Warning message in train.default(x, y, weights = w, ...):\n",
      "\"Class probabilities were requested for a model that does not implement them\"\n"
     ]
    },
    {
     "name": "stdout",
     "output_type": "stream",
     "text": [
      "Running method: bstSm \n"
     ]
    },
    {
     "name": "stderr",
     "output_type": "stream",
     "text": [
      "Warning message in train.default(x, y, weights = w, ...):\n",
      "\"Class probabilities were requested for a model that does not implement them\"\n"
     ]
    },
    {
     "name": "stdout",
     "output_type": "stream",
     "text": [
      "Running method: bstTree \n"
     ]
    },
    {
     "name": "stderr",
     "output_type": "stream",
     "text": [
      "Warning message in train.default(x, y, weights = w, ...):\n",
      "\"Class probabilities were requested for a model that does not implement them\"\n"
     ]
    },
    {
     "name": "stdout",
     "output_type": "stream",
     "text": [
      "Running method: C5.0 \n",
      "Aggregating results\n",
      "Selecting tuning parameters\n",
      "Fitting trials = 19, model = rules, winnow = FALSE on full training set\n"
     ]
    },
    {
     "name": "stderr",
     "output_type": "stream",
     "text": [
      "Setting direction: controls < cases\n",
      "\n",
      "Setting direction: controls < cases\n",
      "\n"
     ]
    },
    {
     "name": "stdout",
     "output_type": "stream",
     "text": [
      "Completed running Model 22 ( C5.0 ) of 187 \n",
      "Completed Running method: C5.0 ---AUC_Train: 0.5 ---AUC_Test: 0.5 \n",
      "Running method: C5.0Cost \n"
     ]
    },
    {
     "name": "stderr",
     "output_type": "stream",
     "text": [
      "Warning message in train.default(x, y, weights = w, ...):\n",
      "\"Class probabilities were requested for a model that does not implement them\"\n"
     ]
    },
    {
     "name": "stdout",
     "output_type": "stream",
     "text": [
      "Running method: C5.0Rules \n",
      "Aggregating results\n",
      "Fitting final model on full training set\n"
     ]
    },
    {
     "name": "stderr",
     "output_type": "stream",
     "text": [
      "Setting direction: controls < cases\n",
      "\n",
      "Setting direction: controls < cases\n",
      "\n"
     ]
    },
    {
     "name": "stdout",
     "output_type": "stream",
     "text": [
      "Completed running Model 24 ( C5.0Rules ) of 187 \n",
      "Completed Running method: C5.0Rules ---AUC_Train: 0.5 ---AUC_Test: 0.5 \n",
      "Running method: C5.0Tree \n",
      "Aggregating results\n",
      "Fitting final model on full training set\n"
     ]
    },
    {
     "name": "stderr",
     "output_type": "stream",
     "text": [
      "Setting direction: controls < cases\n",
      "\n",
      "Setting direction: controls < cases\n",
      "\n"
     ]
    },
    {
     "name": "stdout",
     "output_type": "stream",
     "text": [
      "Completed running Model 25 ( C5.0Tree ) of 187 \n",
      "Completed Running method: C5.0Tree ---AUC_Train: 0.5 ---AUC_Test: 0.5 \n",
      "Running method: cforest \n",
      "Aggregating results\n",
      "Selecting tuning parameters\n",
      "Fitting mtry = 1 on full training set\n"
     ]
    },
    {
     "name": "stderr",
     "output_type": "stream",
     "text": [
      "Setting direction: controls < cases\n",
      "\n",
      "Setting direction: controls < cases\n",
      "\n"
     ]
    },
    {
     "name": "stdout",
     "output_type": "stream",
     "text": [
      "Completed running Model 26 ( cforest ) of 187 \n",
      "Completed Running method: cforest ---AUC_Train: 0.9033943 ---AUC_Test: 0.9040802 \n",
      "Running method: chaid \n",
      "Running method: CSimca \n"
     ]
    },
    {
     "name": "stderr",
     "output_type": "stream",
     "text": [
      "Registered S3 methods overwritten by 'spls':\n",
      "  method         from \n",
      "  predict.splsda caret\n",
      "  print.splsda   caret\n",
      "\n",
      "Warning message in train.default(x, y, weights = w, ...):\n",
      "\"Class probabilities were requested for a model that does not implement them\"\n"
     ]
    },
    {
     "name": "stdout",
     "output_type": "stream",
     "text": [
      "Running method: ctree \n",
      "Aggregating results\n",
      "Selecting tuning parameters\n",
      "Fitting mincriterion = 0.626 on full training set\n"
     ]
    },
    {
     "name": "stderr",
     "output_type": "stream",
     "text": [
      "Setting direction: controls < cases\n",
      "\n",
      "Setting direction: controls < cases\n",
      "\n"
     ]
    },
    {
     "name": "stdout",
     "output_type": "stream",
     "text": [
      "Completed running Model 29 ( ctree ) of 187 \n",
      "Completed Running method: ctree ---AUC_Train: 0.8214944 ---AUC_Test: 0.7831067 \n",
      "Running method: ctree2 \n",
      "Aggregating results\n",
      "Selecting tuning parameters\n",
      "Fitting maxdepth = 7, mincriterion = 0.583 on full training set\n"
     ]
    },
    {
     "name": "stderr",
     "output_type": "stream",
     "text": [
      "Setting direction: controls < cases\n",
      "\n",
      "Setting direction: controls < cases\n",
      "\n"
     ]
    },
    {
     "name": "stdout",
     "output_type": "stream",
     "text": [
      "Completed running Model 30 ( ctree2 ) of 187 \n",
      "Completed Running method: ctree2 ---AUC_Train: 0.8296729 ---AUC_Test: 0.7788117 \n",
      "Running method: dda \n"
     ]
    },
    {
     "name": "stderr",
     "output_type": "stream",
     "text": [
      "Warning message in nominalTrainWorkflow(x = x, y = y, wts = weights, info = trainInfo, :\n",
      "\"There were missing values in resampled performance measures.\"\n"
     ]
    },
    {
     "name": "stdout",
     "output_type": "stream",
     "text": [
      "Aggregating results\n",
      "Something is wrong; all the ROC metric values are missing:\n",
      "      ROC           Sens          Spec    \n",
      " Min.   : NA   Min.   : NA   Min.   : NA  \n",
      " 1st Qu.: NA   1st Qu.: NA   1st Qu.: NA  \n",
      " Median : NA   Median : NA   Median : NA  \n",
      " Mean   :NaN   Mean   :NaN   Mean   :NaN  \n",
      " 3rd Qu.: NA   3rd Qu.: NA   3rd Qu.: NA  \n",
      " Max.   : NA   Max.   : NA   Max.   : NA  \n",
      " NA's   :6     NA's   :6     NA's   :6    \n",
      "Running method: deepboost \n",
      "Running method: dnn \n",
      "Aggregating results\n",
      "Selecting tuning parameters\n",
      "Fitting layer1 = 6, layer2 = 11, layer3 = 3, hidden_dropout = 0.126, visible_dropout = 0.279 on full training set\n"
     ]
    },
    {
     "name": "stderr",
     "output_type": "stream",
     "text": [
      "begin to train sae ......\n",
      "\n",
      "training layer 1 autoencoder ...\n",
      "\n",
      "training layer 2 autoencoder ...\n",
      "\n",
      "Warning message in sae$encoder[[i - 1]]$W[[1]] %*% t(train_x) + sae$encoder[[i - :\n",
      "\"較長的物件長度並非較短物件長度的倍數\"\n",
      "training layer 3 autoencoder ...\n",
      "\n",
      "sae has been trained.\n",
      "\n",
      "begin to train deep nn ......\n",
      "\n",
      "deep nn has been trained.\n",
      "\n",
      "Setting direction: controls > cases\n",
      "\n",
      "Setting direction: controls > cases\n",
      "\n"
     ]
    },
    {
     "name": "stdout",
     "output_type": "stream",
     "text": [
      "Completed running Model 33 ( dnn ) of 187 \n",
      "Completed Running method: dnn ---AUC_Train: 0.7221625 ---AUC_Test: 0.8589835 \n",
      "Running method: dwdLinear \n",
      "Aggregating results\n",
      "Selecting tuning parameters\n",
      "Fitting lambda = 0.0472, qval = 0.83 on full training set\n"
     ]
    },
    {
     "name": "stderr",
     "output_type": "stream",
     "text": [
      "Setting direction: controls < cases\n",
      "\n",
      "Setting direction: controls < cases\n",
      "\n"
     ]
    },
    {
     "name": "stdout",
     "output_type": "stream",
     "text": [
      "Completed running Model 34 ( dwdLinear ) of 187 \n",
      "Completed Running method: dwdLinear ---AUC_Train: 0.8198433 ---AUC_Test: 0.904796 \n",
      "Running method: dwdPoly \n",
      "Aggregating results\n",
      "Selecting tuning parameters\n",
      "Fitting lambda = 0.0247, qval = 0.516, degree = 3, scale = 4.47e-05 on full training set\n"
     ]
    },
    {
     "name": "stderr",
     "output_type": "stream",
     "text": [
      "Setting direction: controls < cases\n",
      "\n",
      "Setting direction: controls < cases\n",
      "\n"
     ]
    },
    {
     "name": "stdout",
     "output_type": "stream",
     "text": [
      "Completed running Model 35 ( dwdPoly ) of 187 \n",
      "Completed Running method: dwdPoly ---AUC_Train: 0.8190754 ---AUC_Test: 0.9155333 \n",
      "Running method: dwdRadial \n",
      "Aggregating results\n",
      "Selecting tuning parameters\n",
      "Fitting lambda = 1.18, qval = 2.08, sigma = 0.0975 on full training set\n"
     ]
    },
    {
     "name": "stderr",
     "output_type": "stream",
     "text": [
      "Setting direction: controls < cases\n",
      "\n",
      "Setting direction: controls < cases\n",
      "\n"
     ]
    },
    {
     "name": "stdout",
     "output_type": "stream",
     "text": [
      "Completed running Model 36 ( dwdRadial ) of 187 \n",
      "Completed Running method: dwdRadial ---AUC_Train: 0.8145446 ---AUC_Test: 0.8926271 \n",
      "Running method: earth \n",
      "Aggregating results\n",
      "Selecting tuning parameters\n",
      "Fitting nprune = 10, degree = 1 on full training set\n"
     ]
    },
    {
     "name": "stderr",
     "output_type": "stream",
     "text": [
      "Setting direction: controls < cases\n",
      "\n",
      "Setting direction: controls < cases\n",
      "\n"
     ]
    },
    {
     "name": "stdout",
     "output_type": "stream",
     "text": [
      "Completed running Model 37 ( earth ) of 187 \n",
      "Completed Running method: earth ---AUC_Train: 0.8427277 ---AUC_Test: 0.8582677 \n",
      "Running method: elm \n",
      "Running method: evtree \n",
      "Aggregating results\n",
      "Selecting tuning parameters\n",
      "Fitting alpha = 4.54 on full training set\n"
     ]
    },
    {
     "name": "stderr",
     "output_type": "stream",
     "text": [
      "Setting direction: controls < cases\n",
      "\n",
      "Setting direction: controls < cases\n",
      "\n"
     ]
    },
    {
     "name": "stdout",
     "output_type": "stream",
     "text": [
      "Completed running Model 39 ( evtree ) of 187 \n",
      "Completed Running method: evtree ---AUC_Train: 0.5574413 ---AUC_Test: 0.5551181 \n",
      "Running method: extraTrees \n",
      "Running method: fda \n",
      "Aggregating results\n",
      "Selecting tuning parameters\n",
      "Fitting degree = 1, nprune = 3 on full training set\n"
     ]
    },
    {
     "name": "stderr",
     "output_type": "stream",
     "text": [
      "Setting direction: controls < cases\n",
      "\n",
      "Setting direction: controls < cases\n",
      "\n"
     ]
    },
    {
     "name": "stdout",
     "output_type": "stream",
     "text": [
      "Completed running Model 41 ( fda ) of 187 \n",
      "Completed Running method: fda ---AUC_Train: 0.7802181 ---AUC_Test: 0.8396564 \n",
      "Running method: FH.GBML \n"
     ]
    },
    {
     "name": "stderr",
     "output_type": "stream",
     "text": [
      "Warning message in train.default(x, y, weights = w, ...):\n",
      "\"Class probabilities were requested for a model that does not implement them\"\n"
     ]
    },
    {
     "name": "stdout",
     "output_type": "stream",
     "text": [
      "Running method: FRBCS.CHI \n"
     ]
    },
    {
     "name": "stderr",
     "output_type": "stream",
     "text": [
      "Warning message in train.default(x, y, weights = w, ...):\n",
      "\"Class probabilities were requested for a model that does not implement them\"\n"
     ]
    },
    {
     "name": "stdout",
     "output_type": "stream",
     "text": [
      "Running method: FRBCS.W \n"
     ]
    },
    {
     "name": "stderr",
     "output_type": "stream",
     "text": [
      "Warning message in train.default(x, y, weights = w, ...):\n",
      "\"Class probabilities were requested for a model that does not implement them\"\n"
     ]
    },
    {
     "name": "stdout",
     "output_type": "stream",
     "text": [
      "Running method: gam \n",
      "Aggregating results\n",
      "Selecting tuning parameters\n",
      "Fitting select = TRUE, method = ML on full training set\n"
     ]
    },
    {
     "name": "stderr",
     "output_type": "stream",
     "text": [
      "Setting direction: controls < cases\n",
      "\n",
      "Setting direction: controls < cases\n",
      "\n"
     ]
    },
    {
     "name": "stdout",
     "output_type": "stream",
     "text": [
      "Completed running Model 45 ( gam ) of 187 \n",
      "Completed Running method: gam ---AUC_Train: 0.82591 ---AUC_Test: 0.8761632 \n",
      "Running method: gaussprPoly \n",
      "Aggregating results\n",
      "Selecting tuning parameters\n",
      "Fitting degree = 2, scale = 3.44e-05 on full training set\n"
     ]
    },
    {
     "name": "stderr",
     "output_type": "stream",
     "text": [
      "Setting direction: controls < cases\n",
      "\n",
      "Setting direction: controls < cases\n",
      "\n"
     ]
    },
    {
     "name": "stdout",
     "output_type": "stream",
     "text": [
      "Completed running Model 46 ( gaussprPoly ) of 187 \n",
      "Completed Running method: gaussprPoly ---AUC_Train: 0.8190754 ---AUC_Test: 0.9155333 \n",
      "Running method: gaussprRadial \n",
      "Aggregating results\n",
      "Selecting tuning parameters\n",
      "Fitting sigma = 0.0299 on full training set\n"
     ]
    },
    {
     "name": "stderr",
     "output_type": "stream",
     "text": [
      "Setting direction: controls < cases\n",
      "\n",
      "Setting direction: controls < cases\n",
      "\n"
     ]
    },
    {
     "name": "stdout",
     "output_type": "stream",
     "text": [
      "Completed running Model 47 ( gaussprRadial ) of 187 \n",
      "Completed Running method: gaussprRadial ---AUC_Train: 0.8155429 ---AUC_Test: 0.9012169 \n",
      "Running method: gbm \n",
      "Aggregating results\n",
      "Selecting tuning parameters\n",
      "Fitting n.trees = 1160, interaction.depth = 6, shrinkage = 0.0778, n.minobsinnode = 15 on full training set\n",
      "Iter   TrainDeviance   ValidDeviance   StepSize   Improve\n",
      "     1        0.5321             nan     0.0778    0.0150\n",
      "     2        0.5154             nan     0.0778    0.0018\n",
      "     3        0.5010             nan     0.0778    0.0040\n",
      "     4        0.4897             nan     0.0778    0.0044\n",
      "     5        0.4741             nan     0.0778    0.0055\n",
      "     6        0.4626             nan     0.0778    0.0040\n",
      "     7        0.4503             nan     0.0778   -0.0013\n",
      "     8        0.4413             nan     0.0778    0.0010\n",
      "     9        0.4385             nan     0.0778   -0.0021\n",
      "    10        0.4299             nan     0.0778    0.0014\n",
      "    20        0.3582             nan     0.0778   -0.0012\n",
      "    40        0.2719             nan     0.0778   -0.0015\n",
      "    60        0.2154             nan     0.0778   -0.0018\n",
      "    80        0.1747             nan     0.0778   -0.0006\n",
      "   100        0.1432             nan     0.0778   -0.0014\n",
      "   120        0.1244             nan     0.0778   -0.0013\n",
      "   140        0.1080             nan     0.0778   -0.0015\n",
      "   160        0.0922             nan     0.0778   -0.0012\n",
      "   180        0.0761             nan     0.0778   -0.0007\n",
      "   200        0.0644             nan     0.0778   -0.0005\n",
      "   220        0.0562             nan     0.0778   -0.0007\n",
      "   240        0.0481             nan     0.0778   -0.0004\n",
      "   260        0.0423             nan     0.0778   -0.0004\n",
      "   280        0.0367             nan     0.0778   -0.0002\n",
      "   300        0.0329             nan     0.0778   -0.0001\n",
      "   320        0.0280             nan     0.0778   -0.0004\n",
      "   340        0.0238             nan     0.0778   -0.0001\n",
      "   360        0.0216             nan     0.0778   -0.0001\n",
      "   380        0.0187             nan     0.0778   -0.0001\n",
      "   400        0.0165             nan     0.0778   -0.0002\n",
      "   420        0.0152             nan     0.0778   -0.0003\n",
      "   440        0.0145             nan     0.0778   -0.0003\n",
      "   460        0.0130             nan     0.0778   -0.0003\n",
      "   480        0.0121             nan     0.0778   -0.0001\n",
      "   500        0.0102             nan     0.0778   -0.0001\n",
      "   520        0.0086             nan     0.0778   -0.0000\n",
      "   540        0.0077             nan     0.0778   -0.0001\n",
      "   560        0.0074             nan     0.0778   -0.0001\n",
      "   580        0.0068             nan     0.0778   -0.0001\n",
      "   600        0.0061             nan     0.0778   -0.0001\n",
      "   620        0.0055             nan     0.0778   -0.0000\n",
      "   640        0.0050             nan     0.0778   -0.0000\n",
      "   660        0.0044             nan     0.0778   -0.0000\n",
      "   680        0.0039             nan     0.0778   -0.0000\n",
      "   700        0.0034             nan     0.0778   -0.0000\n",
      "   720        0.0030             nan     0.0778   -0.0000\n",
      "   740        0.0028             nan     0.0778   -0.0000\n",
      "   760        0.0024             nan     0.0778   -0.0001\n",
      "   780        0.0023             nan     0.0778   -0.0000\n",
      "   800        0.0022             nan     0.0778   -0.0000\n",
      "   820        0.0020             nan     0.0778   -0.0000\n",
      "   840        0.0019             nan     0.0778   -0.0000\n",
      "   860        0.0020             nan     0.0778   -0.0000\n",
      "   880        0.0021             nan     0.0778   -0.0000\n",
      "   900        0.0020             nan     0.0778   -0.0001\n",
      "   920        0.0018             nan     0.0778   -0.0000\n",
      "   940        0.0016             nan     0.0778   -0.0000\n",
      "   960        0.0015             nan     0.0778   -0.0000\n",
      "   980        0.0016             nan     0.0778   -0.0000\n",
      "  1000        0.0015             nan     0.0778   -0.0001\n",
      "  1020        0.0014             nan     0.0778   -0.0000\n",
      "  1040        0.0015             nan     0.0778   -0.0000\n",
      "  1060        0.0011             nan     0.0778   -0.0000\n",
      "  1080        0.0011             nan     0.0778   -0.0000\n",
      "  1100        0.0011             nan     0.0778   -0.0000\n",
      "  1120        0.0009             nan     0.0778   -0.0000\n",
      "  1140        0.0008             nan     0.0778   -0.0000\n",
      "  1160        0.0007             nan     0.0778   -0.0000\n",
      "\n"
     ]
    },
    {
     "name": "stderr",
     "output_type": "stream",
     "text": [
      "Setting direction: controls < cases\n",
      "\n",
      "Setting direction: controls < cases\n",
      "\n"
     ]
    },
    {
     "name": "stdout",
     "output_type": "stream",
     "text": [
      "Completed running Model 48 ( gbm ) of 187 \n",
      "Completed Running method: gbm ---AUC_Train: 1 ---AUC_Test: 0.8804581 \n",
      "Running method: gbm_h2o \n"
     ]
    },
    {
     "name": "stderr",
     "output_type": "stream",
     "text": [
      "Warning message in nominalTrainWorkflow(x = x, y = y, wts = weights, info = trainInfo, :\n",
      "\"There were missing values in resampled performance measures.\"\n"
     ]
    },
    {
     "name": "stdout",
     "output_type": "stream",
     "text": [
      "Aggregating results\n",
      "Something is wrong; all the ROC metric values are missing:\n",
      "      ROC           Sens          Spec    \n",
      " Min.   : NA   Min.   : NA   Min.   : NA  \n",
      " 1st Qu.: NA   1st Qu.: NA   1st Qu.: NA  \n",
      " Median : NA   Median : NA   Median : NA  \n",
      " Mean   :NaN   Mean   :NaN   Mean   :NaN  \n",
      " 3rd Qu.: NA   3rd Qu.: NA   3rd Qu.: NA  \n",
      " Max.   : NA   Max.   : NA   Max.   : NA  \n",
      " NA's   :3     NA's   :3     NA's   :3    \n",
      "Running method: gcvEarth \n",
      "Aggregating results\n",
      "Fitting final model on full training set\n"
     ]
    },
    {
     "name": "stderr",
     "output_type": "stream",
     "text": [
      "Setting direction: controls < cases\n",
      "\n",
      "Setting direction: controls < cases\n",
      "\n"
     ]
    },
    {
     "name": "stdout",
     "output_type": "stream",
     "text": [
      "Completed running Model 50 ( gcvEarth ) of 187 \n",
      "Completed Running method: gcvEarth ---AUC_Train: 0.8427277 ---AUC_Test: 0.8582677 \n",
      "Running method: glm \n",
      "Aggregating results\n",
      "Fitting final model on full training set\n"
     ]
    },
    {
     "name": "stderr",
     "output_type": "stream",
     "text": [
      "Setting direction: controls < cases\n",
      "\n",
      "Setting direction: controls < cases\n",
      "\n"
     ]
    },
    {
     "name": "stdout",
     "output_type": "stream",
     "text": [
      "Completed running Model 51 ( glm ) of 187 \n",
      "Completed Running method: glm ---AUC_Train: 0.8159269 ---AUC_Test: 0.8940587 \n",
      "Running method: glmboost \n",
      "Aggregating results\n",
      "Selecting tuning parameters\n",
      "Fitting mstop = 354, prune = no on full training set\n"
     ]
    },
    {
     "name": "stderr",
     "output_type": "stream",
     "text": [
      "Setting direction: controls < cases\n",
      "\n",
      "Setting direction: controls < cases\n",
      "\n"
     ]
    },
    {
     "name": "stdout",
     "output_type": "stream",
     "text": [
      "Completed running Model 52 ( glmboost ) of 187 \n",
      "Completed Running method: glmboost ---AUC_Train: 0.8170788 ---AUC_Test: 0.8954903 \n",
      "Running method: glmnet \n",
      "Aggregating results\n",
      "Selecting tuning parameters\n",
      "Fitting alpha = 0.156, lambda = 0.0415 on full training set\n"
     ]
    },
    {
     "name": "stderr",
     "output_type": "stream",
     "text": [
      "Setting direction: controls < cases\n",
      "\n",
      "Setting direction: controls < cases\n",
      "\n"
     ]
    },
    {
     "name": "stdout",
     "output_type": "stream",
     "text": [
      "Completed running Model 53 ( glmnet ) of 187 \n",
      "Completed Running method: glmnet ---AUC_Train: 0.8209952 ---AUC_Test: 0.9033644 \n",
      "Running method: glmnet_h2o \n"
     ]
    },
    {
     "name": "stderr",
     "output_type": "stream",
     "text": [
      "Warning message in nominalTrainWorkflow(x = x, y = y, wts = weights, info = trainInfo, :\n",
      "\"There were missing values in resampled performance measures.\"\n"
     ]
    },
    {
     "name": "stdout",
     "output_type": "stream",
     "text": [
      "Aggregating results\n",
      "Something is wrong; all the ROC metric values are missing:\n",
      "      ROC           Sens          Spec    \n",
      " Min.   : NA   Min.   : NA   Min.   : NA  \n",
      " 1st Qu.: NA   1st Qu.: NA   1st Qu.: NA  \n",
      " Median : NA   Median : NA   Median : NA  \n",
      " Mean   :NaN   Mean   :NaN   Mean   :NaN  \n",
      " 3rd Qu.: NA   3rd Qu.: NA   3rd Qu.: NA  \n",
      " Max.   : NA   Max.   : NA   Max.   : NA  \n",
      " NA's   :3     NA's   :3     NA's   :3    \n",
      "Running method: glmStepAIC \n",
      "Aggregating results\n",
      "Fitting final model on full training set\n",
      "Start:  AIC=208.96\n",
      ".outcome ~ pct + crp + lactate + alb + ddimer + rdw\n",
      "\n",
      "          Df Deviance    AIC\n",
      "- rdw      1   195.27 207.27\n",
      "- pct      1   195.31 207.31\n",
      "- lactate  1   195.93 207.93\n",
      "<none>         194.96 208.96\n",
      "- crp      1   197.36 209.36\n",
      "- ddimer   1   198.04 210.04\n",
      "- alb      1   204.48 216.48\n",
      "\n",
      "Step:  AIC=207.27\n",
      ".outcome ~ pct + crp + lactate + alb + ddimer\n",
      "\n",
      "          Df Deviance    AIC\n",
      "- pct      1   195.52 205.52\n",
      "- lactate  1   196.34 206.34\n",
      "<none>         195.27 207.27\n",
      "- crp      1   197.59 207.59\n",
      "- ddimer   1   198.80 208.80\n",
      "- alb      1   206.76 216.76\n",
      "\n",
      "Step:  AIC=205.52\n",
      ".outcome ~ crp + lactate + alb + ddimer\n",
      "\n",
      "          Df Deviance    AIC\n",
      "- lactate  1   197.22 205.22\n",
      "<none>         195.52 205.52\n",
      "- crp      1   198.26 206.26\n",
      "- ddimer   1   199.62 207.62\n",
      "- alb      1   206.79 214.79\n",
      "\n",
      "Step:  AIC=205.22\n",
      ".outcome ~ crp + alb + ddimer\n",
      "\n",
      "         Df Deviance    AIC\n",
      "<none>        197.22 205.22\n",
      "- crp     1   200.57 206.57\n",
      "- ddimer  1   202.53 208.53\n",
      "- alb     1   210.79 216.79\n"
     ]
    },
    {
     "name": "stderr",
     "output_type": "stream",
     "text": [
      "Setting direction: controls < cases\n",
      "\n",
      "Setting direction: controls < cases\n",
      "\n"
     ]
    },
    {
     "name": "stdout",
     "output_type": "stream",
     "text": [
      "Completed running Model 55 ( glmStepAIC ) of 187 \n",
      "Completed Running method: glmStepAIC ---AUC_Train: 0.8017202 ---AUC_Test: 0.8575519 \n",
      "Running method: gpls \n",
      "Running method: hda \n",
      "Aggregating results\n",
      "Selecting tuning parameters\n",
      "Fitting gamma = 0.303, lambda = 0.73, newdim = 4 on full training set\n",
      "Initialization by the identity.\n",
      "Iteration 1 Log Likelihood:  -3456.26766799145 \n",
      "Iteration 2 Log Likelihood:  -3444.15169678999 \n",
      "Iteration 3 Log Likelihood:  -3444.14658915093 \n",
      "Iteration 4 Log Likelihood:  -3444.14159727838 \n",
      "Iteration 5 Log Likelihood:  -3444.13671288782 \n",
      "Iteration 6 Log Likelihood:  -3444.1319283891 \n",
      "Iteration 7 Log Likelihood:  -3444.12723638036 \n"
     ]
    },
    {
     "name": "stderr",
     "output_type": "stream",
     "text": [
      "Setting direction: controls < cases\n",
      "\n",
      "Setting direction: controls < cases\n",
      "\n"
     ]
    },
    {
     "name": "stdout",
     "output_type": "stream",
     "text": [
      "Completed running Model 57 ( hda ) of 187 \n",
      "Completed Running method: hda ---AUC_Train: 0.7392874 ---AUC_Test: 0.8196135 \n",
      "Running method: hdda \n",
      "Aggregating results\n",
      "Selecting tuning parameters\n",
      "Fitting threshold = 0.677, model = ABQD on full training set\n"
     ]
    },
    {
     "name": "stderr",
     "output_type": "stream",
     "text": [
      "Setting direction: controls < cases\n",
      "\n",
      "Setting direction: controls < cases\n",
      "\n"
     ]
    },
    {
     "name": "stdout",
     "output_type": "stream",
     "text": [
      "Completed running Model 58 ( hdda ) of 187 \n",
      "Completed Running method: hdda ---AUC_Train: 0.8236062 ---AUC_Test: 0.9076593 \n",
      "Running method: hdrda \n"
     ]
    },
    {
     "name": "stderr",
     "output_type": "stream",
     "text": [
      "Warning message in nominalTrainWorkflow(x = x, y = y, wts = weights, info = trainInfo, :\n",
      "\"There were missing values in resampled performance measures.\"\n"
     ]
    },
    {
     "name": "stdout",
     "output_type": "stream",
     "text": [
      "Aggregating results\n",
      "Something is wrong; all the ROC metric values are missing:\n",
      "      ROC           Sens          Spec    \n",
      " Min.   : NA   Min.   : NA   Min.   : NA  \n",
      " 1st Qu.: NA   1st Qu.: NA   1st Qu.: NA  \n",
      " Median : NA   Median : NA   Median : NA  \n",
      " Mean   :NaN   Mean   :NaN   Mean   :NaN  \n",
      " 3rd Qu.: NA   3rd Qu.: NA   3rd Qu.: NA  \n",
      " Max.   : NA   Max.   : NA   Max.   : NA  \n",
      " NA's   :3     NA's   :3     NA's   :3    \n",
      "Running method: J48 \n",
      "Running method: JRip \n",
      "Running method: kernelpls \n",
      "Aggregating results\n",
      "Selecting tuning parameters\n",
      "Fitting ncomp = 6 on full training set\n"
     ]
    },
    {
     "name": "stderr",
     "output_type": "stream",
     "text": [
      "Setting direction: controls < cases\n",
      "\n",
      "Setting direction: controls < cases\n",
      "\n"
     ]
    },
    {
     "name": "stdout",
     "output_type": "stream",
     "text": [
      "Completed running Model 62 ( kernelpls ) of 187 \n",
      "Completed Running method: kernelpls ---AUC_Train: 0.8239134 ---AUC_Test: 0.9076593 \n",
      "Running method: kknn \n",
      "Aggregating results\n",
      "Selecting tuning parameters\n",
      "Fitting kmax = 85, distance = 1.38, kernel = triweight on full training set\n"
     ]
    },
    {
     "name": "stderr",
     "output_type": "stream",
     "text": [
      "Setting direction: controls < cases\n",
      "\n",
      "Setting direction: controls < cases\n",
      "\n"
     ]
    },
    {
     "name": "stdout",
     "output_type": "stream",
     "text": [
      "Completed running Model 63 ( kknn ) of 187 \n",
      "Completed Running method: kknn ---AUC_Train: 0.9869452 ---AUC_Test: 0.8997853 \n",
      "Running method: knn \n",
      "Aggregating results\n",
      "Selecting tuning parameters\n",
      "Fitting k = 107 on full training set\n"
     ]
    },
    {
     "name": "stderr",
     "output_type": "stream",
     "text": [
      "Setting direction: controls < cases\n",
      "\n",
      "Setting direction: controls < cases\n",
      "\n"
     ]
    },
    {
     "name": "stdout",
     "output_type": "stream",
     "text": [
      "Completed running Model 64 ( knn ) of 187 \n",
      "Completed Running method: knn ---AUC_Train: 0.7937721 ---AUC_Test: 0.9130279 \n",
      "Running method: lda \n",
      "Aggregating results\n",
      "Fitting final model on full training set\n"
     ]
    },
    {
     "name": "stderr",
     "output_type": "stream",
     "text": [
      "Setting direction: controls < cases\n",
      "\n",
      "Setting direction: controls < cases\n",
      "\n"
     ]
    },
    {
     "name": "stdout",
     "output_type": "stream",
     "text": [
      "Completed running Model 65 ( lda ) of 187 \n",
      "Completed Running method: lda ---AUC_Train: 0.8239134 ---AUC_Test: 0.9076593 \n",
      "Running method: lda2 \n",
      "Aggregating results\n",
      "Fitting final model on full training set\n"
     ]
    },
    {
     "name": "stderr",
     "output_type": "stream",
     "text": [
      "Setting direction: controls < cases\n",
      "\n",
      "Setting direction: controls < cases\n",
      "\n"
     ]
    },
    {
     "name": "stdout",
     "output_type": "stream",
     "text": [
      "Completed running Model 66 ( lda2 ) of 187 \n",
      "Completed Running method: lda2 ---AUC_Train: 0.8239134 ---AUC_Test: 0.9076593 \n",
      "Running method: Linda \n",
      "Aggregating results\n",
      "Fitting final model on full training set\n"
     ]
    },
    {
     "name": "stderr",
     "output_type": "stream",
     "text": [
      "Setting direction: controls < cases\n",
      "\n",
      "Setting direction: controls < cases\n",
      "\n"
     ]
    },
    {
     "name": "stdout",
     "output_type": "stream",
     "text": [
      "Completed running Model 67 ( Linda ) of 187 \n",
      "Completed Running method: Linda ---AUC_Train: 0.7204611 ---AUC_Test: 0.8007519 \n",
      "Running method: LMT \n",
      "Running method: loclda \n",
      "Aggregating results\n",
      "Selecting tuning parameters\n",
      "Fitting k = 72 on full training set\n"
     ]
    },
    {
     "name": "stderr",
     "output_type": "stream",
     "text": [
      "Setting direction: controls < cases\n",
      "\n",
      "Setting direction: controls < cases\n",
      "\n"
     ]
    },
    {
     "name": "stdout",
     "output_type": "stream",
     "text": [
      "Completed running Model 69 ( loclda ) of 187 \n",
      "Completed Running method: loclda ---AUC_Train: 0.9631393 ---AUC_Test: 0.8511095 \n",
      "Running method: logicBag \n",
      "Running method: LogitBoost \n",
      "Aggregating results\n",
      "Selecting tuning parameters\n",
      "Fitting nIter = 90 on full training set\n"
     ]
    },
    {
     "name": "stderr",
     "output_type": "stream",
     "text": [
      "Setting direction: controls < cases\n",
      "\n",
      "Setting direction: controls < cases\n",
      "\n"
     ]
    },
    {
     "name": "stdout",
     "output_type": "stream",
     "text": [
      "Completed running Model 71 ( LogitBoost ) of 187 \n",
      "Completed Running method: LogitBoost ---AUC_Train: 0.9982722 ---AUC_Test: 0.8990694 \n",
      "Running method: logreg \n"
     ]
    },
    {
     "name": "stderr",
     "output_type": "stream",
     "text": [
      "Warning message in nominalTrainWorkflow(x = x, y = y, wts = weights, info = trainInfo, :\n",
      "\"There were missing values in resampled performance measures.\"\n"
     ]
    },
    {
     "name": "stdout",
     "output_type": "stream",
     "text": [
      "Aggregating results\n",
      "Something is wrong; all the ROC metric values are missing:\n",
      "      ROC           Sens          Spec    \n",
      " Min.   : NA   Min.   : NA   Min.   : NA  \n",
      " 1st Qu.: NA   1st Qu.: NA   1st Qu.: NA  \n",
      " Median : NA   Median : NA   Median : NA  \n",
      " Mean   :NaN   Mean   :NaN   Mean   :NaN  \n",
      " 3rd Qu.: NA   3rd Qu.: NA   3rd Qu.: NA  \n",
      " Max.   : NA   Max.   : NA   Max.   : NA  \n",
      " NA's   :9     NA's   :9     NA's   :9    \n",
      "Running method: lssvmLinear \n"
     ]
    },
    {
     "name": "stderr",
     "output_type": "stream",
     "text": [
      "Warning message in train.default(x, y, weights = w, ...):\n",
      "\"Class probabilities were requested for a model that does not implement them\"\n"
     ]
    },
    {
     "name": "stdout",
     "output_type": "stream",
     "text": [
      "Running method: lssvmPoly \n"
     ]
    },
    {
     "name": "stderr",
     "output_type": "stream",
     "text": [
      "Warning message in train.default(x, y, weights = w, ...):\n",
      "\"Class probabilities were requested for a model that does not implement them\"\n"
     ]
    },
    {
     "name": "stdout",
     "output_type": "stream",
     "text": [
      "Running method: lssvmRadial \n"
     ]
    },
    {
     "name": "stderr",
     "output_type": "stream",
     "text": [
      "Warning message in train.default(x, y, weights = w, ...):\n",
      "\"Class probabilities were requested for a model that does not implement them\"\n"
     ]
    },
    {
     "name": "stdout",
     "output_type": "stream",
     "text": [
      "Running method: lvq \n"
     ]
    },
    {
     "name": "stderr",
     "output_type": "stream",
     "text": [
      "Warning message in train.default(x, y, weights = w, ...):\n",
      "\"Class probabilities were requested for a model that does not implement them\"\n"
     ]
    },
    {
     "name": "stdout",
     "output_type": "stream",
     "text": [
      "Running method: manb \n"
     ]
    },
    {
     "name": "stderr",
     "output_type": "stream",
     "text": [
      "Warning message in nominalTrainWorkflow(x = x, y = y, wts = weights, info = trainInfo, :\n",
      "\"There were missing values in resampled performance measures.\"\n"
     ]
    },
    {
     "name": "stdout",
     "output_type": "stream",
     "text": [
      "Aggregating results\n",
      "Something is wrong; all the ROC metric values are missing:\n",
      "      ROC           Sens          Spec    \n",
      " Min.   : NA   Min.   : NA   Min.   : NA  \n",
      " 1st Qu.: NA   1st Qu.: NA   1st Qu.: NA  \n",
      " Median : NA   Median : NA   Median : NA  \n",
      " Mean   :NaN   Mean   :NaN   Mean   :NaN  \n",
      " 3rd Qu.: NA   3rd Qu.: NA   3rd Qu.: NA  \n",
      " Max.   : NA   Max.   : NA   Max.   : NA  \n",
      " NA's   :3     NA's   :3     NA's   :3    \n",
      "Running method: mda \n",
      "Aggregating results\n",
      "Selecting tuning parameters\n",
      "Fitting subclasses = 2 on full training set\n"
     ]
    },
    {
     "name": "stderr",
     "output_type": "stream",
     "text": [
      "Setting direction: controls < cases\n",
      "\n",
      "Setting direction: controls < cases\n",
      "\n"
     ]
    },
    {
     "name": "stdout",
     "output_type": "stream",
     "text": [
      "Completed running Model 78 ( mda ) of 187 \n",
      "Completed Running method: mda ---AUC_Train: 0.8031024 ---AUC_Test: 0.7838225 \n",
      "Running method: Mlda \n"
     ]
    },
    {
     "name": "stderr",
     "output_type": "stream",
     "text": [
      "Warning message in train.default(x, y, weights = w, ...):\n",
      "\"Class probabilities were requested for a model that does not implement them\"\n"
     ]
    },
    {
     "name": "stdout",
     "output_type": "stream",
     "text": [
      "Running method: mlp \n",
      "Aggregating results\n",
      "Selecting tuning parameters\n",
      "Fitting size = 1 on full training set\n"
     ]
    },
    {
     "name": "stderr",
     "output_type": "stream",
     "text": [
      "Setting direction: controls < cases\n",
      "\n",
      "Setting direction: controls < cases\n",
      "\n"
     ]
    },
    {
     "name": "stdout",
     "output_type": "stream",
     "text": [
      "Completed running Model 80 ( mlp ) of 187 \n",
      "Completed Running method: mlp ---AUC_Train: 0.8159269 ---AUC_Test: 0.8940587 \n",
      "Running method: mlpKerasDecay \n"
     ]
    },
    {
     "name": "stderr",
     "output_type": "stream",
     "text": [
      "Warning message in nominalTrainWorkflow(x = x, y = y, wts = weights, info = trainInfo, :\n",
      "\"There were missing values in resampled performance measures.\"\n"
     ]
    },
    {
     "name": "stdout",
     "output_type": "stream",
     "text": [
      "Aggregating results\n",
      "Something is wrong; all the ROC metric values are missing:\n",
      "      ROC           Sens          Spec    \n",
      " Min.   : NA   Min.   : NA   Min.   : NA  \n",
      " 1st Qu.: NA   1st Qu.: NA   1st Qu.: NA  \n",
      " Median : NA   Median : NA   Median : NA  \n",
      " Mean   :NaN   Mean   :NaN   Mean   :NaN  \n",
      " 3rd Qu.: NA   3rd Qu.: NA   3rd Qu.: NA  \n",
      " Max.   : NA   Max.   : NA   Max.   : NA  \n",
      " NA's   :3     NA's   :3     NA's   :3    \n",
      "Running method: mlpKerasDecayCost \n"
     ]
    },
    {
     "name": "stderr",
     "output_type": "stream",
     "text": [
      "Warning message in nominalTrainWorkflow(x = x, y = y, wts = weights, info = trainInfo, :\n",
      "\"There were missing values in resampled performance measures.\"\n"
     ]
    },
    {
     "name": "stdout",
     "output_type": "stream",
     "text": [
      "Aggregating results\n",
      "Something is wrong; all the ROC metric values are missing:\n",
      "      ROC           Sens          Spec    \n",
      " Min.   : NA   Min.   : NA   Min.   : NA  \n",
      " 1st Qu.: NA   1st Qu.: NA   1st Qu.: NA  \n",
      " Median : NA   Median : NA   Median : NA  \n",
      " Mean   :NaN   Mean   :NaN   Mean   :NaN  \n",
      " 3rd Qu.: NA   3rd Qu.: NA   3rd Qu.: NA  \n",
      " Max.   : NA   Max.   : NA   Max.   : NA  \n",
      " NA's   :3     NA's   :3     NA's   :3    \n",
      "Running method: mlpKerasDropout \n"
     ]
    },
    {
     "name": "stderr",
     "output_type": "stream",
     "text": [
      "Warning message in nominalTrainWorkflow(x = x, y = y, wts = weights, info = trainInfo, :\n",
      "\"There were missing values in resampled performance measures.\"\n"
     ]
    },
    {
     "name": "stdout",
     "output_type": "stream",
     "text": [
      "Aggregating results\n",
      "Something is wrong; all the ROC metric values are missing:\n",
      "      ROC           Sens          Spec    \n",
      " Min.   : NA   Min.   : NA   Min.   : NA  \n",
      " 1st Qu.: NA   1st Qu.: NA   1st Qu.: NA  \n",
      " Median : NA   Median : NA   Median : NA  \n",
      " Mean   :NaN   Mean   :NaN   Mean   :NaN  \n",
      " 3rd Qu.: NA   3rd Qu.: NA   3rd Qu.: NA  \n",
      " Max.   : NA   Max.   : NA   Max.   : NA  \n",
      " NA's   :3     NA's   :3     NA's   :3    \n",
      "Running method: mlpKerasDropoutCost \n"
     ]
    },
    {
     "name": "stderr",
     "output_type": "stream",
     "text": [
      "Warning message in nominalTrainWorkflow(x = x, y = y, wts = weights, info = trainInfo, :\n",
      "\"There were missing values in resampled performance measures.\"\n"
     ]
    },
    {
     "name": "stdout",
     "output_type": "stream",
     "text": [
      "Aggregating results\n",
      "Something is wrong; all the ROC metric values are missing:\n",
      "      ROC           Sens          Spec    \n",
      " Min.   : NA   Min.   : NA   Min.   : NA  \n",
      " 1st Qu.: NA   1st Qu.: NA   1st Qu.: NA  \n",
      " Median : NA   Median : NA   Median : NA  \n",
      " Mean   :NaN   Mean   :NaN   Mean   :NaN  \n",
      " 3rd Qu.: NA   3rd Qu.: NA   3rd Qu.: NA  \n",
      " Max.   : NA   Max.   : NA   Max.   : NA  \n",
      " NA's   :3     NA's   :3     NA's   :3    \n",
      "Running method: mlpML \n",
      "Aggregating results\n",
      "Selecting tuning parameters\n",
      "Fitting layer1 = 13, layer2 = 4, layer3 = 3 on full training set\n"
     ]
    },
    {
     "name": "stderr",
     "output_type": "stream",
     "text": [
      "Setting direction: controls < cases\n",
      "\n",
      "Setting direction: controls < cases\n",
      "\n"
     ]
    },
    {
     "name": "stdout",
     "output_type": "stream",
     "text": [
      "Completed running Model 85 ( mlpML ) of 187 \n",
      "Completed Running method: mlpML ---AUC_Train: 0.8254492 ---AUC_Test: 0.9026485 \n",
      "Running method: mlpSGD \n",
      "Running method: mlpWeightDecay \n",
      "Aggregating results\n",
      "Selecting tuning parameters\n",
      "Fitting size = 8, decay = 0.0107 on full training set\n"
     ]
    },
    {
     "name": "stderr",
     "output_type": "stream",
     "text": [
      "Setting direction: controls < cases\n",
      "\n",
      "Setting direction: controls < cases\n",
      "\n"
     ]
    },
    {
     "name": "stdout",
     "output_type": "stream",
     "text": [
      "Completed running Model 87 ( mlpWeightDecay ) of 187 \n",
      "Completed Running method: mlpWeightDecay ---AUC_Train: 0.8172324 ---AUC_Test: 0.9148175 \n",
      "Running method: mlpWeightDecayML \n",
      "Running method: monmlp \n",
      "Aggregating results\n",
      "Selecting tuning parameters\n",
      "Fitting hidden1 = 16, n.ensemble = 5 on full training set\n",
      "** Ensemble 1 \n",
      "0.08926864 \n",
      "** 0.08926864 \n",
      "\n",
      "** Ensemble 2 \n",
      "0.1466982 \n",
      "** 0.1466982 \n",
      "\n",
      "** Ensemble 3 \n",
      "0.1040131 \n",
      "** 0.1040131 \n",
      "\n",
      "** Ensemble 4 \n",
      "0.1296512 \n",
      "** 0.1296512 \n",
      "\n",
      "** Ensemble 5 \n",
      "0.1628355 \n",
      "** 0.1628355 \n",
      "\n"
     ]
    },
    {
     "name": "stderr",
     "output_type": "stream",
     "text": [
      "Setting direction: controls < cases\n",
      "\n",
      "Setting direction: controls < cases\n",
      "\n"
     ]
    },
    {
     "name": "stdout",
     "output_type": "stream",
     "text": [
      "Completed running Model 89 ( monmlp ) of 187 \n",
      "Completed Running method: monmlp ---AUC_Train: 1 ---AUC_Test: 0.7909807 \n",
      "Running method: msaenet \n",
      "Aggregating results\n",
      "Selecting tuning parameters\n",
      "Fitting alphas = 0.655, nsteps = 4, scale = 3.62 on full training set\n"
     ]
    },
    {
     "name": "stderr",
     "output_type": "stream",
     "text": [
      "Warning message:\n",
      "\"ncvreg() is intended for pathwise optimization, not for single values of lambda.\n",
      "  1. You are strongly encouraged to fit a path and extract the solution at the lambda value of interest, rather than use ncvreg() in this way.\n",
      "  2. In particular, if you are using the MCP or SCAD penalties, be aware that you greatly increase your risk of converging to an inferior local maximum if you do not fit an entire path.\n",
      "  3. You may wish to look at the ncvfit() function, which is intended for non-path (i.e., single-lambda) optimization and allows the user to supply initial values.\"\n",
      "Warning message:\n",
      "\"ncvreg() is intended for pathwise optimization, not for single values of lambda.\n",
      "  1. You are strongly encouraged to fit a path and extract the solution at the lambda value of interest, rather than use ncvreg() in this way.\n",
      "  2. In particular, if you are using the MCP or SCAD penalties, be aware that you greatly increase your risk of converging to an inferior local maximum if you do not fit an entire path.\n",
      "  3. You may wish to look at the ncvfit() function, which is intended for non-path (i.e., single-lambda) optimization and allows the user to supply initial values.\"\n",
      "Warning message:\n",
      "\"ncvreg() is intended for pathwise optimization, not for single values of lambda.\n",
      "  1. You are strongly encouraged to fit a path and extract the solution at the lambda value of interest, rather than use ncvreg() in this way.\n",
      "  2. In particular, if you are using the MCP or SCAD penalties, be aware that you greatly increase your risk of converging to an inferior local maximum if you do not fit an entire path.\n",
      "  3. You may wish to look at the ncvfit() function, which is intended for non-path (i.e., single-lambda) optimization and allows the user to supply initial values.\"\n",
      "Warning message:\n",
      "\"ncvreg() is intended for pathwise optimization, not for single values of lambda.\n",
      "  1. You are strongly encouraged to fit a path and extract the solution at the lambda value of interest, rather than use ncvreg() in this way.\n",
      "  2. In particular, if you are using the MCP or SCAD penalties, be aware that you greatly increase your risk of converging to an inferior local maximum if you do not fit an entire path.\n",
      "  3. You may wish to look at the ncvfit() function, which is intended for non-path (i.e., single-lambda) optimization and allows the user to supply initial values.\"\n",
      "Warning message:\n",
      "\"ncvreg() is intended for pathwise optimization, not for single values of lambda.\n",
      "  1. You are strongly encouraged to fit a path and extract the solution at the lambda value of interest, rather than use ncvreg() in this way.\n",
      "  2. In particular, if you are using the MCP or SCAD penalties, be aware that you greatly increase your risk of converging to an inferior local maximum if you do not fit an entire path.\n",
      "  3. You may wish to look at the ncvfit() function, which is intended for non-path (i.e., single-lambda) optimization and allows the user to supply initial values.\"\n",
      "Setting direction: controls < cases\n",
      "\n",
      "Setting direction: controls < cases\n",
      "\n"
     ]
    },
    {
     "name": "stdout",
     "output_type": "stream",
     "text": [
      "Completed running Model 90 ( msaenet ) of 187 \n",
      "Completed Running method: msaenet ---AUC_Train: 0.8023345 ---AUC_Test: 0.8589835 \n",
      "Running method: multinom \n",
      "Aggregating results\n",
      "Selecting tuning parameters\n",
      "Fitting decay = 0.0228 on full training set\n",
      "# weights:  8 (7 variable)\n",
      "initial  value 289.042374 \n",
      "iter  10 value 109.151076\n",
      "iter  20 value 97.685104\n",
      "final  value 97.684086 \n",
      "converged\n"
     ]
    },
    {
     "name": "stderr",
     "output_type": "stream",
     "text": [
      "Setting direction: controls < cases\n",
      "\n",
      "Setting direction: controls < cases\n",
      "\n"
     ]
    },
    {
     "name": "stdout",
     "output_type": "stream",
     "text": [
      "Completed running Model 91 ( multinom ) of 187 \n",
      "Completed Running method: multinom ---AUC_Train: 0.8160037 ---AUC_Test: 0.8947745 \n",
      "Running method: mxnet \n",
      "Running method: mxnetAdam \n",
      "Running method: naive_bayes \n",
      "Aggregating results\n",
      "Selecting tuning parameters\n",
      "Fitting laplace = 0, usekernel = FALSE, adjust = 1 on full training set\n"
     ]
    },
    {
     "name": "stderr",
     "output_type": "stream",
     "text": [
      "Setting direction: controls < cases\n",
      "\n",
      "Setting direction: controls < cases\n",
      "\n"
     ]
    },
    {
     "name": "stdout",
     "output_type": "stream",
     "text": [
      "Completed running Model 94 ( naive_bayes ) of 187 \n",
      "Completed Running method: naive_bayes ---AUC_Train: 0.7983029 ---AUC_Test: 0.9033644 \n",
      "Running method: nb \n",
      "Aggregating results\n",
      "Selecting tuning parameters\n",
      "Fitting fL = 0, usekernel = FALSE, adjust = 1 on full training set\n"
     ]
    },
    {
     "name": "stderr",
     "output_type": "stream",
     "text": [
      "Warning message in FUN(X[[i]], ...):\n",
      "\"Numerical 0 probability for all classes with observation 23\"\n",
      "Warning message in FUN(X[[i]], ...):\n",
      "\"Numerical 0 probability for all classes with observation 26\"\n",
      "Warning message in FUN(X[[i]], ...):\n",
      "\"Numerical 0 probability for all classes with observation 62\"\n",
      "Warning message in FUN(X[[i]], ...):\n",
      "\"Numerical 0 probability for all classes with observation 290\"\n",
      "Warning message in FUN(X[[i]], ...):\n",
      "\"Numerical 0 probability for all classes with observation 300\"\n",
      "Warning message in FUN(X[[i]], ...):\n",
      "\"Numerical 0 probability for all classes with observation 369\"\n",
      "Warning message in FUN(X[[i]], ...):\n",
      "\"Numerical 0 probability for all classes with observation 406\"\n",
      "Warning message in FUN(X[[i]], ...):\n",
      "\"Numerical 0 probability for all classes with observation 113\"\n",
      "Warning message in FUN(X[[i]], ...):\n",
      "\"Numerical 0 probability for all classes with observation 138\"\n",
      "Warning message in FUN(X[[i]], ...):\n",
      "\"Numerical 0 probability for all classes with observation 23\"\n",
      "Warning message in FUN(X[[i]], ...):\n",
      "\"Numerical 0 probability for all classes with observation 26\"\n",
      "Warning message in FUN(X[[i]], ...):\n",
      "\"Numerical 0 probability for all classes with observation 62\"\n",
      "Warning message in FUN(X[[i]], ...):\n",
      "\"Numerical 0 probability for all classes with observation 290\"\n",
      "Warning message in FUN(X[[i]], ...):\n",
      "\"Numerical 0 probability for all classes with observation 300\"\n",
      "Warning message in FUN(X[[i]], ...):\n",
      "\"Numerical 0 probability for all classes with observation 369\"\n",
      "Warning message in FUN(X[[i]], ...):\n",
      "\"Numerical 0 probability for all classes with observation 406\"\n",
      "Warning message in FUN(X[[i]], ...):\n",
      "\"Numerical 0 probability for all classes with observation 113\"\n",
      "Warning message in FUN(X[[i]], ...):\n",
      "\"Numerical 0 probability for all classes with observation 138\"\n",
      "Warning message in FUN(X[[i]], ...):\n",
      "\"Numerical 0 probability for all classes with observation 23\"\n",
      "Warning message in FUN(X[[i]], ...):\n",
      "\"Numerical 0 probability for all classes with observation 26\"\n",
      "Warning message in FUN(X[[i]], ...):\n",
      "\"Numerical 0 probability for all classes with observation 62\"\n",
      "Warning message in FUN(X[[i]], ...):\n",
      "\"Numerical 0 probability for all classes with observation 290\"\n",
      "Warning message in FUN(X[[i]], ...):\n",
      "\"Numerical 0 probability for all classes with observation 300\"\n",
      "Warning message in FUN(X[[i]], ...):\n",
      "\"Numerical 0 probability for all classes with observation 369\"\n",
      "Warning message in FUN(X[[i]], ...):\n",
      "\"Numerical 0 probability for all classes with observation 406\"\n",
      "Warning message in FUN(X[[i]], ...):\n",
      "\"Numerical 0 probability for all classes with observation 113\"\n",
      "Warning message in FUN(X[[i]], ...):\n",
      "\"Numerical 0 probability for all classes with observation 138\"\n",
      "Setting direction: controls < cases\n",
      "\n",
      "Setting direction: controls < cases\n",
      "\n"
     ]
    },
    {
     "name": "stdout",
     "output_type": "stream",
     "text": [
      "Completed running Model 95 ( nb ) of 187 \n",
      "Completed Running method: nb ---AUC_Train: 0.7983029 ---AUC_Test: 0.9033644 \n",
      "Running method: nbDiscrete \n"
     ]
    },
    {
     "name": "stderr",
     "output_type": "stream",
     "text": [
      "Warning message in nominalTrainWorkflow(x = x, y = y, wts = weights, info = trainInfo, :\n",
      "\"There were missing values in resampled performance measures.\"\n"
     ]
    },
    {
     "name": "stdout",
     "output_type": "stream",
     "text": [
      "Aggregating results\n",
      "Something is wrong; all the ROC metric values are missing:\n",
      "      ROC           Sens          Spec    \n",
      " Min.   : NA   Min.   : NA   Min.   : NA  \n",
      " 1st Qu.: NA   1st Qu.: NA   1st Qu.: NA  \n",
      " Median : NA   Median : NA   Median : NA  \n",
      " Mean   :NaN   Mean   :NaN   Mean   :NaN  \n",
      " 3rd Qu.: NA   3rd Qu.: NA   3rd Qu.: NA  \n",
      " Max.   : NA   Max.   : NA   Max.   : NA  \n",
      " NA's   :3     NA's   :3     NA's   :3    \n",
      "Running method: nbSearch \n"
     ]
    },
    {
     "name": "stderr",
     "output_type": "stream",
     "text": [
      "Warning message in nominalTrainWorkflow(x = x, y = y, wts = weights, info = trainInfo, :\n",
      "\"There were missing values in resampled performance measures.\"\n"
     ]
    },
    {
     "name": "stdout",
     "output_type": "stream",
     "text": [
      "Aggregating results\n",
      "Something is wrong; all the ROC metric values are missing:\n",
      "      ROC           Sens          Spec    \n",
      " Min.   : NA   Min.   : NA   Min.   : NA  \n",
      " 1st Qu.: NA   1st Qu.: NA   1st Qu.: NA  \n",
      " Median : NA   Median : NA   Median : NA  \n",
      " Mean   :NaN   Mean   :NaN   Mean   :NaN  \n",
      " 3rd Qu.: NA   3rd Qu.: NA   3rd Qu.: NA  \n",
      " Max.   : NA   Max.   : NA   Max.   : NA  \n",
      " NA's   :3     NA's   :3     NA's   :3    \n",
      "Running method: nnet \n",
      "Aggregating results\n",
      "Selecting tuning parameters\n",
      "Fitting size = 16, decay = 3.2 on full training set\n",
      "# weights:  129\n",
      "initial  value 588.798500 \n",
      "iter  10 value 219.840254\n",
      "iter  20 value 114.148967\n",
      "iter  30 value 112.443773\n",
      "iter  40 value 112.372652\n",
      "iter  50 value 112.371137\n",
      "iter  60 value 112.370756\n",
      "iter  70 value 112.354164\n",
      "iter  80 value 112.332883\n",
      "final  value 112.332879 \n",
      "converged\n"
     ]
    },
    {
     "name": "stderr",
     "output_type": "stream",
     "text": [
      "Setting direction: controls < cases\n",
      "\n",
      "Setting direction: controls < cases\n",
      "\n"
     ]
    },
    {
     "name": "stdout",
     "output_type": "stream",
     "text": [
      "Completed running Model 98 ( nnet ) of 187 \n",
      "Completed Running method: nnet ---AUC_Train: 0.8211488 ---AUC_Test: 0.9105225 \n",
      "Running method: nodeHarvest \n",
      "Running method: null \n",
      "Aggregating results\n",
      "Fitting final model on full training set\n"
     ]
    },
    {
     "name": "stderr",
     "output_type": "stream",
     "text": [
      "Setting direction: controls < cases\n",
      "\n",
      "Setting direction: controls < cases\n",
      "\n"
     ]
    },
    {
     "name": "stdout",
     "output_type": "stream",
     "text": [
      "Completed running Model 100 ( null ) of 187 \n",
      "Completed Running method: null ---AUC_Train: 0.5 ---AUC_Test: 0.5 \n",
      "Running method: OneR \n",
      "Running method: ordinalNet \n",
      "Aggregating results\n",
      "Selecting tuning parameters\n",
      "Fitting alpha = 0.386, criteria = aic, link = logit, lambda = 2.3, modeltype = parallel, family = cratio on full training set\n"
     ]
    },
    {
     "name": "stderr",
     "output_type": "stream",
     "text": [
      "Setting direction: controls < cases\n",
      "\n",
      "Setting direction: controls < cases\n",
      "\n"
     ]
    },
    {
     "name": "stdout",
     "output_type": "stream",
     "text": [
      "Completed running Model 102 ( ordinalNet ) of 187 \n",
      "Completed Running method: ordinalNet ---AUC_Train: 0.5 ---AUC_Test: 0.5 \n",
      "Running method: ordinalRF \n",
      "Running method: ORFlog \n",
      "Running method: ORFpls \n",
      "Running method: ORFridge \n",
      "Running method: ORFsvm \n",
      "Running method: ownn \n"
     ]
    },
    {
     "name": "stderr",
     "output_type": "stream",
     "text": [
      "Warning message in train.default(x, y, weights = w, ...):\n",
      "\"Class probabilities were requested for a model that does not implement them\"\n"
     ]
    },
    {
     "name": "stdout",
     "output_type": "stream",
     "text": [
      "Running method: pam \n",
      "123456789101112131415161718192021222324252627282930Aggregating results\n",
      "Selecting tuning parameters\n",
      "Fitting threshold = 3.51 on full training set\n",
      "1"
     ]
    },
    {
     "name": "stderr",
     "output_type": "stream",
     "text": [
      "Setting direction: controls < cases\n",
      "\n",
      "Setting direction: controls < cases\n",
      "\n"
     ]
    },
    {
     "name": "stdout",
     "output_type": "stream",
     "text": [
      "Completed running Model 109 ( pam ) of 187 \n",
      "Completed Running method: pam ---AUC_Train: 0.5 ---AUC_Test: 0.5 \n",
      "Running method: parRF \n",
      "Aggregating results\n",
      "Selecting tuning parameters\n",
      "Fitting mtry = 1 on full training set\n"
     ]
    },
    {
     "name": "stderr",
     "output_type": "stream",
     "text": [
      "Setting direction: controls < cases\n",
      "\n",
      "Setting direction: controls < cases\n",
      "\n"
     ]
    },
    {
     "name": "stdout",
     "output_type": "stream",
     "text": [
      "Completed running Model 110 ( parRF ) of 187 \n",
      "Completed Running method: parRF ---AUC_Train: 1 ---AUC_Test: 0.9026485 \n",
      "Running method: PART \n",
      "Running method: partDSA \n"
     ]
    },
    {
     "name": "stderr",
     "output_type": "stream",
     "text": [
      "Warning message in train.default(x, y, weights = w, ...):\n",
      "\"Class probabilities were requested for a model that does not implement them\"\n"
     ]
    },
    {
     "name": "stdout",
     "output_type": "stream",
     "text": [
      "Running method: pcaNNet \n",
      "Aggregating results\n",
      "Selecting tuning parameters\n",
      "Fitting size = 6, decay = 0.275 on full training set\n",
      "# weights:  56\n",
      "initial  value 235.610044 \n",
      "iter  10 value 57.696802\n",
      "iter  20 value 56.566606\n",
      "iter  30 value 56.493658\n",
      "iter  40 value 56.486152\n",
      "iter  50 value 56.470217\n",
      "iter  60 value 56.468255\n",
      "final  value 56.467534 \n",
      "converged\n"
     ]
    },
    {
     "name": "stderr",
     "output_type": "stream",
     "text": [
      "Setting direction: controls < cases\n",
      "\n",
      "Setting direction: controls < cases\n",
      "\n"
     ]
    },
    {
     "name": "stdout",
     "output_type": "stream",
     "text": [
      "Completed running Model 113 ( pcaNNet ) of 187 \n",
      "Completed Running method: pcaNNet ---AUC_Train: 0.8312087 ---AUC_Test: 0.8954903 \n",
      "Running method: pda \n",
      "Aggregating results\n",
      "Selecting tuning parameters\n",
      "Fitting lambda = 0.000108 on full training set\n"
     ]
    },
    {
     "name": "stderr",
     "output_type": "stream",
     "text": [
      "Setting direction: controls < cases\n",
      "\n",
      "Setting direction: controls < cases\n",
      "\n"
     ]
    },
    {
     "name": "stdout",
     "output_type": "stream",
     "text": [
      "Completed running Model 114 ( pda ) of 187 \n",
      "Completed Running method: pda ---AUC_Train: 0.8239134 ---AUC_Test: 0.9076593 \n",
      "Running method: pda2 \n",
      "Aggregating results\n",
      "Selecting tuning parameters\n",
      "Fitting df = 1.04 on full training set\n"
     ]
    },
    {
     "name": "stderr",
     "output_type": "stream",
     "text": [
      "Setting direction: controls < cases\n",
      "\n",
      "Setting direction: controls < cases\n",
      "\n"
     ]
    },
    {
     "name": "stdout",
     "output_type": "stream",
     "text": [
      "Completed running Model 115 ( pda2 ) of 187 \n",
      "Completed Running method: pda2 ---AUC_Train: 0.8203041 ---AUC_Test: 0.9155333 \n",
      "Running method: PenalizedLDA \n"
     ]
    },
    {
     "name": "stderr",
     "output_type": "stream",
     "text": [
      "Warning message in train.default(x, y, weights = w, ...):\n",
      "\"Class probabilities were requested for a model that does not implement them\"\n"
     ]
    },
    {
     "name": "stdout",
     "output_type": "stream",
     "text": [
      "Running method: plr \n",
      "Aggregating results\n",
      "Selecting tuning parameters\n",
      "Fitting lambda = 0.0138, cp = aic on full training set\n"
     ]
    },
    {
     "name": "stderr",
     "output_type": "stream",
     "text": [
      "Setting direction: controls < cases\n",
      "\n",
      "Setting direction: controls < cases\n",
      "\n"
     ]
    },
    {
     "name": "stdout",
     "output_type": "stream",
     "text": [
      "Completed running Model 117 ( plr ) of 187 \n",
      "Completed Running method: plr ---AUC_Train: 0.8159269 ---AUC_Test: 0.8940587 \n",
      "Running method: pls \n",
      "Aggregating results\n",
      "Selecting tuning parameters\n",
      "Fitting ncomp = 1 on full training set\n"
     ]
    },
    {
     "name": "stderr",
     "output_type": "stream",
     "text": [
      "Setting direction: controls < cases\n",
      "\n",
      "Setting direction: controls < cases\n",
      "\n"
     ]
    },
    {
     "name": "stdout",
     "output_type": "stream",
     "text": [
      "Completed running Model 118 ( pls ) of 187 \n",
      "Completed Running method: pls ---AUC_Train: 0.8190754 ---AUC_Test: 0.9155333 \n",
      "Running method: plsRglm \n"
     ]
    },
    {
     "name": "stderr",
     "output_type": "stream",
     "text": [
      "Registered S3 methods overwritten by 'vegan':\n",
      "  method      from\n",
      "  plot.rda    klaR\n",
      "  predict.rda klaR\n",
      "  print.rda   klaR\n",
      "\n"
     ]
    },
    {
     "name": "stdout",
     "output_type": "stream",
     "text": [
      "Aggregating results\n",
      "Selecting tuning parameters\n",
      "Fitting nt = 4, alpha.pvals.expli = 0.0429 on full training set\n"
     ]
    },
    {
     "name": "stderr",
     "output_type": "stream",
     "text": [
      "載入需要的套件：plsRglm\n",
      "\n"
     ]
    },
    {
     "name": "stdout",
     "output_type": "stream",
     "text": [
      "____************************************************____\n",
      "\n",
      "Family: binomial \n",
      "Link function: logit \n",
      "\n",
      "____Component____ 1 ____\n",
      "No more significant predictors (<0.042882328806445) found\n",
      "Warning only 1 components were thus extracted\n",
      "____Predicting X without NA neither in X nor in Y____\n",
      "****________________________________________________****\n",
      "\n"
     ]
    },
    {
     "name": "stderr",
     "output_type": "stream",
     "text": [
      "Setting direction: controls > cases\n",
      "\n",
      "Setting direction: controls > cases\n",
      "\n"
     ]
    },
    {
     "name": "stdout",
     "output_type": "stream",
     "text": [
      "Completed running Model 119 ( plsRglm ) of 187 \n",
      "Completed Running method: plsRglm ---AUC_Train: 0.8189986 ---AUC_Test: 0.9141016 \n",
      "Running method: polr \n"
     ]
    },
    {
     "name": "stderr",
     "output_type": "stream",
     "text": [
      "Warning message in nominalTrainWorkflow(x = x, y = y, wts = weights, info = trainInfo, :\n",
      "\"There were missing values in resampled performance measures.\"\n"
     ]
    },
    {
     "name": "stdout",
     "output_type": "stream",
     "text": [
      "Aggregating results\n",
      "Something is wrong; all the ROC metric values are missing:\n",
      "      ROC           Sens          Spec    \n",
      " Min.   : NA   Min.   : NA   Min.   : NA  \n",
      " 1st Qu.: NA   1st Qu.: NA   1st Qu.: NA  \n",
      " Median : NA   Median : NA   Median : NA  \n",
      " Mean   :NaN   Mean   :NaN   Mean   :NaN  \n",
      " 3rd Qu.: NA   3rd Qu.: NA   3rd Qu.: NA  \n",
      " Max.   : NA   Max.   : NA   Max.   : NA  \n",
      " NA's   :2     NA's   :2     NA's   :2    \n",
      "Running method: pre \n"
     ]
    },
    {
     "name": "stderr",
     "output_type": "stream",
     "text": [
      "Warning message in nominalTrainWorkflow(x = x, y = y, wts = weights, info = trainInfo, :\n",
      "\"There were missing values in resampled performance measures.\"\n"
     ]
    },
    {
     "name": "stdout",
     "output_type": "stream",
     "text": [
      "Aggregating results\n",
      "Something is wrong; all the ROC metric values are missing:\n",
      "      ROC           Sens          Spec    \n",
      " Min.   : NA   Min.   : NA   Min.   : NA  \n",
      " 1st Qu.: NA   1st Qu.: NA   1st Qu.: NA  \n",
      " Median : NA   Median : NA   Median : NA  \n",
      " Mean   :NaN   Mean   :NaN   Mean   :NaN  \n",
      " 3rd Qu.: NA   3rd Qu.: NA   3rd Qu.: NA  \n",
      " Max.   : NA   Max.   : NA   Max.   : NA  \n",
      " NA's   :3     NA's   :3     NA's   :3    \n",
      "Running method: PRIM \n",
      "Aggregating results\n",
      "Selecting tuning parameters\n",
      "Fitting peel.alpha = 0.162, paste.alpha = 0.158, mass.min = 0.193 on full training set\n"
     ]
    },
    {
     "name": "stderr",
     "output_type": "stream",
     "text": [
      "Setting direction: controls < cases\n",
      "\n",
      "Setting direction: controls < cases\n",
      "\n"
     ]
    },
    {
     "name": "stdout",
     "output_type": "stream",
     "text": [
      "Completed running Model 122 ( PRIM ) of 187 \n",
      "Completed Running method: PRIM ---AUC_Train: 0.6101981 ---AUC_Test: 0.682534 \n",
      "Running method: protoclass \n",
      "Running method: qda \n",
      "Aggregating results\n",
      "Fitting final model on full training set\n"
     ]
    },
    {
     "name": "stderr",
     "output_type": "stream",
     "text": [
      "Setting direction: controls < cases\n",
      "\n",
      "Setting direction: controls < cases\n",
      "\n"
     ]
    },
    {
     "name": "stdout",
     "output_type": "stream",
     "text": [
      "Completed running Model 124 ( qda ) of 187 \n",
      "Completed Running method: qda ---AUC_Train: 0.8248349 ---AUC_Test: 0.7465999 \n",
      "Running method: QdaCov \n",
      "Aggregating results\n",
      "Fitting final model on full training set\n"
     ]
    },
    {
     "name": "stderr",
     "output_type": "stream",
     "text": [
      "Setting direction: controls < cases\n",
      "\n",
      "Setting direction: controls < cases\n",
      "\n"
     ]
    }
   ],
   "source": [
    "for (i in 1:length(modellist1)){\n",
    "    skip_to_next_error <- FALSE\n",
    "    cat(\"Running method:\", modellist1[i], \"\\n\")\n",
    "    tryCatch(modelfit<-train(death~.,\n",
    "                             data=training,\n",
    "                             method=modellist1[i],\n",
    "                             preProc=c(\"center\",\"scale\"),\n",
    "                             metric=\"ROC\",\n",
    "                             tuneLength=3,\n",
    "                             trControl=fitControl),\n",
    "                             error=function(e){skip_to_next_error <<- TRUE})\n",
    "    if(skip_to_next_error) {next}   \n",
    "    predictions_train=predict(modelfit,newdata=training)\n",
    "    predictions_test=predict(modelfit,newdata=testing)\n",
    "    predictions_train\n",
    "    predictions_test\n",
    "    confusionMatrix(predict(modelfit,training),training$death)\n",
    "    confusionMatrix(predict(modelfit,testing),testing$death)\n",
    "    train_results=predict(modelfit,training,type=\"prob\")\n",
    "    test_results=predict(modelfit,testing,type=\"prob\")\n",
    "    train_results$obs=training$death\n",
    "    train_results$pred=predictions_train\n",
    "    test_results$obs=testing$death\n",
    "    test_results$pred=predictions_test\n",
    "    ROC_train<-roc(training$death,train_results[,\"Death\"],levels=c(\"Survival\",\"Death\"))\n",
    "    ROC_test<-roc(testing$death,test_results[,\"Death\"],levels=c(\"Survival\",\"Death\"))\n",
    "    AUC_train1[i]=ROC_train[9]$auc\n",
    "    AUC_test1[i]=ROC_test[9]$auc\n",
    "    cat('Completed running Model', i, '(',modellist1[i],')','of', length(modellist1),'\\n')\n",
    "    cat('Completed Running method:', modellist1[i], '---AUC_Train:', ROC_train[9]$auc, '---AUC_Test:', ROC_test[9]$auc, '\\n')\n",
    "    gc()\n",
    "  }"
   ]
  },
  {
   "cell_type": "code",
   "execution_count": 10,
   "id": "2c4dd3b7",
   "metadata": {},
   "outputs": [
    {
     "name": "stdout",
     "output_type": "stream",
     "text": [
      "    AUC_train1 AUC_test1          Algorithms\n",
      "1    1.0000000 0.7888332                 ada\n",
      "2    1.0000000 0.8296349              AdaBag\n",
      "3    0.0000000 0.0000000            adaboost\n",
      "4    1.0000000 0.7845383         AdaBoost.M1\n",
      "5    0.0000000 0.0000000               amdai\n",
      "6    0.8742897 0.7838225              avNNet\n",
      "7    0.0000000 0.0000000                awnb\n",
      "8    0.0000000 0.0000000               awtan\n",
      "9    0.0000000 0.0000000                 bag\n",
      "10   0.8388496 0.7752326            bagEarth\n",
      "11   0.9497773 0.7136722         bagEarthGCV\n",
      "12   0.9089234 0.7716535              bagFDA\n",
      "13   0.9344955 0.7480315           bagFDAGCV\n",
      "14   0.8714483 0.7680744                 bam\n",
      "15   0.0000000 0.0000000         bartMachine\n",
      "16   0.8577023 0.7845383            bayesglm\n",
      "17   0.0000000 0.0000000               binda\n",
      "18   0.8950238 0.8052971          blackboost\n",
      "19   0.0000000 0.0000000               BstLm\n",
      "20   0.0000000 0.0000000               bstSm\n",
      "21   0.0000000 0.0000000             bstTree\n",
      "22   0.9067732 0.7662849                C5.0\n",
      "23   0.0000000 0.0000000            C5.0Cost\n",
      "24   0.5735294 0.4921260           C5.0Rules\n",
      "25   0.7199355 0.5712241            C5.0Tree\n",
      "26   0.9293503 0.7866858             cforest\n",
      "27   0.0000000 0.0000000               chaid\n",
      "28   0.0000000 0.0000000              CSimca\n",
      "29   0.8484488 0.7000716               ctree\n",
      "30   0.9050837 0.6295634              ctree2\n",
      "31   0.0000000 0.0000000                 dda\n",
      "32   0.0000000 0.0000000           deepboost\n",
      "33   0.7684687 0.6034359                 dnn\n",
      "34   0.8578559 0.8081603           dwdLinear\n",
      "35   0.8575488 0.8074445             dwdPoly\n",
      "36   0.9977730 0.7566213           dwdRadial\n",
      "37   0.8692597 0.6832498               earth\n",
      "38   0.0000000 0.0000000                 elm\n",
      "39   0.5709184 0.5218325              evtree\n",
      "40   0.0000000 0.0000000          extraTrees\n",
      "41   0.9044694 0.7015032                 fda\n",
      "42   0.0000000 0.0000000             FH.GBML\n",
      "43   0.0000000 0.0000000           FRBCS.CHI\n",
      "44   0.0000000 0.0000000             FRBCS.W\n",
      "45   0.8771310 0.7423049                 gam\n",
      "46   0.8578559 0.8074445         gaussprPoly\n",
      "47   0.9997696 0.7079456       gaussprRadial\n",
      "48   1.0000000 0.8095920                 gbm\n",
      "49   0.0000000 0.0000000             gbm_h2o\n",
      "50   0.9177546 0.6921976            gcvEarth\n",
      "51   0.8574720 0.7831067                 glm\n",
      "52   0.8573952 0.7838225            glmboost\n",
      "53   0.8624635 0.8010021              glmnet\n",
      "54   0.0000000 0.0000000          glmnet_h2o\n",
      "55   0.8510213 0.7501790          glmStepAIC\n",
      "56   0.0000000 0.0000000                gpls\n",
      "57   0.7195899 0.6084467                 hda\n",
      "58   0.8248349 0.7974230                hdda\n",
      "59   0.0000000 0.0000000               hdrda\n",
      "60   0.0000000 0.0000000                 J48\n",
      "61   0.0000000 0.0000000                JRip\n",
      "62   0.8656120 0.7845383           kernelpls\n",
      "63   0.9977730 0.7147459                kknn\n",
      "64   0.8473353 0.7555476                 knn\n",
      "65   0.8656120 0.7831067                 lda\n",
      "66   0.8656120 0.7831067                lda2\n",
      "67   0.7285465 0.7068966               Linda\n",
      "68   0.0000000 0.0000000                 LMT\n",
      "69   0.9520043 0.7802434              loclda\n",
      "70   0.0000000 0.0000000            logicBag\n",
      "71   0.9824912 0.7448103          LogitBoost\n",
      "72   0.0000000 0.0000000              logreg\n",
      "73   0.0000000 0.0000000         lssvmLinear\n",
      "74   0.0000000 0.0000000           lssvmPoly\n",
      "75   0.0000000 0.0000000         lssvmRadial\n",
      "76   0.0000000 0.0000000                 lvq\n",
      "77   0.0000000 0.0000000                manb\n",
      "78   0.8448779 0.7995705                 mda\n",
      "79   0.0000000 0.0000000                Mlda\n",
      "80   0.8849639 0.7780959                 mlp\n",
      "81   0.0000000 0.0000000       mlpKerasDecay\n",
      "82   0.0000000 0.0000000   mlpKerasDecayCost\n",
      "83   0.0000000 0.0000000     mlpKerasDropout\n",
      "84   0.0000000 0.0000000 mlpKerasDropoutCost\n",
      "85   0.8624635 0.7780959               mlpML\n",
      "86   0.0000000 0.0000000              mlpSGD\n",
      "87   0.8592382 0.8067287      mlpWeightDecay\n",
      "88   0.0000000 0.0000000    mlpWeightDecayML\n",
      "89   0.9058516 0.7916965              monmlp\n",
      "90   0.8356627 0.7644953             msaenet\n",
      "91   0.8580095 0.7852541            multinom\n",
      "92   0.0000000 0.0000000               mxnet\n",
      "93   0.0000000 0.0000000           mxnetAdam\n",
      "94   0.8401167 0.7945598         naive_bayes\n",
      "95   0.8401167 0.7945598                  nb\n",
      "96   0.0000000 0.0000000          nbDiscrete\n",
      "97   0.0000000 0.0000000            nbSearch\n",
      "98   0.9941637 0.6456693                nnet\n",
      "99   0.0000000 0.0000000         nodeHarvest\n",
      "100  0.5000000 0.5000000                null\n",
      "101  0.0000000 0.0000000                OneR\n",
      "102  0.5000000 0.5000000          ordinalNet\n",
      "103  0.0000000 0.0000000           ordinalRF\n",
      "104  0.0000000 0.0000000              ORFlog\n",
      "105  0.0000000 0.0000000              ORFpls\n",
      "106  0.0000000 0.0000000            ORFridge\n",
      "107  0.0000000 0.0000000              ORFsvm\n",
      "108  0.0000000 0.0000000                ownn\n",
      "109  0.8173476 0.7308518                 pam\n",
      "110  1.0000000 0.7916965               parRF\n",
      "111  0.0000000 0.0000000                PART\n",
      "112  0.0000000 0.0000000             partDSA\n",
      "113  0.8582399 0.8067287             pcaNNet\n",
      "114  0.8655352 0.7845383                 pda\n",
      "115  0.8611580 0.8052971                pda2\n",
      "116  0.0000000 0.0000000        PenalizedLDA\n",
      "117  0.8590846 0.7888332                 plr\n",
      "118  0.8663032 0.7874016                 pls\n",
      "119  0.8611580 0.8024338             plsRglm\n",
      "120  0.0000000 0.0000000                polr\n",
      "121  0.0000000 0.0000000                 pre\n",
      "122  0.6241745 0.6345741                PRIM\n",
      "123  0.0000000 0.0000000          protoclass\n",
      "124  0.8351252 0.7494631                 qda\n",
      "125  0.6946412 0.6386555              QdaCov\n",
      "126  0.0000000 0.0000000           randomGLM\n",
      "127  0.9974658 0.7874016              ranger\n",
      "128  0.0000000 0.0000000                 rbf\n",
      "129  0.0000000 0.0000000              rbfDDA\n",
      "130  0.0000000 0.0000000             Rborist\n",
      "131  0.0000000 0.0000000                 rda\n",
      "132  0.0000000 0.0000000         regLogistic\n",
      "133  0.0000000 0.0000000                  rf\n",
      "134  0.0000000 0.0000000              rFerns\n",
      "135  0.0000000 0.0000000               RFlda\n",
      "136  0.0000000 0.0000000             rfRules\n",
      "137  0.0000000 0.0000000                rlda\n",
      "138  0.0000000 0.0000000                rmda\n",
      "139  0.0000000 0.0000000                rocc\n",
      "140  0.0000000 0.0000000      rotationForest\n",
      "141  0.0000000 0.0000000    rotationForestCp\n",
      "142  0.0000000 0.0000000               rpart\n",
      "143  0.0000000 0.0000000            rpart1SE\n",
      "144  0.0000000 0.0000000              rpart2\n",
      "145  0.0000000 0.0000000           rpartCost\n",
      "146  0.0000000 0.0000000          rpartScore\n",
      "147  0.0000000 0.0000000                 RRF\n",
      "148  0.0000000 0.0000000           RRFglobal\n",
      "149  0.0000000 0.0000000               rrlda\n",
      "150  0.0000000 0.0000000              RSimca\n",
      "151  0.0000000 0.0000000                 sda\n",
      "152  0.0000000 0.0000000                sdwd\n",
      "153  0.0000000 0.0000000              simpls\n",
      "154  0.0000000 0.0000000               SLAVE\n",
      "155  0.0000000 0.0000000                slda\n",
      "156  0.0000000 0.0000000                smda\n",
      "157  0.0000000 0.0000000                 snn\n",
      "158  0.0000000 0.0000000           sparseLDA\n",
      "159  0.0000000 0.0000000                spls\n",
      "160  0.0000000 0.0000000             stepLDA\n",
      "161  0.0000000 0.0000000             stepQDA\n",
      "162  0.0000000 0.0000000 svmBoundrangeString\n",
      "163  0.0000000 0.0000000       svmExpoString\n",
      "164  0.0000000 0.0000000           svmLinear\n",
      "165  0.0000000 0.0000000          svmLinear2\n",
      "166  0.0000000 0.0000000          svmLinear3\n",
      "167  0.0000000 0.0000000    svmLinearWeights\n",
      "168  0.0000000 0.0000000   svmLinearWeights2\n",
      "169  0.0000000 0.0000000             svmPoly\n",
      "170  0.0000000 0.0000000           svmRadial\n",
      "171  0.0000000 0.0000000       svmRadialCost\n",
      "172  0.0000000 0.0000000      svmRadialSigma\n",
      "173  0.0000000 0.0000000    svmRadialWeights\n",
      "174  0.0000000 0.0000000   svmSpectrumString\n",
      "175  0.0000000 0.0000000                 tan\n",
      "176  0.0000000 0.0000000           tanSearch\n",
      "177  0.0000000 0.0000000             treebag\n",
      "178  0.0000000 0.0000000          vbmpRadial\n",
      "179  0.0000000 0.0000000          vglmAdjCat\n",
      "180  0.0000000 0.0000000       vglmContRatio\n",
      "181  0.0000000 0.0000000      vglmCumulative\n",
      "182  0.0000000 0.0000000       widekernelpls\n",
      "183  0.0000000 0.0000000                wsrf\n",
      "184  0.0000000 0.0000000             xgbDART\n",
      "185  0.0000000 0.0000000           xgbLinear\n",
      "186  0.0000000 0.0000000             xgbTree\n",
      "187  0.0000000 0.0000000                 xyf\n"
     ]
    }
   ],
   "source": [
    "AUC1=cbind(AUC_train1,AUC_test1)\n",
    "AUC1=as.data.frame(AUC1)\n",
    "AUC1$Algorithms<-modellist1\n",
    "print(AUC1)"
   ]
  },
  {
   "cell_type": "code",
   "execution_count": 12,
   "id": "6c12fa47",
   "metadata": {},
   "outputs": [
    {
     "data": {
      "text/html": [
       "<style>\n",
       ".list-inline {list-style: none; margin:0; padding: 0}\n",
       ".list-inline>li {display: inline-block}\n",
       ".list-inline>li:not(:last-child)::after {content: \"\\00b7\"; padding: 0 .5ex}\n",
       "</style>\n",
       "<ol class=list-inline><li>100</li><li>2</li></ol>\n"
      ],
      "text/latex": [
       "\\begin{enumerate*}\n",
       "\\item 100\n",
       "\\item 2\n",
       "\\end{enumerate*}\n"
      ],
      "text/markdown": [
       "1. 100\n",
       "2. 2\n",
       "\n",
       "\n"
      ],
      "text/plain": [
       "[1] 100   2"
      ]
     },
     "metadata": {},
     "output_type": "display_data"
    }
   ],
   "source": [
    "dim(AUC1)"
   ]
  },
  {
   "cell_type": "code",
   "execution_count": 11,
   "id": "cf6aeace",
   "metadata": {},
   "outputs": [
    {
     "data": {
      "text/html": [
       "<style>\n",
       ".list-inline {list-style: none; margin:0; padding: 0}\n",
       ".list-inline>li {display: inline-block}\n",
       ".list-inline>li:not(:last-child)::after {content: \"\\00b7\"; padding: 0 .5ex}\n",
       "</style>\n",
       "<ol class=list-inline><li>'gamLoess'</li><li>'gamLoess'</li><li>'gamSpline'</li><li>'gaussprLinear'</li><li>'gaussprPoly'</li><li>'gaussprPoly'</li><li>'gaussprRadial'</li><li>'gbm'</li><li>'gbm'</li><li>'gbm'</li><li>'gbm'</li><li>'gbm_h2o'</li><li>'gbm_h2o'</li><li>'gbm_h2o'</li><li>'gbm_h2o'</li><li>'gbm_h2o'</li><li>'gcvEarth'</li><li>'glm'</li><li>'glmboost'</li><li>'glmboost'</li><li>'glmnet'</li><li>'glmnet'</li><li>'glmnet_h2o'</li><li>'glmnet_h2o'</li><li>'glmStepAIC'</li><li>'gpls'</li><li>'hda'</li><li>'hda'</li><li>'hda'</li><li>'hdda'</li><li>'hdda'</li><li>'hdrda'</li><li>'hdrda'</li><li>'hdrda'</li><li>'J48'</li><li>'J48'</li><li>'JRip'</li><li>'JRip'</li><li>'JRip'</li><li>'kernelpls'</li><li>'kknn'</li><li>'kknn'</li><li>'kknn'</li><li>'knn'</li><li>'lda'</li><li>'lda2'</li><li>'Linda'</li><li>'LMT'</li><li>'loclda'</li><li>'logicBag'</li><li>'logicBag'</li><li>'LogitBoost'</li><li>'logreg'</li><li>'logreg'</li><li>'lssvmLinear'</li><li>'lssvmPoly'</li><li>'lssvmPoly'</li><li>'lssvmPoly'</li><li>'lssvmRadial'</li><li>'lssvmRadial'</li><li>'lvq'</li><li>'lvq'</li><li>'manb'</li><li>'manb'</li><li>'mda'</li><li>'Mlda'</li><li>'mlp'</li><li>'mlpKerasDecay'</li><li>'mlpKerasDecay'</li><li>'mlpKerasDecay'</li><li>'mlpKerasDecay'</li><li>'mlpKerasDecay'</li><li>'mlpKerasDecay'</li><li>'mlpKerasDecay'</li><li>'mlpKerasDecayCost'</li><li>'mlpKerasDecayCost'</li><li>'mlpKerasDecayCost'</li><li>'mlpKerasDecayCost'</li><li>'mlpKerasDecayCost'</li><li>'mlpKerasDecayCost'</li><li>'mlpKerasDecayCost'</li><li>'mlpKerasDecayCost'</li><li>'mlpKerasDropout'</li><li>'mlpKerasDropout'</li><li>'mlpKerasDropout'</li><li>'mlpKerasDropout'</li><li>'mlpKerasDropout'</li><li>'mlpKerasDropout'</li><li>'mlpKerasDropout'</li><li>'mlpKerasDropoutCost'</li><li>'mlpKerasDropoutCost'</li><li>'mlpKerasDropoutCost'</li><li>'mlpKerasDropoutCost'</li><li>'mlpKerasDropoutCost'</li><li>'mlpKerasDropoutCost'</li><li>'mlpKerasDropoutCost'</li><li>'mlpKerasDropoutCost'</li><li>'mlpML'</li><li>'mlpML'</li><li>'mlpML'</li></ol>\n"
      ],
      "text/latex": [
       "\\begin{enumerate*}\n",
       "\\item 'gamLoess'\n",
       "\\item 'gamLoess'\n",
       "\\item 'gamSpline'\n",
       "\\item 'gaussprLinear'\n",
       "\\item 'gaussprPoly'\n",
       "\\item 'gaussprPoly'\n",
       "\\item 'gaussprRadial'\n",
       "\\item 'gbm'\n",
       "\\item 'gbm'\n",
       "\\item 'gbm'\n",
       "\\item 'gbm'\n",
       "\\item 'gbm\\_h2o'\n",
       "\\item 'gbm\\_h2o'\n",
       "\\item 'gbm\\_h2o'\n",
       "\\item 'gbm\\_h2o'\n",
       "\\item 'gbm\\_h2o'\n",
       "\\item 'gcvEarth'\n",
       "\\item 'glm'\n",
       "\\item 'glmboost'\n",
       "\\item 'glmboost'\n",
       "\\item 'glmnet'\n",
       "\\item 'glmnet'\n",
       "\\item 'glmnet\\_h2o'\n",
       "\\item 'glmnet\\_h2o'\n",
       "\\item 'glmStepAIC'\n",
       "\\item 'gpls'\n",
       "\\item 'hda'\n",
       "\\item 'hda'\n",
       "\\item 'hda'\n",
       "\\item 'hdda'\n",
       "\\item 'hdda'\n",
       "\\item 'hdrda'\n",
       "\\item 'hdrda'\n",
       "\\item 'hdrda'\n",
       "\\item 'J48'\n",
       "\\item 'J48'\n",
       "\\item 'JRip'\n",
       "\\item 'JRip'\n",
       "\\item 'JRip'\n",
       "\\item 'kernelpls'\n",
       "\\item 'kknn'\n",
       "\\item 'kknn'\n",
       "\\item 'kknn'\n",
       "\\item 'knn'\n",
       "\\item 'lda'\n",
       "\\item 'lda2'\n",
       "\\item 'Linda'\n",
       "\\item 'LMT'\n",
       "\\item 'loclda'\n",
       "\\item 'logicBag'\n",
       "\\item 'logicBag'\n",
       "\\item 'LogitBoost'\n",
       "\\item 'logreg'\n",
       "\\item 'logreg'\n",
       "\\item 'lssvmLinear'\n",
       "\\item 'lssvmPoly'\n",
       "\\item 'lssvmPoly'\n",
       "\\item 'lssvmPoly'\n",
       "\\item 'lssvmRadial'\n",
       "\\item 'lssvmRadial'\n",
       "\\item 'lvq'\n",
       "\\item 'lvq'\n",
       "\\item 'manb'\n",
       "\\item 'manb'\n",
       "\\item 'mda'\n",
       "\\item 'Mlda'\n",
       "\\item 'mlp'\n",
       "\\item 'mlpKerasDecay'\n",
       "\\item 'mlpKerasDecay'\n",
       "\\item 'mlpKerasDecay'\n",
       "\\item 'mlpKerasDecay'\n",
       "\\item 'mlpKerasDecay'\n",
       "\\item 'mlpKerasDecay'\n",
       "\\item 'mlpKerasDecay'\n",
       "\\item 'mlpKerasDecayCost'\n",
       "\\item 'mlpKerasDecayCost'\n",
       "\\item 'mlpKerasDecayCost'\n",
       "\\item 'mlpKerasDecayCost'\n",
       "\\item 'mlpKerasDecayCost'\n",
       "\\item 'mlpKerasDecayCost'\n",
       "\\item 'mlpKerasDecayCost'\n",
       "\\item 'mlpKerasDecayCost'\n",
       "\\item 'mlpKerasDropout'\n",
       "\\item 'mlpKerasDropout'\n",
       "\\item 'mlpKerasDropout'\n",
       "\\item 'mlpKerasDropout'\n",
       "\\item 'mlpKerasDropout'\n",
       "\\item 'mlpKerasDropout'\n",
       "\\item 'mlpKerasDropout'\n",
       "\\item 'mlpKerasDropoutCost'\n",
       "\\item 'mlpKerasDropoutCost'\n",
       "\\item 'mlpKerasDropoutCost'\n",
       "\\item 'mlpKerasDropoutCost'\n",
       "\\item 'mlpKerasDropoutCost'\n",
       "\\item 'mlpKerasDropoutCost'\n",
       "\\item 'mlpKerasDropoutCost'\n",
       "\\item 'mlpKerasDropoutCost'\n",
       "\\item 'mlpML'\n",
       "\\item 'mlpML'\n",
       "\\item 'mlpML'\n",
       "\\end{enumerate*}\n"
      ],
      "text/markdown": [
       "1. 'gamLoess'\n",
       "2. 'gamLoess'\n",
       "3. 'gamSpline'\n",
       "4. 'gaussprLinear'\n",
       "5. 'gaussprPoly'\n",
       "6. 'gaussprPoly'\n",
       "7. 'gaussprRadial'\n",
       "8. 'gbm'\n",
       "9. 'gbm'\n",
       "10. 'gbm'\n",
       "11. 'gbm'\n",
       "12. 'gbm_h2o'\n",
       "13. 'gbm_h2o'\n",
       "14. 'gbm_h2o'\n",
       "15. 'gbm_h2o'\n",
       "16. 'gbm_h2o'\n",
       "17. 'gcvEarth'\n",
       "18. 'glm'\n",
       "19. 'glmboost'\n",
       "20. 'glmboost'\n",
       "21. 'glmnet'\n",
       "22. 'glmnet'\n",
       "23. 'glmnet_h2o'\n",
       "24. 'glmnet_h2o'\n",
       "25. 'glmStepAIC'\n",
       "26. 'gpls'\n",
       "27. 'hda'\n",
       "28. 'hda'\n",
       "29. 'hda'\n",
       "30. 'hdda'\n",
       "31. 'hdda'\n",
       "32. 'hdrda'\n",
       "33. 'hdrda'\n",
       "34. 'hdrda'\n",
       "35. 'J48'\n",
       "36. 'J48'\n",
       "37. 'JRip'\n",
       "38. 'JRip'\n",
       "39. 'JRip'\n",
       "40. 'kernelpls'\n",
       "41. 'kknn'\n",
       "42. 'kknn'\n",
       "43. 'kknn'\n",
       "44. 'knn'\n",
       "45. 'lda'\n",
       "46. 'lda2'\n",
       "47. 'Linda'\n",
       "48. 'LMT'\n",
       "49. 'loclda'\n",
       "50. 'logicBag'\n",
       "51. 'logicBag'\n",
       "52. 'LogitBoost'\n",
       "53. 'logreg'\n",
       "54. 'logreg'\n",
       "55. 'lssvmLinear'\n",
       "56. 'lssvmPoly'\n",
       "57. 'lssvmPoly'\n",
       "58. 'lssvmPoly'\n",
       "59. 'lssvmRadial'\n",
       "60. 'lssvmRadial'\n",
       "61. 'lvq'\n",
       "62. 'lvq'\n",
       "63. 'manb'\n",
       "64. 'manb'\n",
       "65. 'mda'\n",
       "66. 'Mlda'\n",
       "67. 'mlp'\n",
       "68. 'mlpKerasDecay'\n",
       "69. 'mlpKerasDecay'\n",
       "70. 'mlpKerasDecay'\n",
       "71. 'mlpKerasDecay'\n",
       "72. 'mlpKerasDecay'\n",
       "73. 'mlpKerasDecay'\n",
       "74. 'mlpKerasDecay'\n",
       "75. 'mlpKerasDecayCost'\n",
       "76. 'mlpKerasDecayCost'\n",
       "77. 'mlpKerasDecayCost'\n",
       "78. 'mlpKerasDecayCost'\n",
       "79. 'mlpKerasDecayCost'\n",
       "80. 'mlpKerasDecayCost'\n",
       "81. 'mlpKerasDecayCost'\n",
       "82. 'mlpKerasDecayCost'\n",
       "83. 'mlpKerasDropout'\n",
       "84. 'mlpKerasDropout'\n",
       "85. 'mlpKerasDropout'\n",
       "86. 'mlpKerasDropout'\n",
       "87. 'mlpKerasDropout'\n",
       "88. 'mlpKerasDropout'\n",
       "89. 'mlpKerasDropout'\n",
       "90. 'mlpKerasDropoutCost'\n",
       "91. 'mlpKerasDropoutCost'\n",
       "92. 'mlpKerasDropoutCost'\n",
       "93. 'mlpKerasDropoutCost'\n",
       "94. 'mlpKerasDropoutCost'\n",
       "95. 'mlpKerasDropoutCost'\n",
       "96. 'mlpKerasDropoutCost'\n",
       "97. 'mlpKerasDropoutCost'\n",
       "98. 'mlpML'\n",
       "99. 'mlpML'\n",
       "100. 'mlpML'\n",
       "\n",
       "\n"
      ],
      "text/plain": [
       "  [1] \"gamLoess\"            \"gamLoess\"            \"gamSpline\"          \n",
       "  [4] \"gaussprLinear\"       \"gaussprPoly\"         \"gaussprPoly\"        \n",
       "  [7] \"gaussprRadial\"       \"gbm\"                 \"gbm\"                \n",
       " [10] \"gbm\"                 \"gbm\"                 \"gbm_h2o\"            \n",
       " [13] \"gbm_h2o\"             \"gbm_h2o\"             \"gbm_h2o\"            \n",
       " [16] \"gbm_h2o\"             \"gcvEarth\"            \"glm\"                \n",
       " [19] \"glmboost\"            \"glmboost\"            \"glmnet\"             \n",
       " [22] \"glmnet\"              \"glmnet_h2o\"          \"glmnet_h2o\"         \n",
       " [25] \"glmStepAIC\"          \"gpls\"                \"hda\"                \n",
       " [28] \"hda\"                 \"hda\"                 \"hdda\"               \n",
       " [31] \"hdda\"                \"hdrda\"               \"hdrda\"              \n",
       " [34] \"hdrda\"               \"J48\"                 \"J48\"                \n",
       " [37] \"JRip\"                \"JRip\"                \"JRip\"               \n",
       " [40] \"kernelpls\"           \"kknn\"                \"kknn\"               \n",
       " [43] \"kknn\"                \"knn\"                 \"lda\"                \n",
       " [46] \"lda2\"                \"Linda\"               \"LMT\"                \n",
       " [49] \"loclda\"              \"logicBag\"            \"logicBag\"           \n",
       " [52] \"LogitBoost\"          \"logreg\"              \"logreg\"             \n",
       " [55] \"lssvmLinear\"         \"lssvmPoly\"           \"lssvmPoly\"          \n",
       " [58] \"lssvmPoly\"           \"lssvmRadial\"         \"lssvmRadial\"        \n",
       " [61] \"lvq\"                 \"lvq\"                 \"manb\"               \n",
       " [64] \"manb\"                \"mda\"                 \"Mlda\"               \n",
       " [67] \"mlp\"                 \"mlpKerasDecay\"       \"mlpKerasDecay\"      \n",
       " [70] \"mlpKerasDecay\"       \"mlpKerasDecay\"       \"mlpKerasDecay\"      \n",
       " [73] \"mlpKerasDecay\"       \"mlpKerasDecay\"       \"mlpKerasDecayCost\"  \n",
       " [76] \"mlpKerasDecayCost\"   \"mlpKerasDecayCost\"   \"mlpKerasDecayCost\"  \n",
       " [79] \"mlpKerasDecayCost\"   \"mlpKerasDecayCost\"   \"mlpKerasDecayCost\"  \n",
       " [82] \"mlpKerasDecayCost\"   \"mlpKerasDropout\"     \"mlpKerasDropout\"    \n",
       " [85] \"mlpKerasDropout\"     \"mlpKerasDropout\"     \"mlpKerasDropout\"    \n",
       " [88] \"mlpKerasDropout\"     \"mlpKerasDropout\"     \"mlpKerasDropoutCost\"\n",
       " [91] \"mlpKerasDropoutCost\" \"mlpKerasDropoutCost\" \"mlpKerasDropoutCost\"\n",
       " [94] \"mlpKerasDropoutCost\" \"mlpKerasDropoutCost\" \"mlpKerasDropoutCost\"\n",
       " [97] \"mlpKerasDropoutCost\" \"mlpML\"               \"mlpML\"              \n",
       "[100] \"mlpML\"              "
      ]
     },
     "metadata": {},
     "output_type": "display_data"
    }
   ],
   "source": [
    "modellist2=model_caret_forclass$model[101:200]\n",
    "modellist2\n",
    "AUC_train2=array(0,length(modellist2))\n",
    "AUC_test2=array(0,length(modellist2))"
   ]
  },
  {
   "cell_type": "code",
   "execution_count": 12,
   "id": "0f8d809e",
   "metadata": {},
   "outputs": [
    {
     "name": "stdout",
     "output_type": "stream",
     "text": [
      "Running method: gamLoess \n",
      "Running method: gamLoess \n",
      "Running method: gamSpline \n",
      "Running method: gaussprLinear \n",
      "Running method: gaussprPoly \n",
      "Running method: gaussprPoly \n",
      "Running method: gaussprRadial \n",
      "Running method: gbm \n",
      "Running method: gbm \n",
      "Running method: gbm \n",
      "Running method: gbm \n",
      "Running method: gbm_h2o \n",
      "Running method: gbm_h2o \n",
      "Running method: gbm_h2o \n",
      "Running method: gbm_h2o \n",
      "Running method: gbm_h2o \n",
      "Running method: gcvEarth \n",
      "Running method: glm \n",
      "Running method: glmboost \n",
      "Running method: glmboost \n",
      "Running method: glmnet \n",
      "Running method: glmnet \n",
      "Running method: glmnet_h2o \n",
      "Running method: glmnet_h2o \n",
      "Running method: glmStepAIC \n",
      "Running method: gpls \n",
      "Running method: hda \n",
      "Running method: hda \n",
      "Running method: hda \n",
      "Running method: hdda \n",
      "Running method: hdda \n",
      "Running method: hdrda \n",
      "Running method: hdrda \n",
      "Running method: hdrda \n",
      "Running method: J48 \n",
      "Running method: J48 \n",
      "Running method: JRip \n",
      "Running method: JRip \n",
      "Running method: JRip \n",
      "Running method: kernelpls \n",
      "Running method: kknn \n",
      "Running method: kknn \n",
      "Running method: kknn \n",
      "Running method: knn \n",
      "Running method: lda \n",
      "Running method: lda2 \n",
      "Running method: Linda \n",
      "Running method: LMT \n",
      "Running method: loclda \n",
      "Running method: logicBag \n",
      "Running method: logicBag \n",
      "Running method: LogitBoost \n",
      "Running method: logreg \n",
      "Running method: logreg \n",
      "Running method: lssvmLinear \n"
     ]
    },
    {
     "name": "stderr",
     "output_type": "stream",
     "text": [
      "Warning message in train.default(x, y, weights = w, ...):\n",
      "\"Class probabilities were requested for a model that does not implement them\"\n"
     ]
    },
    {
     "name": "stdout",
     "output_type": "stream",
     "text": [
      "Running method: lssvmPoly \n"
     ]
    },
    {
     "name": "stderr",
     "output_type": "stream",
     "text": [
      "Warning message in train.default(x, y, weights = w, ...):\n",
      "\"Class probabilities were requested for a model that does not implement them\"\n"
     ]
    },
    {
     "name": "stdout",
     "output_type": "stream",
     "text": [
      "Running method: lssvmPoly \n"
     ]
    },
    {
     "name": "stderr",
     "output_type": "stream",
     "text": [
      "Warning message in train.default(x, y, weights = w, ...):\n",
      "\"Class probabilities were requested for a model that does not implement them\"\n"
     ]
    },
    {
     "name": "stdout",
     "output_type": "stream",
     "text": [
      "Running method: lssvmPoly \n"
     ]
    },
    {
     "name": "stderr",
     "output_type": "stream",
     "text": [
      "Warning message in train.default(x, y, weights = w, ...):\n",
      "\"Class probabilities were requested for a model that does not implement them\"\n"
     ]
    },
    {
     "name": "stdout",
     "output_type": "stream",
     "text": [
      "Running method: lssvmRadial \n"
     ]
    },
    {
     "name": "stderr",
     "output_type": "stream",
     "text": [
      "Warning message in train.default(x, y, weights = w, ...):\n",
      "\"Class probabilities were requested for a model that does not implement them\"\n"
     ]
    },
    {
     "name": "stdout",
     "output_type": "stream",
     "text": [
      "Running method: lssvmRadial \n"
     ]
    },
    {
     "name": "stderr",
     "output_type": "stream",
     "text": [
      "Warning message in train.default(x, y, weights = w, ...):\n",
      "\"Class probabilities were requested for a model that does not implement them\"\n"
     ]
    },
    {
     "name": "stdout",
     "output_type": "stream",
     "text": [
      "Running method: lvq \n"
     ]
    },
    {
     "name": "stderr",
     "output_type": "stream",
     "text": [
      "Warning message in train.default(x, y, weights = w, ...):\n",
      "\"Class probabilities were requested for a model that does not implement them\"\n"
     ]
    },
    {
     "name": "stdout",
     "output_type": "stream",
     "text": [
      "Running method: lvq \n"
     ]
    },
    {
     "name": "stderr",
     "output_type": "stream",
     "text": [
      "Warning message in train.default(x, y, weights = w, ...):\n",
      "\"Class probabilities were requested for a model that does not implement them\"\n"
     ]
    },
    {
     "name": "stdout",
     "output_type": "stream",
     "text": [
      "Running method: manb \n",
      "Running method: manb \n",
      "Running method: mda \n",
      "Running method: Mlda \n"
     ]
    },
    {
     "name": "stderr",
     "output_type": "stream",
     "text": [
      "Warning message in train.default(x, y, weights = w, ...):\n",
      "\"Class probabilities were requested for a model that does not implement them\"\n"
     ]
    },
    {
     "name": "stdout",
     "output_type": "stream",
     "text": [
      "Running method: mlp \n",
      "Running method: mlpKerasDecay \n",
      "Running method: mlpKerasDecay \n",
      "Running method: mlpKerasDecay \n",
      "Running method: mlpKerasDecay \n",
      "Running method: mlpKerasDecay \n",
      "Running method: mlpKerasDecay \n",
      "Running method: mlpKerasDecay \n",
      "Running method: mlpKerasDecayCost \n",
      "Running method: mlpKerasDecayCost \n",
      "Running method: mlpKerasDecayCost \n",
      "Running method: mlpKerasDecayCost \n",
      "Running method: mlpKerasDecayCost \n",
      "Running method: mlpKerasDecayCost \n",
      "Running method: mlpKerasDecayCost \n",
      "Running method: mlpKerasDecayCost \n",
      "Running method: mlpKerasDropout \n",
      "Running method: mlpKerasDropout \n",
      "Running method: mlpKerasDropout \n",
      "Running method: mlpKerasDropout \n",
      "Running method: mlpKerasDropout \n",
      "Running method: mlpKerasDropout \n",
      "Running method: mlpKerasDropout \n",
      "Running method: mlpKerasDropoutCost \n",
      "Running method: mlpKerasDropoutCost \n",
      "Running method: mlpKerasDropoutCost \n",
      "Running method: mlpKerasDropoutCost \n",
      "Running method: mlpKerasDropoutCost \n",
      "Running method: mlpKerasDropoutCost \n",
      "Running method: mlpKerasDropoutCost \n",
      "Running method: mlpKerasDropoutCost \n",
      "Running method: mlpML \n",
      "Running method: mlpML \n",
      "Running method: mlpML \n"
     ]
    },
    {
     "ename": "ERROR",
     "evalue": "Error in serialize(data, node$con): 連接寫入發生了錯誤\n",
     "output_type": "error",
     "traceback": [
      "Error in serialize(data, node$con): 連接寫入發生了錯誤\nTraceback:\n",
      "1. stopCluster(c2)",
      "2. stopCluster.default(c2)",
      "3. stopNode(n)",
      "4. postNode(n, \"DONE\")",
      "5. sendData(con, list(type = type, data = value, tag = tag))",
      "6. sendData.SOCKnode(con, list(type = type, data = value, tag = tag))",
      "7. serialize(data, node$con)"
     ]
    }
   ],
   "source": [
    "c2 <- makeCluster(6)  # Number of cores\n",
    "registerDoParallel(c2)\n",
    "for (i in 1:length(modellist2)){\n",
    "    skip_to_next_error <- FALSE\n",
    "    cat(\"Running method:\", modellist2[i], \"\\n\")\n",
    "    tryCatch(modelfit<-train(death~.,\n",
    "                             data=training,\n",
    "                             method=modellist2[i],\n",
    "                             preProc=c(\"center\",\"scale\"),\n",
    "                             metric=\"ROC\",\n",
    "                             tuneLength=3,\n",
    "                             trControl=fitControl),\n",
    "                             error=function(e){skip_to_next_error <<- TRUE})\n",
    "    if(skip_to_next_error) {next}   \n",
    "    predictions_train=predict(modelfit,newdata=training)\n",
    "    predictions_test=predict(modelfit,newdata=testing)\n",
    "    predictions_train\n",
    "    predictions_test\n",
    "    confusionMatrix(predict(modelfit,training),training$death)\n",
    "    confusionMatrix(predict(modelfit,testing),testing$death)\n",
    "    train_results=predict(modelfit,training,type=\"prob\")\n",
    "    test_results=predict(modelfit,testing,type=\"prob\")\n",
    "    train_results$obs=training$death\n",
    "    train_results$pred=predictions_train\n",
    "    test_results$obs=testing$death\n",
    "    test_results$pred=predictions_test\n",
    "    ROC_train<-roc(training$death,train_results[,\"Death\"],levels=c(\"Survival\",\"Death\"))\n",
    "    ROC_test<-roc(testing$death,test_results[,\"Death\"],levels=c(\"Survival\",\"Death\"))\n",
    "    AUC_train2[i]=ROC_train[9]$auc\n",
    "    AUC_test2[i]=ROC_test[9]$auc\n",
    "    cat('Completed running Model', i, '(',modellist2[i],')','of', length(modellist2),'\\n')\n",
    "    cat('Completed Running method:', modellist2[i], '---AUC_Train:', ROC_train[9]$auc, '---AUC_Test:', ROC_test[9]$auc, '\\n')\n",
    "    #gc()\n",
    "  }\n",
    "stopCluster(c2)"
   ]
  },
  {
   "cell_type": "code",
   "execution_count": null,
   "id": "a1c13d77",
   "metadata": {},
   "outputs": [],
   "source": [
    "AUC2=cbind(AUC_train2,AUC_test2)\n",
    "AUC2=as.data.frame(AUC2)\n",
    "AUC2$Algorithms<-modellist2\n",
    "print(AUC2)"
   ]
  },
  {
   "cell_type": "code",
   "execution_count": null,
   "id": "93d13cc8",
   "metadata": {},
   "outputs": [],
   "source": [
    "modellist3=model_caret_forclass$model[201:300]\n",
    "modellist3\n",
    "AUC_train3=array(0,length(modellist3))\n",
    "AUC_test3=array(0,length(modellist3))"
   ]
  },
  {
   "cell_type": "code",
   "execution_count": null,
   "id": "d3ddd909",
   "metadata": {},
   "outputs": [],
   "source": [
    "for (i in 1:length(modellist3)){\n",
    "    skip_to_next_error <- FALSE\n",
    "    cat(\"Running method:\", modellist3[i], \"\\n\")\n",
    "    tryCatch(modelfit<-train(death~.,\n",
    "                             data=training,\n",
    "                             method=modellist3[i],\n",
    "                             preProc=c(\"center\",\"scale\"),\n",
    "                             metric=\"ROC\",\n",
    "                             tuneLength=3,\n",
    "                             trControl=fitControl),\n",
    "                             error=function(e){skip_to_next_error <<- TRUE})\n",
    "    if(skip_to_next_error) {next}   \n",
    "    predictions_train=predict(modelfit,newdata=training)\n",
    "    predictions_test=predict(modelfit,newdata=testing)\n",
    "    predictions_train\n",
    "    predictions_test\n",
    "    confusionMatrix(predict(modelfit,training),training$death)\n",
    "    confusionMatrix(predict(modelfit,testing),testing$death)\n",
    "    train_results=predict(modelfit,training,type=\"prob\")\n",
    "    test_results=predict(modelfit,testing,type=\"prob\")\n",
    "    train_results$obs=training$death\n",
    "    train_results$pred=predictions_train\n",
    "    test_results$obs=testing$death\n",
    "    test_results$pred=predictions_test\n",
    "    ROC_train<-roc(training$death,train_results[,\"Death\"],levels=c(\"Survival\",\"Death\"))\n",
    "    ROC_test<-roc(testing$death,test_results[,\"Death\"],levels=c(\"Survival\",\"Death\"))\n",
    "    AUC_train3[i]=ROC_train[9]$auc\n",
    "    AUC_test3[i]=ROC_test[9]$auc\n",
    "    cat('Completed running Model', i, '(',modellist3[i],')','of', length(modellist3),'\\n')\n",
    "    cat('Completed Running method:', modellist3[i], '---AUC_Train:', ROC_train[9]$auc, '---AUC_Test:', ROC_test[9]$auc, '\\n')\n",
    "  }"
   ]
  },
  {
   "cell_type": "code",
   "execution_count": null,
   "id": "ae7889c7",
   "metadata": {},
   "outputs": [],
   "source": [
    "AUC3=cbind(AUC_train3,AUC_test3)\n",
    "AUC3=as.data.frame(AUC3)\n",
    "AUC3$Algorithms<-modellist3\n",
    "print(AUC3)"
   ]
  },
  {
   "cell_type": "code",
   "execution_count": null,
   "id": "587403f2",
   "metadata": {},
   "outputs": [],
   "source": [
    "modellist4=model_caret_forclass$model[301:400]\n",
    "modellist4\n",
    "AUC_train4=array(0,length(modellist4))\n",
    "AUC_test4=array(0,length(modellist4))"
   ]
  },
  {
   "cell_type": "code",
   "execution_count": null,
   "id": "b1524fe9",
   "metadata": {},
   "outputs": [],
   "source": [
    "for (i in 1:length(modellist4)){\n",
    "    skip_to_next_error <- FALSE\n",
    "    cat(\"Running method:\", modellist4[i], \"\\n\")\n",
    "    tryCatch(modelfit<-train(death~.,\n",
    "                             data=training,\n",
    "                             method=modellist4[i],\n",
    "                             preProc=c(\"center\",\"scale\"),\n",
    "                             metric=\"ROC\",\n",
    "                             tuneLength=3,\n",
    "                             trControl=fitControl),\n",
    "                             error=function(e){skip_to_next_error <<- TRUE})\n",
    "    if(skip_to_next_error) {next}   \n",
    "    predictions_train=predict(modelfit,newdata=training)\n",
    "    predictions_test=predict(modelfit,newdata=testing)\n",
    "    predictions_train\n",
    "    predictions_test\n",
    "    confusionMatrix(predict(modelfit,training),training$death)\n",
    "    confusionMatrix(predict(modelfit,testing),testing$death)\n",
    "    train_results=predict(modelfit,training,type=\"prob\")\n",
    "    test_results=predict(modelfit,testing,type=\"prob\")\n",
    "    train_results$obs=training$death\n",
    "    train_results$pred=predictions_train\n",
    "    test_results$obs=testing$death\n",
    "    test_results$pred=predictions_test\n",
    "    ROC_train<-roc(training$death,train_results[,\"Death\"],levels=c(\"Survival\",\"Death\"))\n",
    "    ROC_test<-roc(testing$death,test_results[,\"Death\"],levels=c(\"Survival\",\"Death\"))\n",
    "    AUC_train4[i]=ROC_train[9]$auc\n",
    "    AUC_test4[i]=ROC_test[9]$auc\n",
    "    cat('Completed running Model', i, '(',modellist4[i],')','of', length(modellist4),'\\n')\n",
    "    cat('Completed Running method:', modellist4[i], '---AUC_Train:', ROC_train[9]$auc, '---AUC_Test:', ROC_test[9]$auc, '\\n')\n",
    "  }"
   ]
  },
  {
   "cell_type": "code",
   "execution_count": null,
   "id": "2a52eea4",
   "metadata": {},
   "outputs": [],
   "source": [
    "AUC4=cbind(AUC_train4,AUC_test4)\n",
    "AUC4=as.data.frame(AUC4)\n",
    "AUC4$Algorithms<-modellist4\n",
    "print(AUC4)"
   ]
  },
  {
   "cell_type": "code",
   "execution_count": null,
   "id": "6afb575a",
   "metadata": {},
   "outputs": [],
   "source": [
    "modellist5=model_caret_forclass$model[401:nrow(model_caret_forclass)]\n",
    "modellist5\n",
    "AUC_train5=array(0,length(modellist5))\n",
    "AUC_test5=array(0,length(modellist5))"
   ]
  },
  {
   "cell_type": "code",
   "execution_count": null,
   "id": "ac9a4532",
   "metadata": {},
   "outputs": [],
   "source": [
    "for (i in 1:length(modellist5)){\n",
    "    skip_to_next_error <- FALSE\n",
    "    cat(\"Running method:\", modellist5[i], \"\\n\")\n",
    "    tryCatch(modelfit<-train(death~.,\n",
    "                             data=training,\n",
    "                             method=modellist5[i],\n",
    "                             preProc=c(\"center\",\"scale\"),\n",
    "                             metric=\"ROC\",\n",
    "                             tuneLength=3,\n",
    "                             trControl=fitControl),\n",
    "                             error=function(e){skip_to_next_error <<- TRUE})\n",
    "    if(skip_to_next_error) {next}   \n",
    "    predictions_train=predict(modelfit,newdata=training)\n",
    "    predictions_test=predict(modelfit,newdata=testing)\n",
    "    predictions_train\n",
    "    predictions_test\n",
    "    confusionMatrix(predict(modelfit,training),training$death)\n",
    "    confusionMatrix(predict(modelfit,testing),testing$death)\n",
    "    train_results=predict(modelfit,training,type=\"prob\")\n",
    "    test_results=predict(modelfit,testing,type=\"prob\")\n",
    "    train_results$obs=training$death\n",
    "    train_results$pred=predictions_train\n",
    "    test_results$obs=testing$death\n",
    "    test_results$pred=predictions_test\n",
    "    ROC_train<-roc(training$death,train_results[,\"Death\"],levels=c(\"Survival\",\"Death\"))\n",
    "    ROC_test<-roc(testing$death,test_results[,\"Death\"],levels=c(\"Survival\",\"Death\"))\n",
    "    AUC_train5[i]=ROC_train[9]$auc\n",
    "    AUC_test5[i]=ROC_test[9]$auc\n",
    "    cat('Completed running Model', i, '(',modellist5[i],')','of', length(modellist5),'\\n')\n",
    "    cat('Completed Running method:', modellist5[i], '---AUC_Train:', ROC_train[9]$auc, '---AUC_Test:', ROC_test[9]$auc, '\\n')\n",
    "  }"
   ]
  },
  {
   "cell_type": "code",
   "execution_count": null,
   "id": "2e95b577",
   "metadata": {},
   "outputs": [],
   "source": [
    "AUC5=cbind(AUC_train5,AUC_test5)\n",
    "AUC5=as.data.frame(AUC5)\n",
    "AUC5$Algorithms<-modellist5\n",
    "print(AUC5)"
   ]
  },
  {
   "cell_type": "code",
   "execution_count": null,
   "id": "b17f4c6f",
   "metadata": {},
   "outputs": [],
   "source": [
    "AUC_all=rbind(AUC1,AUC2,AUC3,AUC4,AUC5)\n",
    "print(AUC_all)"
   ]
  }
 ],
 "metadata": {
  "kernelspec": {
   "display_name": "R",
   "language": "R",
   "name": "ir"
  },
  "language_info": {
   "codemirror_mode": "r",
   "file_extension": ".r",
   "mimetype": "text/x-r-source",
   "name": "R",
   "pygments_lexer": "r",
   "version": "4.1.3"
  }
 },
 "nbformat": 4,
 "nbformat_minor": 5
}
