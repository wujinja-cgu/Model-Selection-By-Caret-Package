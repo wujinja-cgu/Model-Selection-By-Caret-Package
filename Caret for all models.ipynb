{
  "cells": [
    {
      "cell_type": "code",
      "execution_count": 4,
      "id": "469aa68f",
      "metadata": {
        "id": "469aa68f",
        "outputId": "4e2569b1-2cbc-41da-b443-22d4e108829f",
        "colab": {
          "base_uri": "https://localhost:8080/",
          "height": 148
        }
      },
      "outputs": [
        {
          "output_type": "error",
          "ename": "ERROR",
          "evalue": "ignored",
          "traceback": [
            "Error in library(caret): there is no package called ‘caret’\nTraceback:\n",
            "1. library(caret)"
          ]
        }
      ],
      "source": [
        "library(caret)\n",
        "library(kernlab)\n",
        "library(foreign)\n",
        "library(mlbench)\n",
        "library(rpart)\n",
        "library(rpart.plot)\n",
        "library(ipred)\n",
        "library(randomForest)\n",
        "library(gbm)\n",
        "library(nnet)\n",
        "library(pROC)\n",
        "library(ggplot2)\n",
        "library(doParallel)\n",
        "registerDoParallel(4)\n",
        "getDoParWorkers()"
      ]
    },
    {
      "cell_type": "code",
      "source": [
        "install.packages(\"caret\", dependencies = c(\"Depends\", \"Suggests\"))\n",
        "install.packages('kernlab')\n",
        "install.packages('foreign')\n",
        "install.packages('mlbench')\n",
        "install.packages('rpart')\n",
        "install.packages('rpart.plot')\n",
        "install.packages('ipred')\n",
        "install.packages('randomForest')\n",
        "install.packages('gbm')\n",
        "install.packages('nnet')\n",
        "install.packages('pROC')\n",
        "install.packages('ggplot2')\n",
        "install.packages('doParallel')"
      ],
      "metadata": {
        "id": "wXzTIizuGyiN",
        "outputId": "4ec3c608-4f72-4b23-ba18-5e72cc7a7e48",
        "colab": {
          "base_uri": "https://localhost:8080/"
        }
      },
      "id": "wXzTIizuGyiN",
      "execution_count": null,
      "outputs": [
        {
          "output_type": "stream",
          "name": "stderr",
          "text": [
            "Installing package into ‘/usr/local/lib/R/site-library’\n",
            "(as ‘lib’ is unspecified)\n",
            "\n",
            "Warning message:\n",
            "“dependencies ‘R2wd’, ‘graph’, ‘sylly.de’, ‘sylly.es’, ‘RTCGA.rnaseq’, ‘globaltest’, ‘MassSpecWavelet’, ‘texPreview’, ‘marray’, ‘affy’, ‘Biobase’, ‘limma’, ‘Rgraphviz’, ‘RandomFields’, ‘RandomFieldsUtils’, ‘starsdata’, ‘cairoDevice’, ‘RGtk2’, ‘glmmADMB’, ‘rnaturalearthhires’, ‘mvPot’, ‘Biostrings’, ‘seqLogo’, ‘Rcampdf’, ‘tm.lexicon.GeneralInquirer’, ‘cmdstanr’, ‘dblog’, ‘lavaan.survey’, ‘BiocVersion’, ‘ExactData’, ‘ComplexHeatmap’, ‘mail’, ‘M3C’, ‘spDataLarge’, ‘RDCOMClient’, ‘gurobi’, ‘rrelaxiv’, ‘taxidata’, ‘extraTrees’, ‘genefilter’, ‘sva’, ‘corpus.JSS.papers’, ‘argon2’ are not available”\n",
            "also installing the dependencies ‘Rmosek’, ‘REBayes’, ‘getPass’, ‘ashr’, ‘git2r’, ‘asciicast’, ‘shinyjs’, ‘prettyGraphs’, ‘rdd’, ‘ncvreg’, ‘gistr’, ‘filelock’, ‘pingr’, ‘pkgcache’, ‘pkgdepends’, ‘pkgsearch’, ‘fastNaiveBayes’, ‘naivebayes’, ‘ExPosition’, ‘svs’, ‘huge’, ‘LDAvis’, ‘rsvd’, ‘udpipe’, ‘OAIHarvester’, ‘mallet’, ‘textdata’, ‘grf’, ‘visreg’, ‘imbalance’, ‘biglasso’, ‘KernelKnn’, ‘LogicReg’, ‘SIS’, ‘geojsonio’, ‘packrat’, ‘pak’, ‘gdtools’, ‘tokenizers’, ‘lda’, ‘lsa’, ‘quanteda.textmodels’, ‘quanteda.textstats’, ‘quanteda.textplots’, ‘spacyr’, ‘stm’, ‘text2vec’, ‘topicmodels’, ‘tidytext’, ‘targeted’, ‘smcfcs’, ‘casebase’, ‘grpreg’, ‘hal9001’, ‘nnls’, ‘randomForestSRC’, ‘SuperLearner’, ‘gettz’, ‘memuse’, ‘MNP’, ‘osqp’, ‘misaem’, ‘highs’, ‘dr’, ‘ash’, ‘geozoo’, ‘cond’, ‘nlreg’, ‘prettycode’, ‘highcharter’, ‘dockerfiler’, ‘attachment’, ‘renv’, ‘ggiraph’, ‘quanteda’, ‘ROI.plugin.ecos’, ‘ROI.plugin.alabama’, ‘ROI.plugin.neos’, ‘lava’, ‘riskRegression’, ‘weights’, ‘matrixStats’, ‘Rfast’, ‘qs’, ‘roll’, ‘anytime’, ‘fasttime’, ‘stringfish’, ‘coop’, ‘rrapply’, ‘geos’, ‘mvnfast’, ‘distances’, ‘WeightIt’, ‘twang’, ‘twangContinuous’, ‘ebal’, ‘designmatch’, ‘optweight’, ‘MatchThem’, ‘cem’, ‘sbw’, ‘profileModel’, ‘FactoInvestigate’, ‘NlcOptim’, ‘optextras’, ‘ggExtra’, ‘gglm’, ‘LDRTools’, ‘tourr’, ‘pimeta’, ‘hasseDiagram’, ‘writexl’, ‘marg’, ‘styler’, ‘shinyAce’, ‘shinyEffects’, ‘shinyjqui’, ‘golem’, ‘thematic’, ‘echarts4r’, ‘wordcloud2’, ‘stopwords’, ‘htmlTable’, ‘detectseparation’, ‘robumeta’, ‘geomtextpath’, ‘lobstr’, ‘censReg’, ‘epiR’, ‘feisr’, ‘fungible’, ‘JM’, ‘lavaSearch2’, ‘merTools’, ‘metaplus’, ‘stddiff’, ‘tableone’, ‘jtools’, ‘ggpol’, ‘ez’, ‘ggResidpanel’, ‘fastverse’, ‘kit’, ‘PairedData’, ‘fabricatr’, ‘randomizr’, ‘gld’, ‘plotfunctions’, ‘Matching’, ‘quickmatch’, ‘CBPS’, ‘cobalt’, ‘RcppProgress’, ‘did’, ‘tictoc’, ‘wesanderson’, ‘RItools’, ‘brglm’, ‘svDialogs’, ‘SemiPar’, ‘relaimpo’, ‘ca’, ‘missMDA’, ‘Factoshiny’, ‘pracma’, ‘Rcgmin’, ‘Rvmmin’, ‘BiasedUrn’, ‘wildmeta’, ‘estmeansd’, ‘metaBLUE’, ‘skimr’, ‘tippy’, ‘adespatial’, ‘shape’, ‘zipfR’, ‘mbend’, ‘ppcor’, ‘rmcorr’, ‘transformr’, ‘Gmedian’, ‘rrcov’, ‘ICSNP’, ‘moments’, ‘REPPlab’, ‘meta’, ‘netmeta’, ‘shinyBS’, ‘csampling’, ‘rjson’, ‘networkD3’, ‘treemap’, ‘shinydashboard’, ‘shinydashboardPlus’, ‘bs4Dash’, ‘argonR’, ‘argonDash’, ‘tablerDash’, ‘shinydisconnect’, ‘vembedr’, ‘VarianceGamma’, ‘SkewHyperbolic’, ‘hunspell’, ‘gcookbook’, ‘RcmdrMisc’, ‘aplpack’, ‘nortest’, ‘shock’, ‘RcmdrPlugin.HH’, ‘microplot’, ‘sommer’, ‘SGPdata’, ‘vcr’, ‘ggplot2movies’, ‘doRedis’, ‘rbibutils’, ‘pkgmaker’, ‘aod’, ‘brglm2’, ‘clubSandwich’, ‘datawizard’, ‘logistf’, ‘nestedLogit’, ‘sjstats’, ‘insight’, ‘smd’, ‘apollo’, ‘fastDummies’, ‘gmnl’, ‘here’, ‘mixl’, ‘Amelia’, ‘afex’, ‘bench’, ‘brmsmargins’, ‘causaldata’, ‘collapse’, ‘crch’, ‘DCchoice’, ‘distributional’, ‘equivalence’, ‘estimatr’, ‘fwb’, ‘ggdag’, ‘ggokabeito’, ‘glmx’, ‘itsadug’, ‘ivreg’, ‘MatchIt’, ‘mclogit’, ‘missRanger’, ‘mhurdle’, ‘modelsummary’, ‘optmatch’, ‘phylolm’, ‘prediction’, ‘Rchoice’, ‘scam’, ‘tidymodels’, ‘tinysnapshot’, ‘tsModel’, ‘BayesFM’, ‘cAIC4’, ‘cgam’, ‘ClassDiscovery’, ‘cplm’, ‘domir’, ‘EGAnet’, ‘factoextra’, ‘FactoMineR’, ‘ivprobit’, ‘lm.beta’, ‘metaBMA’, ‘metafor’, ‘mfx’, ‘mmrm’, ‘NbClust’, ‘nFactors’, ‘panelr’, ‘PCDimension’, ‘PROreg’, ‘sparsepca’, ‘WRS2’, ‘ggsurvfit’, ‘reactable’, ‘NISTunits’, ‘measurements’, ‘purrrlyr’, ‘pixmap’, ‘Guerry’, ‘rootSolve’, ‘diagram’, ‘BayesXsrc’, ‘MBA’, ‘wkb’, ‘changepoint’, ‘KFAS’, ‘MSwM’, ‘lfda’, ‘languageR’, ‘runjags’, ‘modeest’, ‘semTools’, ‘nimble’, ‘correlation’, ‘beeswarm’, ‘fontquiver’, ‘gganimate’, ‘report’, ‘bigutilsr’, ‘ICS’, ‘ICSOutlier’, ‘ISLR’, ‘metadat’, ‘multimode’, ‘ggraph’, ‘ggside’, ‘qqplotr’, ‘future.callr’, ‘doFuture’, ‘glba’, ‘binom’, ‘LaplacesDemon’, ‘hoa’, ‘skellam’, ‘triangle’, ‘mbest’, ‘jsonify’, ‘colourvalues’, ‘sfheaders’, ‘trajectories’, ‘ggmap’, ‘adehabitatMA’, ‘data.tree’, ‘netrankr’, ‘influenceR’, ‘NetSwan’, ‘stringdist’, ‘shinyWidgets’, ‘colourpicker’, ‘flashClust’, ‘promises’, ‘denstrip’, ‘mc2d’, ‘GeneralizedHyperbolic’, ‘dismo’, ‘BRugs’, ‘FMStable’, ‘cocor’, ‘hrbrthemes’, ‘paran’, ‘rhub’, ‘Rcmdr’, ‘Rmixmod’, ‘xLLiM’, ‘desplot’, ‘gge’, ‘HH’, ‘lucid’, ‘NADA’, ‘nullabor’, ‘qicharts’, ‘qtl’, ‘SpATS’, ‘ramcmc’, ‘sde’, ‘sitmo’, ‘qcc’, ‘r2d2’, ‘SGP’, ‘taxize’, ‘ggstance’, ‘ggridges’, ‘NHANES’, ‘formatR’, ‘doRNG’, ‘irlba’, ‘MPsychoR’, ‘calibrate’, ‘R.methodsS3’, ‘biglmm’, ‘ggeffects’, ‘ggstats’, ‘gtsummary’, ‘logitr’, ‘marginaleffects’, ‘margins’, ‘multgee’, ‘parameters’, ‘tidycmprsk’, ‘concaveman’, ‘latex2exp’, ‘units’, ‘questionr’, ‘snakecase’, ‘statnet.common’, ‘ade4TkGUI’, ‘adegraphics’, ‘adephylo’, ‘CircStats’, ‘splancs’, ‘waveslim’, ‘permute’, ‘rainbow’, ‘FME’, ‘spam64’, ‘truncdist’, ‘harrypotter’, ‘oompaBase’, ‘palr’, ‘pals’, ‘scico’, ‘R2BayesX’, ‘spData’, ‘spatialreg’, ‘classInt’, ‘rgeoda’, ‘ggfortify’, ‘loo’, ‘BayesFactor’, ‘bayesQR’, ‘blavaan’, ‘bridgesampling’, ‘effectsize’, ‘ggdist’, ‘modelbased’, ‘performance’, ‘posterior’, ‘see’, ‘projpred’, ‘RWiener’, ‘rtdists’, ‘extraDistr’, ‘mnormt’, ‘arm’, ‘speedglm’, ‘pgirmess’, ‘skpr’, ‘geojsonsf’, ‘googleway’, ‘spatialwidget’, ‘ozmaps’, ‘sftime’, ‘geoknife’, ‘areal’, ‘adehabitatLT’, ‘cshapes’, ‘ISOcodes’, ‘httptest2’, ‘tidygraph’, ‘shinythemes’, ‘isa2’, ‘tree’, ‘psychTools’, ‘GPArotation’, ‘Rcsdp’, ‘oz’, ‘miscTools’, ‘dlm’, ‘polycor’, ‘inlinedocs’, ‘pbivnorm’, ‘pbv’, ‘optimParallel’, ‘orthopolynom’, ‘bayesm’, ‘rjags’, ‘expint’, ‘ROI’, ‘sjmisc’, ‘sjPlot’, ‘WrightMap’, ‘visNetwork’, ‘coro’, ‘redoc’, ‘rapidoc’, ‘brotli’, ‘rpanel’, ‘fitdistrplus’, ‘maxlike’, ‘R2OpenBUGS’, ‘R2WinBUGS’, ‘jagsUI’, ‘stabledist’, ‘rpf’, ‘snowfall’, ‘umx’, ‘ifaTools’, ‘tidyLPA’, ‘rclipboard’, ‘icenReg’, ‘gridBase’, ‘bezier’, ‘relimp’, ‘benchr’, ‘bife’, ‘qgam’, ‘rcdd’, ‘Infusion’, ‘IsoriX’, ‘blackbox’, ‘ROI.plugin.glpk’, ‘rsae’, ‘multilevel’, ‘agridat’, ‘equatags’, ‘doconv’, ‘officedown’, ‘qpdf’, ‘devEMF’, ‘TTR’, ‘downloader’, ‘WWGbook’, ‘DescTools’, ‘pryr’, ‘invgamma’, ‘ipumsr’, ‘bssm’, ‘EnvStats’, ‘drc’, ‘TRAMPR’, ‘stargazer’, ‘pinp’, ‘CVST’, ‘registry’, ‘rngtools’, ‘bigmemory’, ‘synchronicity’, ‘gplots’, ‘gtools’, ‘itertools’, ‘agricolae’, ‘mosaic’, ‘dbscan’, ‘DendSer’, ‘GA’, ‘Rtsne’, ‘smacof’, ‘umap’, ‘R2HTML’, ‘R.oo’, ‘miniUI’, ‘servr’, ‘r2rtf’, ‘relsurv’, ‘date’, ‘seasonalview’, ‘shapviz’, ‘broom.helpers’, ‘geosphere’, ‘ggforce’, ‘intergraph’, ‘labelled’, ‘network’, ‘scagnostics’, ‘sna’, ‘assertthat’, ‘globals’, ‘listenv’, ‘BatchJobs’, ‘rlecuyer’, ‘scalreg’, ‘binda’, ‘Rglpk’, ‘Rsymphony’, ‘ade4’, ‘vegan’, ‘futile.logger’, ‘fds’, ‘deSolve’, ‘spam’, ‘sn’, ‘paletteer’, ‘KrigInv’, ‘GPareto’, ‘gamboostLSS’, ‘shapefiles’, ‘spdep’, ‘BBmisc’, ‘combinat’, ‘bayesplot’, ‘bayestestR’, ‘brms’, ‘mediation’, ‘multcompView’, ‘lmerTest’, ‘DoE.wrapper’, ‘FrF2.catlg128’, ‘BsMD’, ‘inline’, ‘later’, ‘leaflet.extras2’, ‘leafsync’, ‘mapdeck’, ‘plainview’, ‘poorman’, ‘s2’, ‘DBItest’, ‘RMySQL’, ‘gsl’, ‘OpenStreetMap’, ‘PCICt’, ‘RNetCDF’, ‘cubble’, ‘cubelyr’, ‘ncdfgeom’, ‘ncmeta’, ‘spacetime’, ‘tsibble’, ‘rmapshaper’, ‘cartogram’, ‘osmdata’, ‘fastmatch’, ‘DiagrammeRsvg’, ‘arulesViz’, ‘arulesCBA’, ‘biclust’, ‘corrplot’, ‘doBy’, ‘fBasics’, ‘ggdendro’, ‘janitor’, ‘psych’, ‘RODBC’, ‘SnowballC’, ‘dfidx’, ‘ks’, ‘maxLik’, ‘sem’, ‘directlabels’, ‘Rsolnp’, ‘nloptr’, ‘sirt’, ‘plink’, ‘mirtCAT’, ‘rchallenge’, ‘GLMMadaptive’, ‘MCMCglmm’, ‘rstanarm’, ‘rstantools’, ‘R2jags’, ‘TMB’, ‘carrier’, ‘BIFIEsurvey’, ‘blme’, ‘CDM’, ‘MBESS’, ‘mdmb’, ‘sjlabelled’, ‘synthpop’, ‘TAM’, ‘mitools’, ‘StanHeaders’, ‘RcppEigen’, ‘BH’, ‘shinystan’, ‘websocket’, ‘BiocManager’, ‘plumber’, ‘quarto’, ‘webfakes’, ‘sm’, ‘nleqslv’, ‘fftw’, ‘rnaturalearthdata’, ‘round’, ‘emdbook’, ‘AICcmodavg’, ‘wdm’, ‘cobs’, ‘evd’, ‘gmm’, ‘revdbayes’, ‘ismev’, ‘TruncatedNormal’, ‘TSP’, ‘kdecopula’, ‘coneproj’, ‘setRNG’, ‘BB’, ‘ucminf’, ‘minqa’, ‘lbfgsb3c’, ‘lbfgs’, ‘subplex’, ‘marqLevAlg’, ‘tweedie’, ‘piecewiseSEM’, ‘OpenMx’, ‘tidySEM’, ‘faraway’, ‘scdhlm’, ‘mets’, ‘ssanv’, ‘Exact’, ‘BlakerCI’, ‘distributions3’, ‘alluvial’, ‘babynames’, ‘ggfittext’, ‘flexdashboard’, ‘heatmaply’, ‘dynamicTreeCut’, ‘pvclust’, ‘circlize’, ‘VGAMdata’, ‘qvcalc’, ‘glmmML’, ‘cubature’, ‘alpaca’, ‘mgcViz’, ‘spaMM’, ‘flextable’, ‘ftExtra’, ‘officer’, ‘msm’, ‘pglm’, ‘splm’, ‘quantmod’, ‘googleVis’, ‘RPESE’, ‘RobStatTM’, ‘candisc’, ‘corrgram’, ‘animation’, ‘mvinfluence’, ‘lqmm’, ‘rlme’, ‘lemon’, ‘ggh4x’, ‘robustvarComp’, ‘distro’, ‘duckdb’, ‘nanotime’, ‘seqinr’, ‘Ecfun’, ‘wooldridge’, ‘RcppZiggurat’, ‘NLP’, ‘antiword’, ‘filehash’, ‘Rpoppler’, ‘Metrics’, ‘tfestimators’, ‘whoami’, ‘DRR’, ‘NMF’, ‘cccd’, ‘coRanking’, ‘diffusionMap’, ‘energy’, ‘loe’, ‘pcaL1’, ‘flexsurvcure’, ‘survminer’, ‘eha’, ‘hardhat’, ‘tune’, ‘gmodels’, ‘Fahrmeir’, ‘plyr’, ‘Sleuth2’, ‘seriation’, ‘sysfonts’, ‘showtextdb’, ‘R.devices’, ‘ascii’, ‘slackr’, ‘RPushbullet’, ‘telegram’, ‘rsyslog’, ‘txtq’, ‘botor’, ‘R.utils’, ‘syslognet’, ‘bookdown’, ‘formatters’, ‘mstate’, ‘demography’, ‘popEpi’, ‘forecTheta’, ‘rticles’, ‘seasonal’, ‘uroot’, ‘ICEbox’, ‘reticulate’, ‘fastshap’, ‘NeuralNetTools’, ‘hexbin’, ‘dichromat’, ‘mapproj’, ‘eaf’, ‘GGally’, ‘lhs’, ‘reshape2’, ‘bartMachineJARs’, ‘missForest’, ‘debugme’, ‘doMPI’, ‘future.batchtools’, ‘parallelMap’, ‘snow’, ‘truncnorm’, ‘hdi’, ‘gdata’, ‘corpcor’, ‘crossval’, ‘lpSolve’, ‘quadprog’, ‘relations’, ‘OpenImageR’, ‘FD’, ‘gridGraphics’, ‘PASWR’, ‘patchwork’, ‘VennDiagram’, ‘fda’, ‘fields’, ‘mapdata’, ‘chemometrics’, ‘tclust’, ‘pdfCluster’, ‘entropy’, ‘pbapply’, ‘plot3Drgl’, ‘qreport’, ‘acepack’, ‘pcaPP’, ‘polspline’, ‘abind’, ‘gt’, ‘sparkline’, ‘htmlwidgets’, ‘DiceOptim’, ‘patrick’, ‘tufte’, ‘stabs’, ‘BayesX’, ‘kangar00’, ‘mldr.datasets’, ‘cmaesr’, ‘cmprsk’, ‘pwr’, ‘NSM3’, ‘emmeans’, ‘Vdgraph’, ‘conf.design’, ‘DoE.base’, ‘FrF2’, ‘Rcpp’, ‘dtw’, ‘rbenchmark’, ‘fdrtool’, ‘lwgeom’, ‘mapview’, ‘odbc’, ‘pool’, ‘RPostgres’, ‘RPostgreSQL’, ‘RSQLite’, ‘spatstat.random’, ‘stars’, ‘tmap’, ‘wk’, ‘checkmate’, ‘plot3D’, ‘Mcomp’, ‘DiagrammeR’, ‘Ckmeans.1d.dp’, ‘float’, ‘titanic’, ‘amap’, ‘arules’, ‘neighbr’, ‘rattle’, ‘fGarch’, ‘ineq’, ‘longmemo’, ‘mlogit’, ‘np’, ‘rugarch’, ‘sampleSelection’, ‘systemfit’, ‘truncreg’, ‘urca’, ‘vars’, ‘likert’, ‘mirt’, ‘stablelearner’, ‘betareg’, ‘logcondens’, ‘broom.mixed’, ‘furrr’, ‘miceadds’, ‘pan’, ‘parallelly’, ‘rstan’, ‘av’, ‘spelling’, ‘rsvg’, ‘webp’, ‘pdftools’, ‘gapminder’, ‘tesseract’, ‘gifski’, ‘alphahull’, ‘httpuv’, ‘diffviewer’, ‘rsconnect’, ‘fontcm’, ‘leaflet’, ‘showimage’, ‘spatstat.data’, ‘spatstat.explore’, ‘spatstat.model’, ‘fftwtools’, ‘rnaturalearth’, ‘ncdf4’, ‘rasterVis’, ‘exactextractr’, ‘goftest’, ‘locfit’, ‘future.apply’, ‘openxlsx’, ‘RJSONIO’, ‘tth’, ‘gmp’, ‘Bessel’, ‘polynom’, ‘rngWELL’, ‘bbmle’, ‘crop’, ‘lcopula’, ‘mev’, ‘mvnormtest’, ‘partitions’, ‘Runuran’, ‘VineCopula’, ‘basefun’, ‘variables’, ‘nor1mix’, ‘conquer’, ‘MEMSS’, ‘mlmRev’, ‘optimx’, ‘gamm4’, ‘pbkrtest’, ‘dfoptim’, ‘statmod’, ‘rr2’, ‘semEff’, ‘nonnest2’, ‘lavaan’, ‘lmeInfo’, ‘bdsmatrix’, ‘kinship2’, ‘ICsurv’, ‘bshazard’, ‘gss’, ‘TransModel’, ‘dynsurv’, ‘timereg’, ‘survivalMPL’, ‘muhaz’, ‘exact2x2’, ‘exactci’, ‘bpcp’, ‘bootstrap’, ‘gamlss.dist’, ‘ggthemes’, ‘ggalluvial’, ‘shinytest’, ‘webshot’, ‘listviewer’, ‘dendextend’, ‘plotlyGeoAssets’, ‘palmerpenguins’, ‘VGAMextra’, ‘formattable’, ‘robust’, ‘fit.models’, ‘MPV’, ‘catdata’, ‘skewt’, ‘lfe’, ‘estimability’, ‘DHARMa’, ‘MuMIn’, ‘dotwhisker’, ‘texreg’, ‘huxtable’, ‘mvabund’, ‘pder’, ‘PerformanceAnalytics’, ‘fTrading’, ‘MCMCpack’, ‘poLCA’, ‘heplots’, ‘robustlmm’, ‘biglm’, ‘arrow’, ‘feather’, ‘fst’, ‘hexView’, ‘pzfx’, ‘readODS’, ‘rmatio’, ‘CompQuadForm’, ‘expm’, ‘phangorn’, ‘actuar’, ‘diptest’, ‘Ecdat’, ‘SuppDists’, ‘geoR’, ‘mix’, ‘tm’, ‘lokern’, ‘R.matlab’, ‘ggbeeswarm’, ‘tfdatasets’, ‘janeaustenr’, ‘Lahman’, ‘nycflights13’, ‘r2d3’, ‘pkgKitten’, ‘clisymbols’, ‘clustMixType’, ‘dbarts’, ‘dimRed’, ‘flexsurv’, ‘nestedmodels’, ‘QSARdata’, ‘xrf’, ‘vcdExtra’, ‘Cairo’, ‘markdown’, ‘reactlog’, ‘dygraphs’, ‘showtext’, ‘RhpcBLASctl’, ‘R.rsp’, ‘sylly’, ‘sylly.en’, ‘logger’, ‘microbenchmark’, ‘descr’, ‘tables’, ‘reshape’, ‘memisc’, ‘Epi’, ‘forecast’, ‘pdp’, ‘tinytest’, ‘vip’, ‘viridis’, ‘lars’, ‘ParamHelpers’, ‘ada’, ‘adabag’, ‘bartMachine’, ‘batchtools’, ‘brnn’, ‘bst’, ‘care’, ‘clue’, ‘ClusterR’, ‘clusterSim’, ‘cmaes’, ‘cowplot’, ‘crs’, ‘deepnet’, ‘DiceKriging’, ‘elasticnet’, ‘emoa’, ‘evtree’, ‘fda.usc’, ‘FDboost’, ‘FNN’, ‘fpc’, ‘frbs’, ‘FSelector’, ‘FSelectorRcpp’, ‘GenSA’, ‘ggpubr’, ‘GPfit’, ‘h2o’, ‘Hmisc’, ‘irace’, ‘kknn’, ‘laGP’, ‘LiblineaR’, ‘lintr’, ‘mboost’, ‘mco’, ‘mldr’, ‘mlrMBO’, ‘mmpf’, ‘mRMRe’, ‘pec’, ‘penalized’, ‘PMCMRplus’, ‘praznik’, ‘refund’, ‘rex’, ‘rFerns’, ‘rgenoud’, ‘ROCR’, ‘rotationForest’, ‘RRF’, ‘rsm’, ‘RSNNS’, ‘rucrdtw’, ‘RWeka’, ‘sda’, ‘sf’, ‘smoof’, ‘sparseLDA’, ‘stepPlr’, ‘survAUC’, ‘SwarmSVM’, ‘tgp’, ‘tsfeatures’, ‘vdiffr’, ‘wavelets’, ‘xgboost’, ‘libcoin’, ‘pmml’, ‘rJava’, ‘AER’, ‘psychotools’, ‘psychotree’, ‘glmertree’, ‘pROC’, ‘mice’, ‘deldir’, ‘orientlib’, ‘misc3d’, ‘magick’, ‘tripack’, ‘alphashape3d’, ‘js’, ‘webshot2’, ‘downlit’, ‘pkgdown’, ‘extrafont’, ‘manipulateWidget’, ‘crosstalk’, ‘V8’, ‘chromote’, ‘jpeg’, ‘rgeos’, ‘spatstat.geom’, ‘PBSmapping’, ‘maps’, ‘raster’, ‘polyclip’, ‘spatstat.linnet’, ‘spatstat.utils’, ‘spatstat’, ‘iterators’, ‘rgdal’, ‘gstat’, ‘terra’, ‘exams’, ‘unix’, ‘Rmpfr’, ‘egg’, ‘randtoolbox’, ‘copula’, ‘mlt’, ‘quantreg’, ‘lme4’, ‘merDeriv’, ‘SparseGrid’, ‘alabama’, ‘latticeExtra’, ‘ordinalCont’, ‘coxme’, ‘mlt.docreg’, ‘ordinal’, ‘asht’, ‘gamlss’, ‘plotly’, ‘rmsb’, ‘VGAM’, ‘kableExtra’, ‘robustbase’, ‘SimComp’, ‘ISwR’, ‘fixest’, ‘glmmTMB’, ‘plm’, ‘coda’, ‘chron’, ‘mondate’, ‘stinepack’, ‘timeDate’, ‘timeSeries’, ‘tis’, ‘xts’, ‘geepack’, ‘multiwayvcov’, ‘pcse’, ‘pscl’, ‘carData’, ‘alr4’, ‘effects’, ‘leaps’, ‘MatrixModels’, ‘rio’, ‘survey’, ‘TSA’, ‘ape’, ‘flexmix’, ‘gamair’, ‘gamlss.data’, ‘gee’, ‘mclust’, ‘rmeta’, ‘wordcloud’, ‘HSAUR2’, ‘bitops’, ‘RCurl’, ‘sfsmisc’, ‘geometry’, ‘decor’, ‘igraphdata’, ‘ggrepel’, ‘keras’, ‘prodlim’, ‘sparklyr’, ‘tensorflow’, ‘prettydoc’, ‘RcppArmadillo’, ‘butcher’, ‘gnm’, ‘shiny’, ‘future’, ‘testit’, ‘AmesHousing’, ‘C50’, ‘rpart.plot’, ‘pander’, ‘plotrix’, ‘gbm’, ‘glmnet’, ‘glmnetUtils’, ‘mlr’, ‘neuralnet’, ‘partykit’, ‘pre’, ‘tkrplot’, ‘rgl’, ‘tcltk2’, ‘png’, ‘logspline’, ‘maptools’, ‘manipulate’, ‘doMC’, ‘doParallel’, ‘sp’, ‘Deriv’, ‘Ryacas’, ‘gridExtra’, ‘qrng’, ‘numDeriv’, ‘trtf’, ‘tram’, ‘rms’, ‘coin’, ‘ATR’, ‘multcomp’, ‘SparseM’, ‘xtable’, ‘slam’, ‘zoo’, ‘sandwich’, ‘car’, ‘dynlm’, ‘lmtest’, ‘tseries’, ‘HSAUR3’, ‘measures’, ‘ranger’, ‘XML’, ‘gclus’, ‘ddalpha’, ‘igraph’, ‘parsnip’, ‘RcppRoll’, ‘rsample’, ‘RSpectra’, ‘splines2’, ‘workflows’, ‘prefmod’, ‘DT’, ‘mockery’, ‘modeldata’, ‘tidyrules’, ‘Formula’, ‘plotmo’, ‘TeachingDemos’, ‘foreach’, ‘interp’, ‘mvtnorm’, ‘TH.data’, ‘scatterplot3d’, ‘som’, ‘e1071’, ‘modeltools’, ‘strucchange’, ‘vcd’, ‘varImp’, ‘Rmpi’, ‘RUnit’, ‘cba’, ‘recipes’, ‘dials’, ‘BradleyTerry2’, ‘covr’, ‘Cubist’, ‘earth’, ‘ellipse’, ‘fastICA’, ‘gam’, ‘ipred’, ‘kernlab’, ‘klaR’, ‘mda’, ‘mlbench’, ‘MLmetrics’, ‘pamr’, ‘party’, ‘pls’, ‘proxy’, ‘randomForest’, ‘RANN’, ‘spls’, ‘subselect’, ‘superpc’, ‘themis’\n",
            "\n",
            "\n",
            "Warning message in install.packages(\"caret\", dependencies = c(\"Depends\", \"Suggests\")):\n",
            "“installation of package ‘pkgsearch’ had non-zero exit status”\n",
            "Warning message in install.packages(\"caret\", dependencies = c(\"Depends\", \"Suggests\")):\n",
            "“installation of package ‘hasseDiagram’ had non-zero exit status”\n",
            "Warning message in install.packages(\"caret\", dependencies = c(\"Depends\", \"Suggests\")):\n",
            "“installation of package ‘styler’ had non-zero exit status”\n",
            "Warning message in install.packages(\"caret\", dependencies = c(\"Depends\", \"Suggests\")):\n",
            "“installation of package ‘svDialogs’ had non-zero exit status”\n",
            "Warning message in install.packages(\"caret\", dependencies = c(\"Depends\", \"Suggests\")):\n",
            "“installation of package ‘vcr’ had non-zero exit status”\n",
            "Warning message in install.packages(\"caret\", dependencies = c(\"Depends\", \"Suggests\")):\n",
            "“installation of package ‘bench’ had non-zero exit status”\n",
            "Warning message in install.packages(\"caret\", dependencies = c(\"Depends\", \"Suggests\")):\n",
            "“installation of package ‘fontquiver’ had non-zero exit status”\n",
            "Warning message in install.packages(\"caret\", dependencies = c(\"Depends\", \"Suggests\")):\n",
            "“installation of package ‘gganimate’ had non-zero exit status”\n",
            "Warning message in install.packages(\"caret\", dependencies = c(\"Depends\", \"Suggests\")):\n",
            "“installation of package ‘metadat’ had non-zero exit status”\n",
            "Warning message in install.packages(\"caret\", dependencies = c(\"Depends\", \"Suggests\")):\n",
            "“installation of package ‘GeneralizedHyperbolic’ had non-zero exit status”\n",
            "Warning message in install.packages(\"caret\", dependencies = c(\"Depends\", \"Suggests\")):\n",
            "“installation of package ‘rcdd’ had non-zero exit status”\n",
            "Warning message in install.packages(\"caret\", dependencies = c(\"Depends\", \"Suggests\")):\n",
            "“installation of package ‘equatags’ had non-zero exit status”\n",
            "Warning message in install.packages(\"caret\", dependencies = c(\"Depends\", \"Suggests\")):\n",
            "“installation of package ‘ipumsr’ had non-zero exit status”\n",
            "Warning message in install.packages(\"caret\", dependencies = c(\"Depends\", \"Suggests\")):\n",
            "“installation of package ‘mosaic’ had non-zero exit status”\n",
            "Warning message in install.packages(\"caret\", dependencies = c(\"Depends\", \"Suggests\")):\n",
            "“installation of package ‘Rsymphony’ had non-zero exit status”\n",
            "Warning message in install.packages(\"caret\", dependencies = c(\"Depends\", \"Suggests\")):\n",
            "“installation of package ‘futile.logger’ had non-zero exit status”\n",
            "Warning message in install.packages(\"caret\", dependencies = c(\"Depends\", \"Suggests\")):\n",
            "“installation of package ‘spam’ had non-zero exit status”\n",
            "Warning message in install.packages(\"caret\", dependencies = c(\"Depends\", \"Suggests\")):\n",
            "“installation of package ‘paletteer’ had non-zero exit status”\n",
            "Warning message in install.packages(\"caret\", dependencies = c(\"Depends\", \"Suggests\")):\n",
            "“installation of package ‘gsl’ had non-zero exit status”\n",
            "Warning message in install.packages(\"caret\", dependencies = c(\"Depends\", \"Suggests\")):\n",
            "“installation of package ‘biclust’ had non-zero exit status”\n",
            "Warning message in install.packages(\"caret\", dependencies = c(\"Depends\", \"Suggests\")):\n",
            "“installation of package ‘sem’ had non-zero exit status”\n",
            "Warning message in install.packages(\"caret\", dependencies = c(\"Depends\", \"Suggests\")):\n",
            "“installation of package ‘fftw’ had non-zero exit status”\n",
            "Warning message in install.packages(\"caret\", dependencies = c(\"Depends\", \"Suggests\")):\n",
            "“installation of package ‘ggfittext’ had non-zero exit status”\n",
            "Warning message in install.packages(\"caret\", dependencies = c(\"Depends\", \"Suggests\")):\n",
            "“installation of package ‘duckdb’ had non-zero exit status”\n"
          ]
        }
      ]
    },
    {
      "cell_type": "code",
      "execution_count": 1,
      "id": "639149fd",
      "metadata": {
        "id": "639149fd",
        "outputId": "8a26ba54-1f31-4c15-ee6b-d9d65ec74b2b",
        "colab": {
          "base_uri": "https://localhost:8080/",
          "height": 34
        }
      },
      "outputs": [
        {
          "output_type": "display_data",
          "data": {
            "text/html": [
              "<style>\n",
              ".list-inline {list-style: none; margin:0; padding: 0}\n",
              ".list-inline>li {display: inline-block}\n",
              ".list-inline>li:not(:last-child)::after {content: \"\\00b7\"; padding: 0 .5ex}\n",
              "</style>\n",
              "<ol class=list-inline><li>555</li><li>7</li></ol>\n"
            ],
            "text/markdown": "1. 555\n2. 7\n\n\n",
            "text/latex": "\\begin{enumerate*}\n\\item 555\n\\item 7\n\\end{enumerate*}\n",
            "text/plain": [
              "[1] 555   7"
            ]
          },
          "metadata": {}
        }
      ],
      "source": [
        "url=\"https://raw.githubusercontent.com/wujinja-cgu/Model-Selection-By-Caret-Package/main/sepsis%20data.csv\"\n",
        "mydata=read.csv(url,header=TRUE,sep=\",\")\n",
        "dim(mydata)"
      ]
    },
    {
      "cell_type": "code",
      "execution_count": 2,
      "id": "2d8ebc23",
      "metadata": {
        "id": "2d8ebc23",
        "outputId": "7e7d03e0-fdc6-4128-cc48-29a059fd9913",
        "colab": {
          "base_uri": "https://localhost:8080/",
          "height": 52
        }
      },
      "outputs": [
        {
          "output_type": "display_data",
          "data": {
            "text/html": [
              "<style>\n",
              ".list-inline {list-style: none; margin:0; padding: 0}\n",
              ".list-inline>li {display: inline-block}\n",
              ".list-inline>li:not(:last-child)::after {content: \"\\00b7\"; padding: 0 .5ex}\n",
              "</style>\n",
              "<ol class=list-inline><li>417</li><li>7</li></ol>\n"
            ],
            "text/markdown": "1. 417\n2. 7\n\n\n",
            "text/latex": "\\begin{enumerate*}\n\\item 417\n\\item 7\n\\end{enumerate*}\n",
            "text/plain": [
              "[1] 417   7"
            ]
          },
          "metadata": {}
        },
        {
          "output_type": "display_data",
          "data": {
            "text/html": [
              "<style>\n",
              ".list-inline {list-style: none; margin:0; padding: 0}\n",
              ".list-inline>li {display: inline-block}\n",
              ".list-inline>li:not(:last-child)::after {content: \"\\00b7\"; padding: 0 .5ex}\n",
              "</style>\n",
              "<ol class=list-inline><li>138</li><li>7</li></ol>\n"
            ],
            "text/markdown": "1. 138\n2. 7\n\n\n",
            "text/latex": "\\begin{enumerate*}\n\\item 138\n\\item 7\n\\end{enumerate*}\n",
            "text/plain": [
              "[1] 138   7"
            ]
          },
          "metadata": {}
        }
      ],
      "source": [
        "mydata$death=as.factor(mydata$death)\n",
        "mydata1=mydata[which(mydata$death==\"Survival\"),]\n",
        "mydata2=mydata[which(mydata$death==\"Death\"),]\n",
        "index1=sample(dim(mydata1)[1],nrow(mydata1)*0.25)\n",
        "index2=sample(dim(mydata2)[1],nrow(mydata2)*0.25)\n",
        "testing=rbind(mydata1[index1,],mydata2[index2,])\n",
        "training=rbind(mydata1[-index1,],mydata2[-index2,])\n",
        "dim(training)\n",
        "dim(testing)"
      ]
    },
    {
      "cell_type": "code",
      "execution_count": 3,
      "id": "9a3cd3b6",
      "metadata": {
        "id": "9a3cd3b6",
        "outputId": "834968fc-31ac-4dce-f1ab-70669821df82",
        "colab": {
          "base_uri": "https://localhost:8080/",
          "height": 111
        }
      },
      "outputs": [
        {
          "output_type": "error",
          "ename": "ERROR",
          "evalue": "ignored",
          "traceback": [
            "Error in trainControl(method = \"repeatedcv\", number = 3, repeats = 2, : could not find function \"trainControl\"\nTraceback:\n"
          ]
        }
      ],
      "source": [
        "fitControl=trainControl(method=\"repeatedcv\",\n",
        "            number=3,\n",
        "            repeats=2,\n",
        "            classProbs=TRUE,\n",
        "            savePredictions = TRUE,\n",
        "            verboseIter = TRUE,\n",
        "            summaryFunction=twoClassSummary,\n",
        "            search=\"random\")"
      ]
    },
    {
      "cell_type": "code",
      "execution_count": 11,
      "id": "d825bd1a",
      "metadata": {
        "id": "d825bd1a",
        "outputId": "974c42da-6afb-4084-a0da-74e0262e14e2",
        "colab": {
          "base_uri": "https://localhost:8080/",
          "height": 303
        }
      },
      "outputs": [
        {
          "output_type": "display_data",
          "data": {
            "text/html": [
              "<table class=\"dataframe\">\n",
              "<caption>A data.frame: 6 × 6</caption>\n",
              "<thead>\n",
              "\t<tr><th></th><th scope=col>model</th><th scope=col>parameter</th><th scope=col>label</th><th scope=col>forReg</th><th scope=col>forClass</th><th scope=col>probModel</th></tr>\n",
              "\t<tr><th></th><th scope=col>&lt;chr&gt;</th><th scope=col>&lt;chr&gt;</th><th scope=col>&lt;chr&gt;</th><th scope=col>&lt;lgl&gt;</th><th scope=col>&lt;lgl&gt;</th><th scope=col>&lt;lgl&gt;</th></tr>\n",
              "</thead>\n",
              "<tbody>\n",
              "\t<tr><th scope=row>1</th><td>ada     </td><td>iter    </td><td>#Trees        </td><td>FALSE</td><td>TRUE</td><td>TRUE</td></tr>\n",
              "\t<tr><th scope=row>2</th><td>ada     </td><td>maxdepth</td><td>Max Tree Depth</td><td>FALSE</td><td>TRUE</td><td>TRUE</td></tr>\n",
              "\t<tr><th scope=row>3</th><td>ada     </td><td>nu      </td><td>Learning Rate </td><td>FALSE</td><td>TRUE</td><td>TRUE</td></tr>\n",
              "\t<tr><th scope=row>4</th><td>AdaBag  </td><td>mfinal  </td><td>#Trees        </td><td>FALSE</td><td>TRUE</td><td>TRUE</td></tr>\n",
              "\t<tr><th scope=row>5</th><td>AdaBag  </td><td>maxdepth</td><td>Max Tree Depth</td><td>FALSE</td><td>TRUE</td><td>TRUE</td></tr>\n",
              "\t<tr><th scope=row>9</th><td>adaboost</td><td>nIter   </td><td>#Trees        </td><td>FALSE</td><td>TRUE</td><td>TRUE</td></tr>\n",
              "</tbody>\n",
              "</table>\n"
            ],
            "text/markdown": "\nA data.frame: 6 × 6\n\n| <!--/--> | model &lt;chr&gt; | parameter &lt;chr&gt; | label &lt;chr&gt; | forReg &lt;lgl&gt; | forClass &lt;lgl&gt; | probModel &lt;lgl&gt; |\n|---|---|---|---|---|---|---|\n| 1 | ada      | iter     | #Trees         | FALSE | TRUE | TRUE |\n| 2 | ada      | maxdepth | Max Tree Depth | FALSE | TRUE | TRUE |\n| 3 | ada      | nu       | Learning Rate  | FALSE | TRUE | TRUE |\n| 4 | AdaBag   | mfinal   | #Trees         | FALSE | TRUE | TRUE |\n| 5 | AdaBag   | maxdepth | Max Tree Depth | FALSE | TRUE | TRUE |\n| 9 | adaboost | nIter    | #Trees         | FALSE | TRUE | TRUE |\n\n",
            "text/latex": "A data.frame: 6 × 6\n\\begin{tabular}{r|llllll}\n  & model & parameter & label & forReg & forClass & probModel\\\\\n  & <chr> & <chr> & <chr> & <lgl> & <lgl> & <lgl>\\\\\n\\hline\n\t1 & ada      & iter     & \\#Trees         & FALSE & TRUE & TRUE\\\\\n\t2 & ada      & maxdepth & Max Tree Depth & FALSE & TRUE & TRUE\\\\\n\t3 & ada      & nu       & Learning Rate  & FALSE & TRUE & TRUE\\\\\n\t4 & AdaBag   & mfinal   & \\#Trees         & FALSE & TRUE & TRUE\\\\\n\t5 & AdaBag   & maxdepth & Max Tree Depth & FALSE & TRUE & TRUE\\\\\n\t9 & adaboost & nIter    & \\#Trees         & FALSE & TRUE & TRUE\\\\\n\\end{tabular}\n",
            "text/plain": [
              "  model    parameter label          forReg forClass probModel\n",
              "1 ada      iter      #Trees         FALSE  TRUE     TRUE     \n",
              "2 ada      maxdepth  Max Tree Depth FALSE  TRUE     TRUE     \n",
              "3 ada      nu        Learning Rate  FALSE  TRUE     TRUE     \n",
              "4 AdaBag   mfinal    #Trees         FALSE  TRUE     TRUE     \n",
              "5 AdaBag   maxdepth  Max Tree Depth FALSE  TRUE     TRUE     \n",
              "9 adaboost nIter     #Trees         FALSE  TRUE     TRUE     "
            ]
          },
          "metadata": {}
        },
        {
          "output_type": "display_data",
          "data": {
            "text/html": [
              "<style>\n",
              ".list-inline {list-style: none; margin:0; padding: 0}\n",
              ".list-inline>li {display: inline-block}\n",
              ".list-inline>li:not(:last-child)::after {content: \"\\00b7\"; padding: 0 .5ex}\n",
              "</style>\n",
              "<ol class=list-inline><li>511</li><li>6</li></ol>\n"
            ],
            "text/markdown": "1. 511\n2. 6\n\n\n",
            "text/latex": "\\begin{enumerate*}\n\\item 511\n\\item 6\n\\end{enumerate*}\n",
            "text/plain": [
              "[1] 511   6"
            ]
          },
          "metadata": {}
        }
      ],
      "source": [
        "model_caret=caret::modelLookup()\n",
        "head(model_caret)\n",
        "dim(model_caret)"
      ]
    },
    {
      "cell_type": "code",
      "execution_count": 12,
      "id": "b991bf94",
      "metadata": {
        "id": "b991bf94",
        "outputId": "6947fc24-92b1-4ab0-f603-898f2077debc",
        "colab": {
          "base_uri": "https://localhost:8080/",
          "height": 303
        }
      },
      "outputs": [
        {
          "output_type": "display_data",
          "data": {
            "text/html": [
              "<table class=\"dataframe\">\n",
              "<caption>A data.frame: 6 × 6</caption>\n",
              "<thead>\n",
              "\t<tr><th></th><th scope=col>model</th><th scope=col>parameter</th><th scope=col>label</th><th scope=col>forReg</th><th scope=col>forClass</th><th scope=col>probModel</th></tr>\n",
              "\t<tr><th></th><th scope=col>&lt;chr&gt;</th><th scope=col>&lt;chr&gt;</th><th scope=col>&lt;chr&gt;</th><th scope=col>&lt;lgl&gt;</th><th scope=col>&lt;lgl&gt;</th><th scope=col>&lt;lgl&gt;</th></tr>\n",
              "</thead>\n",
              "<tbody>\n",
              "\t<tr><th scope=row>1</th><td>ada     </td><td>iter    </td><td>#Trees        </td><td>FALSE</td><td>TRUE</td><td>TRUE</td></tr>\n",
              "\t<tr><th scope=row>2</th><td>ada     </td><td>maxdepth</td><td>Max Tree Depth</td><td>FALSE</td><td>TRUE</td><td>TRUE</td></tr>\n",
              "\t<tr><th scope=row>3</th><td>ada     </td><td>nu      </td><td>Learning Rate </td><td>FALSE</td><td>TRUE</td><td>TRUE</td></tr>\n",
              "\t<tr><th scope=row>4</th><td>AdaBag  </td><td>mfinal  </td><td>#Trees        </td><td>FALSE</td><td>TRUE</td><td>TRUE</td></tr>\n",
              "\t<tr><th scope=row>5</th><td>AdaBag  </td><td>maxdepth</td><td>Max Tree Depth</td><td>FALSE</td><td>TRUE</td><td>TRUE</td></tr>\n",
              "\t<tr><th scope=row>9</th><td>adaboost</td><td>nIter   </td><td>#Trees        </td><td>FALSE</td><td>TRUE</td><td>TRUE</td></tr>\n",
              "</tbody>\n",
              "</table>\n"
            ],
            "text/markdown": "\nA data.frame: 6 × 6\n\n| <!--/--> | model &lt;chr&gt; | parameter &lt;chr&gt; | label &lt;chr&gt; | forReg &lt;lgl&gt; | forClass &lt;lgl&gt; | probModel &lt;lgl&gt; |\n|---|---|---|---|---|---|---|\n| 1 | ada      | iter     | #Trees         | FALSE | TRUE | TRUE |\n| 2 | ada      | maxdepth | Max Tree Depth | FALSE | TRUE | TRUE |\n| 3 | ada      | nu       | Learning Rate  | FALSE | TRUE | TRUE |\n| 4 | AdaBag   | mfinal   | #Trees         | FALSE | TRUE | TRUE |\n| 5 | AdaBag   | maxdepth | Max Tree Depth | FALSE | TRUE | TRUE |\n| 9 | adaboost | nIter    | #Trees         | FALSE | TRUE | TRUE |\n\n",
            "text/latex": "A data.frame: 6 × 6\n\\begin{tabular}{r|llllll}\n  & model & parameter & label & forReg & forClass & probModel\\\\\n  & <chr> & <chr> & <chr> & <lgl> & <lgl> & <lgl>\\\\\n\\hline\n\t1 & ada      & iter     & \\#Trees         & FALSE & TRUE & TRUE\\\\\n\t2 & ada      & maxdepth & Max Tree Depth & FALSE & TRUE & TRUE\\\\\n\t3 & ada      & nu       & Learning Rate  & FALSE & TRUE & TRUE\\\\\n\t4 & AdaBag   & mfinal   & \\#Trees         & FALSE & TRUE & TRUE\\\\\n\t5 & AdaBag   & maxdepth & Max Tree Depth & FALSE & TRUE & TRUE\\\\\n\t9 & adaboost & nIter    & \\#Trees         & FALSE & TRUE & TRUE\\\\\n\\end{tabular}\n",
            "text/plain": [
              "  model    parameter label          forReg forClass probModel\n",
              "1 ada      iter      #Trees         FALSE  TRUE     TRUE     \n",
              "2 ada      maxdepth  Max Tree Depth FALSE  TRUE     TRUE     \n",
              "3 ada      nu        Learning Rate  FALSE  TRUE     TRUE     \n",
              "4 AdaBag   mfinal    #Trees         FALSE  TRUE     TRUE     \n",
              "5 AdaBag   maxdepth  Max Tree Depth FALSE  TRUE     TRUE     \n",
              "9 adaboost nIter     #Trees         FALSE  TRUE     TRUE     "
            ]
          },
          "metadata": {}
        },
        {
          "output_type": "display_data",
          "data": {
            "text/html": [
              "431"
            ],
            "text/markdown": "431",
            "text/latex": "431",
            "text/plain": [
              "[1] 431"
            ]
          },
          "metadata": {}
        }
      ],
      "source": [
        "model_caret_forclass=model_caret[which(model_caret$forClass==\"TRUE\"),]\n",
        "head(model_caret_forclass)\n",
        "nrow(model_caret_forclass)"
      ]
    },
    {
      "cell_type": "code",
      "execution_count": 13,
      "id": "a8475b3f",
      "metadata": {
        "id": "a8475b3f",
        "outputId": "6dd44e8c-ca6e-4f32-ab55-3900ab02bf99",
        "colab": {
          "base_uri": "https://localhost:8080/",
          "height": 303
        }
      },
      "outputs": [
        {
          "output_type": "display_data",
          "data": {
            "text/html": [
              "<table class=\"dataframe\">\n",
              "<caption>A data.frame: 6 × 6</caption>\n",
              "<thead>\n",
              "\t<tr><th></th><th scope=col>model</th><th scope=col>parameter</th><th scope=col>label</th><th scope=col>forReg</th><th scope=col>forClass</th><th scope=col>probModel</th></tr>\n",
              "\t<tr><th></th><th scope=col>&lt;chr&gt;</th><th scope=col>&lt;chr&gt;</th><th scope=col>&lt;chr&gt;</th><th scope=col>&lt;lgl&gt;</th><th scope=col>&lt;lgl&gt;</th><th scope=col>&lt;lgl&gt;</th></tr>\n",
              "</thead>\n",
              "<tbody>\n",
              "\t<tr><th scope=row>12</th><td>ANFIS </td><td>num.labels</td><td>#Fuzzy Terms                 </td><td>TRUE</td><td>FALSE</td><td>FALSE</td></tr>\n",
              "\t<tr><th scope=row>13</th><td>ANFIS </td><td>max.iter  </td><td>Max. Iterations              </td><td>TRUE</td><td>FALSE</td><td>FALSE</td></tr>\n",
              "\t<tr><th scope=row>14</th><td>avNNet</td><td>size      </td><td>#Hidden Units                </td><td>TRUE</td><td> TRUE</td><td> TRUE</td></tr>\n",
              "\t<tr><th scope=row>15</th><td>avNNet</td><td>decay     </td><td>Weight Decay                 </td><td>TRUE</td><td> TRUE</td><td> TRUE</td></tr>\n",
              "\t<tr><th scope=row>16</th><td>avNNet</td><td>bag       </td><td>Bagging                      </td><td>TRUE</td><td> TRUE</td><td> TRUE</td></tr>\n",
              "\t<tr><th scope=row>20</th><td>bag   </td><td>vars      </td><td>#Randomly Selected Predictors</td><td>TRUE</td><td> TRUE</td><td> TRUE</td></tr>\n",
              "</tbody>\n",
              "</table>\n"
            ],
            "text/markdown": "\nA data.frame: 6 × 6\n\n| <!--/--> | model &lt;chr&gt; | parameter &lt;chr&gt; | label &lt;chr&gt; | forReg &lt;lgl&gt; | forClass &lt;lgl&gt; | probModel &lt;lgl&gt; |\n|---|---|---|---|---|---|---|\n| 12 | ANFIS  | num.labels | #Fuzzy Terms                  | TRUE | FALSE | FALSE |\n| 13 | ANFIS  | max.iter   | Max. Iterations               | TRUE | FALSE | FALSE |\n| 14 | avNNet | size       | #Hidden Units                 | TRUE |  TRUE |  TRUE |\n| 15 | avNNet | decay      | Weight Decay                  | TRUE |  TRUE |  TRUE |\n| 16 | avNNet | bag        | Bagging                       | TRUE |  TRUE |  TRUE |\n| 20 | bag    | vars       | #Randomly Selected Predictors | TRUE |  TRUE |  TRUE |\n\n",
            "text/latex": "A data.frame: 6 × 6\n\\begin{tabular}{r|llllll}\n  & model & parameter & label & forReg & forClass & probModel\\\\\n  & <chr> & <chr> & <chr> & <lgl> & <lgl> & <lgl>\\\\\n\\hline\n\t12 & ANFIS  & num.labels & \\#Fuzzy Terms                  & TRUE & FALSE & FALSE\\\\\n\t13 & ANFIS  & max.iter   & Max. Iterations               & TRUE & FALSE & FALSE\\\\\n\t14 & avNNet & size       & \\#Hidden Units                 & TRUE &  TRUE &  TRUE\\\\\n\t15 & avNNet & decay      & Weight Decay                  & TRUE &  TRUE &  TRUE\\\\\n\t16 & avNNet & bag        & Bagging                       & TRUE &  TRUE &  TRUE\\\\\n\t20 & bag    & vars       & \\#Randomly Selected Predictors & TRUE &  TRUE &  TRUE\\\\\n\\end{tabular}\n",
            "text/plain": [
              "   model  parameter  label                         forReg forClass probModel\n",
              "12 ANFIS  num.labels #Fuzzy Terms                  TRUE   FALSE    FALSE    \n",
              "13 ANFIS  max.iter   Max. Iterations               TRUE   FALSE    FALSE    \n",
              "14 avNNet size       #Hidden Units                 TRUE    TRUE     TRUE    \n",
              "15 avNNet decay      Weight Decay                  TRUE    TRUE     TRUE    \n",
              "16 avNNet bag        Bagging                       TRUE    TRUE     TRUE    \n",
              "20 bag    vars       #Randomly Selected Predictors TRUE    TRUE     TRUE    "
            ]
          },
          "metadata": {}
        },
        {
          "output_type": "display_data",
          "data": {
            "text/html": [
              "296"
            ],
            "text/markdown": "296",
            "text/latex": "296",
            "text/plain": [
              "[1] 296"
            ]
          },
          "metadata": {}
        }
      ],
      "source": [
        "model_caret_forreg=model_caret[which(model_caret$forReg==\"TRUE\"),]\n",
        "head(model_caret_forreg)\n",
        "nrow(model_caret_forreg)"
      ]
    },
    {
      "cell_type": "code",
      "execution_count": 14,
      "id": "f12ca432",
      "metadata": {
        "id": "f12ca432",
        "outputId": "3b80eb1a-5dad-41c4-ad3f-10785f0b1f4a",
        "colab": {
          "base_uri": "https://localhost:8080/",
          "height": 416
        }
      },
      "outputs": [
        {
          "output_type": "display_data",
          "data": {
            "text/html": [
              "<style>\n",
              ".list-inline {list-style: none; margin:0; padding: 0}\n",
              ".list-inline>li {display: inline-block}\n",
              ".list-inline>li:not(:last-child)::after {content: \"\\00b7\"; padding: 0 .5ex}\n",
              "</style>\n",
              "<ol class=list-inline><li>'ada'</li><li>'AdaBag'</li><li>'adaboost'</li><li>'AdaBoost.M1'</li><li>'amdai'</li><li>'avNNet'</li><li>'awnb'</li><li>'awtan'</li><li>'bag'</li><li>'bagEarth'</li><li>'bagEarthGCV'</li><li>'bagFDA'</li><li>'bagFDAGCV'</li><li>'bam'</li><li>'bartMachine'</li><li>'bayesglm'</li><li>'binda'</li><li>'blackboost'</li><li>'BstLm'</li><li>'bstSm'</li><li>'bstTree'</li><li>'C5.0'</li><li>'C5.0Cost'</li><li>'C5.0Rules'</li><li>'C5.0Tree'</li><li>'cforest'</li><li>'chaid'</li><li>'CSimca'</li><li>'ctree'</li><li>'ctree2'</li><li>'dda'</li><li>'deepboost'</li><li>'dnn'</li><li>'dwdLinear'</li><li>'dwdPoly'</li><li>'dwdRadial'</li><li>'earth'</li><li>'elm'</li><li>'evtree'</li><li>'extraTrees'</li><li>'fda'</li><li>'FH.GBML'</li><li>'FRBCS.CHI'</li><li>'FRBCS.W'</li><li>'gam'</li><li>'gamboost'</li><li>'gamLoess'</li><li>'gamSpline'</li><li>'gaussprLinear'</li><li>'gaussprPoly'</li><li>'gaussprRadial'</li><li>'gbm'</li><li>'gbm_h2o'</li><li>'gcvEarth'</li><li>'glm'</li><li>'glmboost'</li><li>'glmnet'</li><li>'glmnet_h2o'</li><li>'glmStepAIC'</li><li>'gpls'</li><li>'hda'</li><li>'hdda'</li><li>'hdrda'</li><li>'J48'</li><li>'JRip'</li><li>'kernelpls'</li><li>'kknn'</li><li>'knn'</li><li>'lda'</li><li>'lda2'</li><li>'Linda'</li><li>'LMT'</li><li>'loclda'</li><li>'logicBag'</li><li>'LogitBoost'</li><li>'logreg'</li><li>'lssvmLinear'</li><li>'lssvmPoly'</li><li>'lssvmRadial'</li><li>'lvq'</li><li>'manb'</li><li>'mda'</li><li>'Mlda'</li><li>'mlp'</li><li>'mlpKerasDecay'</li><li>'mlpKerasDecayCost'</li><li>'mlpKerasDropout'</li><li>'mlpKerasDropoutCost'</li><li>'mlpML'</li><li>'mlpSGD'</li><li>'mlpWeightDecay'</li><li>'mlpWeightDecayML'</li><li>'monmlp'</li><li>'msaenet'</li><li>'multinom'</li><li>'mxnet'</li><li>'mxnetAdam'</li><li>'naive_bayes'</li><li>'nb'</li><li>'nbDiscrete'</li><li>'nbSearch'</li><li>'nnet'</li><li>'nodeHarvest'</li><li>'null'</li><li>'OneR'</li><li>'ordinalNet'</li><li>'ordinalRF'</li><li>'ORFlog'</li><li>'ORFpls'</li><li>'ORFridge'</li><li>'ORFsvm'</li><li>'ownn'</li><li>'pam'</li><li>'parRF'</li><li>'PART'</li><li>'partDSA'</li><li>'pcaNNet'</li><li>'pda'</li><li>'pda2'</li><li>'PenalizedLDA'</li><li>'plr'</li><li>'pls'</li><li>'plsRglm'</li><li>'polr'</li><li>'pre'</li><li>'PRIM'</li><li>'protoclass'</li><li>'qda'</li><li>'QdaCov'</li><li>'randomGLM'</li><li>'ranger'</li><li>'rbf'</li><li>'rbfDDA'</li><li>'Rborist'</li><li>'rda'</li><li>'regLogistic'</li><li>'rf'</li><li>'rFerns'</li><li>'RFlda'</li><li>'rfRules'</li><li>'rlda'</li><li>'rmda'</li><li>'rocc'</li><li>'rotationForest'</li><li>'rotationForestCp'</li><li>'rpart'</li><li>'rpart1SE'</li><li>'rpart2'</li><li>'rpartCost'</li><li>'rpartScore'</li><li>'RRF'</li><li>'RRFglobal'</li><li>'rrlda'</li><li>'RSimca'</li><li>'sda'</li><li>'sdwd'</li><li>'simpls'</li><li>'SLAVE'</li><li>'slda'</li><li>'smda'</li><li>'snn'</li><li>'sparseLDA'</li><li>'spls'</li><li>'stepLDA'</li><li>'stepQDA'</li><li>'svmBoundrangeString'</li><li>'svmExpoString'</li><li>'svmLinear'</li><li>'svmLinear2'</li><li>'svmLinear3'</li><li>'svmLinearWeights'</li><li>'svmLinearWeights2'</li><li>'svmPoly'</li><li>'svmRadial'</li><li>'svmRadialCost'</li><li>'svmRadialSigma'</li><li>'svmRadialWeights'</li><li>'svmSpectrumString'</li><li>'tan'</li><li>'tanSearch'</li><li>'treebag'</li><li>'vbmpRadial'</li><li>'vglmAdjCat'</li><li>'vglmContRatio'</li><li>'vglmCumulative'</li><li>'widekernelpls'</li><li>'wsrf'</li><li>'xgbDART'</li><li>'xgbLinear'</li><li>'xgbTree'</li><li>'xyf'</li></ol>\n"
            ],
            "text/markdown": "1. 'ada'\n2. 'AdaBag'\n3. 'adaboost'\n4. 'AdaBoost.M1'\n5. 'amdai'\n6. 'avNNet'\n7. 'awnb'\n8. 'awtan'\n9. 'bag'\n10. 'bagEarth'\n11. 'bagEarthGCV'\n12. 'bagFDA'\n13. 'bagFDAGCV'\n14. 'bam'\n15. 'bartMachine'\n16. 'bayesglm'\n17. 'binda'\n18. 'blackboost'\n19. 'BstLm'\n20. 'bstSm'\n21. 'bstTree'\n22. 'C5.0'\n23. 'C5.0Cost'\n24. 'C5.0Rules'\n25. 'C5.0Tree'\n26. 'cforest'\n27. 'chaid'\n28. 'CSimca'\n29. 'ctree'\n30. 'ctree2'\n31. 'dda'\n32. 'deepboost'\n33. 'dnn'\n34. 'dwdLinear'\n35. 'dwdPoly'\n36. 'dwdRadial'\n37. 'earth'\n38. 'elm'\n39. 'evtree'\n40. 'extraTrees'\n41. 'fda'\n42. 'FH.GBML'\n43. 'FRBCS.CHI'\n44. 'FRBCS.W'\n45. 'gam'\n46. 'gamboost'\n47. 'gamLoess'\n48. 'gamSpline'\n49. 'gaussprLinear'\n50. 'gaussprPoly'\n51. 'gaussprRadial'\n52. 'gbm'\n53. 'gbm_h2o'\n54. 'gcvEarth'\n55. 'glm'\n56. 'glmboost'\n57. 'glmnet'\n58. 'glmnet_h2o'\n59. 'glmStepAIC'\n60. 'gpls'\n61. 'hda'\n62. 'hdda'\n63. 'hdrda'\n64. 'J48'\n65. 'JRip'\n66. 'kernelpls'\n67. 'kknn'\n68. 'knn'\n69. 'lda'\n70. 'lda2'\n71. 'Linda'\n72. 'LMT'\n73. 'loclda'\n74. 'logicBag'\n75. 'LogitBoost'\n76. 'logreg'\n77. 'lssvmLinear'\n78. 'lssvmPoly'\n79. 'lssvmRadial'\n80. 'lvq'\n81. 'manb'\n82. 'mda'\n83. 'Mlda'\n84. 'mlp'\n85. 'mlpKerasDecay'\n86. 'mlpKerasDecayCost'\n87. 'mlpKerasDropout'\n88. 'mlpKerasDropoutCost'\n89. 'mlpML'\n90. 'mlpSGD'\n91. 'mlpWeightDecay'\n92. 'mlpWeightDecayML'\n93. 'monmlp'\n94. 'msaenet'\n95. 'multinom'\n96. 'mxnet'\n97. 'mxnetAdam'\n98. 'naive_bayes'\n99. 'nb'\n100. 'nbDiscrete'\n101. 'nbSearch'\n102. 'nnet'\n103. 'nodeHarvest'\n104. 'null'\n105. 'OneR'\n106. 'ordinalNet'\n107. 'ordinalRF'\n108. 'ORFlog'\n109. 'ORFpls'\n110. 'ORFridge'\n111. 'ORFsvm'\n112. 'ownn'\n113. 'pam'\n114. 'parRF'\n115. 'PART'\n116. 'partDSA'\n117. 'pcaNNet'\n118. 'pda'\n119. 'pda2'\n120. 'PenalizedLDA'\n121. 'plr'\n122. 'pls'\n123. 'plsRglm'\n124. 'polr'\n125. 'pre'\n126. 'PRIM'\n127. 'protoclass'\n128. 'qda'\n129. 'QdaCov'\n130. 'randomGLM'\n131. 'ranger'\n132. 'rbf'\n133. 'rbfDDA'\n134. 'Rborist'\n135. 'rda'\n136. 'regLogistic'\n137. 'rf'\n138. 'rFerns'\n139. 'RFlda'\n140. 'rfRules'\n141. 'rlda'\n142. 'rmda'\n143. 'rocc'\n144. 'rotationForest'\n145. 'rotationForestCp'\n146. 'rpart'\n147. 'rpart1SE'\n148. 'rpart2'\n149. 'rpartCost'\n150. 'rpartScore'\n151. 'RRF'\n152. 'RRFglobal'\n153. 'rrlda'\n154. 'RSimca'\n155. 'sda'\n156. 'sdwd'\n157. 'simpls'\n158. 'SLAVE'\n159. 'slda'\n160. 'smda'\n161. 'snn'\n162. 'sparseLDA'\n163. 'spls'\n164. 'stepLDA'\n165. 'stepQDA'\n166. 'svmBoundrangeString'\n167. 'svmExpoString'\n168. 'svmLinear'\n169. 'svmLinear2'\n170. 'svmLinear3'\n171. 'svmLinearWeights'\n172. 'svmLinearWeights2'\n173. 'svmPoly'\n174. 'svmRadial'\n175. 'svmRadialCost'\n176. 'svmRadialSigma'\n177. 'svmRadialWeights'\n178. 'svmSpectrumString'\n179. 'tan'\n180. 'tanSearch'\n181. 'treebag'\n182. 'vbmpRadial'\n183. 'vglmAdjCat'\n184. 'vglmContRatio'\n185. 'vglmCumulative'\n186. 'widekernelpls'\n187. 'wsrf'\n188. 'xgbDART'\n189. 'xgbLinear'\n190. 'xgbTree'\n191. 'xyf'\n\n\n",
            "text/latex": "\\begin{enumerate*}\n\\item 'ada'\n\\item 'AdaBag'\n\\item 'adaboost'\n\\item 'AdaBoost.M1'\n\\item 'amdai'\n\\item 'avNNet'\n\\item 'awnb'\n\\item 'awtan'\n\\item 'bag'\n\\item 'bagEarth'\n\\item 'bagEarthGCV'\n\\item 'bagFDA'\n\\item 'bagFDAGCV'\n\\item 'bam'\n\\item 'bartMachine'\n\\item 'bayesglm'\n\\item 'binda'\n\\item 'blackboost'\n\\item 'BstLm'\n\\item 'bstSm'\n\\item 'bstTree'\n\\item 'C5.0'\n\\item 'C5.0Cost'\n\\item 'C5.0Rules'\n\\item 'C5.0Tree'\n\\item 'cforest'\n\\item 'chaid'\n\\item 'CSimca'\n\\item 'ctree'\n\\item 'ctree2'\n\\item 'dda'\n\\item 'deepboost'\n\\item 'dnn'\n\\item 'dwdLinear'\n\\item 'dwdPoly'\n\\item 'dwdRadial'\n\\item 'earth'\n\\item 'elm'\n\\item 'evtree'\n\\item 'extraTrees'\n\\item 'fda'\n\\item 'FH.GBML'\n\\item 'FRBCS.CHI'\n\\item 'FRBCS.W'\n\\item 'gam'\n\\item 'gamboost'\n\\item 'gamLoess'\n\\item 'gamSpline'\n\\item 'gaussprLinear'\n\\item 'gaussprPoly'\n\\item 'gaussprRadial'\n\\item 'gbm'\n\\item 'gbm\\_h2o'\n\\item 'gcvEarth'\n\\item 'glm'\n\\item 'glmboost'\n\\item 'glmnet'\n\\item 'glmnet\\_h2o'\n\\item 'glmStepAIC'\n\\item 'gpls'\n\\item 'hda'\n\\item 'hdda'\n\\item 'hdrda'\n\\item 'J48'\n\\item 'JRip'\n\\item 'kernelpls'\n\\item 'kknn'\n\\item 'knn'\n\\item 'lda'\n\\item 'lda2'\n\\item 'Linda'\n\\item 'LMT'\n\\item 'loclda'\n\\item 'logicBag'\n\\item 'LogitBoost'\n\\item 'logreg'\n\\item 'lssvmLinear'\n\\item 'lssvmPoly'\n\\item 'lssvmRadial'\n\\item 'lvq'\n\\item 'manb'\n\\item 'mda'\n\\item 'Mlda'\n\\item 'mlp'\n\\item 'mlpKerasDecay'\n\\item 'mlpKerasDecayCost'\n\\item 'mlpKerasDropout'\n\\item 'mlpKerasDropoutCost'\n\\item 'mlpML'\n\\item 'mlpSGD'\n\\item 'mlpWeightDecay'\n\\item 'mlpWeightDecayML'\n\\item 'monmlp'\n\\item 'msaenet'\n\\item 'multinom'\n\\item 'mxnet'\n\\item 'mxnetAdam'\n\\item 'naive\\_bayes'\n\\item 'nb'\n\\item 'nbDiscrete'\n\\item 'nbSearch'\n\\item 'nnet'\n\\item 'nodeHarvest'\n\\item 'null'\n\\item 'OneR'\n\\item 'ordinalNet'\n\\item 'ordinalRF'\n\\item 'ORFlog'\n\\item 'ORFpls'\n\\item 'ORFridge'\n\\item 'ORFsvm'\n\\item 'ownn'\n\\item 'pam'\n\\item 'parRF'\n\\item 'PART'\n\\item 'partDSA'\n\\item 'pcaNNet'\n\\item 'pda'\n\\item 'pda2'\n\\item 'PenalizedLDA'\n\\item 'plr'\n\\item 'pls'\n\\item 'plsRglm'\n\\item 'polr'\n\\item 'pre'\n\\item 'PRIM'\n\\item 'protoclass'\n\\item 'qda'\n\\item 'QdaCov'\n\\item 'randomGLM'\n\\item 'ranger'\n\\item 'rbf'\n\\item 'rbfDDA'\n\\item 'Rborist'\n\\item 'rda'\n\\item 'regLogistic'\n\\item 'rf'\n\\item 'rFerns'\n\\item 'RFlda'\n\\item 'rfRules'\n\\item 'rlda'\n\\item 'rmda'\n\\item 'rocc'\n\\item 'rotationForest'\n\\item 'rotationForestCp'\n\\item 'rpart'\n\\item 'rpart1SE'\n\\item 'rpart2'\n\\item 'rpartCost'\n\\item 'rpartScore'\n\\item 'RRF'\n\\item 'RRFglobal'\n\\item 'rrlda'\n\\item 'RSimca'\n\\item 'sda'\n\\item 'sdwd'\n\\item 'simpls'\n\\item 'SLAVE'\n\\item 'slda'\n\\item 'smda'\n\\item 'snn'\n\\item 'sparseLDA'\n\\item 'spls'\n\\item 'stepLDA'\n\\item 'stepQDA'\n\\item 'svmBoundrangeString'\n\\item 'svmExpoString'\n\\item 'svmLinear'\n\\item 'svmLinear2'\n\\item 'svmLinear3'\n\\item 'svmLinearWeights'\n\\item 'svmLinearWeights2'\n\\item 'svmPoly'\n\\item 'svmRadial'\n\\item 'svmRadialCost'\n\\item 'svmRadialSigma'\n\\item 'svmRadialWeights'\n\\item 'svmSpectrumString'\n\\item 'tan'\n\\item 'tanSearch'\n\\item 'treebag'\n\\item 'vbmpRadial'\n\\item 'vglmAdjCat'\n\\item 'vglmContRatio'\n\\item 'vglmCumulative'\n\\item 'widekernelpls'\n\\item 'wsrf'\n\\item 'xgbDART'\n\\item 'xgbLinear'\n\\item 'xgbTree'\n\\item 'xyf'\n\\end{enumerate*}\n",
            "text/plain": [
              "  [1] \"ada\"                 \"AdaBag\"              \"adaboost\"           \n",
              "  [4] \"AdaBoost.M1\"         \"amdai\"               \"avNNet\"             \n",
              "  [7] \"awnb\"                \"awtan\"               \"bag\"                \n",
              " [10] \"bagEarth\"            \"bagEarthGCV\"         \"bagFDA\"             \n",
              " [13] \"bagFDAGCV\"           \"bam\"                 \"bartMachine\"        \n",
              " [16] \"bayesglm\"            \"binda\"               \"blackboost\"         \n",
              " [19] \"BstLm\"               \"bstSm\"               \"bstTree\"            \n",
              " [22] \"C5.0\"                \"C5.0Cost\"            \"C5.0Rules\"          \n",
              " [25] \"C5.0Tree\"            \"cforest\"             \"chaid\"              \n",
              " [28] \"CSimca\"              \"ctree\"               \"ctree2\"             \n",
              " [31] \"dda\"                 \"deepboost\"           \"dnn\"                \n",
              " [34] \"dwdLinear\"           \"dwdPoly\"             \"dwdRadial\"          \n",
              " [37] \"earth\"               \"elm\"                 \"evtree\"             \n",
              " [40] \"extraTrees\"          \"fda\"                 \"FH.GBML\"            \n",
              " [43] \"FRBCS.CHI\"           \"FRBCS.W\"             \"gam\"                \n",
              " [46] \"gamboost\"            \"gamLoess\"            \"gamSpline\"          \n",
              " [49] \"gaussprLinear\"       \"gaussprPoly\"         \"gaussprRadial\"      \n",
              " [52] \"gbm\"                 \"gbm_h2o\"             \"gcvEarth\"           \n",
              " [55] \"glm\"                 \"glmboost\"            \"glmnet\"             \n",
              " [58] \"glmnet_h2o\"          \"glmStepAIC\"          \"gpls\"               \n",
              " [61] \"hda\"                 \"hdda\"                \"hdrda\"              \n",
              " [64] \"J48\"                 \"JRip\"                \"kernelpls\"          \n",
              " [67] \"kknn\"                \"knn\"                 \"lda\"                \n",
              " [70] \"lda2\"                \"Linda\"               \"LMT\"                \n",
              " [73] \"loclda\"              \"logicBag\"            \"LogitBoost\"         \n",
              " [76] \"logreg\"              \"lssvmLinear\"         \"lssvmPoly\"          \n",
              " [79] \"lssvmRadial\"         \"lvq\"                 \"manb\"               \n",
              " [82] \"mda\"                 \"Mlda\"                \"mlp\"                \n",
              " [85] \"mlpKerasDecay\"       \"mlpKerasDecayCost\"   \"mlpKerasDropout\"    \n",
              " [88] \"mlpKerasDropoutCost\" \"mlpML\"               \"mlpSGD\"             \n",
              " [91] \"mlpWeightDecay\"      \"mlpWeightDecayML\"    \"monmlp\"             \n",
              " [94] \"msaenet\"             \"multinom\"            \"mxnet\"              \n",
              " [97] \"mxnetAdam\"           \"naive_bayes\"         \"nb\"                 \n",
              "[100] \"nbDiscrete\"          \"nbSearch\"            \"nnet\"               \n",
              "[103] \"nodeHarvest\"         \"null\"                \"OneR\"               \n",
              "[106] \"ordinalNet\"          \"ordinalRF\"           \"ORFlog\"             \n",
              "[109] \"ORFpls\"              \"ORFridge\"            \"ORFsvm\"             \n",
              "[112] \"ownn\"                \"pam\"                 \"parRF\"              \n",
              "[115] \"PART\"                \"partDSA\"             \"pcaNNet\"            \n",
              "[118] \"pda\"                 \"pda2\"                \"PenalizedLDA\"       \n",
              "[121] \"plr\"                 \"pls\"                 \"plsRglm\"            \n",
              "[124] \"polr\"                \"pre\"                 \"PRIM\"               \n",
              "[127] \"protoclass\"          \"qda\"                 \"QdaCov\"             \n",
              "[130] \"randomGLM\"           \"ranger\"              \"rbf\"                \n",
              "[133] \"rbfDDA\"              \"Rborist\"             \"rda\"                \n",
              "[136] \"regLogistic\"         \"rf\"                  \"rFerns\"             \n",
              "[139] \"RFlda\"               \"rfRules\"             \"rlda\"               \n",
              "[142] \"rmda\"                \"rocc\"                \"rotationForest\"     \n",
              "[145] \"rotationForestCp\"    \"rpart\"               \"rpart1SE\"           \n",
              "[148] \"rpart2\"              \"rpartCost\"           \"rpartScore\"         \n",
              "[151] \"RRF\"                 \"RRFglobal\"           \"rrlda\"              \n",
              "[154] \"RSimca\"              \"sda\"                 \"sdwd\"               \n",
              "[157] \"simpls\"              \"SLAVE\"               \"slda\"               \n",
              "[160] \"smda\"                \"snn\"                 \"sparseLDA\"          \n",
              "[163] \"spls\"                \"stepLDA\"             \"stepQDA\"            \n",
              "[166] \"svmBoundrangeString\" \"svmExpoString\"       \"svmLinear\"          \n",
              "[169] \"svmLinear2\"          \"svmLinear3\"          \"svmLinearWeights\"   \n",
              "[172] \"svmLinearWeights2\"   \"svmPoly\"             \"svmRadial\"          \n",
              "[175] \"svmRadialCost\"       \"svmRadialSigma\"      \"svmRadialWeights\"   \n",
              "[178] \"svmSpectrumString\"   \"tan\"                 \"tanSearch\"          \n",
              "[181] \"treebag\"             \"vbmpRadial\"          \"vglmAdjCat\"         \n",
              "[184] \"vglmContRatio\"       \"vglmCumulative\"      \"widekernelpls\"      \n",
              "[187] \"wsrf\"                \"xgbDART\"             \"xgbLinear\"          \n",
              "[190] \"xgbTree\"             \"xyf\"                "
            ]
          },
          "metadata": {}
        },
        {
          "output_type": "display_data",
          "data": {
            "text/html": [
              "187"
            ],
            "text/markdown": "187",
            "text/latex": "187",
            "text/plain": [
              "[1] 187"
            ]
          },
          "metadata": {}
        },
        {
          "output_type": "display_data",
          "data": {
            "text/html": [
              "<style>\n",
              ".list-inline {list-style: none; margin:0; padding: 0}\n",
              ".list-inline>li {display: inline-block}\n",
              ".list-inline>li:not(:last-child)::after {content: \"\\00b7\"; padding: 0 .5ex}\n",
              "</style>\n",
              "<ol class=list-inline><li>'ada'</li><li>'AdaBag'</li><li>'adaboost'</li><li>'AdaBoost.M1'</li><li>'amdai'</li><li>'avNNet'</li><li>'awnb'</li><li>'awtan'</li><li>'bag'</li><li>'bagEarth'</li><li>'bagEarthGCV'</li><li>'bagFDA'</li><li>'bagFDAGCV'</li><li>'bam'</li><li>'bartMachine'</li><li>'bayesglm'</li><li>'binda'</li><li>'blackboost'</li><li>'BstLm'</li><li>'bstSm'</li><li>'bstTree'</li><li>'C5.0'</li><li>'C5.0Cost'</li><li>'C5.0Rules'</li><li>'C5.0Tree'</li><li>'cforest'</li><li>'chaid'</li><li>'CSimca'</li><li>'ctree'</li><li>'ctree2'</li><li>'dda'</li><li>'deepboost'</li><li>'dnn'</li><li>'dwdLinear'</li><li>'dwdPoly'</li><li>'dwdRadial'</li><li>'earth'</li><li>'elm'</li><li>'evtree'</li><li>'extraTrees'</li><li>'fda'</li><li>'FH.GBML'</li><li>'FRBCS.CHI'</li><li>'FRBCS.W'</li><li>'gam'</li><li>'gaussprPoly'</li><li>'gaussprRadial'</li><li>'gbm'</li><li>'gbm_h2o'</li><li>'gcvEarth'</li><li>'glm'</li><li>'glmboost'</li><li>'glmnet'</li><li>'glmnet_h2o'</li><li>'glmStepAIC'</li><li>'gpls'</li><li>'hda'</li><li>'hdda'</li><li>'hdrda'</li><li>'J48'</li><li>'JRip'</li><li>'kernelpls'</li><li>'kknn'</li><li>'knn'</li><li>'lda'</li><li>'lda2'</li><li>'Linda'</li><li>'LMT'</li><li>'loclda'</li><li>'logicBag'</li><li>'LogitBoost'</li><li>'logreg'</li><li>'lssvmLinear'</li><li>'lssvmPoly'</li><li>'lssvmRadial'</li><li>'lvq'</li><li>'manb'</li><li>'mda'</li><li>'Mlda'</li><li>'mlp'</li><li>'mlpKerasDecay'</li><li>'mlpKerasDecayCost'</li><li>'mlpKerasDropout'</li><li>'mlpKerasDropoutCost'</li><li>'mlpML'</li><li>'mlpSGD'</li><li>'mlpWeightDecay'</li><li>'mlpWeightDecayML'</li><li>'monmlp'</li><li>'msaenet'</li><li>'multinom'</li><li>'mxnet'</li><li>'mxnetAdam'</li><li>'naive_bayes'</li><li>'nb'</li><li>'nbDiscrete'</li><li>'nbSearch'</li><li>'nnet'</li><li>'nodeHarvest'</li><li>'null'</li><li>'OneR'</li><li>'ordinalNet'</li><li>'ordinalRF'</li><li>'ORFlog'</li><li>'ORFpls'</li><li>'ORFridge'</li><li>'ORFsvm'</li><li>'ownn'</li><li>'pam'</li><li>'parRF'</li><li>'PART'</li><li>'partDSA'</li><li>'pcaNNet'</li><li>'pda'</li><li>'pda2'</li><li>'PenalizedLDA'</li><li>'plr'</li><li>'pls'</li><li>'plsRglm'</li><li>'polr'</li><li>'pre'</li><li>'PRIM'</li><li>'protoclass'</li><li>'qda'</li><li>'QdaCov'</li><li>'randomGLM'</li><li>'ranger'</li><li>'rbf'</li><li>'rbfDDA'</li><li>'Rborist'</li><li>'rda'</li><li>'regLogistic'</li><li>'rf'</li><li>'rFerns'</li><li>'RFlda'</li><li>'rfRules'</li><li>'rlda'</li><li>'rmda'</li><li>'rocc'</li><li>'rotationForest'</li><li>'rotationForestCp'</li><li>'rpart'</li><li>'rpart1SE'</li><li>'rpart2'</li><li>'rpartCost'</li><li>'rpartScore'</li><li>'RRF'</li><li>'RRFglobal'</li><li>'rrlda'</li><li>'RSimca'</li><li>'sda'</li><li>'sdwd'</li><li>'simpls'</li><li>'SLAVE'</li><li>'slda'</li><li>'smda'</li><li>'snn'</li><li>'sparseLDA'</li><li>'spls'</li><li>'stepLDA'</li><li>'stepQDA'</li><li>'svmBoundrangeString'</li><li>'svmExpoString'</li><li>'svmLinear'</li><li>'svmLinear2'</li><li>'svmLinear3'</li><li>'svmLinearWeights'</li><li>'svmLinearWeights2'</li><li>'svmPoly'</li><li>'svmRadial'</li><li>'svmRadialCost'</li><li>'svmRadialSigma'</li><li>'svmRadialWeights'</li><li>'svmSpectrumString'</li><li>'tan'</li><li>'tanSearch'</li><li>'treebag'</li><li>'vbmpRadial'</li><li>'vglmAdjCat'</li><li>'vglmContRatio'</li><li>'vglmCumulative'</li><li>'widekernelpls'</li><li>'wsrf'</li><li>'xgbDART'</li><li>'xgbLinear'</li><li>'xgbTree'</li><li>'xyf'</li></ol>\n"
            ],
            "text/markdown": "1. 'ada'\n2. 'AdaBag'\n3. 'adaboost'\n4. 'AdaBoost.M1'\n5. 'amdai'\n6. 'avNNet'\n7. 'awnb'\n8. 'awtan'\n9. 'bag'\n10. 'bagEarth'\n11. 'bagEarthGCV'\n12. 'bagFDA'\n13. 'bagFDAGCV'\n14. 'bam'\n15. 'bartMachine'\n16. 'bayesglm'\n17. 'binda'\n18. 'blackboost'\n19. 'BstLm'\n20. 'bstSm'\n21. 'bstTree'\n22. 'C5.0'\n23. 'C5.0Cost'\n24. 'C5.0Rules'\n25. 'C5.0Tree'\n26. 'cforest'\n27. 'chaid'\n28. 'CSimca'\n29. 'ctree'\n30. 'ctree2'\n31. 'dda'\n32. 'deepboost'\n33. 'dnn'\n34. 'dwdLinear'\n35. 'dwdPoly'\n36. 'dwdRadial'\n37. 'earth'\n38. 'elm'\n39. 'evtree'\n40. 'extraTrees'\n41. 'fda'\n42. 'FH.GBML'\n43. 'FRBCS.CHI'\n44. 'FRBCS.W'\n45. 'gam'\n46. 'gaussprPoly'\n47. 'gaussprRadial'\n48. 'gbm'\n49. 'gbm_h2o'\n50. 'gcvEarth'\n51. 'glm'\n52. 'glmboost'\n53. 'glmnet'\n54. 'glmnet_h2o'\n55. 'glmStepAIC'\n56. 'gpls'\n57. 'hda'\n58. 'hdda'\n59. 'hdrda'\n60. 'J48'\n61. 'JRip'\n62. 'kernelpls'\n63. 'kknn'\n64. 'knn'\n65. 'lda'\n66. 'lda2'\n67. 'Linda'\n68. 'LMT'\n69. 'loclda'\n70. 'logicBag'\n71. 'LogitBoost'\n72. 'logreg'\n73. 'lssvmLinear'\n74. 'lssvmPoly'\n75. 'lssvmRadial'\n76. 'lvq'\n77. 'manb'\n78. 'mda'\n79. 'Mlda'\n80. 'mlp'\n81. 'mlpKerasDecay'\n82. 'mlpKerasDecayCost'\n83. 'mlpKerasDropout'\n84. 'mlpKerasDropoutCost'\n85. 'mlpML'\n86. 'mlpSGD'\n87. 'mlpWeightDecay'\n88. 'mlpWeightDecayML'\n89. 'monmlp'\n90. 'msaenet'\n91. 'multinom'\n92. 'mxnet'\n93. 'mxnetAdam'\n94. 'naive_bayes'\n95. 'nb'\n96. 'nbDiscrete'\n97. 'nbSearch'\n98. 'nnet'\n99. 'nodeHarvest'\n100. 'null'\n101. 'OneR'\n102. 'ordinalNet'\n103. 'ordinalRF'\n104. 'ORFlog'\n105. 'ORFpls'\n106. 'ORFridge'\n107. 'ORFsvm'\n108. 'ownn'\n109. 'pam'\n110. 'parRF'\n111. 'PART'\n112. 'partDSA'\n113. 'pcaNNet'\n114. 'pda'\n115. 'pda2'\n116. 'PenalizedLDA'\n117. 'plr'\n118. 'pls'\n119. 'plsRglm'\n120. 'polr'\n121. 'pre'\n122. 'PRIM'\n123. 'protoclass'\n124. 'qda'\n125. 'QdaCov'\n126. 'randomGLM'\n127. 'ranger'\n128. 'rbf'\n129. 'rbfDDA'\n130. 'Rborist'\n131. 'rda'\n132. 'regLogistic'\n133. 'rf'\n134. 'rFerns'\n135. 'RFlda'\n136. 'rfRules'\n137. 'rlda'\n138. 'rmda'\n139. 'rocc'\n140. 'rotationForest'\n141. 'rotationForestCp'\n142. 'rpart'\n143. 'rpart1SE'\n144. 'rpart2'\n145. 'rpartCost'\n146. 'rpartScore'\n147. 'RRF'\n148. 'RRFglobal'\n149. 'rrlda'\n150. 'RSimca'\n151. 'sda'\n152. 'sdwd'\n153. 'simpls'\n154. 'SLAVE'\n155. 'slda'\n156. 'smda'\n157. 'snn'\n158. 'sparseLDA'\n159. 'spls'\n160. 'stepLDA'\n161. 'stepQDA'\n162. 'svmBoundrangeString'\n163. 'svmExpoString'\n164. 'svmLinear'\n165. 'svmLinear2'\n166. 'svmLinear3'\n167. 'svmLinearWeights'\n168. 'svmLinearWeights2'\n169. 'svmPoly'\n170. 'svmRadial'\n171. 'svmRadialCost'\n172. 'svmRadialSigma'\n173. 'svmRadialWeights'\n174. 'svmSpectrumString'\n175. 'tan'\n176. 'tanSearch'\n177. 'treebag'\n178. 'vbmpRadial'\n179. 'vglmAdjCat'\n180. 'vglmContRatio'\n181. 'vglmCumulative'\n182. 'widekernelpls'\n183. 'wsrf'\n184. 'xgbDART'\n185. 'xgbLinear'\n186. 'xgbTree'\n187. 'xyf'\n\n\n",
            "text/latex": "\\begin{enumerate*}\n\\item 'ada'\n\\item 'AdaBag'\n\\item 'adaboost'\n\\item 'AdaBoost.M1'\n\\item 'amdai'\n\\item 'avNNet'\n\\item 'awnb'\n\\item 'awtan'\n\\item 'bag'\n\\item 'bagEarth'\n\\item 'bagEarthGCV'\n\\item 'bagFDA'\n\\item 'bagFDAGCV'\n\\item 'bam'\n\\item 'bartMachine'\n\\item 'bayesglm'\n\\item 'binda'\n\\item 'blackboost'\n\\item 'BstLm'\n\\item 'bstSm'\n\\item 'bstTree'\n\\item 'C5.0'\n\\item 'C5.0Cost'\n\\item 'C5.0Rules'\n\\item 'C5.0Tree'\n\\item 'cforest'\n\\item 'chaid'\n\\item 'CSimca'\n\\item 'ctree'\n\\item 'ctree2'\n\\item 'dda'\n\\item 'deepboost'\n\\item 'dnn'\n\\item 'dwdLinear'\n\\item 'dwdPoly'\n\\item 'dwdRadial'\n\\item 'earth'\n\\item 'elm'\n\\item 'evtree'\n\\item 'extraTrees'\n\\item 'fda'\n\\item 'FH.GBML'\n\\item 'FRBCS.CHI'\n\\item 'FRBCS.W'\n\\item 'gam'\n\\item 'gaussprPoly'\n\\item 'gaussprRadial'\n\\item 'gbm'\n\\item 'gbm\\_h2o'\n\\item 'gcvEarth'\n\\item 'glm'\n\\item 'glmboost'\n\\item 'glmnet'\n\\item 'glmnet\\_h2o'\n\\item 'glmStepAIC'\n\\item 'gpls'\n\\item 'hda'\n\\item 'hdda'\n\\item 'hdrda'\n\\item 'J48'\n\\item 'JRip'\n\\item 'kernelpls'\n\\item 'kknn'\n\\item 'knn'\n\\item 'lda'\n\\item 'lda2'\n\\item 'Linda'\n\\item 'LMT'\n\\item 'loclda'\n\\item 'logicBag'\n\\item 'LogitBoost'\n\\item 'logreg'\n\\item 'lssvmLinear'\n\\item 'lssvmPoly'\n\\item 'lssvmRadial'\n\\item 'lvq'\n\\item 'manb'\n\\item 'mda'\n\\item 'Mlda'\n\\item 'mlp'\n\\item 'mlpKerasDecay'\n\\item 'mlpKerasDecayCost'\n\\item 'mlpKerasDropout'\n\\item 'mlpKerasDropoutCost'\n\\item 'mlpML'\n\\item 'mlpSGD'\n\\item 'mlpWeightDecay'\n\\item 'mlpWeightDecayML'\n\\item 'monmlp'\n\\item 'msaenet'\n\\item 'multinom'\n\\item 'mxnet'\n\\item 'mxnetAdam'\n\\item 'naive\\_bayes'\n\\item 'nb'\n\\item 'nbDiscrete'\n\\item 'nbSearch'\n\\item 'nnet'\n\\item 'nodeHarvest'\n\\item 'null'\n\\item 'OneR'\n\\item 'ordinalNet'\n\\item 'ordinalRF'\n\\item 'ORFlog'\n\\item 'ORFpls'\n\\item 'ORFridge'\n\\item 'ORFsvm'\n\\item 'ownn'\n\\item 'pam'\n\\item 'parRF'\n\\item 'PART'\n\\item 'partDSA'\n\\item 'pcaNNet'\n\\item 'pda'\n\\item 'pda2'\n\\item 'PenalizedLDA'\n\\item 'plr'\n\\item 'pls'\n\\item 'plsRglm'\n\\item 'polr'\n\\item 'pre'\n\\item 'PRIM'\n\\item 'protoclass'\n\\item 'qda'\n\\item 'QdaCov'\n\\item 'randomGLM'\n\\item 'ranger'\n\\item 'rbf'\n\\item 'rbfDDA'\n\\item 'Rborist'\n\\item 'rda'\n\\item 'regLogistic'\n\\item 'rf'\n\\item 'rFerns'\n\\item 'RFlda'\n\\item 'rfRules'\n\\item 'rlda'\n\\item 'rmda'\n\\item 'rocc'\n\\item 'rotationForest'\n\\item 'rotationForestCp'\n\\item 'rpart'\n\\item 'rpart1SE'\n\\item 'rpart2'\n\\item 'rpartCost'\n\\item 'rpartScore'\n\\item 'RRF'\n\\item 'RRFglobal'\n\\item 'rrlda'\n\\item 'RSimca'\n\\item 'sda'\n\\item 'sdwd'\n\\item 'simpls'\n\\item 'SLAVE'\n\\item 'slda'\n\\item 'smda'\n\\item 'snn'\n\\item 'sparseLDA'\n\\item 'spls'\n\\item 'stepLDA'\n\\item 'stepQDA'\n\\item 'svmBoundrangeString'\n\\item 'svmExpoString'\n\\item 'svmLinear'\n\\item 'svmLinear2'\n\\item 'svmLinear3'\n\\item 'svmLinearWeights'\n\\item 'svmLinearWeights2'\n\\item 'svmPoly'\n\\item 'svmRadial'\n\\item 'svmRadialCost'\n\\item 'svmRadialSigma'\n\\item 'svmRadialWeights'\n\\item 'svmSpectrumString'\n\\item 'tan'\n\\item 'tanSearch'\n\\item 'treebag'\n\\item 'vbmpRadial'\n\\item 'vglmAdjCat'\n\\item 'vglmContRatio'\n\\item 'vglmCumulative'\n\\item 'widekernelpls'\n\\item 'wsrf'\n\\item 'xgbDART'\n\\item 'xgbLinear'\n\\item 'xgbTree'\n\\item 'xyf'\n\\end{enumerate*}\n",
            "text/plain": [
              "  [1] \"ada\"                 \"AdaBag\"              \"adaboost\"           \n",
              "  [4] \"AdaBoost.M1\"         \"amdai\"               \"avNNet\"             \n",
              "  [7] \"awnb\"                \"awtan\"               \"bag\"                \n",
              " [10] \"bagEarth\"            \"bagEarthGCV\"         \"bagFDA\"             \n",
              " [13] \"bagFDAGCV\"           \"bam\"                 \"bartMachine\"        \n",
              " [16] \"bayesglm\"            \"binda\"               \"blackboost\"         \n",
              " [19] \"BstLm\"               \"bstSm\"               \"bstTree\"            \n",
              " [22] \"C5.0\"                \"C5.0Cost\"            \"C5.0Rules\"          \n",
              " [25] \"C5.0Tree\"            \"cforest\"             \"chaid\"              \n",
              " [28] \"CSimca\"              \"ctree\"               \"ctree2\"             \n",
              " [31] \"dda\"                 \"deepboost\"           \"dnn\"                \n",
              " [34] \"dwdLinear\"           \"dwdPoly\"             \"dwdRadial\"          \n",
              " [37] \"earth\"               \"elm\"                 \"evtree\"             \n",
              " [40] \"extraTrees\"          \"fda\"                 \"FH.GBML\"            \n",
              " [43] \"FRBCS.CHI\"           \"FRBCS.W\"             \"gam\"                \n",
              " [46] \"gaussprPoly\"         \"gaussprRadial\"       \"gbm\"                \n",
              " [49] \"gbm_h2o\"             \"gcvEarth\"            \"glm\"                \n",
              " [52] \"glmboost\"            \"glmnet\"              \"glmnet_h2o\"         \n",
              " [55] \"glmStepAIC\"          \"gpls\"                \"hda\"                \n",
              " [58] \"hdda\"                \"hdrda\"               \"J48\"                \n",
              " [61] \"JRip\"                \"kernelpls\"           \"kknn\"               \n",
              " [64] \"knn\"                 \"lda\"                 \"lda2\"               \n",
              " [67] \"Linda\"               \"LMT\"                 \"loclda\"             \n",
              " [70] \"logicBag\"            \"LogitBoost\"          \"logreg\"             \n",
              " [73] \"lssvmLinear\"         \"lssvmPoly\"           \"lssvmRadial\"        \n",
              " [76] \"lvq\"                 \"manb\"                \"mda\"                \n",
              " [79] \"Mlda\"                \"mlp\"                 \"mlpKerasDecay\"      \n",
              " [82] \"mlpKerasDecayCost\"   \"mlpKerasDropout\"     \"mlpKerasDropoutCost\"\n",
              " [85] \"mlpML\"               \"mlpSGD\"              \"mlpWeightDecay\"     \n",
              " [88] \"mlpWeightDecayML\"    \"monmlp\"              \"msaenet\"            \n",
              " [91] \"multinom\"            \"mxnet\"               \"mxnetAdam\"          \n",
              " [94] \"naive_bayes\"         \"nb\"                  \"nbDiscrete\"         \n",
              " [97] \"nbSearch\"            \"nnet\"                \"nodeHarvest\"        \n",
              "[100] \"null\"                \"OneR\"                \"ordinalNet\"         \n",
              "[103] \"ordinalRF\"           \"ORFlog\"              \"ORFpls\"             \n",
              "[106] \"ORFridge\"            \"ORFsvm\"              \"ownn\"               \n",
              "[109] \"pam\"                 \"parRF\"               \"PART\"               \n",
              "[112] \"partDSA\"             \"pcaNNet\"             \"pda\"                \n",
              "[115] \"pda2\"                \"PenalizedLDA\"        \"plr\"                \n",
              "[118] \"pls\"                 \"plsRglm\"             \"polr\"               \n",
              "[121] \"pre\"                 \"PRIM\"                \"protoclass\"         \n",
              "[124] \"qda\"                 \"QdaCov\"              \"randomGLM\"          \n",
              "[127] \"ranger\"              \"rbf\"                 \"rbfDDA\"             \n",
              "[130] \"Rborist\"             \"rda\"                 \"regLogistic\"        \n",
              "[133] \"rf\"                  \"rFerns\"              \"RFlda\"              \n",
              "[136] \"rfRules\"             \"rlda\"                \"rmda\"               \n",
              "[139] \"rocc\"                \"rotationForest\"      \"rotationForestCp\"   \n",
              "[142] \"rpart\"               \"rpart1SE\"            \"rpart2\"             \n",
              "[145] \"rpartCost\"           \"rpartScore\"          \"RRF\"                \n",
              "[148] \"RRFglobal\"           \"rrlda\"               \"RSimca\"             \n",
              "[151] \"sda\"                 \"sdwd\"                \"simpls\"             \n",
              "[154] \"SLAVE\"               \"slda\"                \"smda\"               \n",
              "[157] \"snn\"                 \"sparseLDA\"           \"spls\"               \n",
              "[160] \"stepLDA\"             \"stepQDA\"             \"svmBoundrangeString\"\n",
              "[163] \"svmExpoString\"       \"svmLinear\"           \"svmLinear2\"         \n",
              "[166] \"svmLinear3\"          \"svmLinearWeights\"    \"svmLinearWeights2\"  \n",
              "[169] \"svmPoly\"             \"svmRadial\"           \"svmRadialCost\"      \n",
              "[172] \"svmRadialSigma\"      \"svmRadialWeights\"    \"svmSpectrumString\"  \n",
              "[175] \"tan\"                 \"tanSearch\"           \"treebag\"            \n",
              "[178] \"vbmpRadial\"          \"vglmAdjCat\"          \"vglmContRatio\"      \n",
              "[181] \"vglmCumulative\"      \"widekernelpls\"       \"wsrf\"               \n",
              "[184] \"xgbDART\"             \"xgbLinear\"           \"xgbTree\"            \n",
              "[187] \"xyf\"                "
            ]
          },
          "metadata": {}
        }
      ],
      "source": [
        "modellist2=unique(unlist(model_caret_forclass$model))\n",
        "modellist2\n",
        "modellist1=modellist2[-c(46:49)]\n",
        "AUC_train1=array(0,length(modellist1))\n",
        "AUC_test1=array(0,length(modellist1))\n",
        "length(modellist1)\n",
        "modellist1"
      ]
    },
    {
      "cell_type": "code",
      "execution_count": 15,
      "id": "f39b6b8a",
      "metadata": {
        "scrolled": true,
        "id": "f39b6b8a",
        "outputId": "a6c9618b-8d43-456b-af72-d6f17d007b1b",
        "colab": {
          "base_uri": "https://localhost:8080/"
        }
      },
      "outputs": [
        {
          "output_type": "stream",
          "name": "stdout",
          "text": [
            "Running method: ada \n",
            "Running method: AdaBag \n",
            "Running method: adaboost \n",
            "Running method: AdaBoost.M1 \n",
            "Running method: amdai \n",
            "Running method: avNNet \n",
            "Aggregating results\n",
            "Selecting tuning parameters\n",
            "Fitting size = 8, decay = 0.000271, bag = FALSE on full training set\n"
          ]
        },
        {
          "output_type": "stream",
          "name": "stderr",
          "text": [
            "Setting direction: controls < cases\n",
            "\n",
            "Setting direction: controls < cases\n",
            "\n"
          ]
        },
        {
          "output_type": "stream",
          "name": "stdout",
          "text": [
            "Completed running Model 6 ( avNNet ) of 187 \n",
            "Completed Running method: avNNet ---AUC_Train: 0.9143373 ---AUC_Test: 0.8110236 \n",
            "Running method: awnb \n",
            "Running method: awtan \n",
            "Running method: bag \n"
          ]
        },
        {
          "output_type": "stream",
          "name": "stderr",
          "text": [
            "Warning message in nominalTrainWorkflow(x = x, y = y, wts = weights, info = trainInfo, :\n",
            "“There were missing values in resampled performance measures.”\n"
          ]
        },
        {
          "output_type": "stream",
          "name": "stdout",
          "text": [
            "Aggregating results\n",
            "Something is wrong; all the ROC metric values are missing:\n",
            "      ROC           Sens          Spec    \n",
            " Min.   : NA   Min.   : NA   Min.   : NA  \n",
            " 1st Qu.: NA   1st Qu.: NA   1st Qu.: NA  \n",
            " Median : NA   Median : NA   Median : NA  \n",
            " Mean   :NaN   Mean   :NaN   Mean   :NaN  \n",
            " 3rd Qu.: NA   3rd Qu.: NA   3rd Qu.: NA  \n",
            " Max.   : NA   Max.   : NA   Max.   : NA  \n",
            " NA's   :1     NA's   :1     NA's   :1    \n",
            "Running method: bagEarth \n",
            "Running method: bagEarthGCV \n",
            "Running method: bagFDA \n",
            "Running method: bagFDAGCV \n",
            "Running method: bam \n",
            "Aggregating results\n",
            "Selecting tuning parameters\n",
            "Fitting select = FALSE, method = ML on full training set\n"
          ]
        },
        {
          "output_type": "stream",
          "name": "stderr",
          "text": [
            "Loading required package: mgcv\n",
            "\n",
            "Loading required package: nlme\n",
            "\n",
            "This is mgcv 1.9-0. For overview type 'help(\"mgcv-package\")'.\n",
            "\n",
            "\n",
            "Attaching package: ‘mgcv’\n",
            "\n",
            "\n",
            "The following object is masked from ‘package:nnet’:\n",
            "\n",
            "    multinom\n",
            "\n",
            "\n",
            "Setting direction: controls < cases\n",
            "\n",
            "Setting direction: controls < cases\n",
            "\n"
          ]
        },
        {
          "output_type": "stream",
          "name": "stdout",
          "text": [
            "Completed running Model 14 ( bam ) of 187 \n",
            "Completed Running method: bam ---AUC_Train: 0.8422669 ---AUC_Test: 0.8346457 \n",
            "Running method: bartMachine \n",
            "Running method: bayesglm \n",
            "Running method: binda \n",
            "Running method: blackboost \n",
            "Running method: BstLm \n",
            "Running method: bstSm \n",
            "Running method: bstTree \n",
            "Running method: C5.0 \n",
            "Running method: C5.0Cost \n",
            "Running method: C5.0Rules \n",
            "Running method: C5.0Tree \n",
            "Running method: cforest \n",
            "Running method: chaid \n",
            "Running method: CSimca \n",
            "Running method: ctree \n",
            "Running method: ctree2 \n",
            "Running method: dda \n",
            "Running method: deepboost \n",
            "Running method: dnn \n",
            "Running method: dwdLinear \n",
            "Running method: dwdPoly \n",
            "Running method: dwdRadial \n",
            "Running method: earth \n",
            "Running method: elm \n",
            "Running method: evtree \n",
            "Running method: extraTrees \n",
            "Running method: fda \n",
            "Running method: FH.GBML \n",
            "Running method: FRBCS.CHI \n",
            "Running method: FRBCS.W \n",
            "Running method: gam \n",
            "Aggregating results\n",
            "Selecting tuning parameters\n",
            "Fitting select = TRUE, method = ML on full training set\n"
          ]
        },
        {
          "output_type": "stream",
          "name": "stderr",
          "text": [
            "Setting direction: controls < cases\n",
            "\n",
            "Setting direction: controls < cases\n",
            "\n"
          ]
        },
        {
          "output_type": "stream",
          "name": "stdout",
          "text": [
            "Completed running Model 45 ( gam ) of 187 \n",
            "Completed Running method: gam ---AUC_Train: 0.8453387 ---AUC_Test: 0.853257 \n",
            "Running method: gaussprPoly \n",
            "Aggregating results\n",
            "Selecting tuning parameters\n",
            "Fitting degree = 1, scale = 0.000656 on full training set\n"
          ]
        },
        {
          "output_type": "stream",
          "name": "stderr",
          "text": [
            "Setting direction: controls < cases\n",
            "\n",
            "Setting direction: controls < cases\n",
            "\n"
          ]
        },
        {
          "output_type": "stream",
          "name": "stdout",
          "text": [
            "Completed running Model 46 ( gaussprPoly ) of 187 \n",
            "Completed Running method: gaussprPoly ---AUC_Train: 0.8454155 ---AUC_Test: 0.8289191 \n",
            "Running method: gaussprRadial \n",
            "Aggregating results\n",
            "Selecting tuning parameters\n",
            "Fitting sigma = 3.48 on full training set\n"
          ]
        },
        {
          "output_type": "stream",
          "name": "stderr",
          "text": [
            "Setting direction: controls < cases\n",
            "\n",
            "Setting direction: controls < cases\n",
            "\n"
          ]
        },
        {
          "output_type": "stream",
          "name": "stdout",
          "text": [
            "Completed running Model 47 ( gaussprRadial ) of 187 \n",
            "Completed Running method: gaussprRadial ---AUC_Train: 0.9997696 ---AUC_Test: 0.7401575 \n",
            "Running method: gbm \n",
            "Aggregating results\n",
            "Selecting tuning parameters\n",
            "Fitting n.trees = 3217, interaction.depth = 5, shrinkage = 0.313, n.minobsinnode = 8 on full training set\n",
            "Iter   TrainDeviance   ValidDeviance   StepSize   Improve\n",
            "     1        0.4701            -nan     0.3127    0.0452\n",
            "     2        0.4319            -nan     0.3127    0.0072\n",
            "     3        0.3857            -nan     0.3127    0.0056\n",
            "     4        0.3777            -nan     0.3127   -0.0145\n",
            "     5        0.3617            -nan     0.3127   -0.0033\n",
            "     6        0.3303            -nan     0.3127   -0.0124\n",
            "     7        0.3177            -nan     0.3127   -0.0080\n",
            "     8        0.2923            -nan     0.3127    0.0041\n",
            "     9        0.2834            -nan     0.3127   -0.0104\n",
            "    10        0.2676            -nan     0.3127   -0.0039\n",
            "    20        0.1719            -nan     0.3127   -0.0062\n",
            "    40        0.0829            -nan     0.3127   -0.0032\n",
            "    60        0.0435            -nan     0.3127   -0.0019\n",
            "    80        0.0226            -nan     0.3127   -0.0003\n",
            "   100        0.0151            -nan     0.3127   -0.0010\n",
            "   120        0.0072            -nan     0.3127   -0.0002\n",
            "   140        0.0046            -nan     0.3127   -0.0002\n",
            "   160        0.0027            -nan     0.3127   -0.0001\n",
            "   180        0.0018            -nan     0.3127   -0.0001\n",
            "   200        0.0013            -nan     0.3127   -0.0000\n",
            "   220        0.0007            -nan     0.3127   -0.0000\n",
            "   240        0.0004            -nan     0.3127   -0.0000\n",
            "   260        0.0003            -nan     0.3127   -0.0000\n",
            "   280        0.0002            -nan     0.3127   -0.0000\n",
            "   300        0.0001            -nan     0.3127   -0.0000\n",
            "   320        0.0001            -nan     0.3127   -0.0000\n",
            "   340        0.0000            -nan     0.3127   -0.0000\n",
            "   360        0.0000            -nan     0.3127   -0.0000\n",
            "   380        0.0000            -nan     0.3127   -0.0000\n",
            "   400        0.0000            -nan     0.3127   -0.0000\n",
            "   420        0.0000            -nan     0.3127   -0.0000\n",
            "   440        0.0000            -nan     0.3127   -0.0000\n",
            "   460        0.0000            -nan     0.3127   -0.0000\n",
            "   480        0.0000            -nan     0.3127   -0.0000\n",
            "   500        0.0000            -nan     0.3127   -0.0000\n",
            "   520        0.0000            -nan     0.3127   -0.0000\n",
            "   540        0.0000            -nan     0.3127   -0.0000\n",
            "   560        0.0000            -nan     0.3127   -0.0000\n",
            "   580        0.0000            -nan     0.3127   -0.0000\n",
            "   600        0.0000            -nan     0.3127   -0.0000\n",
            "   620        0.0000            -nan     0.3127    0.0000\n",
            "   640        0.0000            -nan     0.3127   -0.0000\n",
            "   660        0.0000            -nan     0.3127   -0.0000\n",
            "   680        0.0000            -nan     0.3127   -0.0000\n",
            "   700        0.0000            -nan     0.3127   -0.0000\n",
            "   720        0.0000            -nan     0.3127   -0.0000\n",
            "   740        0.0000            -nan     0.3127   -0.0000\n",
            "   760        0.0000            -nan     0.3127   -0.0000\n",
            "   780        0.0000            -nan     0.3127   -0.0000\n",
            "   800        0.0000            -nan     0.3127   -0.0000\n",
            "   820        0.0000            -nan     0.3127   -0.0000\n",
            "   840        0.0000            -nan     0.3127   -0.0000\n",
            "   860        0.0000            -nan     0.3127   -0.0000\n",
            "   880        0.0000            -nan     0.3127   -0.0000\n",
            "   900        0.0000            -nan     0.3127   -0.0000\n",
            "   920        0.0000            -nan     0.3127   -0.0000\n",
            "   940        0.0000            -nan     0.3127   -0.0000\n",
            "   960        0.0000            -nan     0.3127   -0.0000\n",
            "   980        0.0000            -nan     0.3127   -0.0000\n",
            "  1000        0.0000            -nan     0.3127   -0.0000\n",
            "  1020        0.0000            -nan     0.3127   -0.0000\n",
            "  1040        0.0000            -nan     0.3127   -0.0000\n",
            "  1060        0.0000            -nan     0.3127   -0.0000\n",
            "  1080        0.0000            -nan     0.3127   -0.0000\n",
            "  1100        0.0000            -nan     0.3127   -0.0000\n",
            "  1120        0.0000            -nan     0.3127   -0.0000\n",
            "  1140        0.0000            -nan     0.3127   -0.0000\n",
            "  1160        0.0000            -nan     0.3127   -0.0000\n",
            "  1180        0.0000            -nan     0.3127   -0.0000\n",
            "  1200        0.0000            -nan     0.3127   -0.0000\n",
            "  1220        0.0000            -nan     0.3127   -0.0000\n",
            "  1240        0.0000            -nan     0.3127   -0.0000\n",
            "  1260        0.0000            -nan     0.3127   -0.0000\n",
            "  1280        0.0000            -nan     0.3127   -0.0000\n",
            "  1300        0.0000            -nan     0.3127   -0.0000\n",
            "  1320        0.0000            -nan     0.3127   -0.0000\n",
            "  1340        0.0000            -nan     0.3127   -0.0000\n",
            "  1360        0.0000            -nan     0.3127    0.0000\n",
            "  1380        0.0000            -nan     0.3127   -0.0000\n",
            "  1400        0.0000            -nan     0.3127   -0.0000\n",
            "  1420        0.0000            -nan     0.3127   -0.0000\n",
            "  1440        0.0000            -nan     0.3127   -0.0000\n",
            "  1460        0.0000            -nan     0.3127   -0.0000\n",
            "  1480        0.0000            -nan     0.3127    0.0000\n",
            "  1500        0.0000            -nan     0.3127   -0.0000\n",
            "  1520        0.0000            -nan     0.3127    0.0000\n",
            "  1540        0.0000            -nan     0.3127    0.0000\n",
            "  1560        0.0000            -nan     0.3127   -0.0000\n",
            "  1580        0.0000            -nan     0.3127    0.0000\n",
            "  1600        0.0000            -nan     0.3127    0.0000\n",
            "  1620        0.0000            -nan     0.3127   -0.0000\n",
            "  1640        0.0000            -nan     0.3127    0.0000\n",
            "  1660        0.0000            -nan     0.3127    0.0000\n",
            "  1680        0.0000            -nan     0.3127    0.0000\n",
            "  1700        0.0000            -nan     0.3127    0.0000\n",
            "  1720        0.0000            -nan     0.3127    0.0000\n",
            "  1740        0.0000            -nan     0.3127    0.0000\n",
            "  1760        0.0000            -nan     0.3127    0.0000\n",
            "  1780        0.0000            -nan     0.3127    0.0000\n",
            "  1800        0.0000            -nan     0.3127    0.0000\n",
            "  1820        0.0000            -nan     0.3127    0.0000\n",
            "  1840        0.0000            -nan     0.3127    0.0000\n",
            "  1860        0.0000            -nan     0.3127    0.0000\n",
            "  1880        0.0000            -nan     0.3127    0.0000\n",
            "  1900        0.0000            -nan     0.3127    0.0000\n",
            "  1920        0.0000            -nan     0.3127    0.0000\n",
            "  1940        0.0000            -nan     0.3127    0.0000\n",
            "  1960        0.0000            -nan     0.3127    0.0000\n",
            "  1980        0.0000            -nan     0.3127    0.0000\n",
            "  2000        0.0000            -nan     0.3127   -0.0000\n",
            "  2020        0.0000            -nan     0.3127    0.0000\n",
            "  2040        0.0000            -nan     0.3127   -0.0000\n",
            "  2060        0.0000            -nan     0.3127    0.0000\n",
            "  2080        0.0000            -nan     0.3127    0.0000\n",
            "  2100        0.0000            -nan     0.3127   -0.0000\n",
            "  2120        0.0000            -nan     0.3127    0.0000\n",
            "  2140        0.0000            -nan     0.3127   -0.0000\n",
            "  2160        0.0000            -nan     0.3127    0.0000\n",
            "  2180        0.0000            -nan     0.3127   -0.0000\n",
            "  2200        0.0000            -nan     0.3127    0.0000\n",
            "  2220        0.0000            -nan     0.3127    0.0000\n",
            "  2240        0.0000            -nan     0.3127    0.0000\n",
            "  2260        0.0000            -nan     0.3127    0.0000\n",
            "  2280        0.0000            -nan     0.3127    0.0000\n",
            "  2300        0.0000            -nan     0.3127    0.0000\n",
            "  2320        0.0000            -nan     0.3127   -0.0000\n",
            "  2340        0.0000            -nan     0.3127    0.0000\n",
            "  2360        0.0000            -nan     0.3127    0.0000\n",
            "  2380        0.0000            -nan     0.3127    0.0000\n",
            "  2400        0.0000            -nan     0.3127   -0.0000\n",
            "  2420        0.0000            -nan     0.3127    0.0000\n",
            "  2440        0.0000            -nan     0.3127    0.0000\n",
            "  2460        0.0000            -nan     0.3127    0.0000\n",
            "  2480        0.0000            -nan     0.3127    0.0000\n",
            "  2500        0.0000            -nan     0.3127   -0.0000\n",
            "  2520        0.0000            -nan     0.3127   -0.0000\n",
            "  2540        0.0000            -nan     0.3127   -0.0000\n",
            "  2560        0.0000            -nan     0.3127    0.0000\n",
            "  2580        0.0000            -nan     0.3127   -0.0000\n",
            "  2600        0.0000            -nan     0.3127    0.0000\n",
            "  2620        0.0000            -nan     0.3127   -0.0000\n",
            "  2640        0.0000            -nan     0.3127    0.0000\n",
            "  2660        0.0000            -nan     0.3127    0.0000\n",
            "  2680        0.0000            -nan     0.3127   -0.0000\n",
            "  2700        0.0000            -nan     0.3127    0.0000\n",
            "  2720        0.0000            -nan     0.3127    0.0000\n",
            "  2740        0.0000            -nan     0.3127    0.0000\n",
            "  2760        0.0000            -nan     0.3127    0.0000\n",
            "  2780        0.0000            -nan     0.3127    0.0000\n",
            "  2800        0.0000            -nan     0.3127    0.0000\n",
            "  2820        0.0000            -nan     0.3127    0.0000\n",
            "  2840        0.0000            -nan     0.3127    0.0000\n",
            "  2860        0.0000            -nan     0.3127    0.0000\n",
            "  2880        0.0000            -nan     0.3127    0.0000\n",
            "  2900        0.0000            -nan     0.3127    0.0000\n",
            "  2920        0.0000            -nan     0.3127   -0.0000\n",
            "  2940        0.0000            -nan     0.3127    0.0000\n",
            "  2960        0.0000            -nan     0.3127   -0.0000\n",
            "  2980        0.0000            -nan     0.3127    0.0000\n",
            "  3000        0.0000            -nan     0.3127    0.0000\n",
            "  3020        0.0000            -nan     0.3127    0.0000\n",
            "  3040        0.0000            -nan     0.3127   -0.0000\n",
            "  3060        0.0000            -nan     0.3127    0.0000\n",
            "  3080        0.0000            -nan     0.3127   -0.0000\n",
            "  3100        0.0000            -nan     0.3127    0.0000\n",
            "  3120        0.0000            -nan     0.3127   -0.0000\n",
            "  3140        0.0000            -nan     0.3127    0.0000\n",
            "  3160        0.0000            -nan     0.3127   -0.0000\n",
            "  3180        0.0000            -nan     0.3127    0.0000\n",
            "  3200        0.0000            -nan     0.3127   -0.0000\n",
            "  3217        0.0000            -nan     0.3127   -0.0000\n",
            "\n"
          ]
        },
        {
          "output_type": "stream",
          "name": "stderr",
          "text": [
            "Setting direction: controls < cases\n",
            "\n",
            "Setting direction: controls < cases\n",
            "\n"
          ]
        },
        {
          "output_type": "stream",
          "name": "stdout",
          "text": [
            "Completed running Model 48 ( gbm ) of 187 \n",
            "Completed Running method: gbm ---AUC_Train: 1 ---AUC_Test: 0.8088762 \n",
            "Running method: gbm_h2o \n",
            "Running method: gcvEarth \n",
            "Running method: glm \n",
            "Aggregating results\n",
            "Fitting final model on full training set\n"
          ]
        },
        {
          "output_type": "stream",
          "name": "stderr",
          "text": [
            "Setting direction: controls < cases\n",
            "\n",
            "Setting direction: controls < cases\n",
            "\n"
          ]
        },
        {
          "output_type": "stream",
          "name": "stdout",
          "text": [
            "Completed running Model 51 ( glm ) of 187 \n",
            "Completed Running method: glm ---AUC_Train: 0.8422669 ---AUC_Test: 0.8346457 \n",
            "Running method: glmboost \n",
            "Running method: glmnet \n",
            "Running method: glmnet_h2o \n",
            "Running method: glmStepAIC \n",
            "Aggregating results\n",
            "Fitting final model on full training set\n",
            "Start:  AIC=199.66\n",
            ".outcome ~ pct + crp + lactate + alb + ddimer + rdw\n",
            "\n",
            "          Df Deviance    AIC\n",
            "- crp      1   186.87 198.87\n",
            "- rdw      1   187.39 199.39\n",
            "<none>         185.66 199.66\n",
            "- lactate  1   187.82 199.82\n",
            "- pct      1   188.34 200.34\n",
            "- ddimer   1   190.04 202.04\n",
            "- alb      1   193.83 205.83\n",
            "\n",
            "Step:  AIC=198.87\n",
            ".outcome ~ pct + lactate + alb + ddimer + rdw\n",
            "\n",
            "          Df Deviance    AIC\n",
            "- rdw      1   188.56 198.56\n",
            "<none>         186.87 198.87\n",
            "- lactate  1   189.06 199.06\n",
            "- pct      1   190.38 200.38\n",
            "- ddimer   1   191.52 201.52\n",
            "- alb      1   194.87 204.87\n",
            "\n",
            "Step:  AIC=198.56\n",
            ".outcome ~ pct + lactate + alb + ddimer\n",
            "\n",
            "          Df Deviance    AIC\n",
            "<none>         188.56 198.56\n",
            "- lactate  1   190.72 198.72\n",
            "- pct      1   191.63 199.63\n",
            "- ddimer   1   194.16 202.16\n",
            "- alb      1   199.60 207.60\n"
          ]
        },
        {
          "output_type": "stream",
          "name": "stderr",
          "text": [
            "Setting direction: controls < cases\n",
            "\n",
            "Setting direction: controls < cases\n",
            "\n"
          ]
        },
        {
          "output_type": "stream",
          "name": "stdout",
          "text": [
            "Completed running Model 55 ( glmStepAIC ) of 187 \n",
            "Completed Running method: glmStepAIC ---AUC_Train: 0.8423437 ---AUC_Test: 0.8210451 \n",
            "Running method: gpls \n",
            "Running method: hda \n",
            "Running method: hdda \n",
            "Running method: hdrda \n",
            "Running method: J48 \n",
            "Running method: JRip \n",
            "Running method: kernelpls \n",
            "Running method: kknn \n",
            "Running method: knn \n",
            "Aggregating results\n",
            "Selecting tuning parameters\n",
            "Fitting k = 127 on full training set\n"
          ]
        },
        {
          "output_type": "stream",
          "name": "stderr",
          "text": [
            "Setting direction: controls < cases\n",
            "\n",
            "Setting direction: controls < cases\n",
            "\n"
          ]
        },
        {
          "output_type": "stream",
          "name": "stdout",
          "text": [
            "Completed running Model 64 ( knn ) of 187 \n",
            "Completed Running method: knn ---AUC_Train: 0.8112041 ---AUC_Test: 0.7433787 \n",
            "Running method: lda \n",
            "Aggregating results\n",
            "Fitting final model on full training set\n"
          ]
        },
        {
          "output_type": "stream",
          "name": "stderr",
          "text": [
            "Setting direction: controls < cases\n",
            "\n",
            "Setting direction: controls < cases\n",
            "\n"
          ]
        },
        {
          "output_type": "stream",
          "name": "stdout",
          "text": [
            "Completed running Model 65 ( lda ) of 187 \n",
            "Completed Running method: lda ---AUC_Train: 0.8487176 ---AUC_Test: 0.8289191 \n",
            "Running method: lda2 \n",
            "Aggregating results\n",
            "Fitting final model on full training set\n"
          ]
        },
        {
          "output_type": "stream",
          "name": "stderr",
          "text": [
            "Setting direction: controls < cases\n",
            "\n",
            "Setting direction: controls < cases\n",
            "\n"
          ]
        },
        {
          "output_type": "stream",
          "name": "stdout",
          "text": [
            "Completed running Model 66 ( lda2 ) of 187 \n",
            "Completed Running method: lda2 ---AUC_Train: 0.8487176 ---AUC_Test: 0.8289191 \n",
            "Running method: Linda \n",
            "Running method: LMT \n",
            "Running method: loclda \n",
            "Running method: logicBag \n",
            "Running method: LogitBoost \n",
            "Running method: logreg \n",
            "Running method: lssvmLinear \n"
          ]
        },
        {
          "output_type": "stream",
          "name": "stderr",
          "text": [
            "Warning message in train.default(x, y, weights = w, ...):\n",
            "“Class probabilities were requested for a model that does not implement them”\n"
          ]
        },
        {
          "output_type": "stream",
          "name": "stdout",
          "text": [
            "Running method: lssvmPoly \n"
          ]
        },
        {
          "output_type": "stream",
          "name": "stderr",
          "text": [
            "Warning message in train.default(x, y, weights = w, ...):\n",
            "“Class probabilities were requested for a model that does not implement them”\n"
          ]
        },
        {
          "output_type": "stream",
          "name": "stdout",
          "text": [
            "Running method: lssvmRadial \n"
          ]
        },
        {
          "output_type": "stream",
          "name": "stderr",
          "text": [
            "Warning message in train.default(x, y, weights = w, ...):\n",
            "“Class probabilities were requested for a model that does not implement them”\n"
          ]
        },
        {
          "output_type": "stream",
          "name": "stdout",
          "text": [
            "Running method: lvq \n"
          ]
        },
        {
          "output_type": "stream",
          "name": "stderr",
          "text": [
            "Warning message in train.default(x, y, weights = w, ...):\n",
            "“Class probabilities were requested for a model that does not implement them”\n"
          ]
        },
        {
          "output_type": "stream",
          "name": "stdout",
          "text": [
            "Running method: manb \n",
            "Running method: mda \n",
            "Running method: Mlda \n",
            "Running method: mlp \n",
            "Running method: mlpKerasDecay \n",
            "Running method: mlpKerasDecayCost \n",
            "Running method: mlpKerasDropout \n",
            "Running method: mlpKerasDropoutCost \n",
            "Running method: mlpML \n",
            "Running method: mlpSGD \n",
            "Running method: mlpWeightDecay \n",
            "Running method: mlpWeightDecayML \n",
            "Running method: monmlp \n",
            "Running method: msaenet \n",
            "Running method: multinom \n",
            "Aggregating results\n",
            "Selecting tuning parameters\n",
            "Fitting decay = 0.0184 on full training set\n",
            "# weights:  8 (7 variable)\n",
            "initial  value 289.042374 \n",
            "iter  10 value 112.538896\n",
            "iter  20 value 93.007190\n",
            "final  value 93.006326 \n",
            "converged\n"
          ]
        },
        {
          "output_type": "stream",
          "name": "stderr",
          "text": [
            "Setting direction: controls < cases\n",
            "\n",
            "Setting direction: controls < cases\n",
            "\n"
          ]
        },
        {
          "output_type": "stream",
          "name": "stdout",
          "text": [
            "Completed running Model 91 ( multinom ) of 187 \n",
            "Completed Running method: multinom ---AUC_Train: 0.8422669 ---AUC_Test: 0.8339298 \n",
            "Running method: mxnet \n",
            "Running method: mxnetAdam \n",
            "Running method: naive_bayes \n",
            "Running method: nb \n",
            "Running method: nbDiscrete \n",
            "Running method: nbSearch \n",
            "Running method: nnet \n",
            "Aggregating results\n",
            "Selecting tuning parameters\n",
            "Fitting size = 14, decay = 0.137 on full training set\n",
            "# weights:  113\n",
            "initial  value 535.131907 \n",
            "iter  10 value 104.772214\n",
            "iter  20 value 92.382441\n",
            "iter  30 value 88.014508\n",
            "iter  40 value 80.798982\n",
            "iter  50 value 78.945721\n",
            "iter  60 value 77.657273\n",
            "iter  70 value 76.907572\n",
            "iter  80 value 76.174161\n",
            "iter  90 value 75.858103\n",
            "iter 100 value 75.667672\n",
            "final  value 75.667672 \n",
            "stopped after 100 iterations\n"
          ]
        },
        {
          "output_type": "stream",
          "name": "stderr",
          "text": [
            "Setting direction: controls < cases\n",
            "\n",
            "Setting direction: controls < cases\n",
            "\n"
          ]
        },
        {
          "output_type": "stream",
          "name": "stdout",
          "text": [
            "Completed running Model 98 ( nnet ) of 187 \n",
            "Completed Running method: nnet ---AUC_Train: 0.9605283 ---AUC_Test: 0.758053 \n",
            "Running method: nodeHarvest \n",
            "Running method: null \n",
            "Aggregating results\n",
            "Fitting final model on full training set\n"
          ]
        },
        {
          "output_type": "stream",
          "name": "stderr",
          "text": [
            "Setting direction: controls < cases\n",
            "\n",
            "Setting direction: controls < cases\n",
            "\n"
          ]
        },
        {
          "output_type": "stream",
          "name": "stdout",
          "text": [
            "Completed running Model 100 ( null ) of 187 \n",
            "Completed Running method: null ---AUC_Train: 0.5 ---AUC_Test: 0.5 \n",
            "Running method: OneR \n",
            "Running method: ordinalNet \n",
            "Running method: ordinalRF \n",
            "Running method: ORFlog \n",
            "Running method: ORFpls \n",
            "Running method: ORFridge \n",
            "Running method: ORFsvm \n",
            "Running method: ownn \n",
            "Running method: pam \n",
            "Running method: parRF \n",
            "Running method: PART \n",
            "Running method: partDSA \n",
            "Running method: pcaNNet \n",
            "Aggregating results\n",
            "Selecting tuning parameters\n",
            "Fitting size = 10, decay = 3.31 on full training set\n",
            "# weights:  92\n",
            "initial  value 387.290085 \n",
            "iter  10 value 69.008475\n",
            "iter  20 value 68.480349\n",
            "final  value 68.480311 \n",
            "converged\n"
          ]
        },
        {
          "output_type": "stream",
          "name": "stderr",
          "text": [
            "Setting direction: controls < cases\n",
            "\n",
            "Setting direction: controls < cases\n",
            "\n"
          ]
        },
        {
          "output_type": "stream",
          "name": "stdout",
          "text": [
            "Completed running Model 113 ( pcaNNet ) of 187 \n",
            "Completed Running method: pcaNNet ---AUC_Train: 0.8458762 ---AUC_Test: 0.8289191 \n",
            "Running method: pda \n",
            "Running method: pda2 \n",
            "Running method: PenalizedLDA \n",
            "Running method: plr \n",
            "Running method: pls \n",
            "Running method: plsRglm \n",
            "Running method: polr \n"
          ]
        },
        {
          "output_type": "stream",
          "name": "stderr",
          "text": [
            "Warning message in nominalTrainWorkflow(x = x, y = y, wts = weights, info = trainInfo, :\n",
            "“There were missing values in resampled performance measures.”\n"
          ]
        },
        {
          "output_type": "stream",
          "name": "stdout",
          "text": [
            "Aggregating results\n",
            "Something is wrong; all the ROC metric values are missing:\n",
            "      ROC           Sens          Spec    \n",
            " Min.   : NA   Min.   : NA   Min.   : NA  \n",
            " 1st Qu.: NA   1st Qu.: NA   1st Qu.: NA  \n",
            " Median : NA   Median : NA   Median : NA  \n",
            " Mean   :NaN   Mean   :NaN   Mean   :NaN  \n",
            " 3rd Qu.: NA   3rd Qu.: NA   3rd Qu.: NA  \n",
            " Max.   : NA   Max.   : NA   Max.   : NA  \n",
            " NA's   :3     NA's   :3     NA's   :3    \n",
            "Running method: pre \n",
            "Running method: PRIM \n",
            "Running method: protoclass \n",
            "Running method: qda \n",
            "Aggregating results\n",
            "Fitting final model on full training set\n"
          ]
        },
        {
          "output_type": "stream",
          "name": "stderr",
          "text": [
            "Setting direction: controls < cases\n",
            "\n",
            "Setting direction: controls < cases\n",
            "\n"
          ]
        },
        {
          "output_type": "stream",
          "name": "stdout",
          "text": [
            "Completed running Model 124 ( qda ) of 187 \n",
            "Completed Running method: qda ---AUC_Train: 0.8247197 ---AUC_Test: 0.7745168 \n",
            "Running method: QdaCov \n",
            "Running method: randomGLM \n",
            "Running method: ranger \n",
            "Running method: rbf \n",
            "Running method: rbfDDA \n",
            "Running method: Rborist \n",
            "Running method: rda \n",
            "Running method: regLogistic \n",
            "Running method: rf \n",
            "Aggregating results\n",
            "Selecting tuning parameters\n",
            "Fitting mtry = 2 on full training set\n"
          ]
        },
        {
          "output_type": "stream",
          "name": "stderr",
          "text": [
            "Setting direction: controls < cases\n",
            "\n",
            "Setting direction: controls < cases\n",
            "\n"
          ]
        },
        {
          "output_type": "stream",
          "name": "stdout",
          "text": [
            "Completed running Model 133 ( rf ) of 187 \n",
            "Completed Running method: rf ---AUC_Train: 1 ---AUC_Test: 0.8142448 \n",
            "Running method: rFerns \n",
            "Running method: RFlda \n",
            "Running method: rfRules \n",
            "Running method: rlda \n",
            "Running method: rmda \n",
            "Running method: rocc \n",
            "Running method: rotationForest \n",
            "Running method: rotationForestCp \n",
            "Running method: rpart \n",
            "Aggregating results\n",
            "Selecting tuning parameters\n",
            "Fitting cp = 0.0441 on full training set\n"
          ]
        },
        {
          "output_type": "stream",
          "name": "stderr",
          "text": [
            "Setting direction: controls < cases\n",
            "\n",
            "Setting direction: controls < cases\n",
            "\n"
          ]
        },
        {
          "output_type": "stream",
          "name": "stdout",
          "text": [
            "Completed running Model 142 ( rpart ) of 187 \n",
            "Completed Running method: rpart ---AUC_Train: 0.5 ---AUC_Test: 0.5 \n",
            "Running method: rpart1SE \n",
            "Aggregating results\n",
            "Fitting final model on full training set\n"
          ]
        },
        {
          "output_type": "stream",
          "name": "stderr",
          "text": [
            "Setting direction: controls < cases\n",
            "\n",
            "Setting direction: controls < cases\n",
            "\n"
          ]
        },
        {
          "output_type": "stream",
          "name": "stdout",
          "text": [
            "Completed running Model 143 ( rpart1SE ) of 187 \n",
            "Completed Running method: rpart1SE ---AUC_Train: 0.8220703 ---AUC_Test: 0.7505369 \n",
            "Running method: rpart2 \n",
            "Running method: rpartCost \n"
          ]
        },
        {
          "output_type": "stream",
          "name": "stderr",
          "text": [
            "Warning message in train.default(x, y, weights = w, ...):\n",
            "“Class probabilities were requested for a model that does not implement them”\n"
          ]
        },
        {
          "output_type": "stream",
          "name": "stdout",
          "text": [
            "Running method: rpartScore \n",
            "Running method: RRF \n",
            "Running method: RRFglobal \n",
            "Running method: rrlda \n",
            "Running method: RSimca \n",
            "Running method: sda \n",
            "Running method: sdwd \n",
            "Running method: simpls \n",
            "Running method: SLAVE \n",
            "Running method: slda \n",
            "Aggregating results\n",
            "Fitting final model on full training set\n"
          ]
        },
        {
          "output_type": "stream",
          "name": "stderr",
          "text": [
            "Setting direction: controls < cases\n",
            "\n",
            "Setting direction: controls < cases\n",
            "\n"
          ]
        },
        {
          "output_type": "stream",
          "name": "stdout",
          "text": [
            "Completed running Model 155 ( slda ) of 187 \n",
            "Completed Running method: slda ---AUC_Train: 0.8422669 ---AUC_Test: 0.8260558 \n",
            "Running method: smda \n",
            "Running method: snn \n",
            "Running method: sparseLDA \n",
            "Running method: spls \n",
            "Running method: stepLDA \n",
            "Running method: stepQDA \n",
            "Running method: svmBoundrangeString \n",
            "Running method: svmExpoString \n",
            "Running method: svmLinear \n",
            "Aggregating results\n",
            "Selecting tuning parameters\n",
            "Fitting C = 0.0427 on full training set\n",
            "maximum number of iterations reached 0.00260359 -0.002580922"
          ]
        },
        {
          "output_type": "stream",
          "name": "stderr",
          "text": [
            "Setting direction: controls < cases\n",
            "\n",
            "Setting direction: controls < cases\n",
            "\n"
          ]
        },
        {
          "output_type": "stream",
          "name": "stdout",
          "text": [
            "Completed running Model 164 ( svmLinear ) of 187 \n",
            "Completed Running method: svmLinear ---AUC_Train: 0.5386269 ---AUC_Test: 0.5433071 \n",
            "Running method: svmLinear2 \n",
            "Aggregating results\n",
            "Selecting tuning parameters\n",
            "Fitting cost = 45.3 on full training set\n"
          ]
        },
        {
          "output_type": "stream",
          "name": "stderr",
          "text": [
            "Setting direction: controls > cases\n",
            "\n",
            "Setting direction: controls > cases\n",
            "\n"
          ]
        },
        {
          "output_type": "stream",
          "name": "stdout",
          "text": [
            "Completed running Model 165 ( svmLinear2 ) of 187 \n",
            "Completed Running method: svmLinear2 ---AUC_Train: 0.6115036 ---AUC_Test: 0.7279885 \n",
            "Running method: svmLinear3 \n",
            "Running method: svmLinearWeights \n",
            "Aggregating results\n",
            "Selecting tuning parameters\n",
            "Fitting cost = 243, weight = 9.48 on full training set\n"
          ]
        },
        {
          "output_type": "stream",
          "name": "stderr",
          "text": [
            "Setting direction: controls < cases\n",
            "\n",
            "Setting direction: controls < cases\n",
            "\n"
          ]
        },
        {
          "output_type": "stream",
          "name": "stdout",
          "text": [
            "Completed running Model 167 ( svmLinearWeights ) of 187 \n",
            "Completed Running method: svmLinearWeights ---AUC_Train: 0.740516 ---AUC_Test: 0.7287044 \n",
            "Running method: svmLinearWeights2 \n",
            "Running method: svmPoly \n",
            "Aggregating results\n",
            "Selecting tuning parameters\n",
            "Fitting degree = 2, scale = 0.0296, C = 0.639 on full training set\n"
          ]
        },
        {
          "output_type": "stream",
          "name": "stderr",
          "text": [
            "Setting direction: controls < cases\n",
            "\n",
            "Setting direction: controls < cases\n",
            "\n"
          ]
        },
        {
          "output_type": "stream",
          "name": "stdout",
          "text": [
            "Completed running Model 169 ( svmPoly ) of 187 \n",
            "Completed Running method: svmPoly ---AUC_Train: 0.7303794 ---AUC_Test: 0.5762348 \n",
            "Running method: svmRadial \n",
            "Aggregating results\n",
            "Selecting tuning parameters\n",
            "Fitting sigma = 1, C = 9.62 on full training set\n"
          ]
        },
        {
          "output_type": "stream",
          "name": "stderr",
          "text": [
            "Setting direction: controls < cases\n",
            "\n",
            "Setting direction: controls < cases\n",
            "\n"
          ]
        },
        {
          "output_type": "stream",
          "name": "stdout",
          "text": [
            "Completed running Model 170 ( svmRadial ) of 187 \n",
            "Completed Running method: svmRadial ---AUC_Train: 1 ---AUC_Test: 0.6929134 \n",
            "Running method: svmRadialCost \n",
            "Aggregating results\n",
            "Selecting tuning parameters\n",
            "Fitting C = 0.0832 on full training set\n"
          ]
        },
        {
          "output_type": "stream",
          "name": "stderr",
          "text": [
            "Setting direction: controls < cases\n",
            "\n",
            "Setting direction: controls > cases\n",
            "\n"
          ]
        },
        {
          "output_type": "stream",
          "name": "stdout",
          "text": [
            "Completed running Model 171 ( svmRadialCost ) of 187 \n",
            "Completed Running method: svmRadialCost ---AUC_Train: 0.9717401 ---AUC_Test: 0.5153901 \n",
            "Running method: svmRadialSigma \n",
            "Aggregating results\n",
            "Selecting tuning parameters\n",
            "Fitting sigma = 0.819, C = 39.9 on full training set\n"
          ]
        },
        {
          "output_type": "stream",
          "name": "stderr",
          "text": [
            "Setting direction: controls < cases\n",
            "\n",
            "Setting direction: controls < cases\n",
            "\n"
          ]
        },
        {
          "output_type": "stream",
          "name": "stdout",
          "text": [
            "Completed running Model 172 ( svmRadialSigma ) of 187 \n",
            "Completed Running method: svmRadialSigma ---AUC_Train: 1 ---AUC_Test: 0.7193987 \n",
            "Running method: svmRadialWeights \n",
            "Aggregating results\n",
            "Selecting tuning parameters\n",
            "Fitting sigma = 0.00418, C = 0.143, Weight = 15.9 on full training set\n"
          ]
        },
        {
          "output_type": "stream",
          "name": "stderr",
          "text": [
            "Setting direction: controls < cases\n",
            "\n",
            "Setting direction: controls < cases\n",
            "\n"
          ]
        },
        {
          "output_type": "stream",
          "name": "stdout",
          "text": [
            "Completed running Model 173 ( svmRadialWeights ) of 187 \n",
            "Completed Running method: svmRadialWeights ---AUC_Train: 0.8427277 ---AUC_Test: 0.8196135 \n",
            "Running method: svmSpectrumString \n",
            "Running method: tan \n",
            "Running method: tanSearch \n",
            "Running method: treebag \n",
            "Aggregating results\n",
            "Fitting final model on full training set\n"
          ]
        },
        {
          "output_type": "stream",
          "name": "stderr",
          "text": [
            "Setting direction: controls < cases\n",
            "\n",
            "Setting direction: controls < cases\n",
            "\n"
          ]
        },
        {
          "output_type": "stream",
          "name": "stdout",
          "text": [
            "Completed running Model 177 ( treebag ) of 187 \n",
            "Completed Running method: treebag ---AUC_Train: 1 ---AUC_Test: 0.7863278 \n",
            "Running method: vbmpRadial \n",
            "Running method: vglmAdjCat \n",
            "Running method: vglmContRatio \n",
            "Running method: vglmCumulative \n",
            "Running method: widekernelpls \n",
            "Running method: wsrf \n",
            "Running method: xgbDART \n",
            "Running method: xgbLinear \n",
            "Running method: xgbTree \n",
            "Running method: xyf \n"
          ]
        }
      ],
      "source": [
        "for (i in 1:length(modellist1)){\n",
        "    skip_to_next_error <- FALSE\n",
        "    cat(\"Running method:\", modellist1[i], \"\\n\")\n",
        "    tryCatch(modelfit<-train(death~.,\n",
        "                 data=training,\n",
        "                 method=modellist1[i],\n",
        "                 preProc=c(\"center\",\"scale\"),\n",
        "                 metric=\"ROC\",\n",
        "                 tuneLength=3,\n",
        "                 trControl=fitControl),\n",
        "                 error=function(e){skip_to_next_error <<- TRUE})\n",
        "    if(skip_to_next_error) {next}\n",
        "    predictions_train=predict(modelfit,newdata=training)\n",
        "    predictions_test=predict(modelfit,newdata=testing)\n",
        "    predictions_train\n",
        "    predictions_test\n",
        "    confusionMatrix(predict(modelfit,training),training$death)\n",
        "    confusionMatrix(predict(modelfit,testing),testing$death)\n",
        "    train_results=predict(modelfit,training,type=\"prob\")\n",
        "    test_results=predict(modelfit,testing,type=\"prob\")\n",
        "    train_results$obs=training$death\n",
        "    train_results$pred=predictions_train\n",
        "    test_results$obs=testing$death\n",
        "    test_results$pred=predictions_test\n",
        "    ROC_train<-roc(training$death,train_results[,\"Death\"],levels=c(\"Survival\",\"Death\"))\n",
        "    ROC_test<-roc(testing$death,test_results[,\"Death\"],levels=c(\"Survival\",\"Death\"))\n",
        "    AUC_train1[i]=ROC_train[9]$auc\n",
        "    AUC_test1[i]=ROC_test[9]$auc\n",
        "    cat('Completed running Model', i, '(',modellist1[i],')','of', length(modellist1),'\\n')\n",
        "    cat('Completed Running method:', modellist1[i], '---AUC_Train:', ROC_train[9]$auc, '---AUC_Test:', ROC_test[9]$auc, '\\n')\n",
        "    gc()\n",
        "  }"
      ]
    },
    {
      "cell_type": "code",
      "execution_count": null,
      "id": "2c4dd3b7",
      "metadata": {
        "id": "2c4dd3b7",
        "outputId": "61236a54-955d-4cbd-dcd9-855daec1cc20"
      },
      "outputs": [
        {
          "name": "stdout",
          "output_type": "stream",
          "text": [
            "    AUC_train1 AUC_test1          Algorithms\n",
            "1    1.0000000 0.7888332                 ada\n",
            "2    1.0000000 0.8296349              AdaBag\n",
            "3    0.0000000 0.0000000            adaboost\n",
            "4    1.0000000 0.7845383         AdaBoost.M1\n",
            "5    0.0000000 0.0000000               amdai\n",
            "6    0.8742897 0.7838225              avNNet\n",
            "7    0.0000000 0.0000000                awnb\n",
            "8    0.0000000 0.0000000               awtan\n",
            "9    0.0000000 0.0000000                 bag\n",
            "10   0.8388496 0.7752326            bagEarth\n",
            "11   0.9497773 0.7136722         bagEarthGCV\n",
            "12   0.9089234 0.7716535              bagFDA\n",
            "13   0.9344955 0.7480315           bagFDAGCV\n",
            "14   0.8714483 0.7680744                 bam\n",
            "15   0.0000000 0.0000000         bartMachine\n",
            "16   0.8577023 0.7845383            bayesglm\n",
            "17   0.0000000 0.0000000               binda\n",
            "18   0.8950238 0.8052971          blackboost\n",
            "19   0.0000000 0.0000000               BstLm\n",
            "20   0.0000000 0.0000000               bstSm\n",
            "21   0.0000000 0.0000000             bstTree\n",
            "22   0.9067732 0.7662849                C5.0\n",
            "23   0.0000000 0.0000000            C5.0Cost\n",
            "24   0.5735294 0.4921260           C5.0Rules\n",
            "25   0.7199355 0.5712241            C5.0Tree\n",
            "26   0.9293503 0.7866858             cforest\n",
            "27   0.0000000 0.0000000               chaid\n",
            "28   0.0000000 0.0000000              CSimca\n",
            "29   0.8484488 0.7000716               ctree\n",
            "30   0.9050837 0.6295634              ctree2\n",
            "31   0.0000000 0.0000000                 dda\n",
            "32   0.0000000 0.0000000           deepboost\n",
            "33   0.7684687 0.6034359                 dnn\n",
            "34   0.8578559 0.8081603           dwdLinear\n",
            "35   0.8575488 0.8074445             dwdPoly\n",
            "36   0.9977730 0.7566213           dwdRadial\n",
            "37   0.8692597 0.6832498               earth\n",
            "38   0.0000000 0.0000000                 elm\n",
            "39   0.5709184 0.5218325              evtree\n",
            "40   0.0000000 0.0000000          extraTrees\n",
            "41   0.9044694 0.7015032                 fda\n",
            "42   0.0000000 0.0000000             FH.GBML\n",
            "43   0.0000000 0.0000000           FRBCS.CHI\n",
            "44   0.0000000 0.0000000             FRBCS.W\n",
            "45   0.8771310 0.7423049                 gam\n",
            "46   0.8578559 0.8074445         gaussprPoly\n",
            "47   0.9997696 0.7079456       gaussprRadial\n",
            "48   1.0000000 0.8095920                 gbm\n",
            "49   0.0000000 0.0000000             gbm_h2o\n",
            "50   0.9177546 0.6921976            gcvEarth\n",
            "51   0.8574720 0.7831067                 glm\n",
            "52   0.8573952 0.7838225            glmboost\n",
            "53   0.8624635 0.8010021              glmnet\n",
            "54   0.0000000 0.0000000          glmnet_h2o\n",
            "55   0.8510213 0.7501790          glmStepAIC\n",
            "56   0.0000000 0.0000000                gpls\n",
            "57   0.7195899 0.6084467                 hda\n",
            "58   0.8248349 0.7974230                hdda\n",
            "59   0.0000000 0.0000000               hdrda\n",
            "60   0.0000000 0.0000000                 J48\n",
            "61   0.0000000 0.0000000                JRip\n",
            "62   0.8656120 0.7845383           kernelpls\n",
            "63   0.9977730 0.7147459                kknn\n",
            "64   0.8473353 0.7555476                 knn\n",
            "65   0.8656120 0.7831067                 lda\n",
            "66   0.8656120 0.7831067                lda2\n",
            "67   0.7285465 0.7068966               Linda\n",
            "68   0.0000000 0.0000000                 LMT\n",
            "69   0.9520043 0.7802434              loclda\n",
            "70   0.0000000 0.0000000            logicBag\n",
            "71   0.9824912 0.7448103          LogitBoost\n",
            "72   0.0000000 0.0000000              logreg\n",
            "73   0.0000000 0.0000000         lssvmLinear\n",
            "74   0.0000000 0.0000000           lssvmPoly\n",
            "75   0.0000000 0.0000000         lssvmRadial\n",
            "76   0.0000000 0.0000000                 lvq\n",
            "77   0.0000000 0.0000000                manb\n",
            "78   0.8448779 0.7995705                 mda\n",
            "79   0.0000000 0.0000000                Mlda\n",
            "80   0.8849639 0.7780959                 mlp\n",
            "81   0.0000000 0.0000000       mlpKerasDecay\n",
            "82   0.0000000 0.0000000   mlpKerasDecayCost\n",
            "83   0.0000000 0.0000000     mlpKerasDropout\n",
            "84   0.0000000 0.0000000 mlpKerasDropoutCost\n",
            "85   0.8624635 0.7780959               mlpML\n",
            "86   0.0000000 0.0000000              mlpSGD\n",
            "87   0.8592382 0.8067287      mlpWeightDecay\n",
            "88   0.0000000 0.0000000    mlpWeightDecayML\n",
            "89   0.9058516 0.7916965              monmlp\n",
            "90   0.8356627 0.7644953             msaenet\n",
            "91   0.8580095 0.7852541            multinom\n",
            "92   0.0000000 0.0000000               mxnet\n",
            "93   0.0000000 0.0000000           mxnetAdam\n",
            "94   0.8401167 0.7945598         naive_bayes\n",
            "95   0.8401167 0.7945598                  nb\n",
            "96   0.0000000 0.0000000          nbDiscrete\n",
            "97   0.0000000 0.0000000            nbSearch\n",
            "98   0.9941637 0.6456693                nnet\n",
            "99   0.0000000 0.0000000         nodeHarvest\n",
            "100  0.5000000 0.5000000                null\n",
            "101  0.0000000 0.0000000                OneR\n",
            "102  0.5000000 0.5000000          ordinalNet\n",
            "103  0.0000000 0.0000000           ordinalRF\n",
            "104  0.0000000 0.0000000              ORFlog\n",
            "105  0.0000000 0.0000000              ORFpls\n",
            "106  0.0000000 0.0000000            ORFridge\n",
            "107  0.0000000 0.0000000              ORFsvm\n",
            "108  0.0000000 0.0000000                ownn\n",
            "109  0.8173476 0.7308518                 pam\n",
            "110  1.0000000 0.7916965               parRF\n",
            "111  0.0000000 0.0000000                PART\n",
            "112  0.0000000 0.0000000             partDSA\n",
            "113  0.8582399 0.8067287             pcaNNet\n",
            "114  0.8655352 0.7845383                 pda\n",
            "115  0.8611580 0.8052971                pda2\n",
            "116  0.0000000 0.0000000        PenalizedLDA\n",
            "117  0.8590846 0.7888332                 plr\n",
            "118  0.8663032 0.7874016                 pls\n",
            "119  0.8611580 0.8024338             plsRglm\n",
            "120  0.0000000 0.0000000                polr\n",
            "121  0.0000000 0.0000000                 pre\n",
            "122  0.6241745 0.6345741                PRIM\n",
            "123  0.0000000 0.0000000          protoclass\n",
            "124  0.8351252 0.7494631                 qda\n",
            "125  0.6946412 0.6386555              QdaCov\n",
            "126  0.0000000 0.0000000           randomGLM\n",
            "127  0.9974658 0.7874016              ranger\n",
            "128  0.0000000 0.0000000                 rbf\n",
            "129  0.0000000 0.0000000              rbfDDA\n",
            "130  0.0000000 0.0000000             Rborist\n",
            "131  0.0000000 0.0000000                 rda\n",
            "132  0.0000000 0.0000000         regLogistic\n",
            "133  0.0000000 0.0000000                  rf\n",
            "134  0.0000000 0.0000000              rFerns\n",
            "135  0.0000000 0.0000000               RFlda\n",
            "136  0.0000000 0.0000000             rfRules\n",
            "137  0.0000000 0.0000000                rlda\n",
            "138  0.0000000 0.0000000                rmda\n",
            "139  0.0000000 0.0000000                rocc\n",
            "140  0.0000000 0.0000000      rotationForest\n",
            "141  0.0000000 0.0000000    rotationForestCp\n",
            "142  0.0000000 0.0000000               rpart\n",
            "143  0.0000000 0.0000000            rpart1SE\n",
            "144  0.0000000 0.0000000              rpart2\n",
            "145  0.0000000 0.0000000           rpartCost\n",
            "146  0.0000000 0.0000000          rpartScore\n",
            "147  0.0000000 0.0000000                 RRF\n",
            "148  0.0000000 0.0000000           RRFglobal\n",
            "149  0.0000000 0.0000000               rrlda\n",
            "150  0.0000000 0.0000000              RSimca\n",
            "151  0.0000000 0.0000000                 sda\n",
            "152  0.0000000 0.0000000                sdwd\n",
            "153  0.0000000 0.0000000              simpls\n",
            "154  0.0000000 0.0000000               SLAVE\n",
            "155  0.0000000 0.0000000                slda\n",
            "156  0.0000000 0.0000000                smda\n",
            "157  0.0000000 0.0000000                 snn\n",
            "158  0.0000000 0.0000000           sparseLDA\n",
            "159  0.0000000 0.0000000                spls\n",
            "160  0.0000000 0.0000000             stepLDA\n",
            "161  0.0000000 0.0000000             stepQDA\n",
            "162  0.0000000 0.0000000 svmBoundrangeString\n",
            "163  0.0000000 0.0000000       svmExpoString\n",
            "164  0.0000000 0.0000000           svmLinear\n",
            "165  0.0000000 0.0000000          svmLinear2\n",
            "166  0.0000000 0.0000000          svmLinear3\n",
            "167  0.0000000 0.0000000    svmLinearWeights\n",
            "168  0.0000000 0.0000000   svmLinearWeights2\n",
            "169  0.0000000 0.0000000             svmPoly\n",
            "170  0.0000000 0.0000000           svmRadial\n",
            "171  0.0000000 0.0000000       svmRadialCost\n",
            "172  0.0000000 0.0000000      svmRadialSigma\n",
            "173  0.0000000 0.0000000    svmRadialWeights\n",
            "174  0.0000000 0.0000000   svmSpectrumString\n",
            "175  0.0000000 0.0000000                 tan\n",
            "176  0.0000000 0.0000000           tanSearch\n",
            "177  0.0000000 0.0000000             treebag\n",
            "178  0.0000000 0.0000000          vbmpRadial\n",
            "179  0.0000000 0.0000000          vglmAdjCat\n",
            "180  0.0000000 0.0000000       vglmContRatio\n",
            "181  0.0000000 0.0000000      vglmCumulative\n",
            "182  0.0000000 0.0000000       widekernelpls\n",
            "183  0.0000000 0.0000000                wsrf\n",
            "184  0.0000000 0.0000000             xgbDART\n",
            "185  0.0000000 0.0000000           xgbLinear\n",
            "186  0.0000000 0.0000000             xgbTree\n",
            "187  0.0000000 0.0000000                 xyf\n"
          ]
        }
      ],
      "source": [
        "AUC1=cbind(AUC_train1,AUC_test1)\n",
        "AUC1=as.data.frame(AUC1)\n",
        "AUC1$Algorithms<-modellist1\n",
        "print(AUC1)"
      ]
    },
    {
      "cell_type": "code",
      "execution_count": null,
      "id": "6c12fa47",
      "metadata": {
        "id": "6c12fa47",
        "outputId": "e1cbb277-df71-4745-e591-64d486b99fb8"
      },
      "outputs": [
        {
          "data": {
            "text/html": [
              "<style>\n",
              ".list-inline {list-style: none; margin:0; padding: 0}\n",
              ".list-inline>li {display: inline-block}\n",
              ".list-inline>li:not(:last-child)::after {content: \"\\00b7\"; padding: 0 .5ex}\n",
              "</style>\n",
              "<ol class=list-inline><li>100</li><li>2</li></ol>\n"
            ],
            "text/latex": [
              "\\begin{enumerate*}\n",
              "\\item 100\n",
              "\\item 2\n",
              "\\end{enumerate*}\n"
            ],
            "text/markdown": [
              "1. 100\n",
              "2. 2\n",
              "\n",
              "\n"
            ],
            "text/plain": [
              "[1] 100   2"
            ]
          },
          "metadata": {},
          "output_type": "display_data"
        }
      ],
      "source": [
        "dim(AUC1)"
      ]
    },
    {
      "cell_type": "code",
      "execution_count": null,
      "id": "cf6aeace",
      "metadata": {
        "id": "cf6aeace",
        "outputId": "87b3fe97-3575-4662-fd7e-25713fb668fd"
      },
      "outputs": [
        {
          "data": {
            "text/html": [
              "<style>\n",
              ".list-inline {list-style: none; margin:0; padding: 0}\n",
              ".list-inline>li {display: inline-block}\n",
              ".list-inline>li:not(:last-child)::after {content: \"\\00b7\"; padding: 0 .5ex}\n",
              "</style>\n",
              "<ol class=list-inline><li>'gamLoess'</li><li>'gamLoess'</li><li>'gamSpline'</li><li>'gaussprLinear'</li><li>'gaussprPoly'</li><li>'gaussprPoly'</li><li>'gaussprRadial'</li><li>'gbm'</li><li>'gbm'</li><li>'gbm'</li><li>'gbm'</li><li>'gbm_h2o'</li><li>'gbm_h2o'</li><li>'gbm_h2o'</li><li>'gbm_h2o'</li><li>'gbm_h2o'</li><li>'gcvEarth'</li><li>'glm'</li><li>'glmboost'</li><li>'glmboost'</li><li>'glmnet'</li><li>'glmnet'</li><li>'glmnet_h2o'</li><li>'glmnet_h2o'</li><li>'glmStepAIC'</li><li>'gpls'</li><li>'hda'</li><li>'hda'</li><li>'hda'</li><li>'hdda'</li><li>'hdda'</li><li>'hdrda'</li><li>'hdrda'</li><li>'hdrda'</li><li>'J48'</li><li>'J48'</li><li>'JRip'</li><li>'JRip'</li><li>'JRip'</li><li>'kernelpls'</li><li>'kknn'</li><li>'kknn'</li><li>'kknn'</li><li>'knn'</li><li>'lda'</li><li>'lda2'</li><li>'Linda'</li><li>'LMT'</li><li>'loclda'</li><li>'logicBag'</li><li>'logicBag'</li><li>'LogitBoost'</li><li>'logreg'</li><li>'logreg'</li><li>'lssvmLinear'</li><li>'lssvmPoly'</li><li>'lssvmPoly'</li><li>'lssvmPoly'</li><li>'lssvmRadial'</li><li>'lssvmRadial'</li><li>'lvq'</li><li>'lvq'</li><li>'manb'</li><li>'manb'</li><li>'mda'</li><li>'Mlda'</li><li>'mlp'</li><li>'mlpKerasDecay'</li><li>'mlpKerasDecay'</li><li>'mlpKerasDecay'</li><li>'mlpKerasDecay'</li><li>'mlpKerasDecay'</li><li>'mlpKerasDecay'</li><li>'mlpKerasDecay'</li><li>'mlpKerasDecayCost'</li><li>'mlpKerasDecayCost'</li><li>'mlpKerasDecayCost'</li><li>'mlpKerasDecayCost'</li><li>'mlpKerasDecayCost'</li><li>'mlpKerasDecayCost'</li><li>'mlpKerasDecayCost'</li><li>'mlpKerasDecayCost'</li><li>'mlpKerasDropout'</li><li>'mlpKerasDropout'</li><li>'mlpKerasDropout'</li><li>'mlpKerasDropout'</li><li>'mlpKerasDropout'</li><li>'mlpKerasDropout'</li><li>'mlpKerasDropout'</li><li>'mlpKerasDropoutCost'</li><li>'mlpKerasDropoutCost'</li><li>'mlpKerasDropoutCost'</li><li>'mlpKerasDropoutCost'</li><li>'mlpKerasDropoutCost'</li><li>'mlpKerasDropoutCost'</li><li>'mlpKerasDropoutCost'</li><li>'mlpKerasDropoutCost'</li><li>'mlpML'</li><li>'mlpML'</li><li>'mlpML'</li></ol>\n"
            ],
            "text/latex": [
              "\\begin{enumerate*}\n",
              "\\item 'gamLoess'\n",
              "\\item 'gamLoess'\n",
              "\\item 'gamSpline'\n",
              "\\item 'gaussprLinear'\n",
              "\\item 'gaussprPoly'\n",
              "\\item 'gaussprPoly'\n",
              "\\item 'gaussprRadial'\n",
              "\\item 'gbm'\n",
              "\\item 'gbm'\n",
              "\\item 'gbm'\n",
              "\\item 'gbm'\n",
              "\\item 'gbm\\_h2o'\n",
              "\\item 'gbm\\_h2o'\n",
              "\\item 'gbm\\_h2o'\n",
              "\\item 'gbm\\_h2o'\n",
              "\\item 'gbm\\_h2o'\n",
              "\\item 'gcvEarth'\n",
              "\\item 'glm'\n",
              "\\item 'glmboost'\n",
              "\\item 'glmboost'\n",
              "\\item 'glmnet'\n",
              "\\item 'glmnet'\n",
              "\\item 'glmnet\\_h2o'\n",
              "\\item 'glmnet\\_h2o'\n",
              "\\item 'glmStepAIC'\n",
              "\\item 'gpls'\n",
              "\\item 'hda'\n",
              "\\item 'hda'\n",
              "\\item 'hda'\n",
              "\\item 'hdda'\n",
              "\\item 'hdda'\n",
              "\\item 'hdrda'\n",
              "\\item 'hdrda'\n",
              "\\item 'hdrda'\n",
              "\\item 'J48'\n",
              "\\item 'J48'\n",
              "\\item 'JRip'\n",
              "\\item 'JRip'\n",
              "\\item 'JRip'\n",
              "\\item 'kernelpls'\n",
              "\\item 'kknn'\n",
              "\\item 'kknn'\n",
              "\\item 'kknn'\n",
              "\\item 'knn'\n",
              "\\item 'lda'\n",
              "\\item 'lda2'\n",
              "\\item 'Linda'\n",
              "\\item 'LMT'\n",
              "\\item 'loclda'\n",
              "\\item 'logicBag'\n",
              "\\item 'logicBag'\n",
              "\\item 'LogitBoost'\n",
              "\\item 'logreg'\n",
              "\\item 'logreg'\n",
              "\\item 'lssvmLinear'\n",
              "\\item 'lssvmPoly'\n",
              "\\item 'lssvmPoly'\n",
              "\\item 'lssvmPoly'\n",
              "\\item 'lssvmRadial'\n",
              "\\item 'lssvmRadial'\n",
              "\\item 'lvq'\n",
              "\\item 'lvq'\n",
              "\\item 'manb'\n",
              "\\item 'manb'\n",
              "\\item 'mda'\n",
              "\\item 'Mlda'\n",
              "\\item 'mlp'\n",
              "\\item 'mlpKerasDecay'\n",
              "\\item 'mlpKerasDecay'\n",
              "\\item 'mlpKerasDecay'\n",
              "\\item 'mlpKerasDecay'\n",
              "\\item 'mlpKerasDecay'\n",
              "\\item 'mlpKerasDecay'\n",
              "\\item 'mlpKerasDecay'\n",
              "\\item 'mlpKerasDecayCost'\n",
              "\\item 'mlpKerasDecayCost'\n",
              "\\item 'mlpKerasDecayCost'\n",
              "\\item 'mlpKerasDecayCost'\n",
              "\\item 'mlpKerasDecayCost'\n",
              "\\item 'mlpKerasDecayCost'\n",
              "\\item 'mlpKerasDecayCost'\n",
              "\\item 'mlpKerasDecayCost'\n",
              "\\item 'mlpKerasDropout'\n",
              "\\item 'mlpKerasDropout'\n",
              "\\item 'mlpKerasDropout'\n",
              "\\item 'mlpKerasDropout'\n",
              "\\item 'mlpKerasDropout'\n",
              "\\item 'mlpKerasDropout'\n",
              "\\item 'mlpKerasDropout'\n",
              "\\item 'mlpKerasDropoutCost'\n",
              "\\item 'mlpKerasDropoutCost'\n",
              "\\item 'mlpKerasDropoutCost'\n",
              "\\item 'mlpKerasDropoutCost'\n",
              "\\item 'mlpKerasDropoutCost'\n",
              "\\item 'mlpKerasDropoutCost'\n",
              "\\item 'mlpKerasDropoutCost'\n",
              "\\item 'mlpKerasDropoutCost'\n",
              "\\item 'mlpML'\n",
              "\\item 'mlpML'\n",
              "\\item 'mlpML'\n",
              "\\end{enumerate*}\n"
            ],
            "text/markdown": [
              "1. 'gamLoess'\n",
              "2. 'gamLoess'\n",
              "3. 'gamSpline'\n",
              "4. 'gaussprLinear'\n",
              "5. 'gaussprPoly'\n",
              "6. 'gaussprPoly'\n",
              "7. 'gaussprRadial'\n",
              "8. 'gbm'\n",
              "9. 'gbm'\n",
              "10. 'gbm'\n",
              "11. 'gbm'\n",
              "12. 'gbm_h2o'\n",
              "13. 'gbm_h2o'\n",
              "14. 'gbm_h2o'\n",
              "15. 'gbm_h2o'\n",
              "16. 'gbm_h2o'\n",
              "17. 'gcvEarth'\n",
              "18. 'glm'\n",
              "19. 'glmboost'\n",
              "20. 'glmboost'\n",
              "21. 'glmnet'\n",
              "22. 'glmnet'\n",
              "23. 'glmnet_h2o'\n",
              "24. 'glmnet_h2o'\n",
              "25. 'glmStepAIC'\n",
              "26. 'gpls'\n",
              "27. 'hda'\n",
              "28. 'hda'\n",
              "29. 'hda'\n",
              "30. 'hdda'\n",
              "31. 'hdda'\n",
              "32. 'hdrda'\n",
              "33. 'hdrda'\n",
              "34. 'hdrda'\n",
              "35. 'J48'\n",
              "36. 'J48'\n",
              "37. 'JRip'\n",
              "38. 'JRip'\n",
              "39. 'JRip'\n",
              "40. 'kernelpls'\n",
              "41. 'kknn'\n",
              "42. 'kknn'\n",
              "43. 'kknn'\n",
              "44. 'knn'\n",
              "45. 'lda'\n",
              "46. 'lda2'\n",
              "47. 'Linda'\n",
              "48. 'LMT'\n",
              "49. 'loclda'\n",
              "50. 'logicBag'\n",
              "51. 'logicBag'\n",
              "52. 'LogitBoost'\n",
              "53. 'logreg'\n",
              "54. 'logreg'\n",
              "55. 'lssvmLinear'\n",
              "56. 'lssvmPoly'\n",
              "57. 'lssvmPoly'\n",
              "58. 'lssvmPoly'\n",
              "59. 'lssvmRadial'\n",
              "60. 'lssvmRadial'\n",
              "61. 'lvq'\n",
              "62. 'lvq'\n",
              "63. 'manb'\n",
              "64. 'manb'\n",
              "65. 'mda'\n",
              "66. 'Mlda'\n",
              "67. 'mlp'\n",
              "68. 'mlpKerasDecay'\n",
              "69. 'mlpKerasDecay'\n",
              "70. 'mlpKerasDecay'\n",
              "71. 'mlpKerasDecay'\n",
              "72. 'mlpKerasDecay'\n",
              "73. 'mlpKerasDecay'\n",
              "74. 'mlpKerasDecay'\n",
              "75. 'mlpKerasDecayCost'\n",
              "76. 'mlpKerasDecayCost'\n",
              "77. 'mlpKerasDecayCost'\n",
              "78. 'mlpKerasDecayCost'\n",
              "79. 'mlpKerasDecayCost'\n",
              "80. 'mlpKerasDecayCost'\n",
              "81. 'mlpKerasDecayCost'\n",
              "82. 'mlpKerasDecayCost'\n",
              "83. 'mlpKerasDropout'\n",
              "84. 'mlpKerasDropout'\n",
              "85. 'mlpKerasDropout'\n",
              "86. 'mlpKerasDropout'\n",
              "87. 'mlpKerasDropout'\n",
              "88. 'mlpKerasDropout'\n",
              "89. 'mlpKerasDropout'\n",
              "90. 'mlpKerasDropoutCost'\n",
              "91. 'mlpKerasDropoutCost'\n",
              "92. 'mlpKerasDropoutCost'\n",
              "93. 'mlpKerasDropoutCost'\n",
              "94. 'mlpKerasDropoutCost'\n",
              "95. 'mlpKerasDropoutCost'\n",
              "96. 'mlpKerasDropoutCost'\n",
              "97. 'mlpKerasDropoutCost'\n",
              "98. 'mlpML'\n",
              "99. 'mlpML'\n",
              "100. 'mlpML'\n",
              "\n",
              "\n"
            ],
            "text/plain": [
              "  [1] \"gamLoess\"            \"gamLoess\"            \"gamSpline\"          \n",
              "  [4] \"gaussprLinear\"       \"gaussprPoly\"         \"gaussprPoly\"        \n",
              "  [7] \"gaussprRadial\"       \"gbm\"                 \"gbm\"                \n",
              " [10] \"gbm\"                 \"gbm\"                 \"gbm_h2o\"            \n",
              " [13] \"gbm_h2o\"             \"gbm_h2o\"             \"gbm_h2o\"            \n",
              " [16] \"gbm_h2o\"             \"gcvEarth\"            \"glm\"                \n",
              " [19] \"glmboost\"            \"glmboost\"            \"glmnet\"             \n",
              " [22] \"glmnet\"              \"glmnet_h2o\"          \"glmnet_h2o\"         \n",
              " [25] \"glmStepAIC\"          \"gpls\"                \"hda\"                \n",
              " [28] \"hda\"                 \"hda\"                 \"hdda\"               \n",
              " [31] \"hdda\"                \"hdrda\"               \"hdrda\"              \n",
              " [34] \"hdrda\"               \"J48\"                 \"J48\"                \n",
              " [37] \"JRip\"                \"JRip\"                \"JRip\"               \n",
              " [40] \"kernelpls\"           \"kknn\"                \"kknn\"               \n",
              " [43] \"kknn\"                \"knn\"                 \"lda\"                \n",
              " [46] \"lda2\"                \"Linda\"               \"LMT\"                \n",
              " [49] \"loclda\"              \"logicBag\"            \"logicBag\"           \n",
              " [52] \"LogitBoost\"          \"logreg\"              \"logreg\"             \n",
              " [55] \"lssvmLinear\"         \"lssvmPoly\"           \"lssvmPoly\"          \n",
              " [58] \"lssvmPoly\"           \"lssvmRadial\"         \"lssvmRadial\"        \n",
              " [61] \"lvq\"                 \"lvq\"                 \"manb\"               \n",
              " [64] \"manb\"                \"mda\"                 \"Mlda\"               \n",
              " [67] \"mlp\"                 \"mlpKerasDecay\"       \"mlpKerasDecay\"      \n",
              " [70] \"mlpKerasDecay\"       \"mlpKerasDecay\"       \"mlpKerasDecay\"      \n",
              " [73] \"mlpKerasDecay\"       \"mlpKerasDecay\"       \"mlpKerasDecayCost\"  \n",
              " [76] \"mlpKerasDecayCost\"   \"mlpKerasDecayCost\"   \"mlpKerasDecayCost\"  \n",
              " [79] \"mlpKerasDecayCost\"   \"mlpKerasDecayCost\"   \"mlpKerasDecayCost\"  \n",
              " [82] \"mlpKerasDecayCost\"   \"mlpKerasDropout\"     \"mlpKerasDropout\"    \n",
              " [85] \"mlpKerasDropout\"     \"mlpKerasDropout\"     \"mlpKerasDropout\"    \n",
              " [88] \"mlpKerasDropout\"     \"mlpKerasDropout\"     \"mlpKerasDropoutCost\"\n",
              " [91] \"mlpKerasDropoutCost\" \"mlpKerasDropoutCost\" \"mlpKerasDropoutCost\"\n",
              " [94] \"mlpKerasDropoutCost\" \"mlpKerasDropoutCost\" \"mlpKerasDropoutCost\"\n",
              " [97] \"mlpKerasDropoutCost\" \"mlpML\"               \"mlpML\"              \n",
              "[100] \"mlpML\"              "
            ]
          },
          "metadata": {},
          "output_type": "display_data"
        }
      ],
      "source": [
        "modellist2=model_caret_forclass$model[101:200]\n",
        "modellist2\n",
        "AUC_train2=array(0,length(modellist2))\n",
        "AUC_test2=array(0,length(modellist2))"
      ]
    },
    {
      "cell_type": "code",
      "execution_count": null,
      "id": "0f8d809e",
      "metadata": {
        "id": "0f8d809e",
        "outputId": "6d2c18a3-ada7-416e-af88-30d552e3c5b5"
      },
      "outputs": [
        {
          "name": "stdout",
          "output_type": "stream",
          "text": [
            "Running method: gamLoess \n",
            "Running method: gamLoess \n",
            "Running method: gamSpline \n",
            "Running method: gaussprLinear \n",
            "Running method: gaussprPoly \n",
            "Running method: gaussprPoly \n",
            "Running method: gaussprRadial \n",
            "Running method: gbm \n",
            "Running method: gbm \n",
            "Running method: gbm \n",
            "Running method: gbm \n",
            "Running method: gbm_h2o \n",
            "Running method: gbm_h2o \n",
            "Running method: gbm_h2o \n",
            "Running method: gbm_h2o \n",
            "Running method: gbm_h2o \n",
            "Running method: gcvEarth \n",
            "Running method: glm \n",
            "Running method: glmboost \n",
            "Running method: glmboost \n",
            "Running method: glmnet \n",
            "Running method: glmnet \n",
            "Running method: glmnet_h2o \n",
            "Running method: glmnet_h2o \n",
            "Running method: glmStepAIC \n",
            "Running method: gpls \n",
            "Running method: hda \n",
            "Running method: hda \n",
            "Running method: hda \n",
            "Running method: hdda \n",
            "Running method: hdda \n",
            "Running method: hdrda \n",
            "Running method: hdrda \n",
            "Running method: hdrda \n",
            "Running method: J48 \n",
            "Running method: J48 \n",
            "Running method: JRip \n",
            "Running method: JRip \n",
            "Running method: JRip \n",
            "Running method: kernelpls \n",
            "Running method: kknn \n",
            "Running method: kknn \n",
            "Running method: kknn \n",
            "Running method: knn \n",
            "Running method: lda \n",
            "Running method: lda2 \n",
            "Running method: Linda \n",
            "Running method: LMT \n",
            "Running method: loclda \n",
            "Running method: logicBag \n",
            "Running method: logicBag \n",
            "Running method: LogitBoost \n",
            "Running method: logreg \n",
            "Running method: logreg \n",
            "Running method: lssvmLinear \n"
          ]
        },
        {
          "name": "stderr",
          "output_type": "stream",
          "text": [
            "Warning message in train.default(x, y, weights = w, ...):\n",
            "\"Class probabilities were requested for a model that does not implement them\"\n"
          ]
        },
        {
          "name": "stdout",
          "output_type": "stream",
          "text": [
            "Running method: lssvmPoly \n"
          ]
        },
        {
          "name": "stderr",
          "output_type": "stream",
          "text": [
            "Warning message in train.default(x, y, weights = w, ...):\n",
            "\"Class probabilities were requested for a model that does not implement them\"\n"
          ]
        },
        {
          "name": "stdout",
          "output_type": "stream",
          "text": [
            "Running method: lssvmPoly \n"
          ]
        },
        {
          "name": "stderr",
          "output_type": "stream",
          "text": [
            "Warning message in train.default(x, y, weights = w, ...):\n",
            "\"Class probabilities were requested for a model that does not implement them\"\n"
          ]
        },
        {
          "name": "stdout",
          "output_type": "stream",
          "text": [
            "Running method: lssvmPoly \n"
          ]
        },
        {
          "name": "stderr",
          "output_type": "stream",
          "text": [
            "Warning message in train.default(x, y, weights = w, ...):\n",
            "\"Class probabilities were requested for a model that does not implement them\"\n"
          ]
        },
        {
          "name": "stdout",
          "output_type": "stream",
          "text": [
            "Running method: lssvmRadial \n"
          ]
        },
        {
          "name": "stderr",
          "output_type": "stream",
          "text": [
            "Warning message in train.default(x, y, weights = w, ...):\n",
            "\"Class probabilities were requested for a model that does not implement them\"\n"
          ]
        },
        {
          "name": "stdout",
          "output_type": "stream",
          "text": [
            "Running method: lssvmRadial \n"
          ]
        },
        {
          "name": "stderr",
          "output_type": "stream",
          "text": [
            "Warning message in train.default(x, y, weights = w, ...):\n",
            "\"Class probabilities were requested for a model that does not implement them\"\n"
          ]
        },
        {
          "name": "stdout",
          "output_type": "stream",
          "text": [
            "Running method: lvq \n"
          ]
        },
        {
          "name": "stderr",
          "output_type": "stream",
          "text": [
            "Warning message in train.default(x, y, weights = w, ...):\n",
            "\"Class probabilities were requested for a model that does not implement them\"\n"
          ]
        },
        {
          "name": "stdout",
          "output_type": "stream",
          "text": [
            "Running method: lvq \n"
          ]
        },
        {
          "name": "stderr",
          "output_type": "stream",
          "text": [
            "Warning message in train.default(x, y, weights = w, ...):\n",
            "\"Class probabilities were requested for a model that does not implement them\"\n"
          ]
        },
        {
          "name": "stdout",
          "output_type": "stream",
          "text": [
            "Running method: manb \n",
            "Running method: manb \n",
            "Running method: mda \n",
            "Running method: Mlda \n"
          ]
        },
        {
          "name": "stderr",
          "output_type": "stream",
          "text": [
            "Warning message in train.default(x, y, weights = w, ...):\n",
            "\"Class probabilities were requested for a model that does not implement them\"\n"
          ]
        },
        {
          "name": "stdout",
          "output_type": "stream",
          "text": [
            "Running method: mlp \n",
            "Running method: mlpKerasDecay \n",
            "Running method: mlpKerasDecay \n",
            "Running method: mlpKerasDecay \n",
            "Running method: mlpKerasDecay \n",
            "Running method: mlpKerasDecay \n",
            "Running method: mlpKerasDecay \n",
            "Running method: mlpKerasDecay \n",
            "Running method: mlpKerasDecayCost \n",
            "Running method: mlpKerasDecayCost \n",
            "Running method: mlpKerasDecayCost \n",
            "Running method: mlpKerasDecayCost \n",
            "Running method: mlpKerasDecayCost \n",
            "Running method: mlpKerasDecayCost \n",
            "Running method: mlpKerasDecayCost \n",
            "Running method: mlpKerasDecayCost \n",
            "Running method: mlpKerasDropout \n",
            "Running method: mlpKerasDropout \n",
            "Running method: mlpKerasDropout \n",
            "Running method: mlpKerasDropout \n",
            "Running method: mlpKerasDropout \n",
            "Running method: mlpKerasDropout \n",
            "Running method: mlpKerasDropout \n",
            "Running method: mlpKerasDropoutCost \n",
            "Running method: mlpKerasDropoutCost \n",
            "Running method: mlpKerasDropoutCost \n",
            "Running method: mlpKerasDropoutCost \n",
            "Running method: mlpKerasDropoutCost \n",
            "Running method: mlpKerasDropoutCost \n",
            "Running method: mlpKerasDropoutCost \n",
            "Running method: mlpKerasDropoutCost \n",
            "Running method: mlpML \n",
            "Running method: mlpML \n",
            "Running method: mlpML \n"
          ]
        },
        {
          "ename": "ERROR",
          "evalue": "Error in serialize(data, node$con): 連接寫入發生了錯誤\n",
          "output_type": "error",
          "traceback": [
            "Error in serialize(data, node$con): 連接寫入發生了錯誤\nTraceback:\n",
            "1. stopCluster(c2)",
            "2. stopCluster.default(c2)",
            "3. stopNode(n)",
            "4. postNode(n, \"DONE\")",
            "5. sendData(con, list(type = type, data = value, tag = tag))",
            "6. sendData.SOCKnode(con, list(type = type, data = value, tag = tag))",
            "7. serialize(data, node$con)"
          ]
        }
      ],
      "source": [
        "c2 <- makeCluster(6)  # Number of cores\n",
        "registerDoParallel(c2)\n",
        "for (i in 1:length(modellist2)){\n",
        "    skip_to_next_error <- FALSE\n",
        "    cat(\"Running method:\", modellist2[i], \"\\n\")\n",
        "    tryCatch(modelfit<-train(death~.,\n",
        "                             data=training,\n",
        "                             method=modellist2[i],\n",
        "                             preProc=c(\"center\",\"scale\"),\n",
        "                             metric=\"ROC\",\n",
        "                             tuneLength=3,\n",
        "                             trControl=fitControl),\n",
        "                             error=function(e){skip_to_next_error <<- TRUE})\n",
        "    if(skip_to_next_error) {next}\n",
        "    predictions_train=predict(modelfit,newdata=training)\n",
        "    predictions_test=predict(modelfit,newdata=testing)\n",
        "    predictions_train\n",
        "    predictions_test\n",
        "    confusionMatrix(predict(modelfit,training),training$death)\n",
        "    confusionMatrix(predict(modelfit,testing),testing$death)\n",
        "    train_results=predict(modelfit,training,type=\"prob\")\n",
        "    test_results=predict(modelfit,testing,type=\"prob\")\n",
        "    train_results$obs=training$death\n",
        "    train_results$pred=predictions_train\n",
        "    test_results$obs=testing$death\n",
        "    test_results$pred=predictions_test\n",
        "    ROC_train<-roc(training$death,train_results[,\"Death\"],levels=c(\"Survival\",\"Death\"))\n",
        "    ROC_test<-roc(testing$death,test_results[,\"Death\"],levels=c(\"Survival\",\"Death\"))\n",
        "    AUC_train2[i]=ROC_train[9]$auc\n",
        "    AUC_test2[i]=ROC_test[9]$auc\n",
        "    cat('Completed running Model', i, '(',modellist2[i],')','of', length(modellist2),'\\n')\n",
        "    cat('Completed Running method:', modellist2[i], '---AUC_Train:', ROC_train[9]$auc, '---AUC_Test:', ROC_test[9]$auc, '\\n')\n",
        "    #gc()\n",
        "  }\n",
        "stopCluster(c2)"
      ]
    },
    {
      "cell_type": "code",
      "execution_count": null,
      "id": "a1c13d77",
      "metadata": {
        "id": "a1c13d77"
      },
      "outputs": [],
      "source": [
        "AUC2=cbind(AUC_train2,AUC_test2)\n",
        "AUC2=as.data.frame(AUC2)\n",
        "AUC2$Algorithms<-modellist2\n",
        "print(AUC2)"
      ]
    },
    {
      "cell_type": "code",
      "execution_count": null,
      "id": "93d13cc8",
      "metadata": {
        "id": "93d13cc8"
      },
      "outputs": [],
      "source": [
        "modellist3=model_caret_forclass$model[201:300]\n",
        "modellist3\n",
        "AUC_train3=array(0,length(modellist3))\n",
        "AUC_test3=array(0,length(modellist3))"
      ]
    },
    {
      "cell_type": "code",
      "execution_count": null,
      "id": "d3ddd909",
      "metadata": {
        "id": "d3ddd909"
      },
      "outputs": [],
      "source": [
        "for (i in 1:length(modellist3)){\n",
        "    skip_to_next_error <- FALSE\n",
        "    cat(\"Running method:\", modellist3[i], \"\\n\")\n",
        "    tryCatch(modelfit<-train(death~.,\n",
        "                             data=training,\n",
        "                             method=modellist3[i],\n",
        "                             preProc=c(\"center\",\"scale\"),\n",
        "                             metric=\"ROC\",\n",
        "                             tuneLength=3,\n",
        "                             trControl=fitControl),\n",
        "                             error=function(e){skip_to_next_error <<- TRUE})\n",
        "    if(skip_to_next_error) {next}\n",
        "    predictions_train=predict(modelfit,newdata=training)\n",
        "    predictions_test=predict(modelfit,newdata=testing)\n",
        "    predictions_train\n",
        "    predictions_test\n",
        "    confusionMatrix(predict(modelfit,training),training$death)\n",
        "    confusionMatrix(predict(modelfit,testing),testing$death)\n",
        "    train_results=predict(modelfit,training,type=\"prob\")\n",
        "    test_results=predict(modelfit,testing,type=\"prob\")\n",
        "    train_results$obs=training$death\n",
        "    train_results$pred=predictions_train\n",
        "    test_results$obs=testing$death\n",
        "    test_results$pred=predictions_test\n",
        "    ROC_train<-roc(training$death,train_results[,\"Death\"],levels=c(\"Survival\",\"Death\"))\n",
        "    ROC_test<-roc(testing$death,test_results[,\"Death\"],levels=c(\"Survival\",\"Death\"))\n",
        "    AUC_train3[i]=ROC_train[9]$auc\n",
        "    AUC_test3[i]=ROC_test[9]$auc\n",
        "    cat('Completed running Model', i, '(',modellist3[i],')','of', length(modellist3),'\\n')\n",
        "    cat('Completed Running method:', modellist3[i], '---AUC_Train:', ROC_train[9]$auc, '---AUC_Test:', ROC_test[9]$auc, '\\n')\n",
        "  }"
      ]
    },
    {
      "cell_type": "code",
      "execution_count": null,
      "id": "ae7889c7",
      "metadata": {
        "id": "ae7889c7"
      },
      "outputs": [],
      "source": [
        "AUC3=cbind(AUC_train3,AUC_test3)\n",
        "AUC3=as.data.frame(AUC3)\n",
        "AUC3$Algorithms<-modellist3\n",
        "print(AUC3)"
      ]
    },
    {
      "cell_type": "code",
      "execution_count": null,
      "id": "587403f2",
      "metadata": {
        "id": "587403f2"
      },
      "outputs": [],
      "source": [
        "modellist4=model_caret_forclass$model[301:400]\n",
        "modellist4\n",
        "AUC_train4=array(0,length(modellist4))\n",
        "AUC_test4=array(0,length(modellist4))"
      ]
    },
    {
      "cell_type": "code",
      "execution_count": null,
      "id": "b1524fe9",
      "metadata": {
        "id": "b1524fe9"
      },
      "outputs": [],
      "source": [
        "for (i in 1:length(modellist4)){\n",
        "    skip_to_next_error <- FALSE\n",
        "    cat(\"Running method:\", modellist4[i], \"\\n\")\n",
        "    tryCatch(modelfit<-train(death~.,\n",
        "                             data=training,\n",
        "                             method=modellist4[i],\n",
        "                             preProc=c(\"center\",\"scale\"),\n",
        "                             metric=\"ROC\",\n",
        "                             tuneLength=3,\n",
        "                             trControl=fitControl),\n",
        "                             error=function(e){skip_to_next_error <<- TRUE})\n",
        "    if(skip_to_next_error) {next}\n",
        "    predictions_train=predict(modelfit,newdata=training)\n",
        "    predictions_test=predict(modelfit,newdata=testing)\n",
        "    predictions_train\n",
        "    predictions_test\n",
        "    confusionMatrix(predict(modelfit,training),training$death)\n",
        "    confusionMatrix(predict(modelfit,testing),testing$death)\n",
        "    train_results=predict(modelfit,training,type=\"prob\")\n",
        "    test_results=predict(modelfit,testing,type=\"prob\")\n",
        "    train_results$obs=training$death\n",
        "    train_results$pred=predictions_train\n",
        "    test_results$obs=testing$death\n",
        "    test_results$pred=predictions_test\n",
        "    ROC_train<-roc(training$death,train_results[,\"Death\"],levels=c(\"Survival\",\"Death\"))\n",
        "    ROC_test<-roc(testing$death,test_results[,\"Death\"],levels=c(\"Survival\",\"Death\"))\n",
        "    AUC_train4[i]=ROC_train[9]$auc\n",
        "    AUC_test4[i]=ROC_test[9]$auc\n",
        "    cat('Completed running Model', i, '(',modellist4[i],')','of', length(modellist4),'\\n')\n",
        "    cat('Completed Running method:', modellist4[i], '---AUC_Train:', ROC_train[9]$auc, '---AUC_Test:', ROC_test[9]$auc, '\\n')\n",
        "  }"
      ]
    },
    {
      "cell_type": "code",
      "execution_count": null,
      "id": "2a52eea4",
      "metadata": {
        "id": "2a52eea4"
      },
      "outputs": [],
      "source": [
        "AUC4=cbind(AUC_train4,AUC_test4)\n",
        "AUC4=as.data.frame(AUC4)\n",
        "AUC4$Algorithms<-modellist4\n",
        "print(AUC4)"
      ]
    },
    {
      "cell_type": "code",
      "execution_count": null,
      "id": "6afb575a",
      "metadata": {
        "id": "6afb575a"
      },
      "outputs": [],
      "source": [
        "modellist5=model_caret_forclass$model[401:nrow(model_caret_forclass)]\n",
        "modellist5\n",
        "AUC_train5=array(0,length(modellist5))\n",
        "AUC_test5=array(0,length(modellist5))"
      ]
    },
    {
      "cell_type": "code",
      "execution_count": null,
      "id": "ac9a4532",
      "metadata": {
        "id": "ac9a4532"
      },
      "outputs": [],
      "source": [
        "for (i in 1:length(modellist5)){\n",
        "    skip_to_next_error <- FALSE\n",
        "    cat(\"Running method:\", modellist5[i], \"\\n\")\n",
        "    tryCatch(modelfit<-train(death~.,\n",
        "                             data=training,\n",
        "                             method=modellist5[i],\n",
        "                             preProc=c(\"center\",\"scale\"),\n",
        "                             metric=\"ROC\",\n",
        "                             tuneLength=3,\n",
        "                             trControl=fitControl),\n",
        "                             error=function(e){skip_to_next_error <<- TRUE})\n",
        "    if(skip_to_next_error) {next}\n",
        "    predictions_train=predict(modelfit,newdata=training)\n",
        "    predictions_test=predict(modelfit,newdata=testing)\n",
        "    predictions_train\n",
        "    predictions_test\n",
        "    confusionMatrix(predict(modelfit,training),training$death)\n",
        "    confusionMatrix(predict(modelfit,testing),testing$death)\n",
        "    train_results=predict(modelfit,training,type=\"prob\")\n",
        "    test_results=predict(modelfit,testing,type=\"prob\")\n",
        "    train_results$obs=training$death\n",
        "    train_results$pred=predictions_train\n",
        "    test_results$obs=testing$death\n",
        "    test_results$pred=predictions_test\n",
        "    ROC_train<-roc(training$death,train_results[,\"Death\"],levels=c(\"Survival\",\"Death\"))\n",
        "    ROC_test<-roc(testing$death,test_results[,\"Death\"],levels=c(\"Survival\",\"Death\"))\n",
        "    AUC_train5[i]=ROC_train[9]$auc\n",
        "    AUC_test5[i]=ROC_test[9]$auc\n",
        "    cat('Completed running Model', i, '(',modellist5[i],')','of', length(modellist5),'\\n')\n",
        "    cat('Completed Running method:', modellist5[i], '---AUC_Train:', ROC_train[9]$auc, '---AUC_Test:', ROC_test[9]$auc, '\\n')\n",
        "  }"
      ]
    },
    {
      "cell_type": "code",
      "execution_count": null,
      "id": "2e95b577",
      "metadata": {
        "id": "2e95b577"
      },
      "outputs": [],
      "source": [
        "AUC5=cbind(AUC_train5,AUC_test5)\n",
        "AUC5=as.data.frame(AUC5)\n",
        "AUC5$Algorithms<-modellist5\n",
        "print(AUC5)"
      ]
    },
    {
      "cell_type": "code",
      "execution_count": null,
      "id": "b17f4c6f",
      "metadata": {
        "id": "b17f4c6f"
      },
      "outputs": [],
      "source": [
        "AUC_all=rbind(AUC1,AUC2,AUC3,AUC4,AUC5)\n",
        "print(AUC_all)"
      ]
    }
  ],
  "metadata": {
    "kernelspec": {
      "display_name": "R",
      "language": "R",
      "name": "ir"
    },
    "language_info": {
      "codemirror_mode": "r",
      "file_extension": ".r",
      "mimetype": "text/x-r-source",
      "name": "R",
      "pygments_lexer": "r",
      "version": "4.1.3"
    },
    "colab": {
      "provenance": []
    }
  },
  "nbformat": 4,
  "nbformat_minor": 5
}